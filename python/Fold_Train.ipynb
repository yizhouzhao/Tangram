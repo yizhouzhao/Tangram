{
 "cells": [
  {
   "cell_type": "code",
   "execution_count": 1,
   "metadata": {},
   "outputs": [],
   "source": [
    "import torch\n",
    "import torch.nn as nn\n",
    "from torch.utils.data import Dataset, DataLoader\n",
    "import torchvision\n",
    "\n",
    "import PIL\n",
    "\n",
    "import numpy as np\n",
    "import matplotlib.pyplot as plt\n",
    "\n",
    "import os\n",
    "import re"
   ]
  },
  {
   "cell_type": "code",
   "execution_count": 2,
   "metadata": {},
   "outputs": [],
   "source": [
    "from tqdm.auto import tqdm"
   ]
  },
  {
   "cell_type": "code",
   "execution_count": 3,
   "metadata": {},
   "outputs": [],
   "source": [
    "import pandas as pd"
   ]
  },
  {
   "cell_type": "code",
   "execution_count": 4,
   "metadata": {},
   "outputs": [],
   "source": [
    "f_path = \"data/fold/\""
   ]
  },
  {
   "cell_type": "code",
   "execution_count": 5,
   "metadata": {},
   "outputs": [],
   "source": [
    "al = pd.read_csv(f_path +  'folder_label.csv')"
   ]
  },
  {
   "cell_type": "code",
   "execution_count": 6,
   "metadata": {},
   "outputs": [
    {
     "data": {
      "text/html": [
       "<div>\n",
       "<style scoped>\n",
       "    .dataframe tbody tr th:only-of-type {\n",
       "        vertical-align: middle;\n",
       "    }\n",
       "\n",
       "    .dataframe tbody tr th {\n",
       "        vertical-align: top;\n",
       "    }\n",
       "\n",
       "    .dataframe thead th {\n",
       "        text-align: right;\n",
       "    }\n",
       "</style>\n",
       "<table border=\"1\" class=\"dataframe\">\n",
       "  <thead>\n",
       "    <tr style=\"text-align: right;\">\n",
       "      <th></th>\n",
       "      <th>Unnamed: 0</th>\n",
       "      <th>I</th>\n",
       "      <th>II</th>\n",
       "      <th>III</th>\n",
       "      <th>IV</th>\n",
       "    </tr>\n",
       "  </thead>\n",
       "  <tbody>\n",
       "    <tr>\n",
       "      <th>0</th>\n",
       "      <td>dress-01</td>\n",
       "      <td>0,1,-28</td>\n",
       "      <td>0,1,-56</td>\n",
       "      <td>1,0,-35</td>\n",
       "      <td>1,0,-56</td>\n",
       "    </tr>\n",
       "    <tr>\n",
       "      <th>1</th>\n",
       "      <td>dress2-01</td>\n",
       "      <td>0, 1, -42</td>\n",
       "      <td>0, 1, -28</td>\n",
       "      <td>1, 0, -42</td>\n",
       "      <td>NaN</td>\n",
       "    </tr>\n",
       "    <tr>\n",
       "      <th>2</th>\n",
       "      <td>dress3-01</td>\n",
       "      <td>1, 0, -21</td>\n",
       "      <td>0, 1, -42</td>\n",
       "      <td>1, 0, -49</td>\n",
       "      <td>0, 1, -28</td>\n",
       "    </tr>\n",
       "    <tr>\n",
       "      <th>3</th>\n",
       "      <td>pants-01</td>\n",
       "      <td>1, 0, -42</td>\n",
       "      <td>0, 1, -42</td>\n",
       "      <td>NaN</td>\n",
       "      <td>NaN</td>\n",
       "    </tr>\n",
       "    <tr>\n",
       "      <th>4</th>\n",
       "      <td>pants2-01</td>\n",
       "      <td>0, 1, -28</td>\n",
       "      <td>0, 1, -56</td>\n",
       "      <td>0, 1, -42</td>\n",
       "      <td>1, 0, -42</td>\n",
       "    </tr>\n",
       "  </tbody>\n",
       "</table>\n",
       "</div>"
      ],
      "text/plain": [
       "  Unnamed: 0           I         II        III         IV\n",
       "0   dress-01     0,1,-28    0,1,-56    1,0,-35    1,0,-56\n",
       "1  dress2-01  0, 1, -42   0, 1, -28  1, 0, -42        NaN\n",
       "2  dress3-01   1, 0, -21  0, 1, -42  1, 0, -49  0, 1, -28\n",
       "3   pants-01   1, 0, -42  0, 1, -42        NaN        NaN\n",
       "4  pants2-01   0, 1, -28  0, 1, -56  0, 1, -42  1, 0, -42"
      ]
     },
     "execution_count": 6,
     "metadata": {},
     "output_type": "execute_result"
    }
   ],
   "source": [
    "al.head()"
   ]
  },
  {
   "cell_type": "code",
   "execution_count": 7,
   "metadata": {},
   "outputs": [
    {
     "data": {
      "text/plain": [
       "['dress-01',\n",
       " 'dress2-01',\n",
       " 'dress3-01',\n",
       " 'folder_label.csv',\n",
       " 'pants-01',\n",
       " 'pants2-01',\n",
       " 'pants3-01',\n",
       " 'shirt-01',\n",
       " 'shirt2-01',\n",
       " 'shirt3-01',\n",
       " 'shortpants-01',\n",
       " 'shortpants2-01',\n",
       " 'shortpants3-01',\n",
       " 'skirt-01',\n",
       " 'skirt2-01',\n",
       " 'skirt3-01',\n",
       " 'Tshirt-01',\n",
       " 'Tshirt2-01',\n",
       " 'Tshirt3-01',\n",
       " 'vest-01',\n",
       " 'vest2-01',\n",
       " 'vest3-01']"
      ]
     },
     "execution_count": 7,
     "metadata": {},
     "output_type": "execute_result"
    }
   ],
   "source": [
    "os.listdir(f_path)"
   ]
  },
  {
   "cell_type": "code",
   "execution_count": 8,
   "metadata": {},
   "outputs": [],
   "source": [
    "IMAGE_SIZE = 28"
   ]
  },
  {
   "cell_type": "code",
   "execution_count": 9,
   "metadata": {},
   "outputs": [],
   "source": [
    "# image_list = []"
   ]
  },
  {
   "cell_type": "code",
   "execution_count": 10,
   "metadata": {},
   "outputs": [],
   "source": [
    "# for dress_folder in os.listdir(folder_path):\n",
    "#         if dress_folder.endswith(\".csv\"):\n",
    "#             action_list = pd.read_csv(folder_path + dress_folder)\n",
    "#         else:\n",
    "#             dress_image_list = []\n",
    "#             image_folder = os.path.join(folder_path, dress_folder)\n",
    "#             for file_name in os.listdir(image_folder):\n",
    "#                 #image_list.append(os.path.join(image_folder, file_name))\n",
    "#                 single_image_path = os.path.join(image_folder, file_name)\n",
    "#                 dress_image_list.append(single_image_path)\n",
    "            \n",
    "#             image_list.append(dress_image_list)"
   ]
  },
  {
   "cell_type": "code",
   "execution_count": 11,
   "metadata": {},
   "outputs": [],
   "source": [
    "class ClothImages(Dataset):\n",
    "    def __init__(self, folder_path,  transforms=None, revert=False):\n",
    "        self.revert = revert\n",
    "        self.data_root_folder = folder_path\n",
    "        self.image_list, self.action_list  = self.load_image_list(self.data_root_folder)\n",
    "        self.transforms = transforms\n",
    "        \n",
    "    def load_image_list(self, folder_path):\n",
    "        image_list = []\n",
    "        action_list = None\n",
    "        for dress_folder in os.listdir(folder_path):\n",
    "            if dress_folder.endswith(\".csv\"):\n",
    "                action_list = pd.read_csv(folder_path + dress_folder)\n",
    "            else:\n",
    "                dress_image_list = []\n",
    "                image_folder = os.path.join(folder_path, dress_folder)\n",
    "                order_image_list = os.listdir(image_folder)\n",
    "                if self.revert:\n",
    "                    order_image_list = order_image_list[::-1]\n",
    "                for file_name in order_image_list:\n",
    "                    #image_list.append(os.path.join(image_folder, file_name))\n",
    "                    single_image_path = os.path.join(image_folder, file_name)\n",
    "                    dress_image_list.append(single_image_path)\n",
    "\n",
    "                image_list.append(dress_image_list)\n",
    "        \n",
    "        return image_list, action_list\n",
    "    \n",
    "    def __len__(self):\n",
    "        return len(self.image_list)\n",
    "    \n",
    "    def __getitem__(self, index):\n",
    "        img_list = [] \n",
    "        for dress_image_path in self.image_list[index]:\n",
    "            #print(dress_image_path)\n",
    "            # Open image\n",
    "            img = PIL.Image.open(dress_image_path).convert(\"L\")\n",
    "            img = PIL.ImageOps.invert(img)\n",
    "            #img = resize(img,(IMAGE_SIZE,IMAGE_SIZE))\n",
    "            if self.transforms is not None:\n",
    "                img = self.transforms(img)\n",
    "            \n",
    "            img_list.append(img)\n",
    "        \n",
    "        img_tensor = torch.stack(img_list,dim=0)\n",
    "        return img_tensor\n",
    "        "
   ]
  },
  {
   "cell_type": "code",
   "execution_count": 12,
   "metadata": {},
   "outputs": [],
   "source": [
    "transforms = torchvision.transforms.Compose([\n",
    "    torchvision.transforms.Resize((IMAGE_SIZE,IMAGE_SIZE), interpolation= PIL.Image.NEAREST),\n",
    "    torchvision.transforms.RandomAffine(degrees = 90, translate = (0.2,0.2), scale = (0.6,1)),\n",
    "    #torchvision.transforms.ColorJitter(hue=.05, saturation=.05),\n",
    "    torchvision.transforms.RandomHorizontalFlip(),\n",
    "    torchvision.transforms.RandomVerticalFlip(),\n",
    "    # torchvision.transforms.RandomRotation(20, resample=PIL.Image.BILINEAR)\n",
    "    torchvision.transforms.ToTensor(),\n",
    "])"
   ]
  },
  {
   "cell_type": "code",
   "execution_count": 13,
   "metadata": {},
   "outputs": [],
   "source": [
    "ci = ClothImages(f_path, transforms, revert=False)"
   ]
  },
  {
   "cell_type": "code",
   "execution_count": 14,
   "metadata": {},
   "outputs": [
    {
     "data": {
      "text/plain": [
       "torch.Size([5, 1, 28, 28])"
      ]
     },
     "execution_count": 14,
     "metadata": {},
     "output_type": "execute_result"
    }
   ],
   "source": [
    "ci[0].shape"
   ]
  },
  {
   "cell_type": "code",
   "execution_count": 15,
   "metadata": {},
   "outputs": [
    {
     "data": {
      "text/plain": [
       "<matplotlib.image.AxesImage at 0x26215552388>"
      ]
     },
     "execution_count": 15,
     "metadata": {},
     "output_type": "execute_result"
    },
    {
     "data": {
      "image/png": "[encoded data removed]",
      "text/plain": [
       "<Figure size 432x288 with 1 Axes>"
      ]
     },
     "metadata": {
      "needs_background": "light"
     },
     "output_type": "display_data"
    }
   ],
   "source": [
    "plt.imshow(ci[3][0][0].data.numpy(),cmap=\"gray\")"
   ]
  },
  {
   "cell_type": "code",
   "execution_count": 16,
   "metadata": {},
   "outputs": [],
   "source": [
    "def conv3x3(in_channels, out_channels, **kwargs):\n",
    "    # The convolutional layers (for feature extraction) use standard layers from\n",
    "    # `torch.nn`, since they do not require adaptation.\n",
    "    # See `examples/maml/model.py` for comparison.\n",
    "    return nn.Sequential(\n",
    "        nn.Conv2d(in_channels, out_channels, kernel_size=3, padding=1, **kwargs),\n",
    "        nn.BatchNorm2d(out_channels, momentum=1., track_running_stats=False),\n",
    "        nn.ReLU(),\n",
    "        nn.MaxPool2d(2)\n",
    "    )"
   ]
  },
  {
   "cell_type": "code",
   "execution_count": 17,
   "metadata": {},
   "outputs": [],
   "source": [
    "class ConvolutionalNeuralNetwork(nn.Module):\n",
    "    def __init__(self, in_channels, out_features, hidden_size=64):\n",
    "        super(ConvolutionalNeuralNetwork, self).__init__()\n",
    "        self.in_channels = in_channels\n",
    "        self.out_features = out_features\n",
    "        self.hidden_size = hidden_size\n",
    "\n",
    "        self.features = nn.Sequential(\n",
    "            conv3x3(in_channels, hidden_size),\n",
    "            conv3x3(hidden_size, hidden_size),\n",
    "            conv3x3(hidden_size, hidden_size),\n",
    "            conv3x3(hidden_size, hidden_size)\n",
    "        )\n",
    "\n",
    "        # Only the last (linear) layer is used for adaptation in ANIL\n",
    "        self.linear_aesthetics = nn.Sequential(\n",
    "            nn.Linear(hidden_size, out_features),\n",
    "            nn.Sigmoid(),\n",
    "        )\n",
    "\n",
    "    def forward(self, inputs, params=None):\n",
    "        features = self.features(inputs)\n",
    "        #print(features.shape)\n",
    "        features = features.view((features.size(0), -1))\n",
    "        #print(features.shape)\n",
    "        scores = self.linear_aesthetics(features)\n",
    "        return scores"
   ]
  },
  {
   "cell_type": "code",
   "execution_count": 18,
   "metadata": {},
   "outputs": [],
   "source": [
    "def complete_contrast_loss(score_tensor):\n",
    "    total_loss = 0.0\n",
    "    for i in range(len(score_tensor)):\n",
    "        if i == 0:\n",
    "            total_loss += (1.0 - score_tensor[i])**2\n",
    "            total_loss += (score_tensor[i] - score_tensor[i + 1])**2\n",
    "        elif i ==len(score_tensor) - 1:\n",
    "            total_loss += (score_tensor[i] - 0.0)**2\n",
    "        else:\n",
    "            total_loss += (score_tensor[i] - score_tensor[i + 1])**2\n",
    "    \n",
    "    return total_loss"
   ]
  },
  {
   "cell_type": "code",
   "execution_count": 19,
   "metadata": {},
   "outputs": [],
   "source": [
    "model = ConvolutionalNeuralNetwork(1, 1, hidden_size=64)"
   ]
  },
  {
   "cell_type": "code",
   "execution_count": 20,
   "metadata": {},
   "outputs": [],
   "source": [
    "# pretrained_dict = torch.load(\"10_29.pth\")\n",
    "# model_dict = model.state_dict()\n",
    "# # 1. filter out unnecessary keys\n",
    "# pretrained_dict = {k: v for k, v in pretrained_dict.items() if k in model_dict}\n",
    "# # 2. overwrite entries in the existing state dict\n",
    "# model_dict.update(pretrained_dict) \n",
    "# # 3. load the new state dict\n",
    "# model.load_state_dict(model_dict)"
   ]
  },
  {
   "cell_type": "code",
   "execution_count": 21,
   "metadata": {},
   "outputs": [],
   "source": [
    "if torch.cuda.is_available():\n",
    "    model = model.cuda()"
   ]
  },
  {
   "cell_type": "code",
   "execution_count": 22,
   "metadata": {},
   "outputs": [],
   "source": [
    "optimizer = torch.optim.Adam(model.parameters(), lr=1e-5)"
   ]
  },
  {
   "cell_type": "code",
   "execution_count": 23,
   "metadata": {},
   "outputs": [],
   "source": [
    "epochs = 100"
   ]
  },
  {
   "cell_type": "code",
   "execution_count": 24,
   "metadata": {},
   "outputs": [
    {
     "data": {
      "text/plain": [
       "21"
      ]
     },
     "execution_count": 24,
     "metadata": {},
     "output_type": "execute_result"
    }
   ],
   "source": [
    "len(ci)"
   ]
  },
  {
   "cell_type": "code",
   "execution_count": 25,
   "metadata": {},
   "outputs": [
    {
     "data": {
      "application/vnd.jupyter.widget-view+json": {
       "model_id": "9fbc24d29aa549d3a86ff3bb1b9e71f6",
       "version_major": 2,
       "version_minor": 0
      },
      "text/plain": [
       "HBox(children=(HTML(value=''), FloatProgress(value=0.0), HTML(value='')))"
      ]
     },
     "metadata": {},
     "output_type": "display_data"
    },
    {
     "name": "stdout",
     "output_type": "stream",
     "text": [
      "\n"
     ]
    }
   ],
   "source": [
    "with tqdm(range(epochs)) as pbar:\n",
    "    loss_list = []\n",
    "    for epoch in pbar:\n",
    "        loss_epoch = []\n",
    "        count = 0\n",
    "        random_sequences = np.arange(18)\n",
    "        np.random.shuffle(random_sequences)\n",
    "        for i in random_sequences:\n",
    "            batch_inputs = ci[i]\n",
    "\n",
    "            if torch.cuda.is_available():\n",
    "                batch_inputs = batch_inputs.to(\"cuda\")\n",
    "\n",
    "            pred_scores = model(batch_inputs)\n",
    "\n",
    "            loss = complete_contrast_loss(pred_scores)\n",
    "\n",
    "            optimizer.zero_grad()\n",
    "            loss.backward()\n",
    "            optimizer.step()\n",
    "\n",
    "            loss_epoch.append(loss.item())\n",
    "\n",
    "        #print(\"epoch: {} avg loss {:.2f}\".format(epoch, sum(loss_epoch)/(len(loss_epoch) + 1e-3)))\n",
    "        avg_loss = sum(loss_epoch)/(len(loss_epoch) + 1e-3)\n",
    "        loss_list.append(avg_loss)\n",
    "        pbar.set_postfix(accuracy='{0:.4f}'.format(avg_loss))"
   ]
  },
  {
   "cell_type": "code",
   "execution_count": 26,
   "metadata": {},
   "outputs": [
    {
     "data": {
      "text/plain": [
       "tensor([[0.6816],\n",
       "        [0.6581],\n",
       "        [0.3808],\n",
       "        [0.3807]], device='cuda:0', grad_fn=<SigmoidBackward>)"
      ]
     },
     "execution_count": 26,
     "metadata": {},
     "output_type": "execute_result"
    }
   ],
   "source": [
    "model(ci[20].cuda())"
   ]
  },
  {
   "cell_type": "code",
   "execution_count": 27,
   "metadata": {},
   "outputs": [
    {
     "data": {
      "text/plain": [
       "[<matplotlib.lines.Line2D at 0x2621569b4c8>]"
      ]
     },
     "execution_count": 27,
     "metadata": {},
     "output_type": "execute_result"
    },
    {
     "data": {
      "image/png": "[encoded data removed]",
      "text/plain": [
       "<Figure size 432x288 with 1 Axes>"
      ]
     },
     "metadata": {
      "needs_background": "light"
     },
     "output_type": "display_data"
    }
   ],
   "source": [
    "plt.plot(loss_list)"
   ]
  },
  {
   "cell_type": "code",
   "execution_count": 28,
   "metadata": {},
   "outputs": [
    {
     "name": "stdout",
     "output_type": "stream",
     "text": [
      "0.5301339057715533 0.561528327127184 0.5267334890977508 0.46874386828102393 0.4802640345578564 0.4716925631363612 0.41112841470302075 0.3937592649319444 0.4127910402601119 0.402323653728298 0.3540123805662809 0.4051015377839362 0.36615274342011955 0.3620421338111823 0.36520839754021645 0.33183870934875837 0.327520774845335 0.3226102756053949 0.29777093722643994 0.3226183010905221 0.30511934706505306 0.3202992289286575 0.30466591419163597 0.29900130080048304 0.30896329534073 0.3227329103160345 0.32712397979475455 0.31646197918063895 0.3379568955109031 0.3200993724123887 0.33491026490312514 0.3123181542451696 0.2918471673032812 0.30747198636687717 0.32801429127118403 0.3048857479160093 0.3155508651831939 0.3195933231505597 0.31077529177335383 0.3043249945635001 0.2935936097191225 0.3054993361951536 0.29495081900358266 0.30429144894624444 0.3338039424656351 0.30999448864163703 0.30782032553324873 0.30479566381147294 0.3038203864950291 0.28842418407454806 0.29989016197779517 0.27221704342584996 0.31577224109207386 0.2925942683642417 0.29225438182588803 0.2930299251399155 0.30981999083721834 0.31604368874354 0.3251351619334984 0.30231355220157236 0.30979449471118253 0.314304609575786 0.28496863451158194 0.29289210533395116 0.2677807431573053 0.2975427750434937 0.28633156800745563 0.281911221029202 0.2887491396510411 0.2704629786616795 0.27685841615514867 0.27544740176679 0.27484859213498714 0.2829916533096175 0.280713551270022 0.31919501737173206 0.3115059395550582 0.30076769393494734 0.28250339173468 0.27273951451067563 0.3300075717822928 0.2879172681099931 0.29431163940182803 0.3024676953227737 0.2854516519969599 0.2574062080530582 0.308095792963547 0.2900573649172531 0.27048884481266133 0.29264846004901224 0.3106788361206974 0.32105086382995224 0.2969900579374635 0.3279136411746762 0.27950074028872124 0.26427986512455126 0.27970885407308105 0.2834899154916537 0.31199700239267447 0.3024278973600651\n"
     ]
    }
   ],
   "source": [
    "print(*loss_list)"
   ]
  },
  {
   "cell_type": "code",
   "execution_count": 29,
   "metadata": {},
   "outputs": [],
   "source": [
    "model2 = ConvolutionalNeuralNetwork(1, 1, hidden_size=64)"
   ]
  },
  {
   "cell_type": "code",
   "execution_count": 30,
   "metadata": {},
   "outputs": [],
   "source": [
    "pretrained_dict = torch.load(\"10_27.pth\")\n",
    "model2_dict = model2.state_dict()\n",
    "# 1. filter out unnecessary keys\n",
    "pretrained_dict = {k: v for k, v in pretrained_dict.items() if k in model2_dict}\n",
    "# 2. overwrite entries in the existing state dict\n",
    "model2_dict.update(pretrained_dict) \n",
    "# 3. load the new state dict\n",
    "model2.load_state_dict(model2_dict)\n",
    "\n",
    "if torch.cuda.is_available():\n",
    "    model2 = model2.cuda()\n",
    "\n",
    "optimizer2 = torch.optim.Adam(model2.parameters(), lr=1e-5)\n"
   ]
  },
  {
   "cell_type": "code",
   "execution_count": 31,
   "metadata": {},
   "outputs": [],
   "source": [
    "epochs = 100"
   ]
  },
  {
   "cell_type": "code",
   "execution_count": 32,
   "metadata": {},
   "outputs": [
    {
     "data": {
      "application/vnd.jupyter.widget-view+json": {
       "model_id": "0102dea48b2a4575a532f2bddc067d3c",
       "version_major": 2,
       "version_minor": 0
      },
      "text/plain": [
       "HBox(children=(HTML(value=''), FloatProgress(value=0.0), HTML(value='')))"
      ]
     },
     "metadata": {},
     "output_type": "display_data"
    },
    {
     "name": "stdout",
     "output_type": "stream",
     "text": [
      "\n"
     ]
    }
   ],
   "source": [
    "with tqdm(range(epochs)) as pbar:\n",
    "    loss_list = []\n",
    "    for epoch in pbar:\n",
    "        loss_epoch = []\n",
    "        count = 0\n",
    "        random_sequences = np.arange(18)\n",
    "        np.random.shuffle(random_sequences)\n",
    "        for i in random_sequences:\n",
    "            batch_inputs = ci[i]\n",
    "\n",
    "            if torch.cuda.is_available():\n",
    "                batch_inputs = batch_inputs.to(\"cuda\")\n",
    "\n",
    "            pred_scores = model2(batch_inputs)\n",
    "\n",
    "            loss = complete_contrast_loss(pred_scores)\n",
    "\n",
    "            optimizer2.zero_grad()\n",
    "            loss.backward()\n",
    "            optimizer2.step()\n",
    "\n",
    "            loss_epoch.append(loss.item())\n",
    "\n",
    "        #print(\"epoch: {} avg loss {:.2f}\".format(epoch, sum(loss_epoch)/(len(loss_epoch) + 1e-3)))\n",
    "        avg_loss = sum(loss_epoch)/(len(loss_epoch) + 1e-3)\n",
    "        loss_list.append(avg_loss)\n",
    "        pbar.set_postfix(accuracy='{0:.4f}'.format(avg_loss))"
   ]
  },
  {
   "cell_type": "code",
   "execution_count": 33,
   "metadata": {},
   "outputs": [
    {
     "data": {
      "text/plain": [
       "[<matplotlib.lines.Line2D at 0x26215a37908>]"
      ]
     },
     "execution_count": 33,
     "metadata": {},
     "output_type": "execute_result"
    },
    {
     "data": {
      "image/png": "[encoded data removed]",
      "text/plain": [
       "<Figure size 432x288 with 1 Axes>"
      ]
     },
     "metadata": {
      "needs_background": "light"
     },
     "output_type": "display_data"
    }
   ],
   "source": [
    "plt.plot(loss_list)"
   ]
  },
  {
   "cell_type": "code",
   "execution_count": 34,
   "metadata": {},
   "outputs": [
    {
     "name": "stdout",
     "output_type": "stream",
     "text": [
      "0.8095284083387426 0.7908337215974353 0.7551368273176701 0.7316764477431579 0.7319746001032575 0.6922077890250637 0.679591395286618 0.6901471656293685 0.6456106849845452 0.629949315403125 0.6266164866416137 0.5837336151965836 0.6011852201014967 0.5891686376283767 0.541979823137123 0.5340050719895698 0.5278482956195181 0.5058848333387903 0.5321048705500103 0.5474281697781587 0.46767604913282945 0.5228295057232224 0.4648415769221325 0.43721368667662297 0.44197689943211343 0.4550332685595293 0.4256533739348397 0.461904815578254 0.3812016645979003 0.4411228802010626 0.39804409255015105 0.36521698178784606 0.41562661343988766 0.39026966148479453 0.3464087669229939 0.35192643819295805 0.36036815751122736 0.3628760127582574 0.3560736943440903 0.36713827630492235 0.36040388602732576 0.3130324265604701 0.32982703685945924 0.33236632353199513 0.33172568535316016 0.35584017963026915 0.31859428063014317 0.3379225229251438 0.3503041470105777 0.37455302160002507 0.39592814918332847 0.3299625835367841 0.3449539496934279 0.2933117401122411 0.32176598711984894 0.31329097714558435 0.302513154584377 0.3049878118885973 0.30325643205422836 0.31190806147482825 0.3098748008858249 0.2938342625204374 0.3244776706497945 0.29235485642958026 0.3156655555327437 0.3116772793165929 0.31255504554009794 0.29662697820238026 0.2973864366065051 0.33068546162241796 0.31124084441239724 0.3143595206155412 0.3004673702651531 0.29564822083029185 0.3051957419021786 0.2943507643661448 0.27503704658502154 0.3194342819586521 0.29827108181726203 0.29518586927954005 0.30136001612714813 0.313035264246186 0.276766443019456 0.3008091301065333 0.26821254074662915 0.2934857967012319 0.2721334020599154 0.2879804066171726 0.2819354696662139 0.28866463820475097 0.28376911628326434 0.2800463110292946 0.293190600401719 0.31790750191335004 0.2922373673007406 0.27933828443707664 0.29724033635415326 0.2862934512990321 0.30130307615866203 0.3224051278151775\n"
     ]
    }
   ],
   "source": [
    "print(*loss_list)"
   ]
  },
  {
   "cell_type": "code",
   "execution_count": 35,
   "metadata": {},
   "outputs": [
    {
     "data": {
      "text/plain": [
       "tensor([[0.7827],\n",
       "        [0.5433],\n",
       "        [0.3131],\n",
       "        [0.2564]], device='cuda:0', grad_fn=<SigmoidBackward>)"
      ]
     },
     "execution_count": 35,
     "metadata": {},
     "output_type": "execute_result"
    }
   ],
   "source": [
    "model(ci[1].cuda())"
   ]
  },
  {
   "cell_type": "code",
   "execution_count": 36,
   "metadata": {},
   "outputs": [
    {
     "data": {
      "text/plain": [
       "tensor([[0.8077],\n",
       "        [0.7559],\n",
       "        [0.4439],\n",
       "        [0.3102],\n",
       "        [0.2175]], device='cuda:0', grad_fn=<SigmoidBackward>)"
      ]
     },
     "execution_count": 36,
     "metadata": {},
     "output_type": "execute_result"
    }
   ],
   "source": [
    "model2(ci[2].cuda())"
   ]
  },
  {
   "cell_type": "markdown",
   "metadata": {},
   "source": [
    "# Test"
   ]
  },
  {
   "cell_type": "code",
   "execution_count": 37,
   "metadata": {},
   "outputs": [],
   "source": [
    "import copy\n",
    "import numpy as np\n",
    "import cv2\n",
    "import matplotlib.pyplot as plt\n",
    "import os"
   ]
  },
  {
   "cell_type": "code",
   "execution_count": 38,
   "metadata": {},
   "outputs": [],
   "source": [
    "import json"
   ]
  },
  {
   "cell_type": "code",
   "execution_count": 39,
   "metadata": {},
   "outputs": [],
   "source": [
    "from fold_actions import point_line_symmetry, matrix_line_symmetry"
   ]
  },
  {
   "cell_type": "code",
   "execution_count": 40,
   "metadata": {},
   "outputs": [],
   "source": [
    "def read_cloth_image(cloth_file):\n",
    "    im = Image.open(cloth_file).convert(\"L\")\n",
    "    display(im)\n",
    "    im_np = np.asarray(im)\n",
    "    im_np = 1 - im_np / 255.0\n",
    "    \n",
    "    for i in range(len(im_np)):\n",
    "        for j in range(len(im_np[0])):\n",
    "            if im_np[i][j] > 0:\n",
    "                im_np[i][j] = 1\n",
    "    \n",
    "    return im_np"
   ]
  },
  {
   "cell_type": "code",
   "execution_count": 41,
   "metadata": {},
   "outputs": [],
   "source": [
    "transforms_after = torchvision.transforms.Compose([\n",
    "    torchvision.transforms.Resize((IMAGE_SIZE,IMAGE_SIZE),interpolation = PIL.Image.NEAREST),\n",
    "    #torchvision.transforms.RandomAffine(degrees = 90, translate = (0.2,0.2), scale = (0.6,1)),\n",
    "    #torchvision.transforms.ColorJitter(hue=.05, saturation=.05),\n",
    "    #torchvision.transforms.RandomHorizontalFlip(),\n",
    "    #torchvision.transforms.RandomVerticalFlip(),\n",
    "    # torchvision.transforms.RandomRotation(20, resample=PIL.Image.BILINEAR)\n",
    "    torchvision.transforms.ToTensor(),\n",
    "])\n"
   ]
  },
  {
   "cell_type": "code",
   "execution_count": 42,
   "metadata": {},
   "outputs": [],
   "source": [
    "model = model.cpu()\n",
    "\n",
    "model2 = model2.cpu()"
   ]
  },
  {
   "cell_type": "code",
   "execution_count": 43,
   "metadata": {},
   "outputs": [],
   "source": [
    "cloth_folder = \"C:\\\\Users\\\\Yizhou Zhao\\\\Desktop\\\\AI\\\\validation\\\\\""
   ]
  },
  {
   "cell_type": "code",
   "execution_count": 44,
   "metadata": {
    "scrolled": true
   },
   "outputs": [
    {
     "data": {
      "text/plain": [
       "['dress4-01.png',\n",
       " 'fold.ai',\n",
       " 'lightening.ai',\n",
       " 'lightening_large-01.png',\n",
       " 'lightening_middle-01.png',\n",
       " 'lightening_small-01.png',\n",
       " 'lightening_small.png',\n",
       " 'rectangle.ai',\n",
       " 'rectangle_large-01.png',\n",
       " 'rectangle_middle-01.png',\n",
       " 'rectangle_small-01.png',\n",
       " 'regular_star-01.png',\n",
       " 'regular_star.ai',\n",
       " 'square_large-01.png',\n",
       " 'square_large.ai',\n",
       " 'square_middle-01.png',\n",
       " 'square_small-01-01.png',\n",
       " 'square_small-01.png',\n",
       " 'star.ai',\n",
       " 'star_large-01.png',\n",
       " 'star_middle-01.png',\n",
       " 'star_small-01.png',\n",
       " 'Tshirt4-01.png']"
      ]
     },
     "execution_count": 44,
     "metadata": {},
     "output_type": "execute_result"
    }
   ],
   "source": [
    "os.listdir(cloth_folder)"
   ]
  },
  {
   "cell_type": "code",
   "execution_count": 45,
   "metadata": {},
   "outputs": [],
   "source": [
    "torch.save(model,\"record/vl2.pth\")\n",
    "torch.save(model2,\"record/vl2_pre.pth\")"
   ]
  },
  {
   "cell_type": "code",
   "execution_count": 46,
   "metadata": {},
   "outputs": [
    {
     "name": "stdout",
     "output_type": "stream",
     "text": [
      "-----------\n",
      " dress4-01.png\n"
     ]
    },
    {
     "ename": "NameError",
     "evalue": "name 'Image' is not defined",
     "output_type": "error",
     "traceback": [
      "\u001b[1;31m---------------------------------------------------------------------------\u001b[0m",
      "\u001b[1;31mNameError\u001b[0m                                 Traceback (most recent call last)",
      "\u001b[1;32m<ipython-input-46-c975bbcf7ca6>\u001b[0m in \u001b[0;36m<module>\u001b[1;34m\u001b[0m\n\u001b[0;32m      6\u001b[0m         \u001b[0mcloth_file\u001b[0m \u001b[1;33m=\u001b[0m \u001b[0mcloth_folder\u001b[0m \u001b[1;33m+\u001b[0m \u001b[0mcloth_name\u001b[0m\u001b[1;33m\u001b[0m\u001b[1;33m\u001b[0m\u001b[0m\n\u001b[0;32m      7\u001b[0m \u001b[1;33m\u001b[0m\u001b[0m\n\u001b[1;32m----> 8\u001b[1;33m         \u001b[0mcloth_img\u001b[0m \u001b[1;33m=\u001b[0m \u001b[0mread_cloth_image\u001b[0m\u001b[1;33m(\u001b[0m\u001b[0mcloth_file\u001b[0m\u001b[1;33m)\u001b[0m\u001b[1;33m\u001b[0m\u001b[1;33m\u001b[0m\u001b[0m\n\u001b[0m\u001b[0;32m      9\u001b[0m \u001b[1;33m\u001b[0m\u001b[0m\n\u001b[0;32m     10\u001b[0m         \u001b[1;31m#plt.imshow(cloth_img, cmap=\"gray\")\u001b[0m\u001b[1;33m\u001b[0m\u001b[1;33m\u001b[0m\u001b[1;33m\u001b[0m\u001b[0m\n",
      "\u001b[1;32m<ipython-input-40-b0bb3b14d0df>\u001b[0m in \u001b[0;36mread_cloth_image\u001b[1;34m(cloth_file)\u001b[0m\n\u001b[0;32m      1\u001b[0m \u001b[1;32mdef\u001b[0m \u001b[0mread_cloth_image\u001b[0m\u001b[1;33m(\u001b[0m\u001b[0mcloth_file\u001b[0m\u001b[1;33m)\u001b[0m\u001b[1;33m:\u001b[0m\u001b[1;33m\u001b[0m\u001b[1;33m\u001b[0m\u001b[0m\n\u001b[1;32m----> 2\u001b[1;33m     \u001b[0mim\u001b[0m \u001b[1;33m=\u001b[0m \u001b[0mImage\u001b[0m\u001b[1;33m.\u001b[0m\u001b[0mopen\u001b[0m\u001b[1;33m(\u001b[0m\u001b[0mcloth_file\u001b[0m\u001b[1;33m)\u001b[0m\u001b[1;33m.\u001b[0m\u001b[0mconvert\u001b[0m\u001b[1;33m(\u001b[0m\u001b[1;34m\"L\"\u001b[0m\u001b[1;33m)\u001b[0m\u001b[1;33m\u001b[0m\u001b[1;33m\u001b[0m\u001b[0m\n\u001b[0m\u001b[0;32m      3\u001b[0m     \u001b[0mdisplay\u001b[0m\u001b[1;33m(\u001b[0m\u001b[0mim\u001b[0m\u001b[1;33m)\u001b[0m\u001b[1;33m\u001b[0m\u001b[1;33m\u001b[0m\u001b[0m\n\u001b[0;32m      4\u001b[0m     \u001b[0mim_np\u001b[0m \u001b[1;33m=\u001b[0m \u001b[0mnp\u001b[0m\u001b[1;33m.\u001b[0m\u001b[0masarray\u001b[0m\u001b[1;33m(\u001b[0m\u001b[0mim\u001b[0m\u001b[1;33m)\u001b[0m\u001b[1;33m\u001b[0m\u001b[1;33m\u001b[0m\u001b[0m\n\u001b[0;32m      5\u001b[0m     \u001b[0mim_np\u001b[0m \u001b[1;33m=\u001b[0m \u001b[1;36m1\u001b[0m \u001b[1;33m-\u001b[0m \u001b[0mim_np\u001b[0m \u001b[1;33m/\u001b[0m \u001b[1;36m255.0\u001b[0m\u001b[1;33m\u001b[0m\u001b[1;33m\u001b[0m\u001b[0m\n",
      "\u001b[1;31mNameError\u001b[0m: name 'Image' is not defined"
     ]
    }
   ],
   "source": [
    "for file_name in os.listdir(cloth_folder):\n",
    "    if file_name.endswith(\".png\"):\n",
    "        print(\"-----------\\n\",file_name)\n",
    "        cloth_name = file_name\n",
    "\n",
    "        cloth_file = cloth_folder + cloth_name\n",
    "\n",
    "        cloth_img = read_cloth_image(cloth_file)\n",
    "\n",
    "        #plt.imshow(cloth_img, cmap=\"gray\")\n",
    "\n",
    "        img = Image.fromarray(np.uint8(cloth_img * 255) , 'L')\n",
    "\n",
    "        t3 = transforms_after(img)\n",
    "\n",
    "        print(t3.shape)\n",
    "\n",
    "        plt.imshow(t3[0].data.numpy(), cmap=\"gray\")\n",
    "\n",
    "        print(model(t3.unsqueeze(0)).item(), model2(t3.unsqueeze(0)).item())"
   ]
  },
  {
   "cell_type": "code",
   "execution_count": 50,
   "metadata": {
    "scrolled": true
   },
   "outputs": [
    {
     "data": {
      "text/plain": [
       "<matplotlib.image.AxesImage at 0x26230fce748>"
      ]
     },
     "execution_count": 50,
     "metadata": {},
     "output_type": "execute_result"
    },
    {
     "data": {
      "image/png": "[encoded data removed]",
      "text/plain": [
       "<Figure size 432x288 with 1 Axes>"
      ]
     },
     "metadata": {
      "needs_background": "light"
     },
     "output_type": "display_data"
    }
   ],
   "source": [
    "plt.imshow(ci[6][0][0].data.numpy(), cmap=\"gray\")"
   ]
  },
  {
   "cell_type": "code",
   "execution_count": 51,
   "metadata": {},
   "outputs": [
    {
     "data": {
      "text/plain": [
       "tensor([[0.7767],\n",
       "        [0.6672],\n",
       "        [0.5818],\n",
       "        [0.3581],\n",
       "        [0.2401]], grad_fn=<SigmoidBackward>)"
      ]
     },
     "execution_count": 51,
     "metadata": {},
     "output_type": "execute_result"
    }
   ],
   "source": [
    "model2(ci[6])"
   ]
  },
  {
   "cell_type": "code",
   "execution_count": null,
   "metadata": {},
   "outputs": [],
   "source": [
    "# cloth_name = \"rectangle_small-01-01.png\"\n",
    "\n",
    "# cloth_file = cloth_folder + cloth_name\n",
    "\n",
    "# cloth_img = read_cloth_image(cloth_file)\n",
    "\n",
    "# #plt.imshow(cloth_img, cmap=\"gray\")\n",
    "\n",
    "# img = Image.fromarray(np.uint8(cloth_img * 255) , 'L')\n",
    "\n",
    "# t3 = transforms_after(img)\n",
    "\n",
    "# print(t3.shape)\n",
    "\n",
    "# plt.imshow(t3[0].data.numpy(), cmap=\"gray\")"
   ]
  },
  {
   "cell_type": "code",
   "execution_count": null,
   "metadata": {},
   "outputs": [],
   "source": [
    "cloth_file = \"C:\\\\Users\\\\Yizhou Zhao\\\\Desktop\\\\AI\\\\validation\\\\\" + \"dress4-01.png\""
   ]
  },
  {
   "cell_type": "code",
   "execution_count": null,
   "metadata": {},
   "outputs": [],
   "source": [
    "#cloth_file =  \"data/clothes/\" + \"shirt3-01.png\""
   ]
  },
  {
   "cell_type": "code",
   "execution_count": null,
   "metadata": {},
   "outputs": [],
   "source": [
    "control_cloth_img = read_cloth_image(cloth_file)"
   ]
  },
  {
   "cell_type": "code",
   "execution_count": null,
   "metadata": {},
   "outputs": [],
   "source": [
    "def fold_action(cloth, value_model, method = \"greedy\"):\n",
    "    img = Image.fromarray(np.uint8(cloth * 255) , 'L')\n",
    "    img_t = transforms_after(img)\n",
    "    img_t_score = value_model(img_t.unsqueeze(0)).item()\n",
    "    \n",
    "    action = (1, 0, 0)\n",
    "    folded_cloth_save_image = None\n",
    "    min_score = 1.0\n",
    "    for i in range(1, 11):\n",
    "        c = - i * 7\n",
    "        for a, b in [(1, 0), (0, 1)]:\n",
    "            cloth_folded = matrix_line_symmetry(cloth, a, b, c)\n",
    "            img_folded = Image.fromarray(np.uint8(cloth_folded * 255) , 'L')\n",
    "            img_folded_t = transforms_after(img_folded)\n",
    "            img_folded_t_score = value_model(img_folded_t.unsqueeze(0)).item()\n",
    "            \n",
    "            if min_score > img_folded_t_score:\n",
    "                print(action, min_score)\n",
    "                min_score = img_folded_t_score\n",
    "                action = (a, b, c)\n",
    "                folded_cloth_save_image = cloth_folded\n",
    "    \n",
    "    return action, min_score, folded_cloth_save_image"
   ]
  },
  {
   "cell_type": "code",
   "execution_count": null,
   "metadata": {},
   "outputs": [],
   "source": [
    "curA, curS, curImge = fold_action(control_cloth_img, model2)"
   ]
  },
  {
   "cell_type": "code",
   "execution_count": null,
   "metadata": {},
   "outputs": [],
   "source": [
    "curA"
   ]
  },
  {
   "cell_type": "code",
   "execution_count": null,
   "metadata": {},
   "outputs": [],
   "source": [
    "curS"
   ]
  },
  {
   "cell_type": "code",
   "execution_count": null,
   "metadata": {
    "scrolled": true
   },
   "outputs": [],
   "source": [
    "plt.imshow(1-curImge, cmap=\"gray\")"
   ]
  },
  {
   "cell_type": "code",
   "execution_count": null,
   "metadata": {},
   "outputs": [],
   "source": [
    "control_cloth_img = curImge"
   ]
  },
  {
   "cell_type": "code",
   "execution_count": null,
   "metadata": {},
   "outputs": [],
   "source": []
  }
 ],
 "metadata": {
  "kernelspec": {
   "display_name": "Python 3",
   "language": "python",
   "name": "python3"
  },
  "language_info": {
   "codemirror_mode": {
    "name": "ipython",
    "version": 3
   },
   "file_extension": ".py",
   "mimetype": "text/x-python",
   "name": "python",
   "nbconvert_exporter": "python",
   "pygments_lexer": "ipython3",
   "version": "3.7.9"
  }
 },
 "nbformat": 4,
 "nbformat_minor": 4
}
