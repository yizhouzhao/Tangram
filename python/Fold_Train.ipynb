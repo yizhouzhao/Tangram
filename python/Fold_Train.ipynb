{
 "cells": [
  {
   "cell_type": "code",
   "execution_count": 1,
   "metadata": {},
   "outputs": [],
   "source": [
    "import torch\n",
    "import torch.nn as nn\n",
    "from torch.utils.data import Dataset, DataLoader\n",
    "import torchvision\n",
    "\n",
    "import PIL\n",
    "\n",
    "import numpy as np\n",
    "import matplotlib.pyplot as plt\n",
    "\n",
    "import os\n",
    "import re"
   ]
  },
  {
   "cell_type": "code",
   "execution_count": 2,
   "metadata": {},
   "outputs": [],
   "source": [
    "from tqdm.auto import tqdm"
   ]
  },
  {
   "cell_type": "code",
   "execution_count": 3,
   "metadata": {},
   "outputs": [],
   "source": [
    "import pandas as pd"
   ]
  },
  {
   "cell_type": "code",
   "execution_count": 4,
   "metadata": {},
   "outputs": [],
   "source": [
    "f_path = \"data/fold/\""
   ]
  },
  {
   "cell_type": "code",
   "execution_count": 5,
   "metadata": {},
   "outputs": [],
   "source": [
    "al = pd.read_csv(f_path +  'folder_label.csv')"
   ]
  },
  {
   "cell_type": "code",
   "execution_count": 6,
   "metadata": {},
   "outputs": [
    {
     "data": {
      "text/html": [
       "<div>\n",
       "<style scoped>\n",
       "    .dataframe tbody tr th:only-of-type {\n",
       "        vertical-align: middle;\n",
       "    }\n",
       "\n",
       "    .dataframe tbody tr th {\n",
       "        vertical-align: top;\n",
       "    }\n",
       "\n",
       "    .dataframe thead th {\n",
       "        text-align: right;\n",
       "    }\n",
       "</style>\n",
       "<table border=\"1\" class=\"dataframe\">\n",
       "  <thead>\n",
       "    <tr style=\"text-align: right;\">\n",
       "      <th></th>\n",
       "      <th>Unnamed: 0</th>\n",
       "      <th>I</th>\n",
       "      <th>II</th>\n",
       "      <th>III</th>\n",
       "      <th>IV</th>\n",
       "    </tr>\n",
       "  </thead>\n",
       "  <tbody>\n",
       "    <tr>\n",
       "      <th>0</th>\n",
       "      <td>dress-01</td>\n",
       "      <td>0,1,-28</td>\n",
       "      <td>0,1,-56</td>\n",
       "      <td>1,0,-35</td>\n",
       "      <td>1,0,-56</td>\n",
       "    </tr>\n",
       "    <tr>\n",
       "      <th>1</th>\n",
       "      <td>dress2-01</td>\n",
       "      <td>0, 1, -42</td>\n",
       "      <td>0, 1, -28</td>\n",
       "      <td>1, 0, -42</td>\n",
       "      <td>NaN</td>\n",
       "    </tr>\n",
       "    <tr>\n",
       "      <th>2</th>\n",
       "      <td>dress3-01</td>\n",
       "      <td>1, 0, -21</td>\n",
       "      <td>0, 1, -42</td>\n",
       "      <td>1, 0, -49</td>\n",
       "      <td>0, 1, -28</td>\n",
       "    </tr>\n",
       "    <tr>\n",
       "      <th>3</th>\n",
       "      <td>pants-01</td>\n",
       "      <td>1, 0, -42</td>\n",
       "      <td>0, 1, -42</td>\n",
       "      <td>NaN</td>\n",
       "      <td>NaN</td>\n",
       "    </tr>\n",
       "    <tr>\n",
       "      <th>4</th>\n",
       "      <td>pants2-01</td>\n",
       "      <td>0, 1, -28</td>\n",
       "      <td>0, 1, -56</td>\n",
       "      <td>0, 1, -42</td>\n",
       "      <td>1, 0, -42</td>\n",
       "    </tr>\n",
       "  </tbody>\n",
       "</table>\n",
       "</div>"
      ],
      "text/plain": [
       "  Unnamed: 0           I         II        III         IV\n",
       "0   dress-01     0,1,-28    0,1,-56    1,0,-35    1,0,-56\n",
       "1  dress2-01  0, 1, -42   0, 1, -28  1, 0, -42        NaN\n",
       "2  dress3-01   1, 0, -21  0, 1, -42  1, 0, -49  0, 1, -28\n",
       "3   pants-01   1, 0, -42  0, 1, -42        NaN        NaN\n",
       "4  pants2-01   0, 1, -28  0, 1, -56  0, 1, -42  1, 0, -42"
      ]
     },
     "execution_count": 6,
     "metadata": {},
     "output_type": "execute_result"
    }
   ],
   "source": [
    "al.head()"
   ]
  },
  {
   "cell_type": "code",
   "execution_count": 7,
   "metadata": {},
   "outputs": [
    {
     "data": {
      "text/plain": [
       "['dress-01',\n",
       " 'dress2-01',\n",
       " 'dress3-01',\n",
       " 'folder_label.csv',\n",
       " 'pants-01',\n",
       " 'pants2-01',\n",
       " 'pants3-01',\n",
       " 'shirt-01',\n",
       " 'shirt2-01',\n",
       " 'shirt3-01',\n",
       " 'shortpants-01',\n",
       " 'shortpants2-01',\n",
       " 'shortpants3-01',\n",
       " 'skirt-01',\n",
       " 'skirt2-01',\n",
       " 'skirt3-01',\n",
       " 'Tshirt-01',\n",
       " 'Tshirt2-01',\n",
       " 'Tshirt3-01',\n",
       " 'vest-01',\n",
       " 'vest2-01',\n",
       " 'vest3-01']"
      ]
     },
     "execution_count": 7,
     "metadata": {},
     "output_type": "execute_result"
    }
   ],
   "source": [
    "os.listdir(f_path)"
   ]
  },
  {
   "cell_type": "code",
   "execution_count": 8,
   "metadata": {},
   "outputs": [],
   "source": [
    "IMAGE_SIZE = 28"
   ]
  },
  {
   "cell_type": "code",
   "execution_count": 9,
   "metadata": {},
   "outputs": [],
   "source": [
    "# image_list = []"
   ]
  },
  {
   "cell_type": "code",
   "execution_count": 10,
   "metadata": {},
   "outputs": [],
   "source": [
    "# for dress_folder in os.listdir(folder_path):\n",
    "#         if dress_folder.endswith(\".csv\"):\n",
    "#             action_list = pd.read_csv(folder_path + dress_folder)\n",
    "#         else:\n",
    "#             dress_image_list = []\n",
    "#             image_folder = os.path.join(folder_path, dress_folder)\n",
    "#             for file_name in os.listdir(image_folder):\n",
    "#                 #image_list.append(os.path.join(image_folder, file_name))\n",
    "#                 single_image_path = os.path.join(image_folder, file_name)\n",
    "#                 dress_image_list.append(single_image_path)\n",
    "            \n",
    "#             image_list.append(dress_image_list)"
   ]
  },
  {
   "cell_type": "code",
   "execution_count": 11,
   "metadata": {},
   "outputs": [],
   "source": [
    "class ClothImages(Dataset):\n",
    "    def __init__(self, folder_path,  transforms=None, revert=False):\n",
    "        self.revert = revert\n",
    "        self.data_root_folder = folder_path\n",
    "        self.image_list, self.action_list  = self.load_image_list(self.data_root_folder)\n",
    "        self.transforms = transforms\n",
    "        \n",
    "    def load_image_list(self, folder_path):\n",
    "        image_list = []\n",
    "        action_list = None\n",
    "        for dress_folder in os.listdir(folder_path):\n",
    "            if dress_folder.endswith(\".csv\"):\n",
    "                action_list = pd.read_csv(folder_path + dress_folder)\n",
    "            else:\n",
    "                dress_image_list = []\n",
    "                image_folder = os.path.join(folder_path, dress_folder)\n",
    "                order_image_list = os.listdir(image_folder)\n",
    "                if self.revert:\n",
    "                    order_image_list = order_image_list[::-1]\n",
    "                for file_name in order_image_list:\n",
    "                    #image_list.append(os.path.join(image_folder, file_name))\n",
    "                    single_image_path = os.path.join(image_folder, file_name)\n",
    "                    dress_image_list.append(single_image_path)\n",
    "\n",
    "                image_list.append(dress_image_list)\n",
    "        \n",
    "        return image_list, action_list\n",
    "    \n",
    "    def __len__(self):\n",
    "        return len(self.image_list)\n",
    "    \n",
    "    def __getitem__(self, index):\n",
    "        img_list = [] \n",
    "        for dress_image_path in self.image_list[index]:\n",
    "            #print(dress_image_path)\n",
    "            # Open image\n",
    "            img = PIL.Image.open(dress_image_path).convert(\"L\")\n",
    "            img = PIL.ImageOps.invert(img)\n",
    "            #img = resize(img,(IMAGE_SIZE,IMAGE_SIZE))\n",
    "            if self.transforms is not None:\n",
    "                img = self.transforms(img)\n",
    "            \n",
    "            img_list.append(img)\n",
    "        \n",
    "        img_tensor = torch.stack(img_list,dim=0)\n",
    "        return img_tensor\n",
    "        "
   ]
  },
  {
   "cell_type": "code",
   "execution_count": 12,
   "metadata": {},
   "outputs": [],
   "source": [
    "transforms = torchvision.transforms.Compose([\n",
    "    torchvision.transforms.Resize((IMAGE_SIZE,IMAGE_SIZE), interpolation= PIL.Image.NEAREST),\n",
    "    torchvision.transforms.RandomAffine(degrees = 90, translate = (0.2,0.2), scale = (0.6,1)),\n",
    "    #torchvision.transforms.ColorJitter(hue=.05, saturation=.05),\n",
    "    torchvision.transforms.RandomHorizontalFlip(),\n",
    "    torchvision.transforms.RandomVerticalFlip(),\n",
    "    # torchvision.transforms.RandomRotation(20, resample=PIL.Image.BILINEAR)\n",
    "    torchvision.transforms.ToTensor(),\n",
    "])"
   ]
  },
  {
   "cell_type": "code",
   "execution_count": 13,
   "metadata": {},
   "outputs": [],
   "source": [
    "ci = ClothImages(f_path, transforms, revert=True)"
   ]
  },
  {
   "cell_type": "code",
   "execution_count": 14,
   "metadata": {},
   "outputs": [
    {
     "data": {
      "text/plain": [
       "torch.Size([5, 1, 28, 28])"
      ]
     },
     "execution_count": 14,
     "metadata": {},
     "output_type": "execute_result"
    }
   ],
   "source": [
    "ci[0].shape"
   ]
  },
  {
   "cell_type": "code",
   "execution_count": 15,
   "metadata": {},
   "outputs": [
    {
     "data": {
      "text/plain": [
       "<matplotlib.image.AxesImage at 0x2572e720808>"
      ]
     },
     "execution_count": 15,
     "metadata": {},
     "output_type": "execute_result"
    },
    {
     "data": {
      "image/png": "[encoded data removed]",
      "text/plain": [
       "<Figure size 432x288 with 1 Axes>"
      ]
     },
     "metadata": {
      "needs_background": "light"
     },
     "output_type": "display_data"
    }
   ],
   "source": [
    "plt.imshow(ci[3][0][0].data.numpy(),cmap=\"gray\")"
   ]
  },
  {
   "cell_type": "code",
   "execution_count": 16,
   "metadata": {},
   "outputs": [],
   "source": [
    "def conv3x3(in_channels, out_channels, **kwargs):\n",
    "    # The convolutional layers (for feature extraction) use standard layers from\n",
    "    # `torch.nn`, since they do not require adaptation.\n",
    "    # See `examples/maml/model.py` for comparison.\n",
    "    return nn.Sequential(\n",
    "        nn.Conv2d(in_channels, out_channels, kernel_size=3, padding=1, **kwargs),\n",
    "        nn.BatchNorm2d(out_channels, momentum=1., track_running_stats=False),\n",
    "        nn.ReLU(),\n",
    "        nn.MaxPool2d(2)\n",
    "    )"
   ]
  },
  {
   "cell_type": "code",
   "execution_count": 17,
   "metadata": {},
   "outputs": [],
   "source": [
    "class ConvolutionalNeuralNetwork(nn.Module):\n",
    "    def __init__(self, in_channels, out_features, hidden_size=64):\n",
    "        super(ConvolutionalNeuralNetwork, self).__init__()\n",
    "        self.in_channels = in_channels\n",
    "        self.out_features = out_features\n",
    "        self.hidden_size = hidden_size\n",
    "\n",
    "        self.features = nn.Sequential(\n",
    "            conv3x3(in_channels, hidden_size),\n",
    "            conv3x3(hidden_size, hidden_size),\n",
    "            conv3x3(hidden_size, hidden_size),\n",
    "            conv3x3(hidden_size, hidden_size)\n",
    "        )\n",
    "\n",
    "        # Only the last (linear) layer is used for adaptation in ANIL\n",
    "        self.linear_aesthetics = nn.Sequential(\n",
    "            nn.Linear(hidden_size, out_features),\n",
    "            nn.Sigmoid(),\n",
    "        )\n",
    "\n",
    "    def forward(self, inputs, params=None):\n",
    "        features = self.features(inputs)\n",
    "        #print(features.shape)\n",
    "        features = features.view((features.size(0), -1))\n",
    "        #print(features.shape)\n",
    "        scores = self.linear_aesthetics(features)\n",
    "        return scores"
   ]
  },
  {
   "cell_type": "code",
   "execution_count": 18,
   "metadata": {},
   "outputs": [],
   "source": [
    "def complete_contrast_loss(score_tensor):\n",
    "    total_loss = 0.0\n",
    "    for i in range(len(score_tensor)):\n",
    "        if i == 0:\n",
    "            total_loss += (1.0 - score_tensor[i])**2\n",
    "            total_loss += (score_tensor[i] - score_tensor[i + 1])**2\n",
    "        elif i ==len(score_tensor) - 1:\n",
    "            total_loss += (score_tensor[i] - 0.0)**2\n",
    "        else:\n",
    "            total_loss += (score_tensor[i] - score_tensor[i + 1])**2\n",
    "    \n",
    "    return total_loss"
   ]
  },
  {
   "cell_type": "code",
   "execution_count": 19,
   "metadata": {},
   "outputs": [],
   "source": [
    "model = ConvolutionalNeuralNetwork(1, 1, hidden_size=64)"
   ]
  },
  {
   "cell_type": "code",
   "execution_count": 20,
   "metadata": {},
   "outputs": [],
   "source": [
    "# pretrained_dict = torch.load(\"10_29.pth\")\n",
    "# model_dict = model.state_dict()\n",
    "# # 1. filter out unnecessary keys\n",
    "# pretrained_dict = {k: v for k, v in pretrained_dict.items() if k in model_dict}\n",
    "# # 2. overwrite entries in the existing state dict\n",
    "# model_dict.update(pretrained_dict) \n",
    "# # 3. load the new state dict\n",
    "# model.load_state_dict(model_dict)"
   ]
  },
  {
   "cell_type": "code",
   "execution_count": 21,
   "metadata": {},
   "outputs": [],
   "source": [
    "if torch.cuda.is_available():\n",
    "    model = model.cuda()"
   ]
  },
  {
   "cell_type": "code",
   "execution_count": 22,
   "metadata": {},
   "outputs": [],
   "source": [
    "optimizer = torch.optim.Adam(model.parameters(), lr=1e-5)"
   ]
  },
  {
   "cell_type": "code",
   "execution_count": 23,
   "metadata": {},
   "outputs": [],
   "source": [
    "epochs = 100"
   ]
  },
  {
   "cell_type": "code",
   "execution_count": 24,
   "metadata": {},
   "outputs": [
    {
     "data": {
      "text/plain": [
       "21"
      ]
     },
     "execution_count": 24,
     "metadata": {},
     "output_type": "execute_result"
    }
   ],
   "source": [
    "len(ci)"
   ]
  },
  {
   "cell_type": "code",
   "execution_count": 25,
   "metadata": {},
   "outputs": [
    {
     "data": {
      "application/vnd.jupyter.widget-view+json": {
       "model_id": "a1b8ab035f3b4d5d9a0064173d0f1d18",
       "version_major": 2,
       "version_minor": 0
      },
      "text/plain": [
       "HBox(children=(HTML(value=''), FloatProgress(value=0.0), HTML(value='')))"
      ]
     },
     "metadata": {},
     "output_type": "display_data"
    },
    {
     "name": "stdout",
     "output_type": "stream",
     "text": [
      "\n"
     ]
    }
   ],
   "source": [
    "with tqdm(range(epochs)) as pbar:\n",
    "    loss_list = []\n",
    "    for epoch in pbar:\n",
    "        loss_epoch = []\n",
    "        count = 0\n",
    "        random_sequences = np.arange(18)\n",
    "        np.random.shuffle(random_sequences)\n",
    "        for i in random_sequences:\n",
    "            batch_inputs = ci[i]\n",
    "\n",
    "            if torch.cuda.is_available():\n",
    "                batch_inputs = batch_inputs.to(\"cuda\")\n",
    "\n",
    "            pred_scores = model(batch_inputs)\n",
    "\n",
    "            loss = complete_contrast_loss(pred_scores)\n",
    "\n",
    "            optimizer.zero_grad()\n",
    "            loss.backward()\n",
    "            optimizer.step()\n",
    "\n",
    "            loss_epoch.append(loss.item())\n",
    "\n",
    "        #print(\"epoch: {} avg loss {:.2f}\".format(epoch, sum(loss_epoch)/(len(loss_epoch) + 1e-3)))\n",
    "        avg_loss = sum(loss_epoch)/(len(loss_epoch) + 1e-3)\n",
    "        loss_list.append(avg_loss)\n",
    "        pbar.set_postfix(accuracy='{0:.4f}'.format(avg_loss))"
   ]
  },
  {
   "cell_type": "code",
   "execution_count": 26,
   "metadata": {},
   "outputs": [
    {
     "data": {
      "text/plain": [
       "tensor([[0.7353],\n",
       "        [0.7382],\n",
       "        [0.3816],\n",
       "        [0.2232]], device='cuda:0', grad_fn=<SigmoidBackward>)"
      ]
     },
     "execution_count": 26,
     "metadata": {},
     "output_type": "execute_result"
    }
   ],
   "source": [
    "model(ci[20].cuda())"
   ]
  },
  {
   "cell_type": "code",
   "execution_count": 27,
   "metadata": {},
   "outputs": [
    {
     "data": {
      "text/plain": [
       "[<matplotlib.lines.Line2D at 0x2572d96df48>]"
      ]
     },
     "execution_count": 27,
     "metadata": {},
     "output_type": "execute_result"
    },
    {
     "data": {
      "image/png": "[encoded data removed]",
      "text/plain": [
       "<Figure size 432x288 with 1 Axes>"
      ]
     },
     "metadata": {
      "needs_background": "light"
     },
     "output_type": "display_data"
    }
   ],
   "source": [
    "plt.plot(loss_list)"
   ]
  },
  {
   "cell_type": "code",
   "execution_count": 28,
   "metadata": {},
   "outputs": [
    {
     "name": "stdout",
     "output_type": "stream",
     "text": [
      "0.5941369170500472 0.5596611812494707 0.5191751178334364 0.47875930286700125 0.45103612498941437 0.44501461550153815 0.433555472712339 0.3868192492256654 0.41953474241828564 0.39089712942449867 0.3741931669593261 0.36754058365106357 0.3582977868141012 0.3831605617618979 0.3616750111189705 0.34025008496585984 0.3303745744440411 0.3395031627089002 0.3660188076343942 0.3111668816408007 0.32210193003663007 0.3461857892282737 0.33057314373706354 0.30746378870011964 0.34983845281836706 0.30506381848925823 0.31461167895762787 0.35927017843264364 0.3278597921975738 0.3038438983933342 0.35692934267825926 0.3278218493263732 0.2925210514371113 0.29482271090380835 0.3034155369864511 0.3158243814976134 0.3106280773071824 0.2926865155005096 0.32582084382019416 0.28238368907853445 0.3211150577774141 0.31633672946148805 0.29347714540210207 0.30268400097931697 0.30568800338883706 0.2921965345926572 0.30209826970125564 0.307405789980166 0.30051581207682476 0.2936422808303693 0.3032236976773465 0.2817193552306159 0.2841198974487205 0.2943520598673541 0.2833618065640831 0.3242009499358982 0.3017019224884735 0.2793895556565013 0.3241673976962722 0.2875755355858907 0.3008499032132831 0.27771486331274703 0.26933963590446797 0.31014827829381836 0.29962916608241114 0.2890168978143987 0.26929779080150984 0.2911107953101633 0.30913412683533664 0.3008814604638265 0.27896329354103466 0.2920150452206899 0.29805085820083144 0.3056256007925682 0.31186647878329715 0.29900680481808084 0.3167322265274703 0.30045152707177 0.28162417024527975 0.30151928910201975 0.3175136620955602 0.30112365462185176 0.3175312966401362 0.2988171086735967 0.29195071717022747 0.3158055325758655 0.30801772680569206 0.2824583521658007 0.29447496940636525 0.2938875974360376 0.2992852663875957 0.27056795564944675 0.3000454491134829 0.26632361885945166 0.3264129656856904 0.3193289606076241 0.2900430854310804 0.31394605126409264 0.3019271584114997 0.29172729329330166\n"
     ]
    }
   ],
   "source": [
    "print(*loss_list)"
   ]
  },
  {
   "cell_type": "code",
   "execution_count": 29,
   "metadata": {},
   "outputs": [],
   "source": [
    "model2 = ConvolutionalNeuralNetwork(1, 1, hidden_size=64)"
   ]
  },
  {
   "cell_type": "code",
   "execution_count": 30,
   "metadata": {},
   "outputs": [],
   "source": [
    "pretrained_dict = torch.load(\"10_29.pth\")\n",
    "model2_dict = model2.state_dict()\n",
    "# 1. filter out unnecessary keys\n",
    "pretrained_dict = {k: v for k, v in pretrained_dict.items() if k in model2_dict}\n",
    "# 2. overwrite entries in the existing state dict\n",
    "model2_dict.update(pretrained_dict) \n",
    "# 3. load the new state dict\n",
    "model2.load_state_dict(model2_dict)\n",
    "\n",
    "if torch.cuda.is_available():\n",
    "    model2 = model2.cuda()\n",
    "\n",
    "optimizer2 = torch.optim.Adam(model2.parameters(), lr=1e-5)\n"
   ]
  },
  {
   "cell_type": "code",
   "execution_count": 31,
   "metadata": {},
   "outputs": [],
   "source": [
    "epochs = 100"
   ]
  },
  {
   "cell_type": "code",
   "execution_count": 32,
   "metadata": {},
   "outputs": [
    {
     "data": {
      "application/vnd.jupyter.widget-view+json": {
       "model_id": "439d44031a0c42c3a2a7a174053a0508",
       "version_major": 2,
       "version_minor": 0
      },
      "text/plain": [
       "HBox(children=(HTML(value=''), FloatProgress(value=0.0), HTML(value='')))"
      ]
     },
     "metadata": {},
     "output_type": "display_data"
    },
    {
     "name": "stdout",
     "output_type": "stream",
     "text": [
      "\n"
     ]
    }
   ],
   "source": [
    "with tqdm(range(epochs)) as pbar:\n",
    "    loss_list = []\n",
    "    for epoch in pbar:\n",
    "        loss_epoch = []\n",
    "        count = 0\n",
    "        random_sequences = np.arange(18)\n",
    "        np.random.shuffle(random_sequences)\n",
    "        for i in random_sequences:\n",
    "            batch_inputs = ci[i]\n",
    "\n",
    "            if torch.cuda.is_available():\n",
    "                batch_inputs = batch_inputs.to(\"cuda\")\n",
    "\n",
    "            pred_scores = model2(batch_inputs)\n",
    "\n",
    "            loss = complete_contrast_loss(pred_scores)\n",
    "\n",
    "            optimizer2.zero_grad()\n",
    "            loss.backward()\n",
    "            optimizer2.step()\n",
    "\n",
    "            loss_epoch.append(loss.item())\n",
    "\n",
    "        #print(\"epoch: {} avg loss {:.2f}\".format(epoch, sum(loss_epoch)/(len(loss_epoch) + 1e-3)))\n",
    "        avg_loss = sum(loss_epoch)/(len(loss_epoch) + 1e-3)\n",
    "        loss_list.append(avg_loss)\n",
    "        pbar.set_postfix(accuracy='{0:.4f}'.format(avg_loss))"
   ]
  },
  {
   "cell_type": "code",
   "execution_count": 33,
   "metadata": {},
   "outputs": [
    {
     "data": {
      "text/plain": [
       "[<matplotlib.lines.Line2D at 0x25705654f88>]"
      ]
     },
     "execution_count": 33,
     "metadata": {},
     "output_type": "execute_result"
    },
    {
     "data": {
      "image/png": "[encoded data removed]",
      "text/plain": [
       "<Figure size 432x288 with 1 Axes>"
      ]
     },
     "metadata": {
      "needs_background": "light"
     },
     "output_type": "display_data"
    }
   ],
   "source": [
    "plt.plot(loss_list)"
   ]
  },
  {
   "cell_type": "code",
   "execution_count": 34,
   "metadata": {},
   "outputs": [
    {
     "name": "stdout",
     "output_type": "stream",
     "text": [
      "0.5746527079985967 0.5051915754603582 0.511022231544523 0.48075523894864 0.4527178560851064 0.43216818544932334 0.43085438331943915 0.4283896529484468 0.3948021607891426 0.38370464246913155 0.38966799926694234 0.3943838289622286 0.39496231785046243 0.35296849797589336 0.33754550889494495 0.3582052714718321 0.3720341864628736 0.3378314711267329 0.35266852446393393 0.3156579182840812 0.3198803540673708 0.3220124336674666 0.3264718443531108 0.29655824793119523 0.31039692843518624 0.3354920906382437 0.2844210009026293 0.316323227276041 0.2972374440338815 0.30115354137946204 0.29027808603925986 0.2960872508758876 0.31345015326828884 0.30933075825722106 0.29324289394957403 0.3182924487154905 0.2935723792274199 0.302558737187629 0.2742490201027921 0.30488914933100547 0.28694089065226674 0.3186491585580463 0.2856032372275946 0.293708605525507 0.2961354890496696 0.30282383315808625 0.31950015881599153 0.29677144935161404 0.30969311035935676 0.31305155858855255 0.2769044350070507 0.300806310632336 0.3220500859821659 0.28931367686043696 0.276401807027329 0.3108545449911028 0.3030167692972881 0.3239044457182315 0.2832602458916454 0.30057822295105674 0.2981764100656318 0.2980674422719029 0.2863736035035627 0.28157910749810405 0.2760901756600786 0.27995147785738594 0.28455679923002936 0.2960021823891321 0.2806341167648834 0.30233651858211574 0.2870718306431829 0.26027901882158705 0.28287962184178284 0.2866076637351455 0.25608228776900077 0.2859181027949886 0.2680159672704857 0.2810181645802422 0.301625848008516 0.29820760143021063 0.2829826924146715 0.25165404609743536 0.2891300294235159 0.2897945437310278 0.28172896015108323 0.2917721714419025 0.29802469818216315 0.2986054411597215 0.2707804948328256 0.2653030569464238 0.29342240737177355 0.33130149272844317 0.27433183118903787 0.28003115325124783 0.29917026395884083 0.2979813506289208 0.2779523423430483 0.28603510186841874 0.3134757851529178 0.2745895341107411\n"
     ]
    }
   ],
   "source": [
    "print(*loss_list)"
   ]
  },
  {
   "cell_type": "code",
   "execution_count": 35,
   "metadata": {},
   "outputs": [
    {
     "data": {
      "text/plain": [
       "tensor([[0.7065],\n",
       "        [0.3955],\n",
       "        [0.4262],\n",
       "        [0.2855]], device='cuda:0', grad_fn=<SigmoidBackward>)"
      ]
     },
     "execution_count": 35,
     "metadata": {},
     "output_type": "execute_result"
    }
   ],
   "source": [
    "model(ci[1].cuda())"
   ]
  },
  {
   "cell_type": "code",
   "execution_count": 36,
   "metadata": {},
   "outputs": [
    {
     "data": {
      "text/plain": [
       "tensor([[0.7352],\n",
       "        [0.6583],\n",
       "        [0.3629],\n",
       "        [0.3760],\n",
       "        [0.2894]], device='cuda:0', grad_fn=<SigmoidBackward>)"
      ]
     },
     "execution_count": 36,
     "metadata": {},
     "output_type": "execute_result"
    }
   ],
   "source": [
    "model2(ci[2].cuda())"
   ]
  },
  {
   "cell_type": "markdown",
   "metadata": {},
   "source": [
    "# Test"
   ]
  },
  {
   "cell_type": "code",
   "execution_count": 37,
   "metadata": {},
   "outputs": [],
   "source": [
    "import copy\n",
    "import numpy as np\n",
    "import cv2\n",
    "import matplotlib.pyplot as plt\n",
    "import os"
   ]
  },
  {
   "cell_type": "code",
   "execution_count": 38,
   "metadata": {},
   "outputs": [],
   "source": [
    "from PIL import Image\n",
    "from PIL.ImageOps import invert\n",
    "from IPython.display import display "
   ]
  },
  {
   "cell_type": "code",
   "execution_count": 39,
   "metadata": {},
   "outputs": [],
   "source": [
    "import json"
   ]
  },
  {
   "cell_type": "code",
   "execution_count": 40,
   "metadata": {},
   "outputs": [],
   "source": [
    "def point_line_symmetry(x_0, y_0, a, b, c):\n",
    "    # x_1 = ((a**2 - b**2)*x_0 - 2*a*b*y_0 - 2*b*c)/(a**2 + b**2)\n",
    "    # y_1 = ((b**2 - a**2)*y_0 - 2*a*b*x_0 - 2*a*c)/(a**2 + b**2)\n",
    "    \n",
    "    x_1 = ((b**2 - a**2)*x_0 - 2*a*b*y_0 - 2*a*c)/(a**2 + b**2)\n",
    "    y_1 = ((a**2 - b**2)*y_0 - 2*a*b*x_0 - 2*b*c)/(a**2 + b**2)\n",
    "    \n",
    "    return x_1, y_1"
   ]
  },
  {
   "cell_type": "code",
   "execution_count": 41,
   "metadata": {},
   "outputs": [],
   "source": [
    "def matrix_line_symmetry(matrix, a, b, c):\n",
    "    up_sum = 0\n",
    "    down_sum = 0\n",
    "    \n",
    "    assert len(matrix) > 0 and len(matrix[0]) > 0\n",
    "    row = len(matrix)\n",
    "    col = len(matrix[0])\n",
    "    for i in range(row):\n",
    "        for j in range(col):\n",
    "            if matrix[i][j] > 0:\n",
    "                point_sign = a * i + b * j + c\n",
    "                if point_sign < 0:\n",
    "                    down_sum += 1\n",
    "                elif point_sign > 0:\n",
    "                    up_sum += 1\n",
    "    \n",
    "    if up_sum < down_sum:\n",
    "        fold_direction = 1\n",
    "    else:\n",
    "        fold_direction = -1\n",
    "    \n",
    "    new_matrix = np.zeros((row, col))\n",
    "    for i in range(row):\n",
    "        for j in range(col):\n",
    "            if matrix[i][j] > 0:\n",
    "                point_sign = a * i + b * j + c\n",
    "                #print(\"point sign\", i, j, point_sign)\n",
    "                if fold_direction * point_sign > 0:\n",
    "                    new_point = point_line_symmetry(i, j, a, b, c)\n",
    "                    round_x = round(new_point[0])\n",
    "                    round_y = round(new_point[1])\n",
    "                    if round_x >= 0 and round_x < row and round_y >= 0 and round_y < col:\n",
    "                        new_matrix[round_x][round_y] = 1.0\n",
    "                else:\n",
    "                    new_matrix[i][j] = 1.0\n",
    "    \n",
    "    return new_matrix"
   ]
  },
  {
   "cell_type": "code",
   "execution_count": 42,
   "metadata": {},
   "outputs": [],
   "source": [
    "def read_cloth_image(cloth_file):\n",
    "    im = Image.open(cloth_file).convert(\"L\")\n",
    "    display(im)\n",
    "    im_np = np.asarray(im)\n",
    "    im_np = 1 - im_np / 255.0\n",
    "    \n",
    "    for i in range(len(im_np)):\n",
    "        for j in range(len(im_np[0])):\n",
    "            if im_np[i][j] > 0:\n",
    "                im_np[i][j] = 1\n",
    "    \n",
    "    return im_np"
   ]
  },
  {
   "cell_type": "code",
   "execution_count": 43,
   "metadata": {},
   "outputs": [],
   "source": [
    "transforms_after = torchvision.transforms.Compose([\n",
    "    torchvision.transforms.Resize((IMAGE_SIZE,IMAGE_SIZE),interpolation = PIL.Image.NEAREST),\n",
    "    #torchvision.transforms.RandomAffine(degrees = 90, translate = (0.2,0.2), scale = (0.6,1)),\n",
    "    #torchvision.transforms.ColorJitter(hue=.05, saturation=.05),\n",
    "    #torchvision.transforms.RandomHorizontalFlip(),\n",
    "    #torchvision.transforms.RandomVerticalFlip(),\n",
    "    # torchvision.transforms.RandomRotation(20, resample=PIL.Image.BILINEAR)\n",
    "    torchvision.transforms.ToTensor(),\n",
    "])\n"
   ]
  },
  {
   "cell_type": "code",
   "execution_count": 44,
   "metadata": {},
   "outputs": [],
   "source": [
    "model = model.cpu()\n",
    "\n",
    "model2 = model2.cpu()"
   ]
  },
  {
   "cell_type": "code",
   "execution_count": 45,
   "metadata": {},
   "outputs": [],
   "source": [
    "cloth_folder = \"C:\\\\Users\\\\Yizhou Zhao\\\\Desktop\\\\AI\\\\validation\\\\\""
   ]
  },
  {
   "cell_type": "code",
   "execution_count": 46,
   "metadata": {},
   "outputs": [
    {
     "data": {
      "text/plain": [
       "['dress4-01.png',\n",
       " 'lightening.ai',\n",
       " 'lightening_large-01.png',\n",
       " 'lightening_middle-01.png',\n",
       " 'lightening_small-01.png',\n",
       " 'lightening_small.png',\n",
       " 'rectangle.ai',\n",
       " 'rectangle_large-01.png',\n",
       " 'rectangle_middle-01.png',\n",
       " 'rectangle_small-01.png',\n",
       " 'square_large-01.png',\n",
       " 'square_large.ai',\n",
       " 'square_middle-01.png',\n",
       " 'square_small-01-01.png',\n",
       " 'square_small-01.png',\n",
       " 'star.ai',\n",
       " 'star_large-01.png',\n",
       " 'star_middle-01.png',\n",
       " 'star_small-01.png',\n",
       " 'Tshirt4-01.png']"
      ]
     },
     "execution_count": 46,
     "metadata": {},
     "output_type": "execute_result"
    }
   ],
   "source": [
    "os.listdir(cloth_folder)"
   ]
  },
  {
   "cell_type": "code",
   "execution_count": 47,
   "metadata": {},
   "outputs": [
    {
     "name": "stdout",
     "output_type": "stream",
     "text": [
      "-----------\n",
      " dress4-01.png\n"
     ]
    },
    {
     "data": {
      "image/png": "[encoded data removed]",
      "text/plain": [
       "<PIL.Image.Image image mode=L size=84x84 at 0x25705DAB488>"
      ]
     },
     "metadata": {},
     "output_type": "display_data"
    },
    {
     "name": "stdout",
     "output_type": "stream",
     "text": [
      "torch.Size([1, 28, 28])\n",
      "0.4874211549758911 0.5177919268608093\n",
      "-----------\n",
      " lightening_large-01.png\n"
     ]
    },
    {
     "data": {
      "image/png": "[encoded data removed]",
      "text/plain": [
       "<PIL.Image.Image image mode=L size=84x84 at 0x25705DB7E08>"
      ]
     },
     "metadata": {},
     "output_type": "display_data"
    },
    {
     "name": "stdout",
     "output_type": "stream",
     "text": [
      "torch.Size([1, 28, 28])\n",
      "0.5892542600631714 0.4647376239299774\n",
      "-----------\n",
      " lightening_middle-01.png\n"
     ]
    },
    {
     "data": {
      "image/png": "[encoded data removed]",
      "text/plain": [
       "<PIL.Image.Image image mode=L size=84x84 at 0x25705DE0D48>"
      ]
     },
     "metadata": {},
     "output_type": "display_data"
    },
    {
     "name": "stdout",
     "output_type": "stream",
     "text": [
      "torch.Size([1, 28, 28])\n",
      "0.4877950847148895 0.5430153608322144\n",
      "-----------\n",
      " lightening_small-01.png\n"
     ]
    },
    {
     "data": {
      "image/png": "[encoded data removed]",
      "text/plain": [
       "<PIL.Image.Image image mode=L size=84x84 at 0x25705DE0D88>"
      ]
     },
     "metadata": {},
     "output_type": "display_data"
    },
    {
     "name": "stdout",
     "output_type": "stream",
     "text": [
      "torch.Size([1, 28, 28])\n",
      "0.5039629936218262 0.5124435424804688\n",
      "-----------\n",
      " lightening_small.png\n"
     ]
    },
    {
     "data": {
      "image/png": "[encoded data removed]",
      "text/plain": [
       "<PIL.Image.Image image mode=L size=29x41 at 0x25705DE8E08>"
      ]
     },
     "metadata": {},
     "output_type": "display_data"
    },
    {
     "name": "stdout",
     "output_type": "stream",
     "text": [
      "torch.Size([1, 28, 28])\n",
      "0.556727409362793 0.409419447183609\n",
      "-----------\n",
      " rectangle_large-01.png\n"
     ]
    },
    {
     "data": {
      "image/png": "[encoded data removed]",
      "text/plain": [
       "<PIL.Image.Image image mode=L size=84x84 at 0x25705DE8E48>"
      ]
     },
     "metadata": {},
     "output_type": "display_data"
    },
    {
     "name": "stdout",
     "output_type": "stream",
     "text": [
      "torch.Size([1, 28, 28])\n",
      "0.5502452254295349 0.4462307393550873\n",
      "-----------\n",
      " rectangle_middle-01.png\n"
     ]
    },
    {
     "data": {
      "image/png": "[encoded data removed]",
      "text/plain": [
       "<PIL.Image.Image image mode=L size=84x84 at 0x25705DE8E88>"
      ]
     },
     "metadata": {},
     "output_type": "display_data"
    },
    {
     "name": "stdout",
     "output_type": "stream",
     "text": [
      "torch.Size([1, 28, 28])\n",
      "0.562455952167511 0.45798325538635254\n",
      "-----------\n",
      " rectangle_small-01.png\n"
     ]
    },
    {
     "data": {
      "image/png": "[encoded data removed]",
      "text/plain": [
       "<PIL.Image.Image image mode=L size=84x84 at 0x25705DEFDC8>"
      ]
     },
     "metadata": {},
     "output_type": "display_data"
    },
    {
     "name": "stdout",
     "output_type": "stream",
     "text": [
      "torch.Size([1, 28, 28])\n",
      "0.5709026455879211 0.549281120300293\n",
      "-----------\n",
      " square_large-01.png\n"
     ]
    },
    {
     "data": {
      "image/png": "[encoded data removed]",
      "text/plain": [
       "<PIL.Image.Image image mode=L size=84x84 at 0x25705DEFE08>"
      ]
     },
     "metadata": {},
     "output_type": "display_data"
    },
    {
     "name": "stdout",
     "output_type": "stream",
     "text": [
      "torch.Size([1, 28, 28])\n",
      "0.3579821288585663 0.39677584171295166\n",
      "-----------\n",
      " square_middle-01.png\n"
     ]
    },
    {
     "data": {
      "image/png": "[encoded data removed]",
      "text/plain": [
       "<PIL.Image.Image image mode=L size=84x84 at 0x25705DEF188>"
      ]
     },
     "metadata": {},
     "output_type": "display_data"
    },
    {
     "name": "stdout",
     "output_type": "stream",
     "text": [
      "torch.Size([1, 28, 28])\n",
      "0.45033249258995056 0.5089775323867798\n",
      "-----------\n",
      " square_small-01-01.png\n"
     ]
    },
    {
     "data": {
      "image/png": "[encoded data removed]",
      "text/plain": [
       "<PIL.Image.Image image mode=L size=84x84 at 0x25705DEFE48>"
      ]
     },
     "metadata": {},
     "output_type": "display_data"
    },
    {
     "name": "stdout",
     "output_type": "stream",
     "text": [
      "torch.Size([1, 28, 28])\n",
      "0.6237717866897583 0.5499318838119507\n",
      "-----------\n",
      " square_small-01.png\n"
     ]
    },
    {
     "data": {
      "image/png": "[encoded data removed]",
      "text/plain": [
       "<PIL.Image.Image image mode=L size=84x84 at 0x25705DF7DC8>"
      ]
     },
     "metadata": {},
     "output_type": "display_data"
    },
    {
     "name": "stdout",
     "output_type": "stream",
     "text": [
      "torch.Size([1, 28, 28])\n",
      "0.6353672742843628 0.5434965491294861\n",
      "-----------\n",
      " star_large-01.png\n"
     ]
    },
    {
     "data": {
      "image/png": "[encoded data removed]",
      "text/plain": [
       "<PIL.Image.Image image mode=L size=84x84 at 0x25705DF7E08>"
      ]
     },
     "metadata": {},
     "output_type": "display_data"
    },
    {
     "name": "stdout",
     "output_type": "stream",
     "text": [
      "torch.Size([1, 28, 28])\n",
      "0.45263078808784485 0.43085211515426636\n",
      "-----------\n",
      " star_middle-01.png\n"
     ]
    },
    {
     "data": {
      "image/png": "[encoded data removed]",
      "text/plain": [
       "<PIL.Image.Image image mode=L size=84x84 at 0x25705DF7888>"
      ]
     },
     "metadata": {},
     "output_type": "display_data"
    },
    {
     "name": "stdout",
     "output_type": "stream",
     "text": [
      "torch.Size([1, 28, 28])\n",
      "0.5418274402618408 0.45585861802101135\n",
      "-----------\n",
      " star_small-01.png\n"
     ]
    },
    {
     "data": {
      "image/png": "[encoded data removed]",
      "text/plain": [
       "<PIL.Image.Image image mode=L size=84x84 at 0x25708F30E08>"
      ]
     },
     "metadata": {},
     "output_type": "display_data"
    },
    {
     "name": "stdout",
     "output_type": "stream",
     "text": [
      "torch.Size([1, 28, 28])\n",
      "0.5197753310203552 0.5432453155517578\n",
      "-----------\n",
      " Tshirt4-01.png\n"
     ]
    },
    {
     "data": {
      "image/png": "[encoded data removed]",
      "text/plain": [
       "<PIL.Image.Image image mode=L size=84x84 at 0x25708F30D88>"
      ]
     },
     "metadata": {},
     "output_type": "display_data"
    },
    {
     "name": "stdout",
     "output_type": "stream",
     "text": [
      "torch.Size([1, 28, 28])\n",
      "0.36102667450904846 0.4034372568130493\n"
     ]
    },
    {
     "data": {
      "image/png": "[encoded data removed]",
      "text/plain": [
       "<Figure size 432x288 with 1 Axes>"
      ]
     },
     "metadata": {
      "needs_background": "light"
     },
     "output_type": "display_data"
    }
   ],
   "source": [
    "for file_name in os.listdir(cloth_folder):\n",
    "    if file_name.endswith(\".png\"):\n",
    "        print(\"-----------\\n\",file_name)\n",
    "        cloth_name = file_name\n",
    "\n",
    "        cloth_file = cloth_folder + cloth_name\n",
    "\n",
    "        cloth_img = read_cloth_image(cloth_file)\n",
    "\n",
    "        #plt.imshow(cloth_img, cmap=\"gray\")\n",
    "\n",
    "        img = Image.fromarray(np.uint8(cloth_img * 255) , 'L')\n",
    "\n",
    "        t3 = transforms_after(img)\n",
    "\n",
    "        print(t3.shape)\n",
    "\n",
    "        plt.imshow(t3[0].data.numpy(), cmap=\"gray\")\n",
    "\n",
    "        print(model(t3.unsqueeze(0)).item(), model2(t3.unsqueeze(0)).item())"
   ]
  },
  {
   "cell_type": "code",
   "execution_count": 48,
   "metadata": {
    "scrolled": true
   },
   "outputs": [
    {
     "data": {
      "text/plain": [
       "<matplotlib.image.AxesImage at 0x25708f81088>"
      ]
     },
     "execution_count": 48,
     "metadata": {},
     "output_type": "execute_result"
    },
    {
     "data": {
      "image/png": "[encoded data removed]",
      "text/plain": [
       "<Figure size 432x288 with 1 Axes>"
      ]
     },
     "metadata": {
      "needs_background": "light"
     },
     "output_type": "display_data"
    }
   ],
   "source": [
    "plt.imshow(ci[6][-1][0].data.numpy(), cmap=\"gray\")"
   ]
  },
  {
   "cell_type": "code",
   "execution_count": 49,
   "metadata": {},
   "outputs": [
    {
     "data": {
      "text/plain": [
       "tensor([[0.6539],\n",
       "        [0.6458],\n",
       "        [0.4003],\n",
       "        [0.2689]], grad_fn=<SigmoidBackward>)"
      ]
     },
     "execution_count": 49,
     "metadata": {},
     "output_type": "execute_result"
    }
   ],
   "source": [
    "model2(ci[5])"
   ]
  },
  {
   "cell_type": "code",
   "execution_count": 50,
   "metadata": {},
   "outputs": [],
   "source": [
    "# cloth_name = \"rectangle_small-01-01.png\"\n",
    "\n",
    "# cloth_file = cloth_folder + cloth_name\n",
    "\n",
    "# cloth_img = read_cloth_image(cloth_file)\n",
    "\n",
    "# #plt.imshow(cloth_img, cmap=\"gray\")\n",
    "\n",
    "# img = Image.fromarray(np.uint8(cloth_img * 255) , 'L')\n",
    "\n",
    "# t3 = transforms_after(img)\n",
    "\n",
    "# print(t3.shape)\n",
    "\n",
    "# plt.imshow(t3[0].data.numpy(), cmap=\"gray\")"
   ]
  },
  {
   "cell_type": "code",
   "execution_count": 72,
   "metadata": {},
   "outputs": [],
   "source": [
    "cloth_file = \"C:\\\\Users\\\\Yizhou Zhao\\\\Desktop\\\\AI\\\\validation\\\\\" + \"dress4-01.png\""
   ]
  },
  {
   "cell_type": "code",
   "execution_count": 73,
   "metadata": {},
   "outputs": [],
   "source": [
    "#cloth_file =  \"data/clothes/\" + \"shirt3-01.png\""
   ]
  },
  {
   "cell_type": "code",
   "execution_count": 74,
   "metadata": {},
   "outputs": [
    {
     "data": {
      "image/png": "[encoded data removed]",
      "text/plain": [
       "<PIL.Image.Image image mode=L size=84x84 at 0x25710639E48>"
      ]
     },
     "metadata": {},
     "output_type": "display_data"
    }
   ],
   "source": [
    "control_cloth_img = read_cloth_image(cloth_file)"
   ]
  },
  {
   "cell_type": "code",
   "execution_count": 75,
   "metadata": {},
   "outputs": [],
   "source": [
    "def fold_action(cloth, value_model, method = \"greedy\"):\n",
    "    img = Image.fromarray(np.uint8(cloth * 255) , 'L')\n",
    "    img_t = transforms_after(img)\n",
    "    img_t_score = value_model(img_t.unsqueeze(0)).item()\n",
    "    \n",
    "    action = (1, 0, 0)\n",
    "    folded_cloth_save_image = None\n",
    "    min_score = 1.0\n",
    "    for i in range(1, 11):\n",
    "        c = - i * 7\n",
    "        for a, b in [(1, 0), (0, 1)]:\n",
    "            cloth_folded = matrix_line_symmetry(cloth, a, b, c)\n",
    "            img_folded = Image.fromarray(np.uint8(cloth_folded * 255) , 'L')\n",
    "            img_folded_t = transforms_after(img_folded)\n",
    "            img_folded_t_score = value_model(img_folded_t.unsqueeze(0)).item()\n",
    "            \n",
    "            if min_score > img_folded_t_score:\n",
    "                print(action, min_score)\n",
    "                min_score = img_folded_t_score\n",
    "                action = (a, b, c)\n",
    "                folded_cloth_save_image = cloth_folded\n",
    "    \n",
    "    return action, min_score, folded_cloth_save_image"
   ]
  },
  {
   "cell_type": "code",
   "execution_count": 89,
   "metadata": {},
   "outputs": [
    {
     "name": "stdout",
     "output_type": "stream",
     "text": [
      "(1, 0, 0) 1.0\n",
      "(1, 0, -7) 0.5046299695968628\n",
      "(0, 1, -28) 0.5011831521987915\n",
      "(0, 1, -35) 0.4374678134918213\n"
     ]
    }
   ],
   "source": [
    "curA, curS, curImge = fold_action(control_cloth_img, model2)"
   ]
  },
  {
   "cell_type": "code",
   "execution_count": 90,
   "metadata": {},
   "outputs": [
    {
     "data": {
      "text/plain": [
       "(0, 1, -42)"
      ]
     },
     "execution_count": 90,
     "metadata": {},
     "output_type": "execute_result"
    }
   ],
   "source": [
    "curA"
   ]
  },
  {
   "cell_type": "code",
   "execution_count": 91,
   "metadata": {},
   "outputs": [
    {
     "data": {
      "text/plain": [
       "0.4350108206272125"
      ]
     },
     "execution_count": 91,
     "metadata": {},
     "output_type": "execute_result"
    }
   ],
   "source": [
    "curS"
   ]
  },
  {
   "cell_type": "code",
   "execution_count": 92,
   "metadata": {
    "scrolled": true
   },
   "outputs": [
    {
     "data": {
      "text/plain": [
       "<matplotlib.image.AxesImage at 0x25714eb25c8>"
      ]
     },
     "execution_count": 92,
     "metadata": {},
     "output_type": "execute_result"
    },
    {
     "data": {
      "image/png": "[encoded data removed]",
      "text/plain": [
       "<Figure size 432x288 with 1 Axes>"
      ]
     },
     "metadata": {
      "needs_background": "light"
     },
     "output_type": "display_data"
    }
   ],
   "source": [
    "plt.imshow(1-curImge, cmap=\"gray\")"
   ]
  },
  {
   "cell_type": "code",
   "execution_count": 88,
   "metadata": {},
   "outputs": [],
   "source": [
    "control_cloth_img = curImge"
   ]
  },
  {
   "cell_type": "code",
   "execution_count": null,
   "metadata": {},
   "outputs": [],
   "source": []
  }
 ],
 "metadata": {
  "kernelspec": {
   "display_name": "Python 3",
   "language": "python",
   "name": "python3"
  },
  "language_info": {
   "codemirror_mode": {
    "name": "ipython",
    "version": 3
   },
   "file_extension": ".py",
   "mimetype": "text/x-python",
   "name": "python",
   "nbconvert_exporter": "python",
   "pygments_lexer": "ipython3",
   "version": "3.7.9"
  }
 },
 "nbformat": 4,
 "nbformat_minor": 4
}
