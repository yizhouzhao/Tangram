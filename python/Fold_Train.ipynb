{
 "cells": [
  {
   "cell_type": "code",
   "execution_count": 1,
   "metadata": {},
   "outputs": [],
   "source": [
    "import torch\n",
    "import torch.nn as nn\n",
    "from torch.utils.data import Dataset, DataLoader\n",
    "import torchvision\n",
    "\n",
    "import PIL\n",
    "\n",
    "import numpy as np\n",
    "import matplotlib.pyplot as plt\n",
    "\n",
    "import os\n",
    "import re"
   ]
  },
  {
   "cell_type": "code",
   "execution_count": 2,
   "metadata": {},
   "outputs": [],
   "source": [
    "from tqdm.auto import tqdm"
   ]
  },
  {
   "cell_type": "code",
   "execution_count": 3,
   "metadata": {},
   "outputs": [],
   "source": [
    "import pandas as pd"
   ]
  },
  {
   "cell_type": "code",
   "execution_count": 4,
   "metadata": {},
   "outputs": [],
   "source": [
    "f_path = \"data/fold/\""
   ]
  },
  {
   "cell_type": "code",
   "execution_count": 5,
   "metadata": {},
   "outputs": [],
   "source": [
    "al = pd.read_csv(f_path +  'folder_label.csv')"
   ]
  },
  {
   "cell_type": "code",
   "execution_count": 6,
   "metadata": {},
   "outputs": [
    {
     "data": {
      "text/html": [
       "<div>\n",
       "<style scoped>\n",
       "    .dataframe tbody tr th:only-of-type {\n",
       "        vertical-align: middle;\n",
       "    }\n",
       "\n",
       "    .dataframe tbody tr th {\n",
       "        vertical-align: top;\n",
       "    }\n",
       "\n",
       "    .dataframe thead th {\n",
       "        text-align: right;\n",
       "    }\n",
       "</style>\n",
       "<table border=\"1\" class=\"dataframe\">\n",
       "  <thead>\n",
       "    <tr style=\"text-align: right;\">\n",
       "      <th></th>\n",
       "      <th>Unnamed: 0</th>\n",
       "      <th>I</th>\n",
       "      <th>II</th>\n",
       "      <th>III</th>\n",
       "      <th>IV</th>\n",
       "    </tr>\n",
       "  </thead>\n",
       "  <tbody>\n",
       "    <tr>\n",
       "      <th>0</th>\n",
       "      <td>dress-01</td>\n",
       "      <td>0,1,-28</td>\n",
       "      <td>0,1,-56</td>\n",
       "      <td>1,0,-35</td>\n",
       "      <td>1,0,-56</td>\n",
       "    </tr>\n",
       "    <tr>\n",
       "      <th>1</th>\n",
       "      <td>dress2-01</td>\n",
       "      <td>0, 1, -42</td>\n",
       "      <td>0, 1, -28</td>\n",
       "      <td>1, 0, -42</td>\n",
       "      <td>NaN</td>\n",
       "    </tr>\n",
       "    <tr>\n",
       "      <th>2</th>\n",
       "      <td>dress3-01</td>\n",
       "      <td>1, 0, -21</td>\n",
       "      <td>0, 1, -42</td>\n",
       "      <td>1, 0, -49</td>\n",
       "      <td>0, 1, -28</td>\n",
       "    </tr>\n",
       "    <tr>\n",
       "      <th>3</th>\n",
       "      <td>pants-01</td>\n",
       "      <td>1, 0, -42</td>\n",
       "      <td>0, 1, -42</td>\n",
       "      <td>NaN</td>\n",
       "      <td>NaN</td>\n",
       "    </tr>\n",
       "    <tr>\n",
       "      <th>4</th>\n",
       "      <td>pants2-01</td>\n",
       "      <td>0, 1, -28</td>\n",
       "      <td>0, 1, -56</td>\n",
       "      <td>0, 1, -42</td>\n",
       "      <td>1, 0, -42</td>\n",
       "    </tr>\n",
       "  </tbody>\n",
       "</table>\n",
       "</div>"
      ],
      "text/plain": [
       "  Unnamed: 0           I         II        III         IV\n",
       "0   dress-01     0,1,-28    0,1,-56    1,0,-35    1,0,-56\n",
       "1  dress2-01  0, 1, -42   0, 1, -28  1, 0, -42        NaN\n",
       "2  dress3-01   1, 0, -21  0, 1, -42  1, 0, -49  0, 1, -28\n",
       "3   pants-01   1, 0, -42  0, 1, -42        NaN        NaN\n",
       "4  pants2-01   0, 1, -28  0, 1, -56  0, 1, -42  1, 0, -42"
      ]
     },
     "execution_count": 6,
     "metadata": {},
     "output_type": "execute_result"
    }
   ],
   "source": [
    "al.head()"
   ]
  },
  {
   "cell_type": "code",
   "execution_count": 7,
   "metadata": {},
   "outputs": [
    {
     "data": {
      "text/plain": [
       "['dress-01',\n",
       " 'dress2-01',\n",
       " 'dress3-01',\n",
       " 'folder_label.csv',\n",
       " 'pants-01',\n",
       " 'pants2-01',\n",
       " 'pants3-01',\n",
       " 'shirt-01',\n",
       " 'shirt2-01',\n",
       " 'shirt3-01',\n",
       " 'shortpants-01',\n",
       " 'shortpants2-01',\n",
       " 'shortpants3-01',\n",
       " 'skirt-01',\n",
       " 'skirt2-01',\n",
       " 'skirt3-01',\n",
       " 'Tshirt-01',\n",
       " 'Tshirt2-01',\n",
       " 'Tshirt3-01',\n",
       " 'vest-01',\n",
       " 'vest2-01',\n",
       " 'vest3-01']"
      ]
     },
     "execution_count": 7,
     "metadata": {},
     "output_type": "execute_result"
    }
   ],
   "source": [
    "os.listdir(f_path)"
   ]
  },
  {
   "cell_type": "code",
   "execution_count": 8,
   "metadata": {},
   "outputs": [],
   "source": [
    "IMAGE_SIZE = 28"
   ]
  },
  {
   "cell_type": "code",
   "execution_count": 9,
   "metadata": {},
   "outputs": [],
   "source": [
    "# image_list = []"
   ]
  },
  {
   "cell_type": "code",
   "execution_count": 10,
   "metadata": {},
   "outputs": [],
   "source": [
    "# for dress_folder in os.listdir(folder_path):\n",
    "#         if dress_folder.endswith(\".csv\"):\n",
    "#             action_list = pd.read_csv(folder_path + dress_folder)\n",
    "#         else:\n",
    "#             dress_image_list = []\n",
    "#             image_folder = os.path.join(folder_path, dress_folder)\n",
    "#             for file_name in os.listdir(image_folder):\n",
    "#                 #image_list.append(os.path.join(image_folder, file_name))\n",
    "#                 single_image_path = os.path.join(image_folder, file_name)\n",
    "#                 dress_image_list.append(single_image_path)\n",
    "            \n",
    "#             image_list.append(dress_image_list)"
   ]
  },
  {
   "cell_type": "code",
   "execution_count": 11,
   "metadata": {},
   "outputs": [],
   "source": [
    "class ClothImages(Dataset):\n",
    "    def __init__(self, folder_path,  transforms=None, revert=False):\n",
    "        self.revert = revert\n",
    "        self.data_root_folder = folder_path\n",
    "        self.image_list, self.action_list  = self.load_image_list(self.data_root_folder)\n",
    "        self.transforms = transforms\n",
    "        \n",
    "    def load_image_list(self, folder_path):\n",
    "        image_list = []\n",
    "        action_list = None\n",
    "        for dress_folder in os.listdir(folder_path):\n",
    "            if dress_folder.endswith(\".csv\"):\n",
    "                action_list = pd.read_csv(folder_path + dress_folder)\n",
    "            else:\n",
    "                dress_image_list = []\n",
    "                image_folder = os.path.join(folder_path, dress_folder)\n",
    "                order_image_list = os.listdir(image_folder)\n",
    "                if self.revert:\n",
    "                    order_image_list = order_image_list[::-1]\n",
    "                for file_name in order_image_list:\n",
    "                    #image_list.append(os.path.join(image_folder, file_name))\n",
    "                    single_image_path = os.path.join(image_folder, file_name)\n",
    "                    dress_image_list.append(single_image_path)\n",
    "\n",
    "                image_list.append(dress_image_list)\n",
    "        \n",
    "        return image_list, action_list\n",
    "    \n",
    "    def __len__(self):\n",
    "        return len(self.image_list)\n",
    "    \n",
    "    def __getitem__(self, index):\n",
    "        img_list = [] \n",
    "        for dress_image_path in self.image_list[index]:\n",
    "            #print(dress_image_path)\n",
    "            # Open image\n",
    "            img = PIL.Image.open(dress_image_path).convert(\"L\")\n",
    "            img = PIL.ImageOps.invert(img)\n",
    "            #img = resize(img,(IMAGE_SIZE,IMAGE_SIZE))\n",
    "            if self.transforms is not None:\n",
    "                img = self.transforms(img)\n",
    "            \n",
    "            img_list.append(img)\n",
    "        \n",
    "        img_tensor = torch.stack(img_list,dim=0)\n",
    "        return img_tensor\n",
    "        "
   ]
  },
  {
   "cell_type": "code",
   "execution_count": 12,
   "metadata": {},
   "outputs": [],
   "source": [
    "transforms = torchvision.transforms.Compose([\n",
    "    torchvision.transforms.Resize((IMAGE_SIZE,IMAGE_SIZE), interpolation= PIL.Image.NEAREST),\n",
    "    torchvision.transforms.RandomAffine(degrees = 90, translate = (0.2,0.2), scale = (0.6,1)),\n",
    "    #torchvision.transforms.ColorJitter(hue=.05, saturation=.05),\n",
    "    torchvision.transforms.RandomHorizontalFlip(),\n",
    "    torchvision.transforms.RandomVerticalFlip(),\n",
    "    # torchvision.transforms.RandomRotation(20, resample=PIL.Image.BILINEAR)\n",
    "    torchvision.transforms.ToTensor(),\n",
    "])"
   ]
  },
  {
   "cell_type": "code",
   "execution_count": 13,
   "metadata": {},
   "outputs": [],
   "source": [
    "ci = ClothImages(f_path, transforms, revert=True)"
   ]
  },
  {
   "cell_type": "code",
   "execution_count": 14,
   "metadata": {},
   "outputs": [
    {
     "data": {
      "text/plain": [
       "torch.Size([5, 1, 28, 28])"
      ]
     },
     "execution_count": 14,
     "metadata": {},
     "output_type": "execute_result"
    }
   ],
   "source": [
    "ci[0].shape"
   ]
  },
  {
   "cell_type": "code",
   "execution_count": 18,
   "metadata": {},
   "outputs": [
    {
     "data": {
      "text/plain": [
       "<matplotlib.image.AxesImage at 0x17d245db508>"
      ]
     },
     "execution_count": 18,
     "metadata": {},
     "output_type": "execute_result"
    },
    {
     "data": {
      "image/png": "[encoded data removed]",
      "text/plain": [
       "<Figure size 432x288 with 1 Axes>"
      ]
     },
     "metadata": {
      "needs_background": "light"
     },
     "output_type": "display_data"
    }
   ],
   "source": [
    "plt.imshow(ci[3][0][0].data.numpy(),cmap=\"gray\")"
   ]
  },
  {
   "cell_type": "code",
   "execution_count": 19,
   "metadata": {},
   "outputs": [],
   "source": [
    "def conv3x3(in_channels, out_channels, **kwargs):\n",
    "    # The convolutional layers (for feature extraction) use standard layers from\n",
    "    # `torch.nn`, since they do not require adaptation.\n",
    "    # See `examples/maml/model.py` for comparison.\n",
    "    return nn.Sequential(\n",
    "        nn.Conv2d(in_channels, out_channels, kernel_size=3, padding=1, **kwargs),\n",
    "        nn.BatchNorm2d(out_channels, momentum=1., track_running_stats=False),\n",
    "        nn.ReLU(),\n",
    "        nn.MaxPool2d(2)\n",
    "    )"
   ]
  },
  {
   "cell_type": "code",
   "execution_count": 20,
   "metadata": {},
   "outputs": [],
   "source": [
    "class ConvolutionalNeuralNetwork(nn.Module):\n",
    "    def __init__(self, in_channels, out_features, hidden_size=64):\n",
    "        super(ConvolutionalNeuralNetwork, self).__init__()\n",
    "        self.in_channels = in_channels\n",
    "        self.out_features = out_features\n",
    "        self.hidden_size = hidden_size\n",
    "\n",
    "        self.features = nn.Sequential(\n",
    "            conv3x3(in_channels, hidden_size),\n",
    "            conv3x3(hidden_size, hidden_size),\n",
    "            conv3x3(hidden_size, hidden_size),\n",
    "            conv3x3(hidden_size, hidden_size)\n",
    "        )\n",
    "\n",
    "        # Only the last (linear) layer is used for adaptation in ANIL\n",
    "        self.linear_aesthetics = nn.Sequential(\n",
    "            nn.Linear(hidden_size, out_features),\n",
    "            nn.Sigmoid(),\n",
    "        )\n",
    "\n",
    "    def forward(self, inputs, params=None):\n",
    "        features = self.features(inputs)\n",
    "        #print(features.shape)\n",
    "        features = features.view((features.size(0), -1))\n",
    "        #print(features.shape)\n",
    "        scores = self.linear_aesthetics(features)\n",
    "        return scores"
   ]
  },
  {
   "cell_type": "code",
   "execution_count": 21,
   "metadata": {},
   "outputs": [],
   "source": [
    "def complete_contrast_loss(score_tensor):\n",
    "    total_loss = 0.0\n",
    "    for i in range(len(score_tensor)):\n",
    "        if i == 0:\n",
    "            total_loss += (1.0 - score_tensor[i])**2\n",
    "            total_loss += (score_tensor[i] - score_tensor[i + 1])**2\n",
    "        elif i ==len(score_tensor) - 1:\n",
    "            total_loss += (score_tensor[i] - 0.0)**2\n",
    "        else:\n",
    "            total_loss += (score_tensor[i] - score_tensor[i + 1])**2\n",
    "    \n",
    "    return total_loss"
   ]
  },
  {
   "cell_type": "code",
   "execution_count": 22,
   "metadata": {},
   "outputs": [],
   "source": [
    "model = ConvolutionalNeuralNetwork(1, 1, hidden_size=64)"
   ]
  },
  {
   "cell_type": "code",
   "execution_count": 23,
   "metadata": {},
   "outputs": [],
   "source": [
    "# pretrained_dict = torch.load(\"10_29.pth\")\n",
    "# model_dict = model.state_dict()\n",
    "# # 1. filter out unnecessary keys\n",
    "# pretrained_dict = {k: v for k, v in pretrained_dict.items() if k in model_dict}\n",
    "# # 2. overwrite entries in the existing state dict\n",
    "# model_dict.update(pretrained_dict) \n",
    "# # 3. load the new state dict\n",
    "# model.load_state_dict(model_dict)"
   ]
  },
  {
   "cell_type": "code",
   "execution_count": 24,
   "metadata": {},
   "outputs": [],
   "source": [
    "if torch.cuda.is_available():\n",
    "    model = model.cuda()"
   ]
  },
  {
   "cell_type": "code",
   "execution_count": 25,
   "metadata": {},
   "outputs": [],
   "source": [
    "optimizer = torch.optim.Adam(model.parameters(), lr=1e-5)"
   ]
  },
  {
   "cell_type": "code",
   "execution_count": 26,
   "metadata": {},
   "outputs": [],
   "source": [
    "epochs = 100"
   ]
  },
  {
   "cell_type": "code",
   "execution_count": 27,
   "metadata": {},
   "outputs": [
    {
     "data": {
      "text/plain": [
       "21"
      ]
     },
     "execution_count": 27,
     "metadata": {},
     "output_type": "execute_result"
    }
   ],
   "source": [
    "len(ci)"
   ]
  },
  {
   "cell_type": "code",
   "execution_count": 28,
   "metadata": {},
   "outputs": [
    {
     "data": {
      "application/vnd.jupyter.widget-view+json": {
       "model_id": "0035202b8bbb4b199f130fb31dabf0a9",
       "version_major": 2,
       "version_minor": 0
      },
      "text/plain": [
       "HBox(children=(HTML(value=''), FloatProgress(value=0.0), HTML(value='')))"
      ]
     },
     "metadata": {},
     "output_type": "display_data"
    },
    {
     "name": "stdout",
     "output_type": "stream",
     "text": [
      "\n"
     ]
    }
   ],
   "source": [
    "with tqdm(range(epochs)) as pbar:\n",
    "    loss_list = []\n",
    "    for epoch in pbar:\n",
    "        loss_epoch = []\n",
    "        count = 0\n",
    "        random_sequences = np.arange(18)\n",
    "        np.random.shuffle(random_sequences)\n",
    "        for i in random_sequences:\n",
    "            batch_inputs = ci[i]\n",
    "\n",
    "            if torch.cuda.is_available():\n",
    "                batch_inputs = batch_inputs.to(\"cuda\")\n",
    "\n",
    "            pred_scores = model(batch_inputs)\n",
    "\n",
    "            loss = complete_contrast_loss(pred_scores)\n",
    "\n",
    "            optimizer.zero_grad()\n",
    "            loss.backward()\n",
    "            optimizer.step()\n",
    "\n",
    "            loss_epoch.append(loss.item())\n",
    "\n",
    "        #print(\"epoch: {} avg loss {:.2f}\".format(epoch, sum(loss_epoch)/(len(loss_epoch) + 1e-3)))\n",
    "        avg_loss = sum(loss_epoch)/(len(loss_epoch) + 1e-3)\n",
    "        loss_list.append(avg_loss)\n",
    "        pbar.set_postfix(accuracy='{0:.4f}'.format(avg_loss))"
   ]
  },
  {
   "cell_type": "code",
   "execution_count": 31,
   "metadata": {},
   "outputs": [],
   "source": [
    "torch.save(model, \"record/vl3.pth\")"
   ]
  },
  {
   "cell_type": "code",
   "execution_count": 29,
   "metadata": {},
   "outputs": [
    {
     "data": {
      "text/plain": [
       "tensor([[0.6435],\n",
       "        [0.6016],\n",
       "        [0.5018],\n",
       "        [0.1870]], device='cuda:0', grad_fn=<SigmoidBackward>)"
      ]
     },
     "execution_count": 29,
     "metadata": {},
     "output_type": "execute_result"
    }
   ],
   "source": [
    "model(ci[20].cuda())"
   ]
  },
  {
   "cell_type": "code",
   "execution_count": 30,
   "metadata": {},
   "outputs": [
    {
     "data": {
      "text/plain": [
       "[<matplotlib.lines.Line2D at 0x17d21f78d48>]"
      ]
     },
     "execution_count": 30,
     "metadata": {},
     "output_type": "execute_result"
    },
    {
     "data": {
      "image/png": "[encoded data removed]",
      "text/plain": [
       "<Figure size 432x288 with 1 Axes>"
      ]
     },
     "metadata": {
      "needs_background": "light"
     },
     "output_type": "display_data"
    }
   ],
   "source": [
    "plt.plot(loss_list)"
   ]
  },
  {
   "cell_type": "code",
   "execution_count": 32,
   "metadata": {},
   "outputs": [
    {
     "name": "stdout",
     "output_type": "stream",
     "text": [
      "0.40075963029966877 0.3988362157962685 0.36233319692377 0.36198861015802564 0.3799869298179986 0.345465042718112 0.3076699819970638 0.3291350355758103 0.38281248666254597 0.32889799941652953 0.32401001375255684 0.31374667983645566 0.33288271776418354 0.29279312324698753 0.3000715602921695 0.3060002026243492 0.34667275281861304 0.32492405732110713 0.3009246557025497 0.32059026224057835 0.3502915578844494 0.27386907153471024 0.32179031025852783 0.308511535443635 0.31432811981849845 0.33407848193628126 0.31100691248924095 0.30626073329821274 0.28655165669308935 0.283226874939409 0.32820992271513827 0.3038766940271422 0.29634588837961334 0.2895639329266266 0.28014032219947754 0.2825220030788898 0.316587381214309 0.2935302965469237 0.29149043676581793 0.30477853339484356 0.2823697829284931 0.2649789134381009 0.3082324513713026 0.3033539356970004 0.2626015437218184 0.268926960409671 0.2949588304161727 0.3077907616161954 0.2937154207724438 0.2852501970060361 0.29571081216411715 0.2846500496554127 0.28663739403925514 0.3019560493301613 0.30375772148733315 0.2809802473707269 0.289971033213344 0.30602719623389146 0.31669968751051525 0.33488489625771956 0.2835441502218319 0.28808040523799244 0.27645026456713045 0.30106791164681523 0.282934673606909 0.2850019135784291 0.2966707760768098 0.29216830756662815 0.32220203378758 0.2883902477374388 0.29438557071716515 0.2762372328449531 0.28925599021968834 0.29941217997730935 0.3007600061907105 0.2908854675017478 0.2886112710050951 0.26626215663977937 0.25039830477222735 0.298799745646207 0.29941143827182465 0.27576303387355766 0.2744399074461518 0.2879330301793388 0.29409895287070775 0.2892254453640197 0.2698284819035932 0.2813184145761658 0.27810585220008016 0.28660603959880515 0.28910107062555773 0.24040529022123552 0.2748474919937046 0.26354405189393576 0.32209465453495056 0.2682633177716628 0.27970580364371606 0.2775526375884738 0.28128653365726913 0.28438968454080915\n"
     ]
    }
   ],
   "source": [
    "print(*loss_list)"
   ]
  },
  {
   "cell_type": "code",
   "execution_count": 33,
   "metadata": {},
   "outputs": [],
   "source": [
    "model2 = ConvolutionalNeuralNetwork(1, 1, hidden_size=64)"
   ]
  },
  {
   "cell_type": "code",
   "execution_count": 34,
   "metadata": {},
   "outputs": [],
   "source": [
    "pretrained_dict = torch.load(\"10_26.pth\")\n",
    "model2_dict = model2.state_dict()\n",
    "# 1. filter out unnecessary keys\n",
    "pretrained_dict = {k: v for k, v in pretrained_dict.items() if k in model2_dict}\n",
    "# 2. overwrite entries in the existing state dict\n",
    "model2_dict.update(pretrained_dict) \n",
    "# 3. load the new state dict\n",
    "model2.load_state_dict(model2_dict)\n",
    "\n",
    "if torch.cuda.is_available():\n",
    "    model2 = model2.cuda()\n",
    "\n",
    "optimizer2 = torch.optim.Adam(model2.parameters(), lr=1e-5)\n"
   ]
  },
  {
   "cell_type": "code",
   "execution_count": 35,
   "metadata": {},
   "outputs": [],
   "source": [
    "epochs = 100"
   ]
  },
  {
   "cell_type": "code",
   "execution_count": 36,
   "metadata": {},
   "outputs": [
    {
     "data": {
      "application/vnd.jupyter.widget-view+json": {
       "model_id": "5f7c7c60a7a342d198da96b43f914d51",
       "version_major": 2,
       "version_minor": 0
      },
      "text/plain": [
       "HBox(children=(HTML(value=''), FloatProgress(value=0.0), HTML(value='')))"
      ]
     },
     "metadata": {},
     "output_type": "display_data"
    },
    {
     "name": "stdout",
     "output_type": "stream",
     "text": [
      "\n"
     ]
    }
   ],
   "source": [
    "with tqdm(range(epochs)) as pbar:\n",
    "    loss_list = []\n",
    "    for epoch in pbar:\n",
    "        loss_epoch = []\n",
    "        count = 0\n",
    "        random_sequences = np.arange(18)\n",
    "        np.random.shuffle(random_sequences)\n",
    "        for i in random_sequences:\n",
    "            batch_inputs = ci[i]\n",
    "\n",
    "            if torch.cuda.is_available():\n",
    "                batch_inputs = batch_inputs.to(\"cuda\")\n",
    "\n",
    "            pred_scores = model2(batch_inputs)\n",
    "\n",
    "            loss = complete_contrast_loss(pred_scores)\n",
    "\n",
    "            optimizer2.zero_grad()\n",
    "            loss.backward()\n",
    "            optimizer2.step()\n",
    "\n",
    "            loss_epoch.append(loss.item())\n",
    "\n",
    "        #print(\"epoch: {} avg loss {:.2f}\".format(epoch, sum(loss_epoch)/(len(loss_epoch) + 1e-3)))\n",
    "        avg_loss = sum(loss_epoch)/(len(loss_epoch) + 1e-3)\n",
    "        loss_list.append(avg_loss)\n",
    "        pbar.set_postfix(accuracy='{0:.4f}'.format(avg_loss))"
   ]
  },
  {
   "cell_type": "code",
   "execution_count": 37,
   "metadata": {},
   "outputs": [
    {
     "data": {
      "text/plain": [
       "[<matplotlib.lines.Line2D at 0x17d01098b48>]"
      ]
     },
     "execution_count": 37,
     "metadata": {},
     "output_type": "execute_result"
    },
    {
     "data": {
      "image/png": "[encoded data removed]",
      "text/plain": [
       "<Figure size 432x288 with 1 Axes>"
      ]
     },
     "metadata": {
      "needs_background": "light"
     },
     "output_type": "display_data"
    }
   ],
   "source": [
    "plt.plot(loss_list)"
   ]
  },
  {
   "cell_type": "code",
   "execution_count": 38,
   "metadata": {},
   "outputs": [
    {
     "name": "stdout",
     "output_type": "stream",
     "text": [
      "0.5894183605937492 0.5335811939274467 0.5343314704150135 0.4988291513111239 0.4994984742873417 0.4859108751624513 0.4803106328671683 0.46652342390930657 0.4567267791965684 0.45658511179340233 0.42910269846963084 0.45378353289647677 0.42413561438581726 0.42341137374747384 0.41284058221306613 0.41324154852920153 0.3665479846970451 0.37783917423937224 0.40243652375378436 0.3767037870459977 0.37207696532005796 0.3682305369666666 0.3545961094050929 0.3506766992187203 0.363657728949293 0.3498366018658406 0.34997575773503287 0.32812177648173985 0.33730141163322636 0.34467960309931966 0.3497975530587834 0.33191708675802206 0.35072380082818255 0.32418069458823684 0.31800540538173494 0.30104758759206096 0.32682225301023204 0.3128316197340491 0.3226377874154209 0.2983509244259765 0.31507347671265507 0.3023288225599159 0.3281466616941064 0.30109221326279034 0.3077284136544823 0.3234762399370528 0.3310302884490892 0.31813381066038093 0.3161233235753832 0.3120418374958677 0.30472890452327783 0.31991639962945206 0.28567540450901674 0.31743046856742385 0.3027836221250241 0.3146600272283177 0.30539185760696824 0.3023081971873085 0.28233751956770586 0.27843092946262926 0.3326643848345019 0.2913734443147582 0.2825480281667612 0.31880816663810196 0.30922790456696303 0.2874825782003975 0.3032939295710196 0.3098143626501756 0.2999755168820704 0.3467537228858879 0.300756233922972 0.3033409550232222 0.2885331584906473 0.2756348537555052 0.32988351657320264 0.2843862616031092 0.31283208412777336 0.2789974889783857 0.2840034554822002 0.30574224722477455 0.27711342542769213 0.30384699021251416 0.31503230709147767 0.28557136375886466 0.3121747584033294 0.29321172079651375 0.31152928920528844 0.2922872710006779 0.2810929029969717 0.300978062636428 0.27577831416545684 0.3151001259589366 0.3050196439675123 0.27755012771009263 0.2988871460351392 0.2725490096092065 0.27133973497369873 0.29975390836243015 0.2959110238049985 0.27978312064591965\n"
     ]
    }
   ],
   "source": [
    "print(*loss_list)"
   ]
  },
  {
   "cell_type": "code",
   "execution_count": 39,
   "metadata": {},
   "outputs": [
    {
     "data": {
      "text/plain": [
       "tensor([[0.6165],\n",
       "        [0.6018],\n",
       "        [0.3355],\n",
       "        [0.3033]], device='cuda:0', grad_fn=<SigmoidBackward>)"
      ]
     },
     "execution_count": 39,
     "metadata": {},
     "output_type": "execute_result"
    }
   ],
   "source": [
    "model(ci[1].cuda())"
   ]
  },
  {
   "cell_type": "code",
   "execution_count": 40,
   "metadata": {},
   "outputs": [
    {
     "data": {
      "text/plain": [
       "tensor([[0.7214],\n",
       "        [0.5717],\n",
       "        [0.4230],\n",
       "        [0.2896],\n",
       "        [0.3353]], device='cuda:0', grad_fn=<SigmoidBackward>)"
      ]
     },
     "execution_count": 40,
     "metadata": {},
     "output_type": "execute_result"
    }
   ],
   "source": [
    "model2(ci[2].cuda())"
   ]
  },
  {
   "cell_type": "code",
   "execution_count": 41,
   "metadata": {},
   "outputs": [],
   "source": [
    "torch.save(model2, \"record/vl3_pre.pth\")"
   ]
  },
  {
   "cell_type": "markdown",
   "metadata": {},
   "source": [
    "# Test"
   ]
  },
  {
   "cell_type": "code",
   "execution_count": null,
   "metadata": {},
   "outputs": [],
   "source": [
    "import copy\n",
    "import numpy as np\n",
    "import cv2\n",
    "import matplotlib.pyplot as plt\n",
    "import os"
   ]
  },
  {
   "cell_type": "code",
   "execution_count": null,
   "metadata": {},
   "outputs": [],
   "source": [
    "import json"
   ]
  },
  {
   "cell_type": "code",
   "execution_count": null,
   "metadata": {},
   "outputs": [],
   "source": [
    "from fold_actions import point_line_symmetry, matrix_line_symmetry"
   ]
  },
  {
   "cell_type": "code",
   "execution_count": null,
   "metadata": {},
   "outputs": [],
   "source": [
    "def read_cloth_image(cloth_file):\n",
    "    im = Image.open(cloth_file).convert(\"L\")\n",
    "    display(im)\n",
    "    im_np = np.asarray(im)\n",
    "    im_np = 1 - im_np / 255.0\n",
    "    \n",
    "    for i in range(len(im_np)):\n",
    "        for j in range(len(im_np[0])):\n",
    "            if im_np[i][j] > 0:\n",
    "                im_np[i][j] = 1\n",
    "    \n",
    "    return im_np"
   ]
  },
  {
   "cell_type": "code",
   "execution_count": null,
   "metadata": {},
   "outputs": [],
   "source": [
    "transforms_after = torchvision.transforms.Compose([\n",
    "    torchvision.transforms.Resize((IMAGE_SIZE,IMAGE_SIZE),interpolation = PIL.Image.NEAREST),\n",
    "    #torchvision.transforms.RandomAffine(degrees = 90, translate = (0.2,0.2), scale = (0.6,1)),\n",
    "    #torchvision.transforms.ColorJitter(hue=.05, saturation=.05),\n",
    "    #torchvision.transforms.RandomHorizontalFlip(),\n",
    "    #torchvision.transforms.RandomVerticalFlip(),\n",
    "    # torchvision.transforms.RandomRotation(20, resample=PIL.Image.BILINEAR)\n",
    "    torchvision.transforms.ToTensor(),\n",
    "])\n"
   ]
  },
  {
   "cell_type": "code",
   "execution_count": null,
   "metadata": {},
   "outputs": [],
   "source": [
    "model = model.cpu()\n",
    "\n",
    "model2 = model2.cpu()"
   ]
  },
  {
   "cell_type": "code",
   "execution_count": null,
   "metadata": {},
   "outputs": [],
   "source": [
    "cloth_folder = \"C:\\\\Users\\\\Yizhou Zhao\\\\Desktop\\\\AI\\\\validation\\\\\""
   ]
  },
  {
   "cell_type": "code",
   "execution_count": null,
   "metadata": {
    "scrolled": true
   },
   "outputs": [],
   "source": [
    "os.listdir(cloth_folder)"
   ]
  },
  {
   "cell_type": "code",
   "execution_count": null,
   "metadata": {},
   "outputs": [],
   "source": [
    "torch.save(model,\"record/vl2.pth\")\n",
    "torch.save(model2,\"record/vl2_pre.pth\")"
   ]
  },
  {
   "cell_type": "code",
   "execution_count": null,
   "metadata": {},
   "outputs": [],
   "source": [
    "for file_name in os.listdir(cloth_folder):\n",
    "    if file_name.endswith(\".png\"):\n",
    "        print(\"-----------\\n\",file_name)\n",
    "        cloth_name = file_name\n",
    "\n",
    "        cloth_file = cloth_folder + cloth_name\n",
    "\n",
    "        cloth_img = read_cloth_image(cloth_file)\n",
    "\n",
    "        #plt.imshow(cloth_img, cmap=\"gray\")\n",
    "\n",
    "        img = Image.fromarray(np.uint8(cloth_img * 255) , 'L')\n",
    "\n",
    "        t3 = transforms_after(img)\n",
    "\n",
    "        print(t3.shape)\n",
    "\n",
    "        plt.imshow(t3[0].data.numpy(), cmap=\"gray\")\n",
    "\n",
    "        print(model(t3.unsqueeze(0)).item(), model2(t3.unsqueeze(0)).item())"
   ]
  },
  {
   "cell_type": "code",
   "execution_count": null,
   "metadata": {
    "scrolled": true
   },
   "outputs": [],
   "source": [
    "plt.imshow(ci[6][0][0].data.numpy(), cmap=\"gray\")"
   ]
  },
  {
   "cell_type": "code",
   "execution_count": null,
   "metadata": {},
   "outputs": [],
   "source": [
    "model2(ci[6])"
   ]
  },
  {
   "cell_type": "code",
   "execution_count": null,
   "metadata": {},
   "outputs": [],
   "source": [
    "# cloth_name = \"rectangle_small-01-01.png\"\n",
    "\n",
    "# cloth_file = cloth_folder + cloth_name\n",
    "\n",
    "# cloth_img = read_cloth_image(cloth_file)\n",
    "\n",
    "# #plt.imshow(cloth_img, cmap=\"gray\")\n",
    "\n",
    "# img = Image.fromarray(np.uint8(cloth_img * 255) , 'L')\n",
    "\n",
    "# t3 = transforms_after(img)\n",
    "\n",
    "# print(t3.shape)\n",
    "\n",
    "# plt.imshow(t3[0].data.numpy(), cmap=\"gray\")"
   ]
  },
  {
   "cell_type": "code",
   "execution_count": null,
   "metadata": {},
   "outputs": [],
   "source": [
    "cloth_file = \"C:\\\\Users\\\\Yizhou Zhao\\\\Desktop\\\\AI\\\\validation\\\\\" + \"dress4-01.png\""
   ]
  },
  {
   "cell_type": "code",
   "execution_count": null,
   "metadata": {},
   "outputs": [],
   "source": [
    "#cloth_file =  \"data/clothes/\" + \"shirt3-01.png\""
   ]
  },
  {
   "cell_type": "code",
   "execution_count": null,
   "metadata": {},
   "outputs": [],
   "source": [
    "control_cloth_img = read_cloth_image(cloth_file)"
   ]
  },
  {
   "cell_type": "code",
   "execution_count": null,
   "metadata": {},
   "outputs": [],
   "source": [
    "def fold_action(cloth, value_model, method = \"greedy\"):\n",
    "    img = Image.fromarray(np.uint8(cloth * 255) , 'L')\n",
    "    img_t = transforms_after(img)\n",
    "    img_t_score = value_model(img_t.unsqueeze(0)).item()\n",
    "    \n",
    "    action = (1, 0, 0)\n",
    "    folded_cloth_save_image = None\n",
    "    min_score = 1.0\n",
    "    for i in range(1, 11):\n",
    "        c = - i * 7\n",
    "        for a, b in [(1, 0), (0, 1)]:\n",
    "            cloth_folded = matrix_line_symmetry(cloth, a, b, c)\n",
    "            img_folded = Image.fromarray(np.uint8(cloth_folded * 255) , 'L')\n",
    "            img_folded_t = transforms_after(img_folded)\n",
    "            img_folded_t_score = value_model(img_folded_t.unsqueeze(0)).item()\n",
    "            \n",
    "            if min_score > img_folded_t_score:\n",
    "                print(action, min_score)\n",
    "                min_score = img_folded_t_score\n",
    "                action = (a, b, c)\n",
    "                folded_cloth_save_image = cloth_folded\n",
    "    \n",
    "    return action, min_score, folded_cloth_save_image"
   ]
  },
  {
   "cell_type": "code",
   "execution_count": null,
   "metadata": {},
   "outputs": [],
   "source": [
    "curA, curS, curImge = fold_action(control_cloth_img, model2)"
   ]
  },
  {
   "cell_type": "code",
   "execution_count": null,
   "metadata": {},
   "outputs": [],
   "source": [
    "curA"
   ]
  },
  {
   "cell_type": "code",
   "execution_count": null,
   "metadata": {},
   "outputs": [],
   "source": [
    "curS"
   ]
  },
  {
   "cell_type": "code",
   "execution_count": null,
   "metadata": {
    "scrolled": true
   },
   "outputs": [],
   "source": [
    "plt.imshow(1-curImge, cmap=\"gray\")"
   ]
  },
  {
   "cell_type": "code",
   "execution_count": null,
   "metadata": {},
   "outputs": [],
   "source": [
    "control_cloth_img = curImge"
   ]
  },
  {
   "cell_type": "code",
   "execution_count": null,
   "metadata": {},
   "outputs": [],
   "source": []
  }
 ],
 "metadata": {
  "kernelspec": {
   "display_name": "Python 3",
   "language": "python",
   "name": "python3"
  },
  "language_info": {
   "codemirror_mode": {
    "name": "ipython",
    "version": 3
   },
   "file_extension": ".py",
   "mimetype": "text/x-python",
   "name": "python",
   "nbconvert_exporter": "python",
   "pygments_lexer": "ipython3",
   "version": "3.7.9"
  }
 },
 "nbformat": 4,
 "nbformat_minor": 4
}
