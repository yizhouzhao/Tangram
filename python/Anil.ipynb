{
 "cells": [
  {
   "cell_type": "code",
   "execution_count": null,
   "metadata": {},
   "outputs": [],
   "source": [
    "import os\n",
    "import torch\n",
    "import torch.nn.functional as F\n",
    "from tqdm.auto import tqdm\n",
    "import logging\n",
    "\n",
    "from torchmeta.datasets.helpers import omniglot\n",
    "from torchmeta.utils.data import BatchMetaDataLoader\n",
    "from torchmeta.utils.gradient_based import gradient_update_parameters"
   ]
  },
  {
   "cell_type": "code",
   "execution_count": null,
   "metadata": {},
   "outputs": [],
   "source": [
    "import torch.nn as nn\n",
    "from torchmeta.modules import MetaModule, MetaLinear "
   ]
  },
  {
   "cell_type": "code",
   "execution_count": null,
   "metadata": {},
   "outputs": [],
   "source": [
    "import matplotlib.pyplot as plt"
   ]
  },
  {
   "cell_type": "code",
   "execution_count": null,
   "metadata": {},
   "outputs": [],
   "source": [
    "def conv3x3(in_channels, out_channels, **kwargs):\n",
    "    # The convolutional layers (for feature extraction) use standard layers from\n",
    "    # `torch.nn`, since they do not require adaptation.\n",
    "    # See `examples/maml/model.py` for comparison.\n",
    "    return nn.Sequential(\n",
    "        nn.Conv2d(in_channels, out_channels, kernel_size=3, padding=1, **kwargs),\n",
    "        nn.BatchNorm2d(out_channels, momentum=1., track_running_stats=False),\n",
    "        nn.ReLU(),\n",
    "        nn.MaxPool2d(2)\n",
    "    )"
   ]
  },
  {
   "cell_type": "code",
   "execution_count": null,
   "metadata": {},
   "outputs": [],
   "source": [
    "class ConvolutionalNeuralNetwork(MetaModule):\n",
    "    def __init__(self, in_channels, out_features, hidden_size=64):\n",
    "        super(ConvolutionalNeuralNetwork, self).__init__()\n",
    "        self.in_channels = in_channels\n",
    "        self.out_features = out_features\n",
    "        self.hidden_size = hidden_size\n",
    "\n",
    "        self.features = nn.Sequential(\n",
    "            conv3x3(in_channels, hidden_size),\n",
    "            conv3x3(hidden_size, hidden_size),\n",
    "            conv3x3(hidden_size, hidden_size),\n",
    "            conv3x3(hidden_size, hidden_size)\n",
    "        )\n",
    "\n",
    "        # Only the last (linear) layer is used for adaptation in ANIL\n",
    "        self.classifier = MetaLinear(hidden_size, out_features)\n",
    "\n",
    "    def forward(self, inputs, params=None):\n",
    "        features = self.features(inputs)\n",
    "        features = features.view((features.size(0), -1))\n",
    "        logits = self.classifier(features, params=self.get_subdict(params, 'classifier'))\n",
    "        return logits\n"
   ]
  },
  {
   "cell_type": "code",
   "execution_count": null,
   "metadata": {},
   "outputs": [],
   "source": [
    "from collections import OrderedDict"
   ]
  },
  {
   "cell_type": "code",
   "execution_count": null,
   "metadata": {},
   "outputs": [],
   "source": [
    "def get_accuracy(logits, targets):\n",
    "    \"\"\"Compute the accuracy (after adaptation) of MAML on the test/query points\n",
    "\n",
    "    Parameters\n",
    "    ----------\n",
    "    logits : `torch.FloatTensor` instance\n",
    "        Outputs/logits of the model on the query points. This tensor has shape\n",
    "        `(num_examples, num_classes)`.\n",
    "\n",
    "    targets : `torch.LongTensor` instance\n",
    "        A tensor containing the targets of the query points. This tensor has \n",
    "        shape `(num_examples,)`.\n",
    "\n",
    "    Returns\n",
    "    -------\n",
    "    accuracy : `torch.FloatTensor` instance\n",
    "        Mean accuracy on the query points\n",
    "    \"\"\"\n",
    "    _, predictions = torch.max(logits, dim=-1)\n",
    "    return torch.mean(predictions.eq(targets).float())"
   ]
  },
  {
   "cell_type": "code",
   "execution_count": null,
   "metadata": {},
   "outputs": [],
   "source": [
    "class ARGS():\n",
    "    folder = \"data\"\n",
    "    num_shots = 1\n",
    "    num_ways = 20\n",
    "    download = False\n",
    "    batch_size = 16\n",
    "    num_workers = 0\n",
    "    hidden_size = 64\n",
    "    num_batches = 500\n",
    "    step_size = 0.4\n",
    "    first_order = False\n",
    "    \n",
    "    device = torch.device(\"cuda\")"
   ]
  },
  {
   "cell_type": "code",
   "execution_count": null,
   "metadata": {},
   "outputs": [],
   "source": [
    "args = ARGS()"
   ]
  },
  {
   "cell_type": "code",
   "execution_count": null,
   "metadata": {},
   "outputs": [],
   "source": [
    "dataset = omniglot(args.folder,\n",
    "                   shots=args.num_shots,\n",
    "                   ways=args.num_ways,\n",
    "                   shuffle=True,\n",
    "                   test_shots=15,\n",
    "                   meta_train=True,\n",
    "                   download=args.download)"
   ]
  },
  {
   "cell_type": "code",
   "execution_count": null,
   "metadata": {},
   "outputs": [],
   "source": [
    "#dataset[(0, 1, 2, 3, 4)]"
   ]
  },
  {
   "cell_type": "code",
   "execution_count": null,
   "metadata": {},
   "outputs": [],
   "source": [
    "dataloader = BatchMetaDataLoader(dataset,\n",
    "                                     batch_size=args.batch_size,\n",
    "                                     shuffle=True,\n",
    "                                     num_workers=args.num_workers)"
   ]
  },
  {
   "cell_type": "code",
   "execution_count": null,
   "metadata": {},
   "outputs": [],
   "source": [
    "model = ConvolutionalNeuralNetwork(1,\n",
    "                                   args.num_ways,\n",
    "                                   hidden_size=args.hidden_size)\n",
    "model.to(device=args.device)\n",
    "model.train()\n",
    "meta_optimizer = torch.optim.Adam(model.parameters(), lr=1e-3)"
   ]
  },
  {
   "cell_type": "code",
   "execution_count": null,
   "metadata": {},
   "outputs": [],
   "source": [
    "# Training loop\n",
    "acc_list = []\n",
    "with tqdm(dataloader, total=args.num_batches) as pbar:\n",
    "     for batch_idx, batch in enumerate(pbar):\n",
    "            model.zero_grad()\n",
    "\n",
    "            train_inputs, train_targets = batch['train']\n",
    "            train_inputs = train_inputs.to(device=args.device)\n",
    "            train_targets = train_targets.to(device=args.device)\n",
    "\n",
    "            test_inputs, test_targets = batch['test']\n",
    "            test_inputs = test_inputs.to(device=args.device)\n",
    "            test_targets = test_targets.to(device=args.device)\n",
    "\n",
    "            outer_loss = torch.tensor(0., device=args.device)\n",
    "            accuracy = torch.tensor(0., device=args.device)\n",
    "            for task_idx, (train_input, train_target, test_input,\n",
    "                    test_target) in enumerate(zip(train_inputs, train_targets,\n",
    "                    test_inputs, test_targets)):\n",
    "                train_logit = model(train_input)\n",
    "                inner_loss = F.cross_entropy(train_logit, train_target)\n",
    "\n",
    "                model.zero_grad()\n",
    "                params = gradient_update_parameters(model,\n",
    "                                                    inner_loss,\n",
    "                                                    step_size=args.step_size,\n",
    "                                                    first_order=args.first_order)\n",
    "\n",
    "                test_logit = model(test_input, params=params)\n",
    "                outer_loss += F.cross_entropy(test_logit, test_target)\n",
    "\n",
    "                with torch.no_grad():\n",
    "                    accuracy += get_accuracy(test_logit, test_target)\n",
    "\n",
    "            outer_loss.div_(args.batch_size)\n",
    "            accuracy.div_(args.batch_size)\n",
    "\n",
    "            outer_loss.backward()\n",
    "            meta_optimizer.step()\n",
    "\n",
    "            pbar.set_postfix(accuracy='{0:.4f}'.format(accuracy.item()))\n",
    "            \n",
    "            acc_list.append(accuracy.item())\n",
    "            if batch_idx >= args.num_batches:\n",
    "                break"
   ]
  },
  {
   "cell_type": "code",
   "execution_count": null,
   "metadata": {
    "scrolled": true
   },
   "outputs": [],
   "source": [
    "plt.plot(acc_list[:500])\n",
    "plt.show()"
   ]
  },
  {
   "cell_type": "code",
   "execution_count": null,
   "metadata": {},
   "outputs": [],
   "source": [
    "acc_list"
   ]
  },
  {
   "cell_type": "code",
   "execution_count": null,
   "metadata": {},
   "outputs": [],
   "source": [
    "#import numpy as np"
   ]
  },
  {
   "cell_type": "code",
   "execution_count": null,
   "metadata": {},
   "outputs": [],
   "source": [
    "#np.savetxt(\"record/anil_5_5.csv\", acc_list, delimiter=\",\")"
   ]
  },
  {
   "cell_type": "code",
   "execution_count": null,
   "metadata": {},
   "outputs": [],
   "source": [
    "pretrained_dict = torch.load(\"10_31.pth\")"
   ]
  },
  {
   "cell_type": "code",
   "execution_count": null,
   "metadata": {},
   "outputs": [],
   "source": [
    "model_dict = model.state_dict()"
   ]
  },
  {
   "cell_type": "code",
   "execution_count": null,
   "metadata": {},
   "outputs": [],
   "source": [
    "# 1. filter out unnecessary keys\n",
    "pretrained_dict = {k: v for k, v in pretrained_dict.items() if k in model_dict}\n",
    "# 2. overwrite entries in the existing state dict\n",
    "model_dict.update(pretrained_dict) \n",
    "# 3. load the new state dict\n",
    "model.load_state_dict(model_dict)"
   ]
  },
  {
   "cell_type": "code",
   "execution_count": null,
   "metadata": {},
   "outputs": [],
   "source": [
    "# Training loop\n",
    "acc_list2 = []\n",
    "with tqdm(dataloader, total=args.num_batches) as pbar:\n",
    "     for batch_idx, batch in enumerate(pbar):\n",
    "            model.zero_grad()\n",
    "\n",
    "            train_inputs, train_targets = batch['train']\n",
    "            train_inputs = train_inputs.to(device=args.device)\n",
    "            train_targets = train_targets.to(device=args.device)\n",
    "\n",
    "            test_inputs, test_targets = batch['test']\n",
    "            test_inputs = test_inputs.to(device=args.device)\n",
    "            test_targets = test_targets.to(device=args.device)\n",
    "\n",
    "            outer_loss = torch.tensor(0., device=args.device)\n",
    "            accuracy = torch.tensor(0., device=args.device)\n",
    "            for task_idx, (train_input, train_target, test_input,\n",
    "                    test_target) in enumerate(zip(train_inputs, train_targets,\n",
    "                    test_inputs, test_targets)):\n",
    "                train_logit = model(train_input)\n",
    "                inner_loss = F.cross_entropy(train_logit, train_target)\n",
    "\n",
    "                model.zero_grad()\n",
    "                params = gradient_update_parameters(model,\n",
    "                                                    inner_loss,\n",
    "                                                    step_size=args.step_size,\n",
    "                                                    first_order=args.first_order)\n",
    "\n",
    "                test_logit = model(test_input, params=params)\n",
    "                outer_loss += F.cross_entropy(test_logit, test_target)\n",
    "\n",
    "                with torch.no_grad():\n",
    "                    accuracy += get_accuracy(test_logit, test_target)\n",
    "\n",
    "            outer_loss.div_(args.batch_size)\n",
    "            accuracy.div_(args.batch_size)\n",
    "\n",
    "            outer_loss.backward()\n",
    "            meta_optimizer.step()\n",
    "\n",
    "            pbar.set_postfix(accuracy='{0:.4f}'.format(accuracy.item()))\n",
    "            \n",
    "            acc_list2.append(accuracy.item())\n",
    "            if batch_idx >= args.num_batches:\n",
    "                break"
   ]
  },
  {
   "cell_type": "code",
   "execution_count": null,
   "metadata": {},
   "outputs": [],
   "source": [
    "plt.plot(acc_list2)\n",
    "plt.show()"
   ]
  },
  {
   "cell_type": "code",
   "execution_count": null,
   "metadata": {},
   "outputs": [],
   "source": [
    "acc_list2"
   ]
  },
  {
   "cell_type": "code",
   "execution_count": null,
   "metadata": {},
   "outputs": [],
   "source": [
    "# from torchmeta.datasets.helpers import omniglot\n",
    "# from torchmeta.utils.data import BatchMetaDataLoader\n",
    "\n",
    "# dataset = omniglot(\"data\", ways=20, shots=5, test_shots=15, meta_train=True, download=True)\n",
    "# dataloader = BatchMetaDataLoader(dataset, batch_size=16, num_workers=4)\n",
    "\n",
    "# for batch in dataloader:\n",
    "#     train_inputs, train_targets = batch[\"train\"]\n",
    "#     print('Train inputs shape: {0}'.format(train_inputs.shape))    # (16, 25, 1, 28, 28)\n",
    "#     print('Train targets shape: {0}'.format(train_targets.shape))  # (16, 25)\n",
    "\n",
    "#     test_inputs, test_targets = batch[\"test\"]\n",
    "#     print('Test inputs shape: {0}'.format(test_inputs.shape))      # (16, 75, 1, 28, 28)\n",
    "#     print('Test targets shape: {0}'.format(test_targets.shape))    # (16, 75)\n",
    "#     break"
   ]
  },
  {
   "cell_type": "code",
   "execution_count": null,
   "metadata": {},
   "outputs": [],
   "source": [
    "from torchmeta.datasets.helpers import doublemnist\n",
    "from torchmeta.utils.data import BatchMetaDataLoader"
   ]
  },
  {
   "cell_type": "code",
   "execution_count": null,
   "metadata": {},
   "outputs": [],
   "source": [
    "from torchvision.transforms import Compose, Resize, ToTensor, Grayscale"
   ]
  },
  {
   "cell_type": "code",
   "execution_count": null,
   "metadata": {},
   "outputs": [],
   "source": [
    "kwargs = {\n",
    "        'transform': Compose([ Grayscale(), Resize(28), ToTensor()])\n",
    "    }"
   ]
  },
  {
   "cell_type": "code",
   "execution_count": null,
   "metadata": {},
   "outputs": [],
   "source": [
    "dataset = doublemnist(args.folder,\n",
    "                   shots=args.num_shots,\n",
    "                   ways=args.num_ways,\n",
    "                   shuffle=True,\n",
    "                   meta_train=True,\n",
    "                   download=True,\n",
    "                   transform = kwargs[\"transform\"])"
   ]
  },
  {
   "cell_type": "code",
   "execution_count": null,
   "metadata": {
    "scrolled": true
   },
   "outputs": [],
   "source": [
    "# dataset = miniimagenet(args.folder,\n",
    "#                    shots=args.num_shots,\n",
    "#                    ways=args.num_ways,\n",
    "#                    shuffle=True,\n",
    "#                    test_shots=15,\n",
    "#                    meta_train=True,\n",
    "#                    download=args.download,\n",
    "#                    transform = kwargs[\"transform\"]\n",
    "#                       )"
   ]
  },
  {
   "cell_type": "code",
   "execution_count": null,
   "metadata": {},
   "outputs": [],
   "source": [
    "dataloader = BatchMetaDataLoader(dataset, batch_size=16, shuffle=False, num_workers=0)\n",
    "\n",
    "for batch in dataloader:\n",
    "    train_inputs, train_targets = batch[\"train\"]\n",
    "    print('Train inputs shape: {0}'.format(train_inputs.shape))    # (16, 25, 1, 28, 28)\n",
    "    print('Train targets shape: {0}'.format(train_targets.shape))  # (16, 25)\n",
    "\n",
    "    test_inputs, test_targets = batch[\"test\"]\n",
    "    print('Test inputs shape: {0}'.format(test_inputs.shape))      # (16, 75, 1, 28, 28)\n",
    "    print('Test targets shape: {0}'.format(test_targets.shape))    # (16, 75)\n",
    "    break"
   ]
  },
  {
   "cell_type": "code",
   "execution_count": null,
   "metadata": {
    "scrolled": true
   },
   "outputs": [],
   "source": [
    "plt.imshow(train_inputs[2][12].permute(1,2,0).data.numpy(), cmap=\"gray\")"
   ]
  },
  {
   "cell_type": "code",
   "execution_count": null,
   "metadata": {},
   "outputs": [],
   "source": [
    "model = ConvolutionalNeuralNetwork(1,\n",
    "                                   args.num_ways,\n",
    "                                   hidden_size=args.hidden_size)\n",
    "model.to(device=args.device)\n",
    "model.train()\n",
    "meta_optimizer = torch.optim.Adam(model.parameters(), lr=1e-3)"
   ]
  },
  {
   "cell_type": "code",
   "execution_count": null,
   "metadata": {},
   "outputs": [],
   "source": [
    "# Training loop\n",
    "acc_list = []\n",
    "with tqdm(dataloader, total=args.num_batches) as pbar:\n",
    "     for batch_idx, batch in enumerate(pbar):\n",
    "            model.zero_grad()\n",
    "            train_inputs, train_targets = batch['train']\n",
    "            train_inputs = train_inputs.to(device=args.device)\n",
    "            train_targets = train_targets.to(device=args.device)\n",
    "\n",
    "            test_inputs, test_targets = batch['test']\n",
    "            test_inputs = test_inputs.to(device=args.device)\n",
    "            test_targets = test_targets.to(device=args.device)\n",
    "\n",
    "            outer_loss = torch.tensor(0., device=args.device)\n",
    "            accuracy = torch.tensor(0., device=args.device)\n",
    "            for task_idx, (train_input, train_target, test_input,\n",
    "                    test_target) in enumerate(zip(train_inputs, train_targets,\n",
    "                    test_inputs, test_targets)):\n",
    "                train_logit = model(train_input)\n",
    "                inner_loss = F.cross_entropy(train_logit, train_target)\n",
    "\n",
    "                model.zero_grad()\n",
    "                params = gradient_update_parameters(model,\n",
    "                                                    inner_loss,\n",
    "                                                    step_size=args.step_size,\n",
    "                                                    first_order=args.first_order)\n",
    "\n",
    "                test_logit = model(test_input, params=params)\n",
    "                outer_loss += F.cross_entropy(test_logit, test_target)\n",
    "\n",
    "                with torch.no_grad():\n",
    "                    accuracy += get_accuracy(test_logit, test_target)\n",
    "\n",
    "            outer_loss.div_(args.batch_size)\n",
    "            accuracy.div_(args.batch_size)\n",
    "\n",
    "            outer_loss.backward()\n",
    "            meta_optimizer.step()\n",
    "\n",
    "            pbar.set_postfix(accuracy='{0:.4f}'.format(accuracy.item()))\n",
    "            \n",
    "            acc_list.append(accuracy.item())\n",
    "            if batch_idx >= args.num_batches:\n",
    "                break"
   ]
  },
  {
   "cell_type": "code",
   "execution_count": null,
   "metadata": {},
   "outputs": [],
   "source": [
    "plt.plot(acc_list[:500])\n",
    "plt.show()"
   ]
  },
  {
   "cell_type": "code",
   "execution_count": null,
   "metadata": {},
   "outputs": [],
   "source": [
    "acc_list"
   ]
  },
  {
   "cell_type": "code",
   "execution_count": null,
   "metadata": {},
   "outputs": [],
   "source": []
  }
 ],
 "metadata": {
  "kernelspec": {
   "display_name": "Python 3",
   "language": "python",
   "name": "python3"
  },
  "language_info": {
   "codemirror_mode": {
    "name": "ipython",
    "version": 3
   },
   "file_extension": ".py",
   "mimetype": "text/x-python",
   "name": "python",
   "nbconvert_exporter": "python",
   "pygments_lexer": "ipython3",
   "version": "3.7.9"
  }
 },
 "nbformat": 4,
 "nbformat_minor": 4
}
