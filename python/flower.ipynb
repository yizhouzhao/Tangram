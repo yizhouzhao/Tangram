{
 "cells": [
  {
   "cell_type": "code",
   "execution_count": 1,
   "metadata": {},
   "outputs": [],
   "source": [
    "import torch\n",
    "import torch.nn as nn\n",
    "from torch.utils.data import Dataset, DataLoader\n",
    "from torchvision import transforms\n",
    "\n",
    "import PIL\n",
    "\n",
    "import numpy as np\n",
    "import matplotlib.pyplot as plt\n",
    "\n",
    "import os\n",
    "import re\n",
    "import copy\n",
    "\n",
    "from tqdm.auto import tqdm"
   ]
  },
  {
   "cell_type": "code",
   "execution_count": 2,
   "metadata": {},
   "outputs": [],
   "source": [
    "from efficientnet_pytorch import EfficientNet"
   ]
  },
  {
   "cell_type": "code",
   "execution_count": 3,
   "metadata": {},
   "outputs": [],
   "source": [
    "import matplotlib.image as mpimg"
   ]
  },
  {
   "cell_type": "code",
   "execution_count": 4,
   "metadata": {},
   "outputs": [],
   "source": [
    "f_path = \"data/flowers/trimaps/\""
   ]
  },
  {
   "cell_type": "code",
   "execution_count": 5,
   "metadata": {},
   "outputs": [],
   "source": [
    "IMAGE_SIZE = 224"
   ]
  },
  {
   "cell_type": "code",
   "execution_count": 6,
   "metadata": {},
   "outputs": [],
   "source": [
    "USE_CUDA = True"
   ]
  },
  {
   "cell_type": "code",
   "execution_count": 7,
   "metadata": {},
   "outputs": [
    {
     "data": {
      "text/plain": [
       "17.0"
      ]
     },
     "execution_count": 7,
     "metadata": {},
     "output_type": "execute_result"
    }
   ],
   "source": [
    "1360 / 80"
   ]
  },
  {
   "cell_type": "code",
   "execution_count": 8,
   "metadata": {},
   "outputs": [],
   "source": [
    "class FlowerImages(Dataset):\n",
    "    def __init__(self, folder_path,  transforms=None):\n",
    "        self.data_root_folder = folder_path\n",
    "        self.image_list  = self.load_image_list(self.data_root_folder)\n",
    "        self.label_list = []\n",
    "        self.transforms = transforms\n",
    "        \n",
    "        self.class_num_list = {}\n",
    "        self.class2num = {}\n",
    "        self.calulate_image_class()\n",
    "        \n",
    "    def calulate_image_class(self):\n",
    "        for image_file in self.image_list:\n",
    "            image_num = int(re.split(r\"(_|\\.)\",image_file)[-3]) - 1\n",
    "            self.label_list.append(image_num // 80)\n",
    "            # print(image_file, image_num // 80)\n",
    "            if not image_num // 80 in self.class_num_list:\n",
    "                self.class_num_list[image_num // 80] = 0\n",
    "            else:\n",
    "                self.class_num_list[image_num // 80] += 1\n",
    "        \n",
    "        for i, key in enumerate(sorted(self.class_num_list)):\n",
    "            self.class2num[key] = i\n",
    "            \n",
    "        \n",
    "        return\n",
    "        \n",
    "        \n",
    "    def load_image_list(self, folder_path):\n",
    "        image_list = []\n",
    "        for image_file in os.listdir(folder_path):\n",
    "            if image_file.endswith(\".png\"):\n",
    "                image_list.append(os.path.join(folder_path, image_file))\n",
    "        \n",
    "        return image_list\n",
    "    \n",
    "    def __len__(self):\n",
    "        return len(self.image_list)\n",
    "    \n",
    "    def __getitem__(self, index):\n",
    "        single_image_path = self.image_list[index]\n",
    "        # Open image\n",
    "        img2 = mpimg.imread(single_image_path)\n",
    "        channel1 = img2[:,:,0]\n",
    "        channel1[np.where(channel1 > 0)] = 1\n",
    "        channel1[np.where(channel1 < 1)] = 0\n",
    "        channel2 = img2[:,:,1]\n",
    "        channel2[np.where(channel2 > 0)] = 1\n",
    "        channel2[np.where(channel2 < 1)] = 0\n",
    "        channel1[np.where(channel2 > 0)] = 0\n",
    "           \n",
    "        img_tensor = channel1\n",
    "        if self.transforms is not None:\n",
    "            img_tensor = self.transforms(img_tensor)\n",
    "            img_tensor = transforms.ToTensor()(np.array(img_tensor))\n",
    "            \n",
    "        label = self.class2num[self.label_list[index]]\n",
    "        return img_tensor, label\n",
    "        "
   ]
  },
  {
   "cell_type": "code",
   "execution_count": 9,
   "metadata": {
    "scrolled": true
   },
   "outputs": [],
   "source": [
    "my_transforms = transforms.Compose([\n",
    "    transforms.ToPILImage(mode=\"F\"),\n",
    "    transforms.Resize(255),\n",
    "    transforms.CenterCrop(224),\n",
    "    transforms.RandomAffine(degrees = 90, translate = (0.2,0.2), scale = (0.6,1)),\n",
    "    transforms.RandomHorizontalFlip(),\n",
    "    transforms.RandomVerticalFlip(),\n",
    "    #transforms.ToTensor(),\n",
    "    #transforms.RandomHorizontalFlip(),\n",
    "    #transforms.Normalize(mean=[0.485, 0.456, 0.406], std=[0.229, 0.224, 0.225])\n",
    "])"
   ]
  },
  {
   "cell_type": "code",
   "execution_count": 10,
   "metadata": {
    "scrolled": true
   },
   "outputs": [],
   "source": [
    "fi = FlowerImages(f_path, transforms=my_transforms)"
   ]
  },
  {
   "cell_type": "code",
   "execution_count": 11,
   "metadata": {
    "scrolled": true
   },
   "outputs": [
    {
     "data": {
      "text/plain": [
       "4"
      ]
     },
     "execution_count": 11,
     "metadata": {},
     "output_type": "execute_result"
    }
   ],
   "source": [
    "fi[200][1]"
   ]
  },
  {
   "cell_type": "code",
   "execution_count": 12,
   "metadata": {
    "scrolled": true
   },
   "outputs": [
    {
     "data": {
      "text/plain": [
       "<matplotlib.image.AxesImage at 0x219c9b14f08>"
      ]
     },
     "execution_count": 12,
     "metadata": {},
     "output_type": "execute_result"
    },
    {
     "data": {
      "image/png": "[encoded data removed]",
      "text/plain": [
       "<Figure size 432x288 with 1 Axes>"
      ]
     },
     "metadata": {
      "needs_background": "light"
     },
     "output_type": "display_data"
    }
   ],
   "source": [
    "plt.imshow(fi[200][0][0],cmap=\"gray\")"
   ]
  },
  {
   "cell_type": "code",
   "execution_count": 13,
   "metadata": {},
   "outputs": [],
   "source": [
    "train_dataset_len = int(0.8 * len(fi))\n",
    "test_dataset_len = len(fi) - train_dataset_len"
   ]
  },
  {
   "cell_type": "code",
   "execution_count": 14,
   "metadata": {},
   "outputs": [],
   "source": [
    "train_dataset, test_dataset = torch.utils.data.random_split(fi,[train_dataset_len, test_dataset_len])"
   ]
  },
  {
   "cell_type": "code",
   "execution_count": 15,
   "metadata": {},
   "outputs": [],
   "source": [
    "train_dataloader = DataLoader(train_dataset, batch_size=8, shuffle=True, num_workers=0)\n",
    "test_dataloader = DataLoader(test_dataset, batch_size=8, shuffle=True, num_workers=0)"
   ]
  },
  {
   "cell_type": "code",
   "execution_count": 16,
   "metadata": {},
   "outputs": [],
   "source": [
    "model = EfficientNet.from_name('efficientnet-b0', in_channels = 1, num_classes = len(fi.class2num))"
   ]
  },
  {
   "cell_type": "code",
   "execution_count": 17,
   "metadata": {},
   "outputs": [],
   "source": [
    "pretrained_dict = torch.load(\"11_4_eff_pre_train.pth\")"
   ]
  },
  {
   "cell_type": "code",
   "execution_count": 18,
   "metadata": {},
   "outputs": [],
   "source": [
    "model_dict = model.state_dict()"
   ]
  },
  {
   "cell_type": "code",
   "execution_count": 19,
   "metadata": {},
   "outputs": [
    {
     "name": "stdout",
     "output_type": "stream",
     "text": [
      "_conv_stem.weight\n",
      "_bn0.weight\n",
      "_bn0.bias\n",
      "_bn0.running_mean\n",
      "_bn0.running_var\n",
      "_bn0.num_batches_tracked\n",
      "_blocks.0._depthwise_conv.weight\n",
      "_blocks.0._bn1.weight\n",
      "_blocks.0._bn1.bias\n",
      "_blocks.0._bn1.running_mean\n",
      "_blocks.0._bn1.running_var\n",
      "_blocks.0._bn1.num_batches_tracked\n",
      "_blocks.0._se_reduce.weight\n",
      "_blocks.0._se_reduce.bias\n",
      "_blocks.0._se_expand.weight\n",
      "_blocks.0._se_expand.bias\n",
      "_blocks.0._project_conv.weight\n",
      "_blocks.0._bn2.weight\n",
      "_blocks.0._bn2.bias\n",
      "_blocks.0._bn2.running_mean\n",
      "_blocks.0._bn2.running_var\n",
      "_blocks.0._bn2.num_batches_tracked\n",
      "_blocks.1._expand_conv.weight\n",
      "_blocks.1._bn0.weight\n",
      "_blocks.1._bn0.bias\n",
      "_blocks.1._bn0.running_mean\n",
      "_blocks.1._bn0.running_var\n",
      "_blocks.1._bn0.num_batches_tracked\n",
      "_blocks.1._depthwise_conv.weight\n",
      "_blocks.1._bn1.weight\n",
      "_blocks.1._bn1.bias\n",
      "_blocks.1._bn1.running_mean\n",
      "_blocks.1._bn1.running_var\n",
      "_blocks.1._bn1.num_batches_tracked\n",
      "_blocks.1._se_reduce.weight\n",
      "_blocks.1._se_reduce.bias\n",
      "_blocks.1._se_expand.weight\n",
      "_blocks.1._se_expand.bias\n",
      "_blocks.1._project_conv.weight\n",
      "_blocks.1._bn2.weight\n",
      "_blocks.1._bn2.bias\n",
      "_blocks.1._bn2.running_mean\n",
      "_blocks.1._bn2.running_var\n",
      "_blocks.1._bn2.num_batches_tracked\n",
      "_blocks.2._expand_conv.weight\n",
      "_blocks.2._bn0.weight\n",
      "_blocks.2._bn0.bias\n",
      "_blocks.2._bn0.running_mean\n",
      "_blocks.2._bn0.running_var\n",
      "_blocks.2._bn0.num_batches_tracked\n",
      "_blocks.2._depthwise_conv.weight\n",
      "_blocks.2._bn1.weight\n",
      "_blocks.2._bn1.bias\n",
      "_blocks.2._bn1.running_mean\n",
      "_blocks.2._bn1.running_var\n",
      "_blocks.2._bn1.num_batches_tracked\n",
      "_blocks.2._se_reduce.weight\n",
      "_blocks.2._se_reduce.bias\n",
      "_blocks.2._se_expand.weight\n",
      "_blocks.2._se_expand.bias\n",
      "_blocks.2._project_conv.weight\n",
      "_blocks.2._bn2.weight\n",
      "_blocks.2._bn2.bias\n",
      "_blocks.2._bn2.running_mean\n",
      "_blocks.2._bn2.running_var\n",
      "_blocks.2._bn2.num_batches_tracked\n",
      "_blocks.3._expand_conv.weight\n",
      "_blocks.3._bn0.weight\n",
      "_blocks.3._bn0.bias\n",
      "_blocks.3._bn0.running_mean\n",
      "_blocks.3._bn0.running_var\n",
      "_blocks.3._bn0.num_batches_tracked\n",
      "_blocks.3._depthwise_conv.weight\n",
      "_blocks.3._bn1.weight\n",
      "_blocks.3._bn1.bias\n",
      "_blocks.3._bn1.running_mean\n",
      "_blocks.3._bn1.running_var\n",
      "_blocks.3._bn1.num_batches_tracked\n",
      "_blocks.3._se_reduce.weight\n",
      "_blocks.3._se_reduce.bias\n",
      "_blocks.3._se_expand.weight\n",
      "_blocks.3._se_expand.bias\n",
      "_blocks.3._project_conv.weight\n",
      "_blocks.3._bn2.weight\n",
      "_blocks.3._bn2.bias\n",
      "_blocks.3._bn2.running_mean\n",
      "_blocks.3._bn2.running_var\n",
      "_blocks.3._bn2.num_batches_tracked\n",
      "_blocks.4._expand_conv.weight\n",
      "_blocks.4._bn0.weight\n",
      "_blocks.4._bn0.bias\n",
      "_blocks.4._bn0.running_mean\n",
      "_blocks.4._bn0.running_var\n",
      "_blocks.4._bn0.num_batches_tracked\n",
      "_blocks.4._depthwise_conv.weight\n",
      "_blocks.4._bn1.weight\n",
      "_blocks.4._bn1.bias\n",
      "_blocks.4._bn1.running_mean\n",
      "_blocks.4._bn1.running_var\n",
      "_blocks.4._bn1.num_batches_tracked\n",
      "_blocks.4._se_reduce.weight\n",
      "_blocks.4._se_reduce.bias\n",
      "_blocks.4._se_expand.weight\n",
      "_blocks.4._se_expand.bias\n",
      "_blocks.4._project_conv.weight\n",
      "_blocks.4._bn2.weight\n",
      "_blocks.4._bn2.bias\n",
      "_blocks.4._bn2.running_mean\n",
      "_blocks.4._bn2.running_var\n",
      "_blocks.4._bn2.num_batches_tracked\n",
      "_blocks.5._expand_conv.weight\n",
      "_blocks.5._bn0.weight\n",
      "_blocks.5._bn0.bias\n",
      "_blocks.5._bn0.running_mean\n",
      "_blocks.5._bn0.running_var\n",
      "_blocks.5._bn0.num_batches_tracked\n",
      "_blocks.5._depthwise_conv.weight\n",
      "_blocks.5._bn1.weight\n",
      "_blocks.5._bn1.bias\n",
      "_blocks.5._bn1.running_mean\n",
      "_blocks.5._bn1.running_var\n",
      "_blocks.5._bn1.num_batches_tracked\n",
      "_blocks.5._se_reduce.weight\n",
      "_blocks.5._se_reduce.bias\n",
      "_blocks.5._se_expand.weight\n",
      "_blocks.5._se_expand.bias\n",
      "_blocks.5._project_conv.weight\n",
      "_blocks.5._bn2.weight\n",
      "_blocks.5._bn2.bias\n",
      "_blocks.5._bn2.running_mean\n",
      "_blocks.5._bn2.running_var\n",
      "_blocks.5._bn2.num_batches_tracked\n",
      "_blocks.6._expand_conv.weight\n",
      "_blocks.6._bn0.weight\n",
      "_blocks.6._bn0.bias\n",
      "_blocks.6._bn0.running_mean\n",
      "_blocks.6._bn0.running_var\n",
      "_blocks.6._bn0.num_batches_tracked\n",
      "_blocks.6._depthwise_conv.weight\n",
      "_blocks.6._bn1.weight\n",
      "_blocks.6._bn1.bias\n",
      "_blocks.6._bn1.running_mean\n",
      "_blocks.6._bn1.running_var\n",
      "_blocks.6._bn1.num_batches_tracked\n",
      "_blocks.6._se_reduce.weight\n",
      "_blocks.6._se_reduce.bias\n",
      "_blocks.6._se_expand.weight\n",
      "_blocks.6._se_expand.bias\n",
      "_blocks.6._project_conv.weight\n",
      "_blocks.6._bn2.weight\n",
      "_blocks.6._bn2.bias\n",
      "_blocks.6._bn2.running_mean\n",
      "_blocks.6._bn2.running_var\n",
      "_blocks.6._bn2.num_batches_tracked\n",
      "_blocks.7._expand_conv.weight\n",
      "_blocks.7._bn0.weight\n",
      "_blocks.7._bn0.bias\n",
      "_blocks.7._bn0.running_mean\n",
      "_blocks.7._bn0.running_var\n",
      "_blocks.7._bn0.num_batches_tracked\n",
      "_blocks.7._depthwise_conv.weight\n",
      "_blocks.7._bn1.weight\n",
      "_blocks.7._bn1.bias\n",
      "_blocks.7._bn1.running_mean\n",
      "_blocks.7._bn1.running_var\n",
      "_blocks.7._bn1.num_batches_tracked\n",
      "_blocks.7._se_reduce.weight\n",
      "_blocks.7._se_reduce.bias\n",
      "_blocks.7._se_expand.weight\n",
      "_blocks.7._se_expand.bias\n",
      "_blocks.7._project_conv.weight\n",
      "_blocks.7._bn2.weight\n",
      "_blocks.7._bn2.bias\n",
      "_blocks.7._bn2.running_mean\n",
      "_blocks.7._bn2.running_var\n",
      "_blocks.7._bn2.num_batches_tracked\n",
      "_blocks.8._expand_conv.weight\n",
      "_blocks.8._bn0.weight\n",
      "_blocks.8._bn0.bias\n",
      "_blocks.8._bn0.running_mean\n",
      "_blocks.8._bn0.running_var\n",
      "_blocks.8._bn0.num_batches_tracked\n",
      "_blocks.8._depthwise_conv.weight\n",
      "_blocks.8._bn1.weight\n",
      "_blocks.8._bn1.bias\n",
      "_blocks.8._bn1.running_mean\n",
      "_blocks.8._bn1.running_var\n",
      "_blocks.8._bn1.num_batches_tracked\n",
      "_blocks.8._se_reduce.weight\n",
      "_blocks.8._se_reduce.bias\n",
      "_blocks.8._se_expand.weight\n",
      "_blocks.8._se_expand.bias\n",
      "_blocks.8._project_conv.weight\n",
      "_blocks.8._bn2.weight\n",
      "_blocks.8._bn2.bias\n",
      "_blocks.8._bn2.running_mean\n",
      "_blocks.8._bn2.running_var\n",
      "_blocks.8._bn2.num_batches_tracked\n",
      "_blocks.9._expand_conv.weight\n",
      "_blocks.9._bn0.weight\n",
      "_blocks.9._bn0.bias\n",
      "_blocks.9._bn0.running_mean\n",
      "_blocks.9._bn0.running_var\n",
      "_blocks.9._bn0.num_batches_tracked\n",
      "_blocks.9._depthwise_conv.weight\n",
      "_blocks.9._bn1.weight\n",
      "_blocks.9._bn1.bias\n",
      "_blocks.9._bn1.running_mean\n",
      "_blocks.9._bn1.running_var\n",
      "_blocks.9._bn1.num_batches_tracked\n",
      "_blocks.9._se_reduce.weight\n",
      "_blocks.9._se_reduce.bias\n",
      "_blocks.9._se_expand.weight\n",
      "_blocks.9._se_expand.bias\n",
      "_blocks.9._project_conv.weight\n",
      "_blocks.9._bn2.weight\n",
      "_blocks.9._bn2.bias\n",
      "_blocks.9._bn2.running_mean\n",
      "_blocks.9._bn2.running_var\n",
      "_blocks.9._bn2.num_batches_tracked\n",
      "_blocks.10._expand_conv.weight\n",
      "_blocks.10._bn0.weight\n",
      "_blocks.10._bn0.bias\n",
      "_blocks.10._bn0.running_mean\n",
      "_blocks.10._bn0.running_var\n",
      "_blocks.10._bn0.num_batches_tracked\n",
      "_blocks.10._depthwise_conv.weight\n",
      "_blocks.10._bn1.weight\n",
      "_blocks.10._bn1.bias\n",
      "_blocks.10._bn1.running_mean\n",
      "_blocks.10._bn1.running_var\n",
      "_blocks.10._bn1.num_batches_tracked\n",
      "_blocks.10._se_reduce.weight\n",
      "_blocks.10._se_reduce.bias\n",
      "_blocks.10._se_expand.weight\n",
      "_blocks.10._se_expand.bias\n",
      "_blocks.10._project_conv.weight\n",
      "_blocks.10._bn2.weight\n",
      "_blocks.10._bn2.bias\n",
      "_blocks.10._bn2.running_mean\n",
      "_blocks.10._bn2.running_var\n",
      "_blocks.10._bn2.num_batches_tracked\n",
      "_blocks.11._expand_conv.weight\n",
      "_blocks.11._bn0.weight\n",
      "_blocks.11._bn0.bias\n",
      "_blocks.11._bn0.running_mean\n",
      "_blocks.11._bn0.running_var\n",
      "_blocks.11._bn0.num_batches_tracked\n",
      "_blocks.11._depthwise_conv.weight\n",
      "_blocks.11._bn1.weight\n",
      "_blocks.11._bn1.bias\n",
      "_blocks.11._bn1.running_mean\n",
      "_blocks.11._bn1.running_var\n",
      "_blocks.11._bn1.num_batches_tracked\n",
      "_blocks.11._se_reduce.weight\n",
      "_blocks.11._se_reduce.bias\n",
      "_blocks.11._se_expand.weight\n",
      "_blocks.11._se_expand.bias\n",
      "_blocks.11._project_conv.weight\n",
      "_blocks.11._bn2.weight\n",
      "_blocks.11._bn2.bias\n",
      "_blocks.11._bn2.running_mean\n",
      "_blocks.11._bn2.running_var\n",
      "_blocks.11._bn2.num_batches_tracked\n",
      "_blocks.12._expand_conv.weight\n",
      "_blocks.12._bn0.weight\n",
      "_blocks.12._bn0.bias\n",
      "_blocks.12._bn0.running_mean\n",
      "_blocks.12._bn0.running_var\n",
      "_blocks.12._bn0.num_batches_tracked\n",
      "_blocks.12._depthwise_conv.weight\n",
      "_blocks.12._bn1.weight\n",
      "_blocks.12._bn1.bias\n",
      "_blocks.12._bn1.running_mean\n",
      "_blocks.12._bn1.running_var\n",
      "_blocks.12._bn1.num_batches_tracked\n",
      "_blocks.12._se_reduce.weight\n",
      "_blocks.12._se_reduce.bias\n",
      "_blocks.12._se_expand.weight\n",
      "_blocks.12._se_expand.bias\n",
      "_blocks.12._project_conv.weight\n",
      "_blocks.12._bn2.weight\n",
      "_blocks.12._bn2.bias\n",
      "_blocks.12._bn2.running_mean\n",
      "_blocks.12._bn2.running_var\n",
      "_blocks.12._bn2.num_batches_tracked\n",
      "_blocks.13._expand_conv.weight\n",
      "_blocks.13._bn0.weight\n",
      "_blocks.13._bn0.bias\n",
      "_blocks.13._bn0.running_mean\n",
      "_blocks.13._bn0.running_var\n",
      "_blocks.13._bn0.num_batches_tracked\n",
      "_blocks.13._depthwise_conv.weight\n",
      "_blocks.13._bn1.weight\n",
      "_blocks.13._bn1.bias\n",
      "_blocks.13._bn1.running_mean\n",
      "_blocks.13._bn1.running_var\n",
      "_blocks.13._bn1.num_batches_tracked\n",
      "_blocks.13._se_reduce.weight\n",
      "_blocks.13._se_reduce.bias\n",
      "_blocks.13._se_expand.weight\n",
      "_blocks.13._se_expand.bias\n",
      "_blocks.13._project_conv.weight\n",
      "_blocks.13._bn2.weight\n",
      "_blocks.13._bn2.bias\n",
      "_blocks.13._bn2.running_mean\n",
      "_blocks.13._bn2.running_var\n",
      "_blocks.13._bn2.num_batches_tracked\n",
      "_blocks.14._expand_conv.weight\n",
      "_blocks.14._bn0.weight\n",
      "_blocks.14._bn0.bias\n",
      "_blocks.14._bn0.running_mean\n",
      "_blocks.14._bn0.running_var\n",
      "_blocks.14._bn0.num_batches_tracked\n",
      "_blocks.14._depthwise_conv.weight\n",
      "_blocks.14._bn1.weight\n",
      "_blocks.14._bn1.bias\n",
      "_blocks.14._bn1.running_mean\n",
      "_blocks.14._bn1.running_var\n",
      "_blocks.14._bn1.num_batches_tracked\n",
      "_blocks.14._se_reduce.weight\n",
      "_blocks.14._se_reduce.bias\n",
      "_blocks.14._se_expand.weight\n",
      "_blocks.14._se_expand.bias\n",
      "_blocks.14._project_conv.weight\n",
      "_blocks.14._bn2.weight\n",
      "_blocks.14._bn2.bias\n",
      "_blocks.14._bn2.running_mean\n",
      "_blocks.14._bn2.running_var\n",
      "_blocks.14._bn2.num_batches_tracked\n",
      "_blocks.15._expand_conv.weight\n",
      "_blocks.15._bn0.weight\n",
      "_blocks.15._bn0.bias\n",
      "_blocks.15._bn0.running_mean\n",
      "_blocks.15._bn0.running_var\n",
      "_blocks.15._bn0.num_batches_tracked\n",
      "_blocks.15._depthwise_conv.weight\n",
      "_blocks.15._bn1.weight\n",
      "_blocks.15._bn1.bias\n",
      "_blocks.15._bn1.running_mean\n",
      "_blocks.15._bn1.running_var\n",
      "_blocks.15._bn1.num_batches_tracked\n",
      "_blocks.15._se_reduce.weight\n",
      "_blocks.15._se_reduce.bias\n",
      "_blocks.15._se_expand.weight\n",
      "_blocks.15._se_expand.bias\n",
      "_blocks.15._project_conv.weight\n",
      "_blocks.15._bn2.weight\n",
      "_blocks.15._bn2.bias\n",
      "_blocks.15._bn2.running_mean\n",
      "_blocks.15._bn2.running_var\n",
      "_blocks.15._bn2.num_batches_tracked\n",
      "_conv_head.weight\n",
      "_bn1.weight\n",
      "_bn1.bias\n",
      "_bn1.running_mean\n",
      "_bn1.running_var\n",
      "_bn1.num_batches_tracked\n",
      "_fc.weight\n",
      "_fc.bias\n"
     ]
    }
   ],
   "source": [
    "for k in model_dict:\n",
    "    print(k)"
   ]
  },
  {
   "cell_type": "code",
   "execution_count": 20,
   "metadata": {},
   "outputs": [
    {
     "data": {
      "text/plain": [
       "torch.Size([16, 1280])"
      ]
     },
     "execution_count": 20,
     "metadata": {},
     "output_type": "execute_result"
    }
   ],
   "source": [
    "model_dict['_fc.weight'].shape"
   ]
  },
  {
   "cell_type": "code",
   "execution_count": 21,
   "metadata": {
    "scrolled": true
   },
   "outputs": [
    {
     "name": "stdout",
     "output_type": "stream",
     "text": [
      "efficient._conv_stem.weight\n",
      "efficient._bn0.weight\n",
      "efficient._bn0.bias\n",
      "efficient._bn0.running_mean\n",
      "efficient._bn0.running_var\n",
      "efficient._bn0.num_batches_tracked\n",
      "efficient._blocks.0._depthwise_conv.weight\n",
      "efficient._blocks.0._bn1.weight\n",
      "efficient._blocks.0._bn1.bias\n",
      "efficient._blocks.0._bn1.running_mean\n",
      "efficient._blocks.0._bn1.running_var\n",
      "efficient._blocks.0._bn1.num_batches_tracked\n",
      "efficient._blocks.0._se_reduce.weight\n",
      "efficient._blocks.0._se_reduce.bias\n",
      "efficient._blocks.0._se_expand.weight\n",
      "efficient._blocks.0._se_expand.bias\n",
      "efficient._blocks.0._project_conv.weight\n",
      "efficient._blocks.0._bn2.weight\n",
      "efficient._blocks.0._bn2.bias\n",
      "efficient._blocks.0._bn2.running_mean\n",
      "efficient._blocks.0._bn2.running_var\n",
      "efficient._blocks.0._bn2.num_batches_tracked\n",
      "efficient._blocks.1._expand_conv.weight\n",
      "efficient._blocks.1._bn0.weight\n",
      "efficient._blocks.1._bn0.bias\n",
      "efficient._blocks.1._bn0.running_mean\n",
      "efficient._blocks.1._bn0.running_var\n",
      "efficient._blocks.1._bn0.num_batches_tracked\n",
      "efficient._blocks.1._depthwise_conv.weight\n",
      "efficient._blocks.1._bn1.weight\n",
      "efficient._blocks.1._bn1.bias\n",
      "efficient._blocks.1._bn1.running_mean\n",
      "efficient._blocks.1._bn1.running_var\n",
      "efficient._blocks.1._bn1.num_batches_tracked\n",
      "efficient._blocks.1._se_reduce.weight\n",
      "efficient._blocks.1._se_reduce.bias\n",
      "efficient._blocks.1._se_expand.weight\n",
      "efficient._blocks.1._se_expand.bias\n",
      "efficient._blocks.1._project_conv.weight\n",
      "efficient._blocks.1._bn2.weight\n",
      "efficient._blocks.1._bn2.bias\n",
      "efficient._blocks.1._bn2.running_mean\n",
      "efficient._blocks.1._bn2.running_var\n",
      "efficient._blocks.1._bn2.num_batches_tracked\n",
      "efficient._blocks.2._expand_conv.weight\n",
      "efficient._blocks.2._bn0.weight\n",
      "efficient._blocks.2._bn0.bias\n",
      "efficient._blocks.2._bn0.running_mean\n",
      "efficient._blocks.2._bn0.running_var\n",
      "efficient._blocks.2._bn0.num_batches_tracked\n",
      "efficient._blocks.2._depthwise_conv.weight\n",
      "efficient._blocks.2._bn1.weight\n",
      "efficient._blocks.2._bn1.bias\n",
      "efficient._blocks.2._bn1.running_mean\n",
      "efficient._blocks.2._bn1.running_var\n",
      "efficient._blocks.2._bn1.num_batches_tracked\n",
      "efficient._blocks.2._se_reduce.weight\n",
      "efficient._blocks.2._se_reduce.bias\n",
      "efficient._blocks.2._se_expand.weight\n",
      "efficient._blocks.2._se_expand.bias\n",
      "efficient._blocks.2._project_conv.weight\n",
      "efficient._blocks.2._bn2.weight\n",
      "efficient._blocks.2._bn2.bias\n",
      "efficient._blocks.2._bn2.running_mean\n",
      "efficient._blocks.2._bn2.running_var\n",
      "efficient._blocks.2._bn2.num_batches_tracked\n",
      "efficient._blocks.3._expand_conv.weight\n",
      "efficient._blocks.3._bn0.weight\n",
      "efficient._blocks.3._bn0.bias\n",
      "efficient._blocks.3._bn0.running_mean\n",
      "efficient._blocks.3._bn0.running_var\n",
      "efficient._blocks.3._bn0.num_batches_tracked\n",
      "efficient._blocks.3._depthwise_conv.weight\n",
      "efficient._blocks.3._bn1.weight\n",
      "efficient._blocks.3._bn1.bias\n",
      "efficient._blocks.3._bn1.running_mean\n",
      "efficient._blocks.3._bn1.running_var\n",
      "efficient._blocks.3._bn1.num_batches_tracked\n",
      "efficient._blocks.3._se_reduce.weight\n",
      "efficient._blocks.3._se_reduce.bias\n",
      "efficient._blocks.3._se_expand.weight\n",
      "efficient._blocks.3._se_expand.bias\n",
      "efficient._blocks.3._project_conv.weight\n",
      "efficient._blocks.3._bn2.weight\n",
      "efficient._blocks.3._bn2.bias\n",
      "efficient._blocks.3._bn2.running_mean\n",
      "efficient._blocks.3._bn2.running_var\n",
      "efficient._blocks.3._bn2.num_batches_tracked\n",
      "efficient._blocks.4._expand_conv.weight\n",
      "efficient._blocks.4._bn0.weight\n",
      "efficient._blocks.4._bn0.bias\n",
      "efficient._blocks.4._bn0.running_mean\n",
      "efficient._blocks.4._bn0.running_var\n",
      "efficient._blocks.4._bn0.num_batches_tracked\n",
      "efficient._blocks.4._depthwise_conv.weight\n",
      "efficient._blocks.4._bn1.weight\n",
      "efficient._blocks.4._bn1.bias\n",
      "efficient._blocks.4._bn1.running_mean\n",
      "efficient._blocks.4._bn1.running_var\n",
      "efficient._blocks.4._bn1.num_batches_tracked\n",
      "efficient._blocks.4._se_reduce.weight\n",
      "efficient._blocks.4._se_reduce.bias\n",
      "efficient._blocks.4._se_expand.weight\n",
      "efficient._blocks.4._se_expand.bias\n",
      "efficient._blocks.4._project_conv.weight\n",
      "efficient._blocks.4._bn2.weight\n",
      "efficient._blocks.4._bn2.bias\n",
      "efficient._blocks.4._bn2.running_mean\n",
      "efficient._blocks.4._bn2.running_var\n",
      "efficient._blocks.4._bn2.num_batches_tracked\n",
      "efficient._blocks.5._expand_conv.weight\n",
      "efficient._blocks.5._bn0.weight\n",
      "efficient._blocks.5._bn0.bias\n",
      "efficient._blocks.5._bn0.running_mean\n",
      "efficient._blocks.5._bn0.running_var\n",
      "efficient._blocks.5._bn0.num_batches_tracked\n",
      "efficient._blocks.5._depthwise_conv.weight\n",
      "efficient._blocks.5._bn1.weight\n",
      "efficient._blocks.5._bn1.bias\n",
      "efficient._blocks.5._bn1.running_mean\n",
      "efficient._blocks.5._bn1.running_var\n",
      "efficient._blocks.5._bn1.num_batches_tracked\n",
      "efficient._blocks.5._se_reduce.weight\n",
      "efficient._blocks.5._se_reduce.bias\n",
      "efficient._blocks.5._se_expand.weight\n",
      "efficient._blocks.5._se_expand.bias\n",
      "efficient._blocks.5._project_conv.weight\n",
      "efficient._blocks.5._bn2.weight\n",
      "efficient._blocks.5._bn2.bias\n",
      "efficient._blocks.5._bn2.running_mean\n",
      "efficient._blocks.5._bn2.running_var\n",
      "efficient._blocks.5._bn2.num_batches_tracked\n",
      "efficient._blocks.6._expand_conv.weight\n",
      "efficient._blocks.6._bn0.weight\n",
      "efficient._blocks.6._bn0.bias\n",
      "efficient._blocks.6._bn0.running_mean\n",
      "efficient._blocks.6._bn0.running_var\n",
      "efficient._blocks.6._bn0.num_batches_tracked\n",
      "efficient._blocks.6._depthwise_conv.weight\n",
      "efficient._blocks.6._bn1.weight\n",
      "efficient._blocks.6._bn1.bias\n",
      "efficient._blocks.6._bn1.running_mean\n",
      "efficient._blocks.6._bn1.running_var\n",
      "efficient._blocks.6._bn1.num_batches_tracked\n",
      "efficient._blocks.6._se_reduce.weight\n",
      "efficient._blocks.6._se_reduce.bias\n",
      "efficient._blocks.6._se_expand.weight\n",
      "efficient._blocks.6._se_expand.bias\n",
      "efficient._blocks.6._project_conv.weight\n",
      "efficient._blocks.6._bn2.weight\n",
      "efficient._blocks.6._bn2.bias\n",
      "efficient._blocks.6._bn2.running_mean\n",
      "efficient._blocks.6._bn2.running_var\n",
      "efficient._blocks.6._bn2.num_batches_tracked\n",
      "efficient._blocks.7._expand_conv.weight\n",
      "efficient._blocks.7._bn0.weight\n",
      "efficient._blocks.7._bn0.bias\n",
      "efficient._blocks.7._bn0.running_mean\n",
      "efficient._blocks.7._bn0.running_var\n",
      "efficient._blocks.7._bn0.num_batches_tracked\n",
      "efficient._blocks.7._depthwise_conv.weight\n",
      "efficient._blocks.7._bn1.weight\n",
      "efficient._blocks.7._bn1.bias\n",
      "efficient._blocks.7._bn1.running_mean\n",
      "efficient._blocks.7._bn1.running_var\n",
      "efficient._blocks.7._bn1.num_batches_tracked\n",
      "efficient._blocks.7._se_reduce.weight\n",
      "efficient._blocks.7._se_reduce.bias\n",
      "efficient._blocks.7._se_expand.weight\n",
      "efficient._blocks.7._se_expand.bias\n",
      "efficient._blocks.7._project_conv.weight\n",
      "efficient._blocks.7._bn2.weight\n",
      "efficient._blocks.7._bn2.bias\n",
      "efficient._blocks.7._bn2.running_mean\n",
      "efficient._blocks.7._bn2.running_var\n",
      "efficient._blocks.7._bn2.num_batches_tracked\n",
      "efficient._blocks.8._expand_conv.weight\n",
      "efficient._blocks.8._bn0.weight\n",
      "efficient._blocks.8._bn0.bias\n",
      "efficient._blocks.8._bn0.running_mean\n",
      "efficient._blocks.8._bn0.running_var\n",
      "efficient._blocks.8._bn0.num_batches_tracked\n",
      "efficient._blocks.8._depthwise_conv.weight\n",
      "efficient._blocks.8._bn1.weight\n",
      "efficient._blocks.8._bn1.bias\n",
      "efficient._blocks.8._bn1.running_mean\n",
      "efficient._blocks.8._bn1.running_var\n",
      "efficient._blocks.8._bn1.num_batches_tracked\n",
      "efficient._blocks.8._se_reduce.weight\n",
      "efficient._blocks.8._se_reduce.bias\n",
      "efficient._blocks.8._se_expand.weight\n",
      "efficient._blocks.8._se_expand.bias\n",
      "efficient._blocks.8._project_conv.weight\n",
      "efficient._blocks.8._bn2.weight\n",
      "efficient._blocks.8._bn2.bias\n",
      "efficient._blocks.8._bn2.running_mean\n",
      "efficient._blocks.8._bn2.running_var\n",
      "efficient._blocks.8._bn2.num_batches_tracked\n",
      "efficient._blocks.9._expand_conv.weight\n",
      "efficient._blocks.9._bn0.weight\n",
      "efficient._blocks.9._bn0.bias\n",
      "efficient._blocks.9._bn0.running_mean\n",
      "efficient._blocks.9._bn0.running_var\n",
      "efficient._blocks.9._bn0.num_batches_tracked\n",
      "efficient._blocks.9._depthwise_conv.weight\n",
      "efficient._blocks.9._bn1.weight\n",
      "efficient._blocks.9._bn1.bias\n",
      "efficient._blocks.9._bn1.running_mean\n",
      "efficient._blocks.9._bn1.running_var\n",
      "efficient._blocks.9._bn1.num_batches_tracked\n",
      "efficient._blocks.9._se_reduce.weight\n",
      "efficient._blocks.9._se_reduce.bias\n",
      "efficient._blocks.9._se_expand.weight\n",
      "efficient._blocks.9._se_expand.bias\n",
      "efficient._blocks.9._project_conv.weight\n",
      "efficient._blocks.9._bn2.weight\n",
      "efficient._blocks.9._bn2.bias\n",
      "efficient._blocks.9._bn2.running_mean\n",
      "efficient._blocks.9._bn2.running_var\n",
      "efficient._blocks.9._bn2.num_batches_tracked\n",
      "efficient._blocks.10._expand_conv.weight\n",
      "efficient._blocks.10._bn0.weight\n",
      "efficient._blocks.10._bn0.bias\n",
      "efficient._blocks.10._bn0.running_mean\n",
      "efficient._blocks.10._bn0.running_var\n",
      "efficient._blocks.10._bn0.num_batches_tracked\n",
      "efficient._blocks.10._depthwise_conv.weight\n",
      "efficient._blocks.10._bn1.weight\n",
      "efficient._blocks.10._bn1.bias\n",
      "efficient._blocks.10._bn1.running_mean\n",
      "efficient._blocks.10._bn1.running_var\n",
      "efficient._blocks.10._bn1.num_batches_tracked\n",
      "efficient._blocks.10._se_reduce.weight\n",
      "efficient._blocks.10._se_reduce.bias\n",
      "efficient._blocks.10._se_expand.weight\n",
      "efficient._blocks.10._se_expand.bias\n",
      "efficient._blocks.10._project_conv.weight\n",
      "efficient._blocks.10._bn2.weight\n",
      "efficient._blocks.10._bn2.bias\n",
      "efficient._blocks.10._bn2.running_mean\n",
      "efficient._blocks.10._bn2.running_var\n",
      "efficient._blocks.10._bn2.num_batches_tracked\n",
      "efficient._blocks.11._expand_conv.weight\n",
      "efficient._blocks.11._bn0.weight\n",
      "efficient._blocks.11._bn0.bias\n",
      "efficient._blocks.11._bn0.running_mean\n",
      "efficient._blocks.11._bn0.running_var\n",
      "efficient._blocks.11._bn0.num_batches_tracked\n",
      "efficient._blocks.11._depthwise_conv.weight\n",
      "efficient._blocks.11._bn1.weight\n",
      "efficient._blocks.11._bn1.bias\n",
      "efficient._blocks.11._bn1.running_mean\n",
      "efficient._blocks.11._bn1.running_var\n",
      "efficient._blocks.11._bn1.num_batches_tracked\n",
      "efficient._blocks.11._se_reduce.weight\n",
      "efficient._blocks.11._se_reduce.bias\n",
      "efficient._blocks.11._se_expand.weight\n",
      "efficient._blocks.11._se_expand.bias\n",
      "efficient._blocks.11._project_conv.weight\n",
      "efficient._blocks.11._bn2.weight\n",
      "efficient._blocks.11._bn2.bias\n",
      "efficient._blocks.11._bn2.running_mean\n",
      "efficient._blocks.11._bn2.running_var\n",
      "efficient._blocks.11._bn2.num_batches_tracked\n",
      "efficient._blocks.12._expand_conv.weight\n",
      "efficient._blocks.12._bn0.weight\n",
      "efficient._blocks.12._bn0.bias\n",
      "efficient._blocks.12._bn0.running_mean\n",
      "efficient._blocks.12._bn0.running_var\n",
      "efficient._blocks.12._bn0.num_batches_tracked\n",
      "efficient._blocks.12._depthwise_conv.weight\n",
      "efficient._blocks.12._bn1.weight\n",
      "efficient._blocks.12._bn1.bias\n",
      "efficient._blocks.12._bn1.running_mean\n",
      "efficient._blocks.12._bn1.running_var\n",
      "efficient._blocks.12._bn1.num_batches_tracked\n",
      "efficient._blocks.12._se_reduce.weight\n",
      "efficient._blocks.12._se_reduce.bias\n",
      "efficient._blocks.12._se_expand.weight\n",
      "efficient._blocks.12._se_expand.bias\n",
      "efficient._blocks.12._project_conv.weight\n",
      "efficient._blocks.12._bn2.weight\n",
      "efficient._blocks.12._bn2.bias\n",
      "efficient._blocks.12._bn2.running_mean\n",
      "efficient._blocks.12._bn2.running_var\n",
      "efficient._blocks.12._bn2.num_batches_tracked\n",
      "efficient._blocks.13._expand_conv.weight\n",
      "efficient._blocks.13._bn0.weight\n",
      "efficient._blocks.13._bn0.bias\n",
      "efficient._blocks.13._bn0.running_mean\n",
      "efficient._blocks.13._bn0.running_var\n",
      "efficient._blocks.13._bn0.num_batches_tracked\n",
      "efficient._blocks.13._depthwise_conv.weight\n",
      "efficient._blocks.13._bn1.weight\n",
      "efficient._blocks.13._bn1.bias\n",
      "efficient._blocks.13._bn1.running_mean\n",
      "efficient._blocks.13._bn1.running_var\n",
      "efficient._blocks.13._bn1.num_batches_tracked\n",
      "efficient._blocks.13._se_reduce.weight\n",
      "efficient._blocks.13._se_reduce.bias\n",
      "efficient._blocks.13._se_expand.weight\n",
      "efficient._blocks.13._se_expand.bias\n",
      "efficient._blocks.13._project_conv.weight\n",
      "efficient._blocks.13._bn2.weight\n",
      "efficient._blocks.13._bn2.bias\n",
      "efficient._blocks.13._bn2.running_mean\n",
      "efficient._blocks.13._bn2.running_var\n",
      "efficient._blocks.13._bn2.num_batches_tracked\n",
      "efficient._blocks.14._expand_conv.weight\n",
      "efficient._blocks.14._bn0.weight\n",
      "efficient._blocks.14._bn0.bias\n",
      "efficient._blocks.14._bn0.running_mean\n",
      "efficient._blocks.14._bn0.running_var\n",
      "efficient._blocks.14._bn0.num_batches_tracked\n",
      "efficient._blocks.14._depthwise_conv.weight\n",
      "efficient._blocks.14._bn1.weight\n",
      "efficient._blocks.14._bn1.bias\n",
      "efficient._blocks.14._bn1.running_mean\n",
      "efficient._blocks.14._bn1.running_var\n",
      "efficient._blocks.14._bn1.num_batches_tracked\n",
      "efficient._blocks.14._se_reduce.weight\n",
      "efficient._blocks.14._se_reduce.bias\n",
      "efficient._blocks.14._se_expand.weight\n",
      "efficient._blocks.14._se_expand.bias\n",
      "efficient._blocks.14._project_conv.weight\n",
      "efficient._blocks.14._bn2.weight\n",
      "efficient._blocks.14._bn2.bias\n",
      "efficient._blocks.14._bn2.running_mean\n",
      "efficient._blocks.14._bn2.running_var\n",
      "efficient._blocks.14._bn2.num_batches_tracked\n",
      "efficient._blocks.15._expand_conv.weight\n",
      "efficient._blocks.15._bn0.weight\n",
      "efficient._blocks.15._bn0.bias\n",
      "efficient._blocks.15._bn0.running_mean\n",
      "efficient._blocks.15._bn0.running_var\n",
      "efficient._blocks.15._bn0.num_batches_tracked\n",
      "efficient._blocks.15._depthwise_conv.weight\n",
      "efficient._blocks.15._bn1.weight\n",
      "efficient._blocks.15._bn1.bias\n",
      "efficient._blocks.15._bn1.running_mean\n",
      "efficient._blocks.15._bn1.running_var\n",
      "efficient._blocks.15._bn1.num_batches_tracked\n",
      "efficient._blocks.15._se_reduce.weight\n",
      "efficient._blocks.15._se_reduce.bias\n",
      "efficient._blocks.15._se_expand.weight\n",
      "efficient._blocks.15._se_expand.bias\n",
      "efficient._blocks.15._project_conv.weight\n",
      "efficient._blocks.15._bn2.weight\n",
      "efficient._blocks.15._bn2.bias\n",
      "efficient._blocks.15._bn2.running_mean\n",
      "efficient._blocks.15._bn2.running_var\n",
      "efficient._blocks.15._bn2.num_batches_tracked\n",
      "efficient._conv_head.weight\n",
      "efficient._bn1.weight\n",
      "efficient._bn1.bias\n",
      "efficient._bn1.running_mean\n",
      "efficient._bn1.running_var\n",
      "efficient._bn1.num_batches_tracked\n",
      "efficient._fc.weight\n",
      "efficient._fc.bias\n",
      "scores_head.0.weight\n",
      "scores_head.0.bias\n",
      "scores_head.2.weight\n",
      "scores_head.2.bias\n"
     ]
    }
   ],
   "source": [
    "for k in pretrained_dict:\n",
    "    print(k)"
   ]
  },
  {
   "cell_type": "code",
   "execution_count": 22,
   "metadata": {},
   "outputs": [],
   "source": [
    "intersect_dict = {}\n",
    "for k in model_dict:\n",
    "    cor_name = \"efficient.\" + k\n",
    "    if k == \"_fc.weight\" or k == \"_fc.bias\":\n",
    "        continue\n",
    "    if cor_name in pretrained_dict:\n",
    "        intersect_dict[k] = pretrained_dict[cor_name]"
   ]
  },
  {
   "cell_type": "code",
   "execution_count": 23,
   "metadata": {
    "scrolled": true
   },
   "outputs": [
    {
     "name": "stdout",
     "output_type": "stream",
     "text": [
      "_conv_stem.weight\n",
      "_bn0.weight\n",
      "_bn0.bias\n",
      "_bn0.running_mean\n",
      "_bn0.running_var\n",
      "_bn0.num_batches_tracked\n",
      "_blocks.0._depthwise_conv.weight\n",
      "_blocks.0._bn1.weight\n",
      "_blocks.0._bn1.bias\n",
      "_blocks.0._bn1.running_mean\n",
      "_blocks.0._bn1.running_var\n",
      "_blocks.0._bn1.num_batches_tracked\n",
      "_blocks.0._se_reduce.weight\n",
      "_blocks.0._se_reduce.bias\n",
      "_blocks.0._se_expand.weight\n",
      "_blocks.0._se_expand.bias\n",
      "_blocks.0._project_conv.weight\n",
      "_blocks.0._bn2.weight\n",
      "_blocks.0._bn2.bias\n",
      "_blocks.0._bn2.running_mean\n",
      "_blocks.0._bn2.running_var\n",
      "_blocks.0._bn2.num_batches_tracked\n",
      "_blocks.1._expand_conv.weight\n",
      "_blocks.1._bn0.weight\n",
      "_blocks.1._bn0.bias\n",
      "_blocks.1._bn0.running_mean\n",
      "_blocks.1._bn0.running_var\n",
      "_blocks.1._bn0.num_batches_tracked\n",
      "_blocks.1._depthwise_conv.weight\n",
      "_blocks.1._bn1.weight\n",
      "_blocks.1._bn1.bias\n",
      "_blocks.1._bn1.running_mean\n",
      "_blocks.1._bn1.running_var\n",
      "_blocks.1._bn1.num_batches_tracked\n",
      "_blocks.1._se_reduce.weight\n",
      "_blocks.1._se_reduce.bias\n",
      "_blocks.1._se_expand.weight\n",
      "_blocks.1._se_expand.bias\n",
      "_blocks.1._project_conv.weight\n",
      "_blocks.1._bn2.weight\n",
      "_blocks.1._bn2.bias\n",
      "_blocks.1._bn2.running_mean\n",
      "_blocks.1._bn2.running_var\n",
      "_blocks.1._bn2.num_batches_tracked\n",
      "_blocks.2._expand_conv.weight\n",
      "_blocks.2._bn0.weight\n",
      "_blocks.2._bn0.bias\n",
      "_blocks.2._bn0.running_mean\n",
      "_blocks.2._bn0.running_var\n",
      "_blocks.2._bn0.num_batches_tracked\n",
      "_blocks.2._depthwise_conv.weight\n",
      "_blocks.2._bn1.weight\n",
      "_blocks.2._bn1.bias\n",
      "_blocks.2._bn1.running_mean\n",
      "_blocks.2._bn1.running_var\n",
      "_blocks.2._bn1.num_batches_tracked\n",
      "_blocks.2._se_reduce.weight\n",
      "_blocks.2._se_reduce.bias\n",
      "_blocks.2._se_expand.weight\n",
      "_blocks.2._se_expand.bias\n",
      "_blocks.2._project_conv.weight\n",
      "_blocks.2._bn2.weight\n",
      "_blocks.2._bn2.bias\n",
      "_blocks.2._bn2.running_mean\n",
      "_blocks.2._bn2.running_var\n",
      "_blocks.2._bn2.num_batches_tracked\n",
      "_blocks.3._expand_conv.weight\n",
      "_blocks.3._bn0.weight\n",
      "_blocks.3._bn0.bias\n",
      "_blocks.3._bn0.running_mean\n",
      "_blocks.3._bn0.running_var\n",
      "_blocks.3._bn0.num_batches_tracked\n",
      "_blocks.3._depthwise_conv.weight\n",
      "_blocks.3._bn1.weight\n",
      "_blocks.3._bn1.bias\n",
      "_blocks.3._bn1.running_mean\n",
      "_blocks.3._bn1.running_var\n",
      "_blocks.3._bn1.num_batches_tracked\n",
      "_blocks.3._se_reduce.weight\n",
      "_blocks.3._se_reduce.bias\n",
      "_blocks.3._se_expand.weight\n",
      "_blocks.3._se_expand.bias\n",
      "_blocks.3._project_conv.weight\n",
      "_blocks.3._bn2.weight\n",
      "_blocks.3._bn2.bias\n",
      "_blocks.3._bn2.running_mean\n",
      "_blocks.3._bn2.running_var\n",
      "_blocks.3._bn2.num_batches_tracked\n",
      "_blocks.4._expand_conv.weight\n",
      "_blocks.4._bn0.weight\n",
      "_blocks.4._bn0.bias\n",
      "_blocks.4._bn0.running_mean\n",
      "_blocks.4._bn0.running_var\n",
      "_blocks.4._bn0.num_batches_tracked\n",
      "_blocks.4._depthwise_conv.weight\n",
      "_blocks.4._bn1.weight\n",
      "_blocks.4._bn1.bias\n",
      "_blocks.4._bn1.running_mean\n",
      "_blocks.4._bn1.running_var\n",
      "_blocks.4._bn1.num_batches_tracked\n",
      "_blocks.4._se_reduce.weight\n",
      "_blocks.4._se_reduce.bias\n",
      "_blocks.4._se_expand.weight\n",
      "_blocks.4._se_expand.bias\n",
      "_blocks.4._project_conv.weight\n",
      "_blocks.4._bn2.weight\n",
      "_blocks.4._bn2.bias\n",
      "_blocks.4._bn2.running_mean\n",
      "_blocks.4._bn2.running_var\n",
      "_blocks.4._bn2.num_batches_tracked\n",
      "_blocks.5._expand_conv.weight\n",
      "_blocks.5._bn0.weight\n",
      "_blocks.5._bn0.bias\n",
      "_blocks.5._bn0.running_mean\n",
      "_blocks.5._bn0.running_var\n",
      "_blocks.5._bn0.num_batches_tracked\n",
      "_blocks.5._depthwise_conv.weight\n",
      "_blocks.5._bn1.weight\n",
      "_blocks.5._bn1.bias\n",
      "_blocks.5._bn1.running_mean\n",
      "_blocks.5._bn1.running_var\n",
      "_blocks.5._bn1.num_batches_tracked\n",
      "_blocks.5._se_reduce.weight\n",
      "_blocks.5._se_reduce.bias\n",
      "_blocks.5._se_expand.weight\n",
      "_blocks.5._se_expand.bias\n",
      "_blocks.5._project_conv.weight\n",
      "_blocks.5._bn2.weight\n",
      "_blocks.5._bn2.bias\n",
      "_blocks.5._bn2.running_mean\n",
      "_blocks.5._bn2.running_var\n",
      "_blocks.5._bn2.num_batches_tracked\n",
      "_blocks.6._expand_conv.weight\n",
      "_blocks.6._bn0.weight\n",
      "_blocks.6._bn0.bias\n",
      "_blocks.6._bn0.running_mean\n",
      "_blocks.6._bn0.running_var\n",
      "_blocks.6._bn0.num_batches_tracked\n",
      "_blocks.6._depthwise_conv.weight\n",
      "_blocks.6._bn1.weight\n",
      "_blocks.6._bn1.bias\n",
      "_blocks.6._bn1.running_mean\n",
      "_blocks.6._bn1.running_var\n",
      "_blocks.6._bn1.num_batches_tracked\n",
      "_blocks.6._se_reduce.weight\n",
      "_blocks.6._se_reduce.bias\n",
      "_blocks.6._se_expand.weight\n",
      "_blocks.6._se_expand.bias\n",
      "_blocks.6._project_conv.weight\n",
      "_blocks.6._bn2.weight\n",
      "_blocks.6._bn2.bias\n",
      "_blocks.6._bn2.running_mean\n",
      "_blocks.6._bn2.running_var\n",
      "_blocks.6._bn2.num_batches_tracked\n",
      "_blocks.7._expand_conv.weight\n",
      "_blocks.7._bn0.weight\n",
      "_blocks.7._bn0.bias\n",
      "_blocks.7._bn0.running_mean\n",
      "_blocks.7._bn0.running_var\n",
      "_blocks.7._bn0.num_batches_tracked\n",
      "_blocks.7._depthwise_conv.weight\n",
      "_blocks.7._bn1.weight\n",
      "_blocks.7._bn1.bias\n",
      "_blocks.7._bn1.running_mean\n",
      "_blocks.7._bn1.running_var\n",
      "_blocks.7._bn1.num_batches_tracked\n",
      "_blocks.7._se_reduce.weight\n",
      "_blocks.7._se_reduce.bias\n",
      "_blocks.7._se_expand.weight\n",
      "_blocks.7._se_expand.bias\n",
      "_blocks.7._project_conv.weight\n",
      "_blocks.7._bn2.weight\n",
      "_blocks.7._bn2.bias\n",
      "_blocks.7._bn2.running_mean\n",
      "_blocks.7._bn2.running_var\n",
      "_blocks.7._bn2.num_batches_tracked\n",
      "_blocks.8._expand_conv.weight\n",
      "_blocks.8._bn0.weight\n",
      "_blocks.8._bn0.bias\n",
      "_blocks.8._bn0.running_mean\n",
      "_blocks.8._bn0.running_var\n",
      "_blocks.8._bn0.num_batches_tracked\n",
      "_blocks.8._depthwise_conv.weight\n",
      "_blocks.8._bn1.weight\n",
      "_blocks.8._bn1.bias\n",
      "_blocks.8._bn1.running_mean\n",
      "_blocks.8._bn1.running_var\n",
      "_blocks.8._bn1.num_batches_tracked\n",
      "_blocks.8._se_reduce.weight\n",
      "_blocks.8._se_reduce.bias\n",
      "_blocks.8._se_expand.weight\n",
      "_blocks.8._se_expand.bias\n",
      "_blocks.8._project_conv.weight\n",
      "_blocks.8._bn2.weight\n",
      "_blocks.8._bn2.bias\n",
      "_blocks.8._bn2.running_mean\n",
      "_blocks.8._bn2.running_var\n",
      "_blocks.8._bn2.num_batches_tracked\n",
      "_blocks.9._expand_conv.weight\n",
      "_blocks.9._bn0.weight\n",
      "_blocks.9._bn0.bias\n",
      "_blocks.9._bn0.running_mean\n",
      "_blocks.9._bn0.running_var\n",
      "_blocks.9._bn0.num_batches_tracked\n",
      "_blocks.9._depthwise_conv.weight\n",
      "_blocks.9._bn1.weight\n",
      "_blocks.9._bn1.bias\n",
      "_blocks.9._bn1.running_mean\n",
      "_blocks.9._bn1.running_var\n",
      "_blocks.9._bn1.num_batches_tracked\n",
      "_blocks.9._se_reduce.weight\n",
      "_blocks.9._se_reduce.bias\n",
      "_blocks.9._se_expand.weight\n",
      "_blocks.9._se_expand.bias\n",
      "_blocks.9._project_conv.weight\n",
      "_blocks.9._bn2.weight\n",
      "_blocks.9._bn2.bias\n",
      "_blocks.9._bn2.running_mean\n",
      "_blocks.9._bn2.running_var\n",
      "_blocks.9._bn2.num_batches_tracked\n",
      "_blocks.10._expand_conv.weight\n",
      "_blocks.10._bn0.weight\n",
      "_blocks.10._bn0.bias\n",
      "_blocks.10._bn0.running_mean\n",
      "_blocks.10._bn0.running_var\n",
      "_blocks.10._bn0.num_batches_tracked\n",
      "_blocks.10._depthwise_conv.weight\n",
      "_blocks.10._bn1.weight\n",
      "_blocks.10._bn1.bias\n",
      "_blocks.10._bn1.running_mean\n",
      "_blocks.10._bn1.running_var\n",
      "_blocks.10._bn1.num_batches_tracked\n",
      "_blocks.10._se_reduce.weight\n",
      "_blocks.10._se_reduce.bias\n",
      "_blocks.10._se_expand.weight\n",
      "_blocks.10._se_expand.bias\n",
      "_blocks.10._project_conv.weight\n",
      "_blocks.10._bn2.weight\n",
      "_blocks.10._bn2.bias\n",
      "_blocks.10._bn2.running_mean\n",
      "_blocks.10._bn2.running_var\n",
      "_blocks.10._bn2.num_batches_tracked\n",
      "_blocks.11._expand_conv.weight\n",
      "_blocks.11._bn0.weight\n",
      "_blocks.11._bn0.bias\n",
      "_blocks.11._bn0.running_mean\n",
      "_blocks.11._bn0.running_var\n",
      "_blocks.11._bn0.num_batches_tracked\n",
      "_blocks.11._depthwise_conv.weight\n",
      "_blocks.11._bn1.weight\n",
      "_blocks.11._bn1.bias\n",
      "_blocks.11._bn1.running_mean\n",
      "_blocks.11._bn1.running_var\n",
      "_blocks.11._bn1.num_batches_tracked\n",
      "_blocks.11._se_reduce.weight\n",
      "_blocks.11._se_reduce.bias\n",
      "_blocks.11._se_expand.weight\n",
      "_blocks.11._se_expand.bias\n",
      "_blocks.11._project_conv.weight\n",
      "_blocks.11._bn2.weight\n",
      "_blocks.11._bn2.bias\n",
      "_blocks.11._bn2.running_mean\n",
      "_blocks.11._bn2.running_var\n",
      "_blocks.11._bn2.num_batches_tracked\n",
      "_blocks.12._expand_conv.weight\n",
      "_blocks.12._bn0.weight\n",
      "_blocks.12._bn0.bias\n",
      "_blocks.12._bn0.running_mean\n",
      "_blocks.12._bn0.running_var\n",
      "_blocks.12._bn0.num_batches_tracked\n",
      "_blocks.12._depthwise_conv.weight\n",
      "_blocks.12._bn1.weight\n",
      "_blocks.12._bn1.bias\n",
      "_blocks.12._bn1.running_mean\n",
      "_blocks.12._bn1.running_var\n",
      "_blocks.12._bn1.num_batches_tracked\n",
      "_blocks.12._se_reduce.weight\n",
      "_blocks.12._se_reduce.bias\n",
      "_blocks.12._se_expand.weight\n",
      "_blocks.12._se_expand.bias\n",
      "_blocks.12._project_conv.weight\n",
      "_blocks.12._bn2.weight\n",
      "_blocks.12._bn2.bias\n",
      "_blocks.12._bn2.running_mean\n",
      "_blocks.12._bn2.running_var\n",
      "_blocks.12._bn2.num_batches_tracked\n",
      "_blocks.13._expand_conv.weight\n",
      "_blocks.13._bn0.weight\n",
      "_blocks.13._bn0.bias\n",
      "_blocks.13._bn0.running_mean\n",
      "_blocks.13._bn0.running_var\n",
      "_blocks.13._bn0.num_batches_tracked\n",
      "_blocks.13._depthwise_conv.weight\n",
      "_blocks.13._bn1.weight\n",
      "_blocks.13._bn1.bias\n",
      "_blocks.13._bn1.running_mean\n",
      "_blocks.13._bn1.running_var\n",
      "_blocks.13._bn1.num_batches_tracked\n",
      "_blocks.13._se_reduce.weight\n",
      "_blocks.13._se_reduce.bias\n",
      "_blocks.13._se_expand.weight\n",
      "_blocks.13._se_expand.bias\n",
      "_blocks.13._project_conv.weight\n",
      "_blocks.13._bn2.weight\n",
      "_blocks.13._bn2.bias\n",
      "_blocks.13._bn2.running_mean\n",
      "_blocks.13._bn2.running_var\n",
      "_blocks.13._bn2.num_batches_tracked\n",
      "_blocks.14._expand_conv.weight\n",
      "_blocks.14._bn0.weight\n",
      "_blocks.14._bn0.bias\n",
      "_blocks.14._bn0.running_mean\n",
      "_blocks.14._bn0.running_var\n",
      "_blocks.14._bn0.num_batches_tracked\n",
      "_blocks.14._depthwise_conv.weight\n",
      "_blocks.14._bn1.weight\n",
      "_blocks.14._bn1.bias\n",
      "_blocks.14._bn1.running_mean\n",
      "_blocks.14._bn1.running_var\n",
      "_blocks.14._bn1.num_batches_tracked\n",
      "_blocks.14._se_reduce.weight\n",
      "_blocks.14._se_reduce.bias\n",
      "_blocks.14._se_expand.weight\n",
      "_blocks.14._se_expand.bias\n",
      "_blocks.14._project_conv.weight\n",
      "_blocks.14._bn2.weight\n",
      "_blocks.14._bn2.bias\n",
      "_blocks.14._bn2.running_mean\n",
      "_blocks.14._bn2.running_var\n",
      "_blocks.14._bn2.num_batches_tracked\n",
      "_blocks.15._expand_conv.weight\n",
      "_blocks.15._bn0.weight\n",
      "_blocks.15._bn0.bias\n",
      "_blocks.15._bn0.running_mean\n",
      "_blocks.15._bn0.running_var\n",
      "_blocks.15._bn0.num_batches_tracked\n",
      "_blocks.15._depthwise_conv.weight\n",
      "_blocks.15._bn1.weight\n",
      "_blocks.15._bn1.bias\n",
      "_blocks.15._bn1.running_mean\n",
      "_blocks.15._bn1.running_var\n",
      "_blocks.15._bn1.num_batches_tracked\n",
      "_blocks.15._se_reduce.weight\n",
      "_blocks.15._se_reduce.bias\n",
      "_blocks.15._se_expand.weight\n",
      "_blocks.15._se_expand.bias\n",
      "_blocks.15._project_conv.weight\n",
      "_blocks.15._bn2.weight\n",
      "_blocks.15._bn2.bias\n",
      "_blocks.15._bn2.running_mean\n",
      "_blocks.15._bn2.running_var\n",
      "_blocks.15._bn2.num_batches_tracked\n",
      "_conv_head.weight\n",
      "_bn1.weight\n",
      "_bn1.bias\n",
      "_bn1.running_mean\n",
      "_bn1.running_var\n",
      "_bn1.num_batches_tracked\n"
     ]
    }
   ],
   "source": [
    "for k in intersect_dict:\n",
    "    print(k)"
   ]
  },
  {
   "cell_type": "code",
   "execution_count": 24,
   "metadata": {
    "scrolled": true
   },
   "outputs": [
    {
     "data": {
      "text/plain": [
       "<All keys matched successfully>"
      ]
     },
     "execution_count": 24,
     "metadata": {},
     "output_type": "execute_result"
    }
   ],
   "source": [
    "# 2. overwrite entries in the existing state dict\n",
    "model_dict.update(intersect_dict) \n",
    "# 3. load the new state dict\n",
    "model.load_state_dict(model_dict)"
   ]
  },
  {
   "cell_type": "code",
   "execution_count": 25,
   "metadata": {},
   "outputs": [],
   "source": [
    "# del intersect_dict\n",
    "del pretrained_dict"
   ]
  },
  {
   "cell_type": "code",
   "execution_count": 26,
   "metadata": {},
   "outputs": [],
   "source": [
    "if torch.cuda.is_available() and USE_CUDA:\n",
    "    model = model.cuda()"
   ]
  },
  {
   "cell_type": "code",
   "execution_count": 27,
   "metadata": {},
   "outputs": [],
   "source": [
    "loss_fun = nn.CrossEntropyLoss()\n",
    "optimizer = torch.optim.Adam(model.parameters(), lr=0.001)"
   ]
  },
  {
   "cell_type": "code",
   "execution_count": 28,
   "metadata": {},
   "outputs": [],
   "source": [
    "epoches = 100"
   ]
  },
  {
   "cell_type": "code",
   "execution_count": null,
   "metadata": {
    "scrolled": true
   },
   "outputs": [
    {
     "data": {
      "application/vnd.jupyter.widget-view+json": {
       "model_id": "4f16ac7d8b504d7d87fd9da949fcf6ce",
       "version_major": 2,
       "version_minor": 0
      },
      "text/plain": [
       "HBox(children=(HTML(value=''), FloatProgress(value=0.0, max=85.0), HTML(value='')))"
      ]
     },
     "metadata": {},
     "output_type": "display_data"
    },
    {
     "name": "stdout",
     "output_type": "stream",
     "text": [
      "\n"
     ]
    },
    {
     "data": {
      "application/vnd.jupyter.widget-view+json": {
       "model_id": "0878c818f88a481483540603ce669b05",
       "version_major": 2,
       "version_minor": 0
      },
      "text/plain": [
       "HBox(children=(HTML(value=''), FloatProgress(value=0.0, max=22.0), HTML(value='')))"
      ]
     },
     "metadata": {},
     "output_type": "display_data"
    },
    {
     "name": "stdout",
     "output_type": "stream",
     "text": [
      "\n",
      "epoch: 0, avg train loss 2.7383, avg test acc 0.1364\n"
     ]
    },
    {
     "data": {
      "application/vnd.jupyter.widget-view+json": {
       "model_id": "f852cfec45784239aaaffecae9193414",
       "version_major": 2,
       "version_minor": 0
      },
      "text/plain": [
       "HBox(children=(HTML(value=''), FloatProgress(value=0.0, max=85.0), HTML(value='')))"
      ]
     },
     "metadata": {},
     "output_type": "display_data"
    },
    {
     "name": "stdout",
     "output_type": "stream",
     "text": [
      "\n"
     ]
    },
    {
     "data": {
      "application/vnd.jupyter.widget-view+json": {
       "model_id": "05f875eec7464c6180507b175285f3a3",
       "version_major": 2,
       "version_minor": 0
      },
      "text/plain": [
       "HBox(children=(HTML(value=''), FloatProgress(value=0.0, max=22.0), HTML(value='')))"
      ]
     },
     "metadata": {},
     "output_type": "display_data"
    },
    {
     "name": "stdout",
     "output_type": "stream",
     "text": [
      "\n",
      "epoch: 1, avg train loss 2.5726, avg test acc 0.0739\n"
     ]
    },
    {
     "data": {
      "application/vnd.jupyter.widget-view+json": {
       "model_id": "0cddaed033f44b39bc0a01d789ff81f6",
       "version_major": 2,
       "version_minor": 0
      },
      "text/plain": [
       "HBox(children=(HTML(value=''), FloatProgress(value=0.0, max=85.0), HTML(value='')))"
      ]
     },
     "metadata": {},
     "output_type": "display_data"
    },
    {
     "name": "stdout",
     "output_type": "stream",
     "text": [
      "\n"
     ]
    },
    {
     "data": {
      "application/vnd.jupyter.widget-view+json": {
       "model_id": "f9b61f7ce42c496b805f27a2e774b61b",
       "version_major": 2,
       "version_minor": 0
      },
      "text/plain": [
       "HBox(children=(HTML(value=''), FloatProgress(value=0.0, max=22.0), HTML(value='')))"
      ]
     },
     "metadata": {},
     "output_type": "display_data"
    },
    {
     "name": "stdout",
     "output_type": "stream",
     "text": [
      "\n",
      "epoch: 2, avg train loss 2.5725, avg test acc 0.1761\n"
     ]
    },
    {
     "data": {
      "application/vnd.jupyter.widget-view+json": {
       "model_id": "b77d24702d814696ab458756171bd25e",
       "version_major": 2,
       "version_minor": 0
      },
      "text/plain": [
       "HBox(children=(HTML(value=''), FloatProgress(value=0.0, max=85.0), HTML(value='')))"
      ]
     },
     "metadata": {},
     "output_type": "display_data"
    },
    {
     "name": "stdout",
     "output_type": "stream",
     "text": [
      "\n"
     ]
    },
    {
     "data": {
      "application/vnd.jupyter.widget-view+json": {
       "model_id": "be041806525a44faada5439fad569674",
       "version_major": 2,
       "version_minor": 0
      },
      "text/plain": [
       "HBox(children=(HTML(value=''), FloatProgress(value=0.0, max=22.0), HTML(value='')))"
      ]
     },
     "metadata": {},
     "output_type": "display_data"
    },
    {
     "name": "stdout",
     "output_type": "stream",
     "text": [
      "\n",
      "epoch: 3, avg train loss 2.4847, avg test acc 0.1989\n"
     ]
    },
    {
     "data": {
      "application/vnd.jupyter.widget-view+json": {
       "model_id": "0c1c617ebd5f4f0eb6acdfbc63d36eb7",
       "version_major": 2,
       "version_minor": 0
      },
      "text/plain": [
       "HBox(children=(HTML(value=''), FloatProgress(value=0.0, max=85.0), HTML(value='')))"
      ]
     },
     "metadata": {},
     "output_type": "display_data"
    },
    {
     "name": "stdout",
     "output_type": "stream",
     "text": [
      "\n"
     ]
    },
    {
     "data": {
      "application/vnd.jupyter.widget-view+json": {
       "model_id": "0b7fb8812c444e768d27c01782f6b033",
       "version_major": 2,
       "version_minor": 0
      },
      "text/plain": [
       "HBox(children=(HTML(value=''), FloatProgress(value=0.0, max=22.0), HTML(value='')))"
      ]
     },
     "metadata": {},
     "output_type": "display_data"
    },
    {
     "name": "stdout",
     "output_type": "stream",
     "text": [
      "\n",
      "epoch: 4, avg train loss 2.3921, avg test acc 0.1307\n"
     ]
    },
    {
     "data": {
      "application/vnd.jupyter.widget-view+json": {
       "model_id": "c68a419d3cb349fdba921ba5dfde0e6c",
       "version_major": 2,
       "version_minor": 0
      },
      "text/plain": [
       "HBox(children=(HTML(value=''), FloatProgress(value=0.0, max=85.0), HTML(value='')))"
      ]
     },
     "metadata": {},
     "output_type": "display_data"
    },
    {
     "name": "stdout",
     "output_type": "stream",
     "text": [
      "\n"
     ]
    },
    {
     "data": {
      "application/vnd.jupyter.widget-view+json": {
       "model_id": "7de7939a45ec4b69b1e402c9f5acf5bc",
       "version_major": 2,
       "version_minor": 0
      },
      "text/plain": [
       "HBox(children=(HTML(value=''), FloatProgress(value=0.0, max=22.0), HTML(value='')))"
      ]
     },
     "metadata": {},
     "output_type": "display_data"
    },
    {
     "name": "stdout",
     "output_type": "stream",
     "text": [
      "\n",
      "epoch: 5, avg train loss 2.3446, avg test acc 0.0852\n"
     ]
    },
    {
     "data": {
      "application/vnd.jupyter.widget-view+json": {
       "model_id": "4b691334cbff4e7dbd0485c706c1553a",
       "version_major": 2,
       "version_minor": 0
      },
      "text/plain": [
       "HBox(children=(HTML(value=''), FloatProgress(value=0.0, max=85.0), HTML(value='')))"
      ]
     },
     "metadata": {},
     "output_type": "display_data"
    },
    {
     "name": "stdout",
     "output_type": "stream",
     "text": [
      "\n"
     ]
    },
    {
     "data": {
      "application/vnd.jupyter.widget-view+json": {
       "model_id": "38640c44878e40dc9cbba672ec153d3d",
       "version_major": 2,
       "version_minor": 0
      },
      "text/plain": [
       "HBox(children=(HTML(value=''), FloatProgress(value=0.0, max=22.0), HTML(value='')))"
      ]
     },
     "metadata": {},
     "output_type": "display_data"
    },
    {
     "name": "stdout",
     "output_type": "stream",
     "text": [
      "\n",
      "epoch: 6, avg train loss 2.2844, avg test acc 0.1420\n"
     ]
    },
    {
     "data": {
      "application/vnd.jupyter.widget-view+json": {
       "model_id": "11e1da04437941f685a8a8fc8711a701",
       "version_major": 2,
       "version_minor": 0
      },
      "text/plain": [
       "HBox(children=(HTML(value=''), FloatProgress(value=0.0, max=85.0), HTML(value='')))"
      ]
     },
     "metadata": {},
     "output_type": "display_data"
    },
    {
     "name": "stdout",
     "output_type": "stream",
     "text": [
      "\n"
     ]
    },
    {
     "data": {
      "application/vnd.jupyter.widget-view+json": {
       "model_id": "f958d476829c4bbf8c38282bf37d2fef",
       "version_major": 2,
       "version_minor": 0
      },
      "text/plain": [
       "HBox(children=(HTML(value=''), FloatProgress(value=0.0, max=22.0), HTML(value='')))"
      ]
     },
     "metadata": {},
     "output_type": "display_data"
    },
    {
     "name": "stdout",
     "output_type": "stream",
     "text": [
      "\n",
      "epoch: 7, avg train loss 2.2585, avg test acc 0.1818\n"
     ]
    },
    {
     "data": {
      "application/vnd.jupyter.widget-view+json": {
       "model_id": "ac422c140f9040b48a0802314f5d1dfa",
       "version_major": 2,
       "version_minor": 0
      },
      "text/plain": [
       "HBox(children=(HTML(value=''), FloatProgress(value=0.0, max=85.0), HTML(value='')))"
      ]
     },
     "metadata": {},
     "output_type": "display_data"
    },
    {
     "name": "stdout",
     "output_type": "stream",
     "text": [
      "\n"
     ]
    },
    {
     "data": {
      "application/vnd.jupyter.widget-view+json": {
       "model_id": "3451c559bc78480ca7df721a6f5df10b",
       "version_major": 2,
       "version_minor": 0
      },
      "text/plain": [
       "HBox(children=(HTML(value=''), FloatProgress(value=0.0, max=22.0), HTML(value='')))"
      ]
     },
     "metadata": {},
     "output_type": "display_data"
    },
    {
     "name": "stdout",
     "output_type": "stream",
     "text": [
      "\n",
      "epoch: 8, avg train loss 2.2801, avg test acc 0.2330\n"
     ]
    },
    {
     "data": {
      "application/vnd.jupyter.widget-view+json": {
       "model_id": "359ec456a439499c8ec5ea628da6aa4d",
       "version_major": 2,
       "version_minor": 0
      },
      "text/plain": [
       "HBox(children=(HTML(value=''), FloatProgress(value=0.0, max=85.0), HTML(value='')))"
      ]
     },
     "metadata": {},
     "output_type": "display_data"
    },
    {
     "name": "stdout",
     "output_type": "stream",
     "text": [
      "\n"
     ]
    },
    {
     "data": {
      "application/vnd.jupyter.widget-view+json": {
       "model_id": "0503d5618d724180a444b1c061d91405",
       "version_major": 2,
       "version_minor": 0
      },
      "text/plain": [
       "HBox(children=(HTML(value=''), FloatProgress(value=0.0, max=22.0), HTML(value='')))"
      ]
     },
     "metadata": {},
     "output_type": "display_data"
    },
    {
     "name": "stdout",
     "output_type": "stream",
     "text": [
      "\n",
      "epoch: 9, avg train loss 2.2218, avg test acc 0.2784\n"
     ]
    },
    {
     "data": {
      "application/vnd.jupyter.widget-view+json": {
       "model_id": "d6332ce3ac1a4558849c36ee76dbd537",
       "version_major": 2,
       "version_minor": 0
      },
      "text/plain": [
       "HBox(children=(HTML(value=''), FloatProgress(value=0.0, max=85.0), HTML(value='')))"
      ]
     },
     "metadata": {},
     "output_type": "display_data"
    },
    {
     "name": "stdout",
     "output_type": "stream",
     "text": [
      "\n"
     ]
    },
    {
     "data": {
      "application/vnd.jupyter.widget-view+json": {
       "model_id": "09b135b5aaa94b00ab9e733faa46349b",
       "version_major": 2,
       "version_minor": 0
      },
      "text/plain": [
       "HBox(children=(HTML(value=''), FloatProgress(value=0.0, max=22.0), HTML(value='')))"
      ]
     },
     "metadata": {},
     "output_type": "display_data"
    },
    {
     "name": "stdout",
     "output_type": "stream",
     "text": [
      "\n",
      "epoch: 10, avg train loss 2.1661, avg test acc 0.2955\n"
     ]
    },
    {
     "data": {
      "application/vnd.jupyter.widget-view+json": {
       "model_id": "b7aa1388431e4e0e9d029b7dbda456e6",
       "version_major": 2,
       "version_minor": 0
      },
      "text/plain": [
       "HBox(children=(HTML(value=''), FloatProgress(value=0.0, max=85.0), HTML(value='')))"
      ]
     },
     "metadata": {},
     "output_type": "display_data"
    },
    {
     "name": "stdout",
     "output_type": "stream",
     "text": [
      "\n"
     ]
    },
    {
     "data": {
      "application/vnd.jupyter.widget-view+json": {
       "model_id": "d2cf4976235745d297cfe71e8afe9151",
       "version_major": 2,
       "version_minor": 0
      },
      "text/plain": [
       "HBox(children=(HTML(value=''), FloatProgress(value=0.0, max=22.0), HTML(value='')))"
      ]
     },
     "metadata": {},
     "output_type": "display_data"
    },
    {
     "name": "stdout",
     "output_type": "stream",
     "text": [
      "\n",
      "epoch: 11, avg train loss 2.1544, avg test acc 0.1989\n"
     ]
    },
    {
     "data": {
      "application/vnd.jupyter.widget-view+json": {
       "model_id": "1e0695b0dbf4426287ef33951e93fc11",
       "version_major": 2,
       "version_minor": 0
      },
      "text/plain": [
       "HBox(children=(HTML(value=''), FloatProgress(value=0.0, max=85.0), HTML(value='')))"
      ]
     },
     "metadata": {},
     "output_type": "display_data"
    },
    {
     "name": "stdout",
     "output_type": "stream",
     "text": [
      "\n"
     ]
    },
    {
     "data": {
      "application/vnd.jupyter.widget-view+json": {
       "model_id": "c734069c0697481799417b4f29f83073",
       "version_major": 2,
       "version_minor": 0
      },
      "text/plain": [
       "HBox(children=(HTML(value=''), FloatProgress(value=0.0, max=22.0), HTML(value='')))"
      ]
     },
     "metadata": {},
     "output_type": "display_data"
    },
    {
     "name": "stdout",
     "output_type": "stream",
     "text": [
      "\n",
      "epoch: 12, avg train loss 2.0782, avg test acc 0.2443\n"
     ]
    },
    {
     "data": {
      "application/vnd.jupyter.widget-view+json": {
       "model_id": "a124a098a105423392ef01ba0454fe5b",
       "version_major": 2,
       "version_minor": 0
      },
      "text/plain": [
       "HBox(children=(HTML(value=''), FloatProgress(value=0.0, max=85.0), HTML(value='')))"
      ]
     },
     "metadata": {},
     "output_type": "display_data"
    },
    {
     "name": "stdout",
     "output_type": "stream",
     "text": [
      "\n"
     ]
    },
    {
     "data": {
      "application/vnd.jupyter.widget-view+json": {
       "model_id": "fc2f8d0c194645209e90d0fb1fc45e9a",
       "version_major": 2,
       "version_minor": 0
      },
      "text/plain": [
       "HBox(children=(HTML(value=''), FloatProgress(value=0.0, max=22.0), HTML(value='')))"
      ]
     },
     "metadata": {},
     "output_type": "display_data"
    },
    {
     "name": "stdout",
     "output_type": "stream",
     "text": [
      "\n",
      "epoch: 13, avg train loss 2.1114, avg test acc 0.3068\n"
     ]
    },
    {
     "data": {
      "application/vnd.jupyter.widget-view+json": {
       "model_id": "aecdb61a7c704e3d81c9a75117708a0a",
       "version_major": 2,
       "version_minor": 0
      },
      "text/plain": [
       "HBox(children=(HTML(value=''), FloatProgress(value=0.0, max=85.0), HTML(value='')))"
      ]
     },
     "metadata": {},
     "output_type": "display_data"
    },
    {
     "name": "stdout",
     "output_type": "stream",
     "text": [
      "\n"
     ]
    },
    {
     "data": {
      "application/vnd.jupyter.widget-view+json": {
       "model_id": "69a007b716d6429d9ad65340a62c5808",
       "version_major": 2,
       "version_minor": 0
      },
      "text/plain": [
       "HBox(children=(HTML(value=''), FloatProgress(value=0.0, max=22.0), HTML(value='')))"
      ]
     },
     "metadata": {},
     "output_type": "display_data"
    },
    {
     "name": "stdout",
     "output_type": "stream",
     "text": [
      "\n",
      "epoch: 14, avg train loss 2.1183, avg test acc 0.2898\n"
     ]
    },
    {
     "data": {
      "application/vnd.jupyter.widget-view+json": {
       "model_id": "1cca1da1515e485aabfe32d2a63d376e",
       "version_major": 2,
       "version_minor": 0
      },
      "text/plain": [
       "HBox(children=(HTML(value=''), FloatProgress(value=0.0, max=85.0), HTML(value='')))"
      ]
     },
     "metadata": {},
     "output_type": "display_data"
    },
    {
     "name": "stdout",
     "output_type": "stream",
     "text": [
      "\n"
     ]
    },
    {
     "data": {
      "application/vnd.jupyter.widget-view+json": {
       "model_id": "db0349a485204b8c97dbe541da4e08dc",
       "version_major": 2,
       "version_minor": 0
      },
      "text/plain": [
       "HBox(children=(HTML(value=''), FloatProgress(value=0.0, max=22.0), HTML(value='')))"
      ]
     },
     "metadata": {},
     "output_type": "display_data"
    },
    {
     "name": "stdout",
     "output_type": "stream",
     "text": [
      "\n",
      "epoch: 15, avg train loss 2.0590, avg test acc 0.2727\n"
     ]
    },
    {
     "data": {
      "application/vnd.jupyter.widget-view+json": {
       "model_id": "9064baf2a3444112b8d5b725849b32db",
       "version_major": 2,
       "version_minor": 0
      },
      "text/plain": [
       "HBox(children=(HTML(value=''), FloatProgress(value=0.0, max=85.0), HTML(value='')))"
      ]
     },
     "metadata": {},
     "output_type": "display_data"
    },
    {
     "name": "stdout",
     "output_type": "stream",
     "text": [
      "\n"
     ]
    },
    {
     "data": {
      "application/vnd.jupyter.widget-view+json": {
       "model_id": "ab9d389e21514383b42086b28741e091",
       "version_major": 2,
       "version_minor": 0
      },
      "text/plain": [
       "HBox(children=(HTML(value=''), FloatProgress(value=0.0, max=22.0), HTML(value='')))"
      ]
     },
     "metadata": {},
     "output_type": "display_data"
    },
    {
     "name": "stdout",
     "output_type": "stream",
     "text": [
      "\n",
      "epoch: 16, avg train loss 2.0386, avg test acc 0.3636\n"
     ]
    },
    {
     "data": {
      "application/vnd.jupyter.widget-view+json": {
       "model_id": "22ef36d875764612ae016821e95c40a9",
       "version_major": 2,
       "version_minor": 0
      },
      "text/plain": [
       "HBox(children=(HTML(value=''), FloatProgress(value=0.0, max=85.0), HTML(value='')))"
      ]
     },
     "metadata": {},
     "output_type": "display_data"
    },
    {
     "name": "stdout",
     "output_type": "stream",
     "text": [
      "\n"
     ]
    },
    {
     "data": {
      "application/vnd.jupyter.widget-view+json": {
       "model_id": "ad1bd58a63764ff08c3d9a9e86c4d54d",
       "version_major": 2,
       "version_minor": 0
      },
      "text/plain": [
       "HBox(children=(HTML(value=''), FloatProgress(value=0.0, max=22.0), HTML(value='')))"
      ]
     },
     "metadata": {},
     "output_type": "display_data"
    },
    {
     "name": "stdout",
     "output_type": "stream",
     "text": [
      "\n",
      "epoch: 17, avg train loss 2.0667, avg test acc 0.3011\n"
     ]
    },
    {
     "data": {
      "application/vnd.jupyter.widget-view+json": {
       "model_id": "2ceb850d0d454d3ab2e805d9286fd69a",
       "version_major": 2,
       "version_minor": 0
      },
      "text/plain": [
       "HBox(children=(HTML(value=''), FloatProgress(value=0.0, max=85.0), HTML(value='')))"
      ]
     },
     "metadata": {},
     "output_type": "display_data"
    },
    {
     "name": "stdout",
     "output_type": "stream",
     "text": [
      "\n"
     ]
    },
    {
     "data": {
      "application/vnd.jupyter.widget-view+json": {
       "model_id": "33b23d3c28ee47069c0d67a77bb4998f",
       "version_major": 2,
       "version_minor": 0
      },
      "text/plain": [
       "HBox(children=(HTML(value=''), FloatProgress(value=0.0, max=22.0), HTML(value='')))"
      ]
     },
     "metadata": {},
     "output_type": "display_data"
    },
    {
     "name": "stdout",
     "output_type": "stream",
     "text": [
      "\n",
      "epoch: 18, avg train loss 1.9243, avg test acc 0.3068\n"
     ]
    },
    {
     "data": {
      "application/vnd.jupyter.widget-view+json": {
       "model_id": "9b970fbbdd2d4598a20151772bdf394a",
       "version_major": 2,
       "version_minor": 0
      },
      "text/plain": [
       "HBox(children=(HTML(value=''), FloatProgress(value=0.0, max=85.0), HTML(value='')))"
      ]
     },
     "metadata": {},
     "output_type": "display_data"
    },
    {
     "name": "stdout",
     "output_type": "stream",
     "text": [
      "\n"
     ]
    },
    {
     "data": {
      "application/vnd.jupyter.widget-view+json": {
       "model_id": "2f9de6c09da84e9fad0fcabac76bde0e",
       "version_major": 2,
       "version_minor": 0
      },
      "text/plain": [
       "HBox(children=(HTML(value=''), FloatProgress(value=0.0, max=22.0), HTML(value='')))"
      ]
     },
     "metadata": {},
     "output_type": "display_data"
    },
    {
     "name": "stdout",
     "output_type": "stream",
     "text": [
      "\n",
      "epoch: 19, avg train loss 1.9453, avg test acc 0.3352\n"
     ]
    },
    {
     "data": {
      "application/vnd.jupyter.widget-view+json": {
       "model_id": "1b9c45502d154160b2b763359a6216d4",
       "version_major": 2,
       "version_minor": 0
      },
      "text/plain": [
       "HBox(children=(HTML(value=''), FloatProgress(value=0.0, max=85.0), HTML(value='')))"
      ]
     },
     "metadata": {},
     "output_type": "display_data"
    },
    {
     "name": "stdout",
     "output_type": "stream",
     "text": [
      "\n"
     ]
    },
    {
     "data": {
      "application/vnd.jupyter.widget-view+json": {
       "model_id": "b7ff9b64364a4d9a866b124db80c4c3b",
       "version_major": 2,
       "version_minor": 0
      },
      "text/plain": [
       "HBox(children=(HTML(value=''), FloatProgress(value=0.0, max=22.0), HTML(value='')))"
      ]
     },
     "metadata": {},
     "output_type": "display_data"
    },
    {
     "name": "stdout",
     "output_type": "stream",
     "text": [
      "\n",
      "epoch: 20, avg train loss 1.9942, avg test acc 0.3011\n"
     ]
    },
    {
     "data": {
      "application/vnd.jupyter.widget-view+json": {
       "model_id": "cee61342b10943e8802369173d73c788",
       "version_major": 2,
       "version_minor": 0
      },
      "text/plain": [
       "HBox(children=(HTML(value=''), FloatProgress(value=0.0, max=85.0), HTML(value='')))"
      ]
     },
     "metadata": {},
     "output_type": "display_data"
    },
    {
     "name": "stdout",
     "output_type": "stream",
     "text": [
      "\n"
     ]
    },
    {
     "data": {
      "application/vnd.jupyter.widget-view+json": {
       "model_id": "e623b89e1d39445aa9a7a02552fe922b",
       "version_major": 2,
       "version_minor": 0
      },
      "text/plain": [
       "HBox(children=(HTML(value=''), FloatProgress(value=0.0, max=22.0), HTML(value='')))"
      ]
     },
     "metadata": {},
     "output_type": "display_data"
    },
    {
     "name": "stdout",
     "output_type": "stream",
     "text": [
      "\n",
      "epoch: 21, avg train loss 1.9116, avg test acc 0.3239\n"
     ]
    },
    {
     "data": {
      "application/vnd.jupyter.widget-view+json": {
       "model_id": "f07ef00e29f047aaa6873a06dde13566",
       "version_major": 2,
       "version_minor": 0
      },
      "text/plain": [
       "HBox(children=(HTML(value=''), FloatProgress(value=0.0, max=85.0), HTML(value='')))"
      ]
     },
     "metadata": {},
     "output_type": "display_data"
    },
    {
     "name": "stdout",
     "output_type": "stream",
     "text": [
      "\n"
     ]
    },
    {
     "data": {
      "application/vnd.jupyter.widget-view+json": {
       "model_id": "13d149e62afb476fa3f01f491e7d2e7e",
       "version_major": 2,
       "version_minor": 0
      },
      "text/plain": [
       "HBox(children=(HTML(value=''), FloatProgress(value=0.0, max=22.0), HTML(value='')))"
      ]
     },
     "metadata": {},
     "output_type": "display_data"
    },
    {
     "name": "stdout",
     "output_type": "stream",
     "text": [
      "\n",
      "epoch: 22, avg train loss 1.8878, avg test acc 0.3693\n"
     ]
    },
    {
     "data": {
      "application/vnd.jupyter.widget-view+json": {
       "model_id": "a282d6a0f30a4777b8c9497dfa20cdca",
       "version_major": 2,
       "version_minor": 0
      },
      "text/plain": [
       "HBox(children=(HTML(value=''), FloatProgress(value=0.0, max=85.0), HTML(value='')))"
      ]
     },
     "metadata": {},
     "output_type": "display_data"
    },
    {
     "name": "stdout",
     "output_type": "stream",
     "text": [
      "\n"
     ]
    },
    {
     "data": {
      "application/vnd.jupyter.widget-view+json": {
       "model_id": "c1de24840c3e409f8dc2b75a6aaa05de",
       "version_major": 2,
       "version_minor": 0
      },
      "text/plain": [
       "HBox(children=(HTML(value=''), FloatProgress(value=0.0, max=22.0), HTML(value='')))"
      ]
     },
     "metadata": {},
     "output_type": "display_data"
    },
    {
     "name": "stdout",
     "output_type": "stream",
     "text": [
      "\n",
      "epoch: 23, avg train loss 1.8744, avg test acc 0.4148\n"
     ]
    },
    {
     "data": {
      "application/vnd.jupyter.widget-view+json": {
       "model_id": "4a2ed5b2f7df4fa793d3fd3ceaa5bed2",
       "version_major": 2,
       "version_minor": 0
      },
      "text/plain": [
       "HBox(children=(HTML(value=''), FloatProgress(value=0.0, max=85.0), HTML(value='')))"
      ]
     },
     "metadata": {},
     "output_type": "display_data"
    },
    {
     "name": "stdout",
     "output_type": "stream",
     "text": [
      "\n"
     ]
    },
    {
     "data": {
      "application/vnd.jupyter.widget-view+json": {
       "model_id": "5645963ab7094474b514a015f2f9546c",
       "version_major": 2,
       "version_minor": 0
      },
      "text/plain": [
       "HBox(children=(HTML(value=''), FloatProgress(value=0.0, max=22.0), HTML(value='')))"
      ]
     },
     "metadata": {},
     "output_type": "display_data"
    },
    {
     "name": "stdout",
     "output_type": "stream",
     "text": [
      "\n",
      "epoch: 24, avg train loss 1.8642, avg test acc 0.3523\n"
     ]
    },
    {
     "data": {
      "application/vnd.jupyter.widget-view+json": {
       "model_id": "17e089fa7e7c4bb890b1044fc846dc27",
       "version_major": 2,
       "version_minor": 0
      },
      "text/plain": [
       "HBox(children=(HTML(value=''), FloatProgress(value=0.0, max=85.0), HTML(value='')))"
      ]
     },
     "metadata": {},
     "output_type": "display_data"
    },
    {
     "name": "stdout",
     "output_type": "stream",
     "text": [
      "\n"
     ]
    },
    {
     "data": {
      "application/vnd.jupyter.widget-view+json": {
       "model_id": "30f6324f21bd46128140f9240c3fbed5",
       "version_major": 2,
       "version_minor": 0
      },
      "text/plain": [
       "HBox(children=(HTML(value=''), FloatProgress(value=0.0, max=22.0), HTML(value='')))"
      ]
     },
     "metadata": {},
     "output_type": "display_data"
    },
    {
     "name": "stdout",
     "output_type": "stream",
     "text": [
      "\n",
      "epoch: 25, avg train loss 1.8153, avg test acc 0.4205\n"
     ]
    },
    {
     "data": {
      "application/vnd.jupyter.widget-view+json": {
       "model_id": "0d1641c73efb4effbd3b55e10510be33",
       "version_major": 2,
       "version_minor": 0
      },
      "text/plain": [
       "HBox(children=(HTML(value=''), FloatProgress(value=0.0, max=85.0), HTML(value='')))"
      ]
     },
     "metadata": {},
     "output_type": "display_data"
    },
    {
     "name": "stdout",
     "output_type": "stream",
     "text": [
      "\n"
     ]
    },
    {
     "data": {
      "application/vnd.jupyter.widget-view+json": {
       "model_id": "aadcd727ee4d44d4bd0a0baab319c7e3",
       "version_major": 2,
       "version_minor": 0
      },
      "text/plain": [
       "HBox(children=(HTML(value=''), FloatProgress(value=0.0, max=22.0), HTML(value='')))"
      ]
     },
     "metadata": {},
     "output_type": "display_data"
    },
    {
     "name": "stdout",
     "output_type": "stream",
     "text": [
      "\n",
      "epoch: 26, avg train loss 1.7731, avg test acc 0.3466\n"
     ]
    },
    {
     "data": {
      "application/vnd.jupyter.widget-view+json": {
       "model_id": "fa88bd6879b14e02a34aab4f5185b00d",
       "version_major": 2,
       "version_minor": 0
      },
      "text/plain": [
       "HBox(children=(HTML(value=''), FloatProgress(value=0.0, max=85.0), HTML(value='')))"
      ]
     },
     "metadata": {},
     "output_type": "display_data"
    },
    {
     "name": "stdout",
     "output_type": "stream",
     "text": [
      "\n"
     ]
    },
    {
     "data": {
      "application/vnd.jupyter.widget-view+json": {
       "model_id": "f5ce81b639ff44d9ba1518480fea1fd3",
       "version_major": 2,
       "version_minor": 0
      },
      "text/plain": [
       "HBox(children=(HTML(value=''), FloatProgress(value=0.0, max=22.0), HTML(value='')))"
      ]
     },
     "metadata": {},
     "output_type": "display_data"
    },
    {
     "name": "stdout",
     "output_type": "stream",
     "text": [
      "\n",
      "epoch: 27, avg train loss 1.7635, avg test acc 0.3693\n"
     ]
    },
    {
     "data": {
      "application/vnd.jupyter.widget-view+json": {
       "model_id": "a732b186e63b4337ad1ea27c5567049a",
       "version_major": 2,
       "version_minor": 0
      },
      "text/plain": [
       "HBox(children=(HTML(value=''), FloatProgress(value=0.0, max=85.0), HTML(value='')))"
      ]
     },
     "metadata": {},
     "output_type": "display_data"
    },
    {
     "name": "stdout",
     "output_type": "stream",
     "text": [
      "\n"
     ]
    },
    {
     "data": {
      "application/vnd.jupyter.widget-view+json": {
       "model_id": "1304e5caa6614417adcdade614fe1462",
       "version_major": 2,
       "version_minor": 0
      },
      "text/plain": [
       "HBox(children=(HTML(value=''), FloatProgress(value=0.0, max=22.0), HTML(value='')))"
      ]
     },
     "metadata": {},
     "output_type": "display_data"
    },
    {
     "name": "stdout",
     "output_type": "stream",
     "text": [
      "\n",
      "epoch: 28, avg train loss 1.7611, avg test acc 0.4375\n"
     ]
    },
    {
     "data": {
      "application/vnd.jupyter.widget-view+json": {
       "model_id": "6a8db6c1c0ad42ef81e03aea3dfecf2f",
       "version_major": 2,
       "version_minor": 0
      },
      "text/plain": [
       "HBox(children=(HTML(value=''), FloatProgress(value=0.0, max=85.0), HTML(value='')))"
      ]
     },
     "metadata": {},
     "output_type": "display_data"
    },
    {
     "name": "stdout",
     "output_type": "stream",
     "text": [
      "\n"
     ]
    },
    {
     "data": {
      "application/vnd.jupyter.widget-view+json": {
       "model_id": "a38f1f678abc44369b56f37cf647128d",
       "version_major": 2,
       "version_minor": 0
      },
      "text/plain": [
       "HBox(children=(HTML(value=''), FloatProgress(value=0.0, max=22.0), HTML(value='')))"
      ]
     },
     "metadata": {},
     "output_type": "display_data"
    },
    {
     "name": "stdout",
     "output_type": "stream",
     "text": [
      "\n",
      "epoch: 29, avg train loss 1.7207, avg test acc 0.3693\n"
     ]
    },
    {
     "data": {
      "application/vnd.jupyter.widget-view+json": {
       "model_id": "e517c190c4b945c3b9c24934796a70c1",
       "version_major": 2,
       "version_minor": 0
      },
      "text/plain": [
       "HBox(children=(HTML(value=''), FloatProgress(value=0.0, max=85.0), HTML(value='')))"
      ]
     },
     "metadata": {},
     "output_type": "display_data"
    },
    {
     "name": "stdout",
     "output_type": "stream",
     "text": [
      "\n"
     ]
    },
    {
     "data": {
      "application/vnd.jupyter.widget-view+json": {
       "model_id": "96594912000e48f1942d071bc1d0a4b7",
       "version_major": 2,
       "version_minor": 0
      },
      "text/plain": [
       "HBox(children=(HTML(value=''), FloatProgress(value=0.0, max=22.0), HTML(value='')))"
      ]
     },
     "metadata": {},
     "output_type": "display_data"
    },
    {
     "name": "stdout",
     "output_type": "stream",
     "text": [
      "\n",
      "epoch: 30, avg train loss 1.7538, avg test acc 0.3807\n"
     ]
    },
    {
     "data": {
      "application/vnd.jupyter.widget-view+json": {
       "model_id": "cf805ec79087448bab08b693a2145a35",
       "version_major": 2,
       "version_minor": 0
      },
      "text/plain": [
       "HBox(children=(HTML(value=''), FloatProgress(value=0.0, max=85.0), HTML(value='')))"
      ]
     },
     "metadata": {},
     "output_type": "display_data"
    },
    {
     "name": "stdout",
     "output_type": "stream",
     "text": [
      "\n"
     ]
    },
    {
     "data": {
      "application/vnd.jupyter.widget-view+json": {
       "model_id": "fd2fcd23b452463f8058c7451c76daa1",
       "version_major": 2,
       "version_minor": 0
      },
      "text/plain": [
       "HBox(children=(HTML(value=''), FloatProgress(value=0.0, max=22.0), HTML(value='')))"
      ]
     },
     "metadata": {},
     "output_type": "display_data"
    },
    {
     "name": "stdout",
     "output_type": "stream",
     "text": [
      "\n",
      "epoch: 31, avg train loss 1.7531, avg test acc 0.4261\n"
     ]
    },
    {
     "data": {
      "application/vnd.jupyter.widget-view+json": {
       "model_id": "06b9397560a146ac896af53e6e7c8d13",
       "version_major": 2,
       "version_minor": 0
      },
      "text/plain": [
       "HBox(children=(HTML(value=''), FloatProgress(value=0.0, max=85.0), HTML(value='')))"
      ]
     },
     "metadata": {},
     "output_type": "display_data"
    },
    {
     "name": "stdout",
     "output_type": "stream",
     "text": [
      "\n"
     ]
    },
    {
     "data": {
      "application/vnd.jupyter.widget-view+json": {
       "model_id": "43a782d8ddcb4a7db400dcce1cede287",
       "version_major": 2,
       "version_minor": 0
      },
      "text/plain": [
       "HBox(children=(HTML(value=''), FloatProgress(value=0.0, max=22.0), HTML(value='')))"
      ]
     },
     "metadata": {},
     "output_type": "display_data"
    },
    {
     "name": "stdout",
     "output_type": "stream",
     "text": [
      "\n",
      "epoch: 32, avg train loss 1.6886, avg test acc 0.2670\n"
     ]
    },
    {
     "data": {
      "application/vnd.jupyter.widget-view+json": {
       "model_id": "61de97b13e32437f828a3d5028ebea56",
       "version_major": 2,
       "version_minor": 0
      },
      "text/plain": [
       "HBox(children=(HTML(value=''), FloatProgress(value=0.0, max=85.0), HTML(value='')))"
      ]
     },
     "metadata": {},
     "output_type": "display_data"
    },
    {
     "name": "stdout",
     "output_type": "stream",
     "text": [
      "\n"
     ]
    },
    {
     "data": {
      "application/vnd.jupyter.widget-view+json": {
       "model_id": "9f403d386d7d4b9c9aab1a59c1765253",
       "version_major": 2,
       "version_minor": 0
      },
      "text/plain": [
       "HBox(children=(HTML(value=''), FloatProgress(value=0.0, max=22.0), HTML(value='')))"
      ]
     },
     "metadata": {},
     "output_type": "display_data"
    },
    {
     "name": "stdout",
     "output_type": "stream",
     "text": [
      "\n",
      "epoch: 33, avg train loss 1.7339, avg test acc 0.5000\n"
     ]
    },
    {
     "data": {
      "application/vnd.jupyter.widget-view+json": {
       "model_id": "497f0e75d52d49bb92e6445d2a65677c",
       "version_major": 2,
       "version_minor": 0
      },
      "text/plain": [
       "HBox(children=(HTML(value=''), FloatProgress(value=0.0, max=85.0), HTML(value='')))"
      ]
     },
     "metadata": {},
     "output_type": "display_data"
    },
    {
     "name": "stdout",
     "output_type": "stream",
     "text": [
      "\n"
     ]
    },
    {
     "data": {
      "application/vnd.jupyter.widget-view+json": {
       "model_id": "0cbe132b9d4c47b8a29ff109a1efb021",
       "version_major": 2,
       "version_minor": 0
      },
      "text/plain": [
       "HBox(children=(HTML(value=''), FloatProgress(value=0.0, max=22.0), HTML(value='')))"
      ]
     },
     "metadata": {},
     "output_type": "display_data"
    },
    {
     "name": "stdout",
     "output_type": "stream",
     "text": [
      "\n",
      "epoch: 34, avg train loss 1.6033, avg test acc 0.3636\n"
     ]
    },
    {
     "data": {
      "application/vnd.jupyter.widget-view+json": {
       "model_id": "456dc9773b4b4e0c9938a01cfb34261d",
       "version_major": 2,
       "version_minor": 0
      },
      "text/plain": [
       "HBox(children=(HTML(value=''), FloatProgress(value=0.0, max=85.0), HTML(value='')))"
      ]
     },
     "metadata": {},
     "output_type": "display_data"
    },
    {
     "name": "stdout",
     "output_type": "stream",
     "text": [
      "\n"
     ]
    },
    {
     "data": {
      "application/vnd.jupyter.widget-view+json": {
       "model_id": "055249fe7a76495db0ff81c420f75008",
       "version_major": 2,
       "version_minor": 0
      },
      "text/plain": [
       "HBox(children=(HTML(value=''), FloatProgress(value=0.0, max=22.0), HTML(value='')))"
      ]
     },
     "metadata": {},
     "output_type": "display_data"
    },
    {
     "name": "stdout",
     "output_type": "stream",
     "text": [
      "\n",
      "epoch: 35, avg train loss 1.6419, avg test acc 0.4205\n"
     ]
    },
    {
     "data": {
      "application/vnd.jupyter.widget-view+json": {
       "model_id": "4141f8d6626443b9b60b971368cfb994",
       "version_major": 2,
       "version_minor": 0
      },
      "text/plain": [
       "HBox(children=(HTML(value=''), FloatProgress(value=0.0, max=85.0), HTML(value='')))"
      ]
     },
     "metadata": {},
     "output_type": "display_data"
    },
    {
     "name": "stdout",
     "output_type": "stream",
     "text": [
      "\n"
     ]
    },
    {
     "data": {
      "application/vnd.jupyter.widget-view+json": {
       "model_id": "7992ccdbb14e4f34af250219a3f2bf11",
       "version_major": 2,
       "version_minor": 0
      },
      "text/plain": [
       "HBox(children=(HTML(value=''), FloatProgress(value=0.0, max=22.0), HTML(value='')))"
      ]
     },
     "metadata": {},
     "output_type": "display_data"
    },
    {
     "name": "stdout",
     "output_type": "stream",
     "text": [
      "\n",
      "epoch: 36, avg train loss 1.6321, avg test acc 0.4205\n"
     ]
    },
    {
     "data": {
      "application/vnd.jupyter.widget-view+json": {
       "model_id": "143fb9093c59497bbb1237f2e6a6d29b",
       "version_major": 2,
       "version_minor": 0
      },
      "text/plain": [
       "HBox(children=(HTML(value=''), FloatProgress(value=0.0, max=85.0), HTML(value='')))"
      ]
     },
     "metadata": {},
     "output_type": "display_data"
    },
    {
     "name": "stdout",
     "output_type": "stream",
     "text": [
      "\n"
     ]
    },
    {
     "data": {
      "application/vnd.jupyter.widget-view+json": {
       "model_id": "e999009feb654736a715b98eab58904e",
       "version_major": 2,
       "version_minor": 0
      },
      "text/plain": [
       "HBox(children=(HTML(value=''), FloatProgress(value=0.0, max=22.0), HTML(value='')))"
      ]
     },
     "metadata": {},
     "output_type": "display_data"
    },
    {
     "name": "stdout",
     "output_type": "stream",
     "text": [
      "\n",
      "epoch: 37, avg train loss 1.5983, avg test acc 0.4432\n"
     ]
    },
    {
     "data": {
      "application/vnd.jupyter.widget-view+json": {
       "model_id": "2212e688aaeb4970b97b3f31e03f6679",
       "version_major": 2,
       "version_minor": 0
      },
      "text/plain": [
       "HBox(children=(HTML(value=''), FloatProgress(value=0.0, max=85.0), HTML(value='')))"
      ]
     },
     "metadata": {},
     "output_type": "display_data"
    },
    {
     "name": "stdout",
     "output_type": "stream",
     "text": [
      "\n"
     ]
    },
    {
     "data": {
      "application/vnd.jupyter.widget-view+json": {
       "model_id": "945efe5469594845ab591ec388deaa65",
       "version_major": 2,
       "version_minor": 0
      },
      "text/plain": [
       "HBox(children=(HTML(value=''), FloatProgress(value=0.0, max=22.0), HTML(value='')))"
      ]
     },
     "metadata": {},
     "output_type": "display_data"
    },
    {
     "name": "stdout",
     "output_type": "stream",
     "text": [
      "\n",
      "epoch: 38, avg train loss 1.6389, avg test acc 0.4602\n"
     ]
    },
    {
     "data": {
      "application/vnd.jupyter.widget-view+json": {
       "model_id": "591dc7b7456a4f4d885c4d8b77f90b2a",
       "version_major": 2,
       "version_minor": 0
      },
      "text/plain": [
       "HBox(children=(HTML(value=''), FloatProgress(value=0.0, max=85.0), HTML(value='')))"
      ]
     },
     "metadata": {},
     "output_type": "display_data"
    },
    {
     "name": "stdout",
     "output_type": "stream",
     "text": [
      "\n"
     ]
    },
    {
     "data": {
      "application/vnd.jupyter.widget-view+json": {
       "model_id": "414804ccb12b4cec8dc14951c06798f6",
       "version_major": 2,
       "version_minor": 0
      },
      "text/plain": [
       "HBox(children=(HTML(value=''), FloatProgress(value=0.0, max=22.0), HTML(value='')))"
      ]
     },
     "metadata": {},
     "output_type": "display_data"
    },
    {
     "name": "stdout",
     "output_type": "stream",
     "text": [
      "\n",
      "epoch: 39, avg train loss 1.5880, avg test acc 0.4773\n"
     ]
    },
    {
     "data": {
      "application/vnd.jupyter.widget-view+json": {
       "model_id": "96d0bd47ad0c4715840776d5995e3208",
       "version_major": 2,
       "version_minor": 0
      },
      "text/plain": [
       "HBox(children=(HTML(value=''), FloatProgress(value=0.0, max=85.0), HTML(value='')))"
      ]
     },
     "metadata": {},
     "output_type": "display_data"
    },
    {
     "name": "stdout",
     "output_type": "stream",
     "text": [
      "\n"
     ]
    },
    {
     "data": {
      "application/vnd.jupyter.widget-view+json": {
       "model_id": "9a34ba14db684558a6668bb64a23db2e",
       "version_major": 2,
       "version_minor": 0
      },
      "text/plain": [
       "HBox(children=(HTML(value=''), FloatProgress(value=0.0, max=22.0), HTML(value='')))"
      ]
     },
     "metadata": {},
     "output_type": "display_data"
    },
    {
     "name": "stdout",
     "output_type": "stream",
     "text": [
      "\n",
      "epoch: 40, avg train loss 1.6079, avg test acc 0.4659\n"
     ]
    },
    {
     "data": {
      "application/vnd.jupyter.widget-view+json": {
       "model_id": "f325fe53c91f4563a03a4edf83612b86",
       "version_major": 2,
       "version_minor": 0
      },
      "text/plain": [
       "HBox(children=(HTML(value=''), FloatProgress(value=0.0, max=85.0), HTML(value='')))"
      ]
     },
     "metadata": {},
     "output_type": "display_data"
    },
    {
     "name": "stdout",
     "output_type": "stream",
     "text": [
      "\n"
     ]
    },
    {
     "data": {
      "application/vnd.jupyter.widget-view+json": {
       "model_id": "71c4e6df214941939cd7c30045f3739d",
       "version_major": 2,
       "version_minor": 0
      },
      "text/plain": [
       "HBox(children=(HTML(value=''), FloatProgress(value=0.0, max=22.0), HTML(value='')))"
      ]
     },
     "metadata": {},
     "output_type": "display_data"
    },
    {
     "name": "stdout",
     "output_type": "stream",
     "text": [
      "\n",
      "epoch: 41, avg train loss 1.5545, avg test acc 0.4830\n"
     ]
    },
    {
     "data": {
      "application/vnd.jupyter.widget-view+json": {
       "model_id": "66649c1279634d66804defbb875d6cfc",
       "version_major": 2,
       "version_minor": 0
      },
      "text/plain": [
       "HBox(children=(HTML(value=''), FloatProgress(value=0.0, max=85.0), HTML(value='')))"
      ]
     },
     "metadata": {},
     "output_type": "display_data"
    },
    {
     "name": "stdout",
     "output_type": "stream",
     "text": [
      "\n"
     ]
    },
    {
     "data": {
      "application/vnd.jupyter.widget-view+json": {
       "model_id": "02ee87952d58455ca99896893ce30878",
       "version_major": 2,
       "version_minor": 0
      },
      "text/plain": [
       "HBox(children=(HTML(value=''), FloatProgress(value=0.0, max=22.0), HTML(value='')))"
      ]
     },
     "metadata": {},
     "output_type": "display_data"
    },
    {
     "name": "stdout",
     "output_type": "stream",
     "text": [
      "\n",
      "epoch: 42, avg train loss 1.5937, avg test acc 0.4489\n"
     ]
    },
    {
     "data": {
      "application/vnd.jupyter.widget-view+json": {
       "model_id": "abe6a2e098f54edf95f274d9788c6d97",
       "version_major": 2,
       "version_minor": 0
      },
      "text/plain": [
       "HBox(children=(HTML(value=''), FloatProgress(value=0.0, max=85.0), HTML(value='')))"
      ]
     },
     "metadata": {},
     "output_type": "display_data"
    },
    {
     "name": "stdout",
     "output_type": "stream",
     "text": [
      "\n"
     ]
    },
    {
     "data": {
      "application/vnd.jupyter.widget-view+json": {
       "model_id": "f88b06abc4d64486bdf7405268570d92",
       "version_major": 2,
       "version_minor": 0
      },
      "text/plain": [
       "HBox(children=(HTML(value=''), FloatProgress(value=0.0, max=22.0), HTML(value='')))"
      ]
     },
     "metadata": {},
     "output_type": "display_data"
    },
    {
     "name": "stdout",
     "output_type": "stream",
     "text": [
      "\n",
      "epoch: 43, avg train loss 1.5018, avg test acc 0.4716\n"
     ]
    },
    {
     "data": {
      "application/vnd.jupyter.widget-view+json": {
       "model_id": "0d4ce2b63ff1463489e96c9933334cd9",
       "version_major": 2,
       "version_minor": 0
      },
      "text/plain": [
       "HBox(children=(HTML(value=''), FloatProgress(value=0.0, max=85.0), HTML(value='')))"
      ]
     },
     "metadata": {},
     "output_type": "display_data"
    },
    {
     "name": "stdout",
     "output_type": "stream",
     "text": [
      "\n"
     ]
    },
    {
     "data": {
      "application/vnd.jupyter.widget-view+json": {
       "model_id": "a1962204bf5e49fbab2d1dbc1f518da6",
       "version_major": 2,
       "version_minor": 0
      },
      "text/plain": [
       "HBox(children=(HTML(value=''), FloatProgress(value=0.0, max=22.0), HTML(value='')))"
      ]
     },
     "metadata": {},
     "output_type": "display_data"
    },
    {
     "name": "stdout",
     "output_type": "stream",
     "text": [
      "\n",
      "epoch: 44, avg train loss 1.5428, avg test acc 0.5625\n"
     ]
    },
    {
     "data": {
      "application/vnd.jupyter.widget-view+json": {
       "model_id": "912f54ab4bd740d1ba21a0a6c7b77acc",
       "version_major": 2,
       "version_minor": 0
      },
      "text/plain": [
       "HBox(children=(HTML(value=''), FloatProgress(value=0.0, max=85.0), HTML(value='')))"
      ]
     },
     "metadata": {},
     "output_type": "display_data"
    },
    {
     "name": "stdout",
     "output_type": "stream",
     "text": [
      "\n"
     ]
    },
    {
     "data": {
      "application/vnd.jupyter.widget-view+json": {
       "model_id": "a2454439c0c44c07a6d42628255c2777",
       "version_major": 2,
       "version_minor": 0
      },
      "text/plain": [
       "HBox(children=(HTML(value=''), FloatProgress(value=0.0, max=22.0), HTML(value='')))"
      ]
     },
     "metadata": {},
     "output_type": "display_data"
    },
    {
     "name": "stdout",
     "output_type": "stream",
     "text": [
      "\n",
      "epoch: 45, avg train loss 1.4442, avg test acc 0.3864\n"
     ]
    },
    {
     "data": {
      "application/vnd.jupyter.widget-view+json": {
       "model_id": "3bc50fb516fe4d2180e04b2ef4b88aaf",
       "version_major": 2,
       "version_minor": 0
      },
      "text/plain": [
       "HBox(children=(HTML(value=''), FloatProgress(value=0.0, max=85.0), HTML(value='')))"
      ]
     },
     "metadata": {},
     "output_type": "display_data"
    },
    {
     "name": "stdout",
     "output_type": "stream",
     "text": [
      "\n"
     ]
    },
    {
     "data": {
      "application/vnd.jupyter.widget-view+json": {
       "model_id": "8f7e8fab3a89412eb562d61435bc8401",
       "version_major": 2,
       "version_minor": 0
      },
      "text/plain": [
       "HBox(children=(HTML(value=''), FloatProgress(value=0.0, max=22.0), HTML(value='')))"
      ]
     },
     "metadata": {},
     "output_type": "display_data"
    },
    {
     "name": "stdout",
     "output_type": "stream",
     "text": [
      "\n",
      "epoch: 46, avg train loss 1.5234, avg test acc 0.5398\n"
     ]
    },
    {
     "data": {
      "application/vnd.jupyter.widget-view+json": {
       "model_id": "dcd3a76e403148d493d2b55c9049004f",
       "version_major": 2,
       "version_minor": 0
      },
      "text/plain": [
       "HBox(children=(HTML(value=''), FloatProgress(value=0.0, max=85.0), HTML(value='')))"
      ]
     },
     "metadata": {},
     "output_type": "display_data"
    },
    {
     "name": "stdout",
     "output_type": "stream",
     "text": [
      "\n"
     ]
    },
    {
     "data": {
      "application/vnd.jupyter.widget-view+json": {
       "model_id": "881227dc7c854aac8b9d1e6783ee32a0",
       "version_major": 2,
       "version_minor": 0
      },
      "text/plain": [
       "HBox(children=(HTML(value=''), FloatProgress(value=0.0, max=22.0), HTML(value='')))"
      ]
     },
     "metadata": {},
     "output_type": "display_data"
    },
    {
     "name": "stdout",
     "output_type": "stream",
     "text": [
      "\n",
      "epoch: 47, avg train loss 1.4531, avg test acc 0.5170\n"
     ]
    },
    {
     "data": {
      "application/vnd.jupyter.widget-view+json": {
       "model_id": "190f9d1591c145878673cb57fedb558c",
       "version_major": 2,
       "version_minor": 0
      },
      "text/plain": [
       "HBox(children=(HTML(value=''), FloatProgress(value=0.0, max=85.0), HTML(value='')))"
      ]
     },
     "metadata": {},
     "output_type": "display_data"
    },
    {
     "name": "stdout",
     "output_type": "stream",
     "text": [
      "\n"
     ]
    },
    {
     "data": {
      "application/vnd.jupyter.widget-view+json": {
       "model_id": "8359c0ce2c064db990541d16d00e1c14",
       "version_major": 2,
       "version_minor": 0
      },
      "text/plain": [
       "HBox(children=(HTML(value=''), FloatProgress(value=0.0, max=22.0), HTML(value='')))"
      ]
     },
     "metadata": {},
     "output_type": "display_data"
    },
    {
     "name": "stdout",
     "output_type": "stream",
     "text": [
      "\n",
      "epoch: 48, avg train loss 1.5385, avg test acc 0.4602\n"
     ]
    },
    {
     "data": {
      "application/vnd.jupyter.widget-view+json": {
       "model_id": "97712792364b4ed29f041172569b5db4",
       "version_major": 2,
       "version_minor": 0
      },
      "text/plain": [
       "HBox(children=(HTML(value=''), FloatProgress(value=0.0, max=85.0), HTML(value='')))"
      ]
     },
     "metadata": {},
     "output_type": "display_data"
    },
    {
     "name": "stdout",
     "output_type": "stream",
     "text": [
      "\n"
     ]
    },
    {
     "data": {
      "application/vnd.jupyter.widget-view+json": {
       "model_id": "a57e578356384115b2ba279dd9ac0a73",
       "version_major": 2,
       "version_minor": 0
      },
      "text/plain": [
       "HBox(children=(HTML(value=''), FloatProgress(value=0.0, max=22.0), HTML(value='')))"
      ]
     },
     "metadata": {},
     "output_type": "display_data"
    },
    {
     "name": "stdout",
     "output_type": "stream",
     "text": [
      "\n",
      "epoch: 49, avg train loss 1.4768, avg test acc 0.4545\n"
     ]
    },
    {
     "data": {
      "application/vnd.jupyter.widget-view+json": {
       "model_id": "36e13b2b86d5412a867896772168342f",
       "version_major": 2,
       "version_minor": 0
      },
      "text/plain": [
       "HBox(children=(HTML(value=''), FloatProgress(value=0.0, max=85.0), HTML(value='')))"
      ]
     },
     "metadata": {},
     "output_type": "display_data"
    },
    {
     "name": "stdout",
     "output_type": "stream",
     "text": [
      "\n"
     ]
    },
    {
     "data": {
      "application/vnd.jupyter.widget-view+json": {
       "model_id": "21476d32eb2342059a3a15beab4b4ccd",
       "version_major": 2,
       "version_minor": 0
      },
      "text/plain": [
       "HBox(children=(HTML(value=''), FloatProgress(value=0.0, max=22.0), HTML(value='')))"
      ]
     },
     "metadata": {},
     "output_type": "display_data"
    },
    {
     "name": "stdout",
     "output_type": "stream",
     "text": [
      "\n",
      "epoch: 50, avg train loss 1.4475, avg test acc 0.3636\n"
     ]
    },
    {
     "data": {
      "application/vnd.jupyter.widget-view+json": {
       "model_id": "4a6dc7af1b554a74beec315b44bd41e7",
       "version_major": 2,
       "version_minor": 0
      },
      "text/plain": [
       "HBox(children=(HTML(value=''), FloatProgress(value=0.0, max=85.0), HTML(value='')))"
      ]
     },
     "metadata": {},
     "output_type": "display_data"
    },
    {
     "name": "stdout",
     "output_type": "stream",
     "text": [
      "\n"
     ]
    },
    {
     "data": {
      "application/vnd.jupyter.widget-view+json": {
       "model_id": "dc8d25b2f75d4a8f8f16745f44cdcb83",
       "version_major": 2,
       "version_minor": 0
      },
      "text/plain": [
       "HBox(children=(HTML(value=''), FloatProgress(value=0.0, max=22.0), HTML(value='')))"
      ]
     },
     "metadata": {},
     "output_type": "display_data"
    },
    {
     "name": "stdout",
     "output_type": "stream",
     "text": [
      "\n",
      "epoch: 51, avg train loss 1.4402, avg test acc 0.5000\n"
     ]
    },
    {
     "data": {
      "application/vnd.jupyter.widget-view+json": {
       "model_id": "de598f5682804cceb9d81a14de7b9752",
       "version_major": 2,
       "version_minor": 0
      },
      "text/plain": [
       "HBox(children=(HTML(value=''), FloatProgress(value=0.0, max=85.0), HTML(value='')))"
      ]
     },
     "metadata": {},
     "output_type": "display_data"
    },
    {
     "name": "stdout",
     "output_type": "stream",
     "text": [
      "\n"
     ]
    },
    {
     "data": {
      "application/vnd.jupyter.widget-view+json": {
       "model_id": "d4e8e22b1c5c4eddb3a683f45d6e486d",
       "version_major": 2,
       "version_minor": 0
      },
      "text/plain": [
       "HBox(children=(HTML(value=''), FloatProgress(value=0.0, max=22.0), HTML(value='')))"
      ]
     },
     "metadata": {},
     "output_type": "display_data"
    },
    {
     "name": "stdout",
     "output_type": "stream",
     "text": [
      "\n",
      "epoch: 52, avg train loss 1.4263, avg test acc 0.5284\n"
     ]
    },
    {
     "data": {
      "application/vnd.jupyter.widget-view+json": {
       "model_id": "f098ab0d43544776b0e1158b8373434a",
       "version_major": 2,
       "version_minor": 0
      },
      "text/plain": [
       "HBox(children=(HTML(value=''), FloatProgress(value=0.0, max=85.0), HTML(value='')))"
      ]
     },
     "metadata": {},
     "output_type": "display_data"
    },
    {
     "name": "stdout",
     "output_type": "stream",
     "text": [
      "\n"
     ]
    },
    {
     "data": {
      "application/vnd.jupyter.widget-view+json": {
       "model_id": "28d1b105bb214f8981fe03cb57ef9404",
       "version_major": 2,
       "version_minor": 0
      },
      "text/plain": [
       "HBox(children=(HTML(value=''), FloatProgress(value=0.0, max=22.0), HTML(value='')))"
      ]
     },
     "metadata": {},
     "output_type": "display_data"
    },
    {
     "name": "stdout",
     "output_type": "stream",
     "text": [
      "\n",
      "epoch: 53, avg train loss 1.4044, avg test acc 0.5341\n"
     ]
    },
    {
     "data": {
      "application/vnd.jupyter.widget-view+json": {
       "model_id": "40100cb0aa7a466f89cba8fcb0a5939c",
       "version_major": 2,
       "version_minor": 0
      },
      "text/plain": [
       "HBox(children=(HTML(value=''), FloatProgress(value=0.0, max=85.0), HTML(value='')))"
      ]
     },
     "metadata": {},
     "output_type": "display_data"
    },
    {
     "name": "stdout",
     "output_type": "stream",
     "text": [
      "\n"
     ]
    },
    {
     "data": {
      "application/vnd.jupyter.widget-view+json": {
       "model_id": "963fc6795e0444fd8e46eda85c31e5cc",
       "version_major": 2,
       "version_minor": 0
      },
      "text/plain": [
       "HBox(children=(HTML(value=''), FloatProgress(value=0.0, max=22.0), HTML(value='')))"
      ]
     },
     "metadata": {},
     "output_type": "display_data"
    },
    {
     "name": "stdout",
     "output_type": "stream",
     "text": [
      "\n",
      "epoch: 54, avg train loss 1.3815, avg test acc 0.4318\n"
     ]
    },
    {
     "data": {
      "application/vnd.jupyter.widget-view+json": {
       "model_id": "86ff30874299482080be12e3dbd52410",
       "version_major": 2,
       "version_minor": 0
      },
      "text/plain": [
       "HBox(children=(HTML(value=''), FloatProgress(value=0.0, max=85.0), HTML(value='')))"
      ]
     },
     "metadata": {},
     "output_type": "display_data"
    },
    {
     "name": "stdout",
     "output_type": "stream",
     "text": [
      "\n"
     ]
    },
    {
     "data": {
      "application/vnd.jupyter.widget-view+json": {
       "model_id": "5008d9ba2060477b86f0cb57c4b3100c",
       "version_major": 2,
       "version_minor": 0
      },
      "text/plain": [
       "HBox(children=(HTML(value=''), FloatProgress(value=0.0, max=22.0), HTML(value='')))"
      ]
     },
     "metadata": {},
     "output_type": "display_data"
    },
    {
     "name": "stdout",
     "output_type": "stream",
     "text": [
      "\n",
      "epoch: 55, avg train loss 1.4497, avg test acc 0.5739\n"
     ]
    },
    {
     "data": {
      "application/vnd.jupyter.widget-view+json": {
       "model_id": "7889b5032e7b4c8fb3ffbd99042f259e",
       "version_major": 2,
       "version_minor": 0
      },
      "text/plain": [
       "HBox(children=(HTML(value=''), FloatProgress(value=0.0, max=85.0), HTML(value='')))"
      ]
     },
     "metadata": {},
     "output_type": "display_data"
    },
    {
     "name": "stdout",
     "output_type": "stream",
     "text": [
      "\n"
     ]
    },
    {
     "data": {
      "application/vnd.jupyter.widget-view+json": {
       "model_id": "00dba9a33e6747fe92018bd787fbc2ef",
       "version_major": 2,
       "version_minor": 0
      },
      "text/plain": [
       "HBox(children=(HTML(value=''), FloatProgress(value=0.0, max=22.0), HTML(value='')))"
      ]
     },
     "metadata": {},
     "output_type": "display_data"
    },
    {
     "name": "stdout",
     "output_type": "stream",
     "text": [
      "\n",
      "epoch: 56, avg train loss 1.4058, avg test acc 0.5795\n"
     ]
    },
    {
     "data": {
      "application/vnd.jupyter.widget-view+json": {
       "model_id": "e563b8aa75b54ff1bd94ea9dfdc320be",
       "version_major": 2,
       "version_minor": 0
      },
      "text/plain": [
       "HBox(children=(HTML(value=''), FloatProgress(value=0.0, max=85.0), HTML(value='')))"
      ]
     },
     "metadata": {},
     "output_type": "display_data"
    },
    {
     "name": "stdout",
     "output_type": "stream",
     "text": [
      "\n"
     ]
    },
    {
     "data": {
      "application/vnd.jupyter.widget-view+json": {
       "model_id": "a2da954f8de445768ac3eeec1dc74401",
       "version_major": 2,
       "version_minor": 0
      },
      "text/plain": [
       "HBox(children=(HTML(value=''), FloatProgress(value=0.0, max=22.0), HTML(value='')))"
      ]
     },
     "metadata": {},
     "output_type": "display_data"
    },
    {
     "name": "stdout",
     "output_type": "stream",
     "text": [
      "\n",
      "epoch: 57, avg train loss 1.3797, avg test acc 0.5455\n"
     ]
    },
    {
     "data": {
      "application/vnd.jupyter.widget-view+json": {
       "model_id": "111ad2dc29d1450eb929a36abb1f417b",
       "version_major": 2,
       "version_minor": 0
      },
      "text/plain": [
       "HBox(children=(HTML(value=''), FloatProgress(value=0.0, max=85.0), HTML(value='')))"
      ]
     },
     "metadata": {},
     "output_type": "display_data"
    },
    {
     "name": "stdout",
     "output_type": "stream",
     "text": [
      "\n"
     ]
    },
    {
     "data": {
      "application/vnd.jupyter.widget-view+json": {
       "model_id": "479ff0f8d96f4317ae708178c94edc2e",
       "version_major": 2,
       "version_minor": 0
      },
      "text/plain": [
       "HBox(children=(HTML(value=''), FloatProgress(value=0.0, max=22.0), HTML(value='')))"
      ]
     },
     "metadata": {},
     "output_type": "display_data"
    },
    {
     "name": "stdout",
     "output_type": "stream",
     "text": [
      "\n",
      "epoch: 58, avg train loss 1.3714, avg test acc 0.5000\n"
     ]
    },
    {
     "data": {
      "application/vnd.jupyter.widget-view+json": {
       "model_id": "f4261a82769b4c93876d35ca7f633f2e",
       "version_major": 2,
       "version_minor": 0
      },
      "text/plain": [
       "HBox(children=(HTML(value=''), FloatProgress(value=0.0, max=85.0), HTML(value='')))"
      ]
     },
     "metadata": {},
     "output_type": "display_data"
    },
    {
     "name": "stdout",
     "output_type": "stream",
     "text": [
      "\n"
     ]
    },
    {
     "data": {
      "application/vnd.jupyter.widget-view+json": {
       "model_id": "c3e755283feb4925aaf68126f184f268",
       "version_major": 2,
       "version_minor": 0
      },
      "text/plain": [
       "HBox(children=(HTML(value=''), FloatProgress(value=0.0, max=22.0), HTML(value='')))"
      ]
     },
     "metadata": {},
     "output_type": "display_data"
    },
    {
     "name": "stdout",
     "output_type": "stream",
     "text": [
      "\n",
      "epoch: 59, avg train loss 1.3241, avg test acc 0.5398\n"
     ]
    },
    {
     "data": {
      "application/vnd.jupyter.widget-view+json": {
       "model_id": "33504109b49c485f81e068d46573090c",
       "version_major": 2,
       "version_minor": 0
      },
      "text/plain": [
       "HBox(children=(HTML(value=''), FloatProgress(value=0.0, max=85.0), HTML(value='')))"
      ]
     },
     "metadata": {},
     "output_type": "display_data"
    },
    {
     "name": "stdout",
     "output_type": "stream",
     "text": [
      "\n"
     ]
    },
    {
     "data": {
      "application/vnd.jupyter.widget-view+json": {
       "model_id": "9abe32b2196647faa780b94dacc24d2f",
       "version_major": 2,
       "version_minor": 0
      },
      "text/plain": [
       "HBox(children=(HTML(value=''), FloatProgress(value=0.0, max=22.0), HTML(value='')))"
      ]
     },
     "metadata": {},
     "output_type": "display_data"
    },
    {
     "name": "stdout",
     "output_type": "stream",
     "text": [
      "\n",
      "epoch: 60, avg train loss 1.3981, avg test acc 0.4830\n"
     ]
    },
    {
     "data": {
      "application/vnd.jupyter.widget-view+json": {
       "model_id": "7dab4d84dc56415ca608a75688f24835",
       "version_major": 2,
       "version_minor": 0
      },
      "text/plain": [
       "HBox(children=(HTML(value=''), FloatProgress(value=0.0, max=85.0), HTML(value='')))"
      ]
     },
     "metadata": {},
     "output_type": "display_data"
    },
    {
     "name": "stdout",
     "output_type": "stream",
     "text": [
      "\n"
     ]
    },
    {
     "data": {
      "application/vnd.jupyter.widget-view+json": {
       "model_id": "9ced3be7098c4b65a894982204ba6630",
       "version_major": 2,
       "version_minor": 0
      },
      "text/plain": [
       "HBox(children=(HTML(value=''), FloatProgress(value=0.0, max=22.0), HTML(value='')))"
      ]
     },
     "metadata": {},
     "output_type": "display_data"
    },
    {
     "name": "stdout",
     "output_type": "stream",
     "text": [
      "\n",
      "epoch: 61, avg train loss 1.3235, avg test acc 0.5170\n"
     ]
    },
    {
     "data": {
      "application/vnd.jupyter.widget-view+json": {
       "model_id": "e508fc5ed4954c099d8c2b601032846d",
       "version_major": 2,
       "version_minor": 0
      },
      "text/plain": [
       "HBox(children=(HTML(value=''), FloatProgress(value=0.0, max=85.0), HTML(value='')))"
      ]
     },
     "metadata": {},
     "output_type": "display_data"
    },
    {
     "name": "stdout",
     "output_type": "stream",
     "text": [
      "\n"
     ]
    },
    {
     "data": {
      "application/vnd.jupyter.widget-view+json": {
       "model_id": "3514a30716404f6b91e56fc62e5c8a63",
       "version_major": 2,
       "version_minor": 0
      },
      "text/plain": [
       "HBox(children=(HTML(value=''), FloatProgress(value=0.0, max=22.0), HTML(value='')))"
      ]
     },
     "metadata": {},
     "output_type": "display_data"
    },
    {
     "name": "stdout",
     "output_type": "stream",
     "text": [
      "\n",
      "epoch: 62, avg train loss 1.3648, avg test acc 0.4489\n"
     ]
    },
    {
     "data": {
      "application/vnd.jupyter.widget-view+json": {
       "model_id": "c4cd0a908c194f739df4727c3ffd4a59",
       "version_major": 2,
       "version_minor": 0
      },
      "text/plain": [
       "HBox(children=(HTML(value=''), FloatProgress(value=0.0, max=85.0), HTML(value='')))"
      ]
     },
     "metadata": {},
     "output_type": "display_data"
    },
    {
     "name": "stdout",
     "output_type": "stream",
     "text": [
      "\n"
     ]
    },
    {
     "data": {
      "application/vnd.jupyter.widget-view+json": {
       "model_id": "81caff5659e14e56aa906eaf0501901b",
       "version_major": 2,
       "version_minor": 0
      },
      "text/plain": [
       "HBox(children=(HTML(value=''), FloatProgress(value=0.0, max=22.0), HTML(value='')))"
      ]
     },
     "metadata": {},
     "output_type": "display_data"
    },
    {
     "name": "stdout",
     "output_type": "stream",
     "text": [
      "\n",
      "epoch: 63, avg train loss 1.3561, avg test acc 0.4261\n"
     ]
    },
    {
     "data": {
      "application/vnd.jupyter.widget-view+json": {
       "model_id": "b757b0f6037f4dc3b10e42566bfb9b8d",
       "version_major": 2,
       "version_minor": 0
      },
      "text/plain": [
       "HBox(children=(HTML(value=''), FloatProgress(value=0.0, max=85.0), HTML(value='')))"
      ]
     },
     "metadata": {},
     "output_type": "display_data"
    },
    {
     "name": "stdout",
     "output_type": "stream",
     "text": [
      "\n"
     ]
    },
    {
     "data": {
      "application/vnd.jupyter.widget-view+json": {
       "model_id": "f916c669cbd44807b520ac609c284571",
       "version_major": 2,
       "version_minor": 0
      },
      "text/plain": [
       "HBox(children=(HTML(value=''), FloatProgress(value=0.0, max=22.0), HTML(value='')))"
      ]
     },
     "metadata": {},
     "output_type": "display_data"
    },
    {
     "name": "stdout",
     "output_type": "stream",
     "text": [
      "\n",
      "epoch: 64, avg train loss 1.3049, avg test acc 0.5795\n"
     ]
    },
    {
     "data": {
      "application/vnd.jupyter.widget-view+json": {
       "model_id": "cdab1902be79423f91a87365a4a9be6d",
       "version_major": 2,
       "version_minor": 0
      },
      "text/plain": [
       "HBox(children=(HTML(value=''), FloatProgress(value=0.0, max=85.0), HTML(value='')))"
      ]
     },
     "metadata": {},
     "output_type": "display_data"
    },
    {
     "name": "stdout",
     "output_type": "stream",
     "text": [
      "\n"
     ]
    },
    {
     "data": {
      "application/vnd.jupyter.widget-view+json": {
       "model_id": "4bfd561a14e24cb689d18fe30d7deeb0",
       "version_major": 2,
       "version_minor": 0
      },
      "text/plain": [
       "HBox(children=(HTML(value=''), FloatProgress(value=0.0, max=22.0), HTML(value='')))"
      ]
     },
     "metadata": {},
     "output_type": "display_data"
    },
    {
     "name": "stdout",
     "output_type": "stream",
     "text": [
      "\n",
      "epoch: 65, avg train loss 1.3127, avg test acc 0.5909\n"
     ]
    },
    {
     "data": {
      "application/vnd.jupyter.widget-view+json": {
       "model_id": "4051451f7cd04077a26eb30535277174",
       "version_major": 2,
       "version_minor": 0
      },
      "text/plain": [
       "HBox(children=(HTML(value=''), FloatProgress(value=0.0, max=85.0), HTML(value='')))"
      ]
     },
     "metadata": {},
     "output_type": "display_data"
    },
    {
     "name": "stdout",
     "output_type": "stream",
     "text": [
      "\n"
     ]
    },
    {
     "data": {
      "application/vnd.jupyter.widget-view+json": {
       "model_id": "1bcad35e7bf448949dab8837f5aa400f",
       "version_major": 2,
       "version_minor": 0
      },
      "text/plain": [
       "HBox(children=(HTML(value=''), FloatProgress(value=0.0, max=22.0), HTML(value='')))"
      ]
     },
     "metadata": {},
     "output_type": "display_data"
    },
    {
     "name": "stdout",
     "output_type": "stream",
     "text": [
      "\n",
      "epoch: 66, avg train loss 1.2670, avg test acc 0.6080\n"
     ]
    },
    {
     "data": {
      "application/vnd.jupyter.widget-view+json": {
       "model_id": "189af50510a4408dbad186d089bbd4dd",
       "version_major": 2,
       "version_minor": 0
      },
      "text/plain": [
       "HBox(children=(HTML(value=''), FloatProgress(value=0.0, max=85.0), HTML(value='')))"
      ]
     },
     "metadata": {},
     "output_type": "display_data"
    },
    {
     "name": "stdout",
     "output_type": "stream",
     "text": [
      "\n"
     ]
    },
    {
     "data": {
      "application/vnd.jupyter.widget-view+json": {
       "model_id": "ffc710b6538741e699c6aed7c61065c1",
       "version_major": 2,
       "version_minor": 0
      },
      "text/plain": [
       "HBox(children=(HTML(value=''), FloatProgress(value=0.0, max=22.0), HTML(value='')))"
      ]
     },
     "metadata": {},
     "output_type": "display_data"
    },
    {
     "name": "stdout",
     "output_type": "stream",
     "text": [
      "\n",
      "epoch: 67, avg train loss 1.2992, avg test acc 0.5739\n"
     ]
    },
    {
     "data": {
      "application/vnd.jupyter.widget-view+json": {
       "model_id": "526e7154abc24d22898349b3795650b9",
       "version_major": 2,
       "version_minor": 0
      },
      "text/plain": [
       "HBox(children=(HTML(value=''), FloatProgress(value=0.0, max=85.0), HTML(value='')))"
      ]
     },
     "metadata": {},
     "output_type": "display_data"
    },
    {
     "name": "stdout",
     "output_type": "stream",
     "text": [
      "\n"
     ]
    },
    {
     "data": {
      "application/vnd.jupyter.widget-view+json": {
       "model_id": "6041b4b819274e01a9ecd6a1711f9953",
       "version_major": 2,
       "version_minor": 0
      },
      "text/plain": [
       "HBox(children=(HTML(value=''), FloatProgress(value=0.0, max=22.0), HTML(value='')))"
      ]
     },
     "metadata": {},
     "output_type": "display_data"
    },
    {
     "name": "stdout",
     "output_type": "stream",
     "text": [
      "\n",
      "epoch: 68, avg train loss 1.3202, avg test acc 0.5227\n"
     ]
    },
    {
     "data": {
      "application/vnd.jupyter.widget-view+json": {
       "model_id": "4f71b12f09994aea80167b532c524456",
       "version_major": 2,
       "version_minor": 0
      },
      "text/plain": [
       "HBox(children=(HTML(value=''), FloatProgress(value=0.0, max=85.0), HTML(value='')))"
      ]
     },
     "metadata": {},
     "output_type": "display_data"
    },
    {
     "name": "stdout",
     "output_type": "stream",
     "text": [
      "\n"
     ]
    },
    {
     "data": {
      "application/vnd.jupyter.widget-view+json": {
       "model_id": "94fa723199b14175bb489ecc8b6ceaee",
       "version_major": 2,
       "version_minor": 0
      },
      "text/plain": [
       "HBox(children=(HTML(value=''), FloatProgress(value=0.0, max=22.0), HTML(value='')))"
      ]
     },
     "metadata": {},
     "output_type": "display_data"
    },
    {
     "name": "stdout",
     "output_type": "stream",
     "text": [
      "\n",
      "epoch: 69, avg train loss 1.2927, avg test acc 0.5625\n"
     ]
    },
    {
     "data": {
      "application/vnd.jupyter.widget-view+json": {
       "model_id": "c066e6d91b3941f3a643e0a33b775b75",
       "version_major": 2,
       "version_minor": 0
      },
      "text/plain": [
       "HBox(children=(HTML(value=''), FloatProgress(value=0.0, max=85.0), HTML(value='')))"
      ]
     },
     "metadata": {},
     "output_type": "display_data"
    },
    {
     "name": "stdout",
     "output_type": "stream",
     "text": [
      "\n"
     ]
    },
    {
     "data": {
      "application/vnd.jupyter.widget-view+json": {
       "model_id": "463b0ecb10b94789a4539f32243cb762",
       "version_major": 2,
       "version_minor": 0
      },
      "text/plain": [
       "HBox(children=(HTML(value=''), FloatProgress(value=0.0, max=22.0), HTML(value='')))"
      ]
     },
     "metadata": {},
     "output_type": "display_data"
    },
    {
     "name": "stdout",
     "output_type": "stream",
     "text": [
      "\n",
      "epoch: 70, avg train loss 1.2432, avg test acc 0.5739\n"
     ]
    },
    {
     "data": {
      "application/vnd.jupyter.widget-view+json": {
       "model_id": "da1bf0a2baf14474b9821b8c79d435db",
       "version_major": 2,
       "version_minor": 0
      },
      "text/plain": [
       "HBox(children=(HTML(value=''), FloatProgress(value=0.0, max=85.0), HTML(value='')))"
      ]
     },
     "metadata": {},
     "output_type": "display_data"
    },
    {
     "name": "stdout",
     "output_type": "stream",
     "text": [
      "\n"
     ]
    },
    {
     "data": {
      "application/vnd.jupyter.widget-view+json": {
       "model_id": "307bf8c9d30f47b1ab1602d048d46eba",
       "version_major": 2,
       "version_minor": 0
      },
      "text/plain": [
       "HBox(children=(HTML(value=''), FloatProgress(value=0.0, max=22.0), HTML(value='')))"
      ]
     },
     "metadata": {},
     "output_type": "display_data"
    },
    {
     "name": "stdout",
     "output_type": "stream",
     "text": [
      "\n",
      "epoch: 71, avg train loss 1.2523, avg test acc 0.5909\n"
     ]
    },
    {
     "data": {
      "application/vnd.jupyter.widget-view+json": {
       "model_id": "fd4ba564f41a43da8646d16c60369595",
       "version_major": 2,
       "version_minor": 0
      },
      "text/plain": [
       "HBox(children=(HTML(value=''), FloatProgress(value=0.0, max=85.0), HTML(value='')))"
      ]
     },
     "metadata": {},
     "output_type": "display_data"
    },
    {
     "name": "stdout",
     "output_type": "stream",
     "text": [
      "\n"
     ]
    },
    {
     "data": {
      "application/vnd.jupyter.widget-view+json": {
       "model_id": "5ddd02b3f0e24d0eb628ef02989da7c5",
       "version_major": 2,
       "version_minor": 0
      },
      "text/plain": [
       "HBox(children=(HTML(value=''), FloatProgress(value=0.0, max=22.0), HTML(value='')))"
      ]
     },
     "metadata": {},
     "output_type": "display_data"
    },
    {
     "name": "stdout",
     "output_type": "stream",
     "text": [
      "\n",
      "epoch: 72, avg train loss 1.2052, avg test acc 0.6023\n"
     ]
    },
    {
     "data": {
      "application/vnd.jupyter.widget-view+json": {
       "model_id": "623dabfd0d874d2abd4ff7aa71319204",
       "version_major": 2,
       "version_minor": 0
      },
      "text/plain": [
       "HBox(children=(HTML(value=''), FloatProgress(value=0.0, max=85.0), HTML(value='')))"
      ]
     },
     "metadata": {},
     "output_type": "display_data"
    },
    {
     "name": "stdout",
     "output_type": "stream",
     "text": [
      "\n"
     ]
    },
    {
     "data": {
      "application/vnd.jupyter.widget-view+json": {
       "model_id": "4d223bfe7dba41b299d3271f1303f5db",
       "version_major": 2,
       "version_minor": 0
      },
      "text/plain": [
       "HBox(children=(HTML(value=''), FloatProgress(value=0.0, max=22.0), HTML(value='')))"
      ]
     },
     "metadata": {},
     "output_type": "display_data"
    },
    {
     "name": "stdout",
     "output_type": "stream",
     "text": [
      "\n",
      "epoch: 73, avg train loss 1.2418, avg test acc 0.5625\n"
     ]
    },
    {
     "data": {
      "application/vnd.jupyter.widget-view+json": {
       "model_id": "c6592d125f5041cfa3e2ecde28024824",
       "version_major": 2,
       "version_minor": 0
      },
      "text/plain": [
       "HBox(children=(HTML(value=''), FloatProgress(value=0.0, max=85.0), HTML(value='')))"
      ]
     },
     "metadata": {},
     "output_type": "display_data"
    },
    {
     "name": "stdout",
     "output_type": "stream",
     "text": [
      "\n"
     ]
    },
    {
     "data": {
      "application/vnd.jupyter.widget-view+json": {
       "model_id": "318823fe3f614a7092c8348359aa4510",
       "version_major": 2,
       "version_minor": 0
      },
      "text/plain": [
       "HBox(children=(HTML(value=''), FloatProgress(value=0.0, max=22.0), HTML(value='')))"
      ]
     },
     "metadata": {},
     "output_type": "display_data"
    },
    {
     "name": "stdout",
     "output_type": "stream",
     "text": [
      "\n",
      "epoch: 74, avg train loss 1.2416, avg test acc 0.5852\n"
     ]
    },
    {
     "data": {
      "application/vnd.jupyter.widget-view+json": {
       "model_id": "bfbfceaab0774adea804f1d988291ddb",
       "version_major": 2,
       "version_minor": 0
      },
      "text/plain": [
       "HBox(children=(HTML(value=''), FloatProgress(value=0.0, max=85.0), HTML(value='')))"
      ]
     },
     "metadata": {},
     "output_type": "display_data"
    },
    {
     "name": "stdout",
     "output_type": "stream",
     "text": [
      "\n"
     ]
    },
    {
     "data": {
      "application/vnd.jupyter.widget-view+json": {
       "model_id": "1129b3dd332649458d382f988fc41d69",
       "version_major": 2,
       "version_minor": 0
      },
      "text/plain": [
       "HBox(children=(HTML(value=''), FloatProgress(value=0.0, max=22.0), HTML(value='')))"
      ]
     },
     "metadata": {},
     "output_type": "display_data"
    },
    {
     "name": "stdout",
     "output_type": "stream",
     "text": [
      "\n",
      "epoch: 75, avg train loss 1.1781, avg test acc 0.5511\n"
     ]
    },
    {
     "data": {
      "application/vnd.jupyter.widget-view+json": {
       "model_id": "dc8cacf5464a4f91a998cf65741a2e96",
       "version_major": 2,
       "version_minor": 0
      },
      "text/plain": [
       "HBox(children=(HTML(value=''), FloatProgress(value=0.0, max=85.0), HTML(value='')))"
      ]
     },
     "metadata": {},
     "output_type": "display_data"
    }
   ],
   "source": [
    "for epoch in range(epoches):\n",
    "    loss_epoch = []\n",
    "    model.train()\n",
    "    for batch_inputs, batch_scores in tqdm(train_dataloader):\n",
    "        #print(batch_inputs.shape)\n",
    "        #print(batch_scores.shape)\n",
    "        if torch.cuda.is_available() and USE_CUDA:\n",
    "                batch_inputs = batch_inputs.to(\"cuda\")\n",
    "                batch_scores = batch_scores.to(\"cuda\")\n",
    "\n",
    "        batch_pred = model(batch_inputs)\n",
    "\n",
    "        loss = loss_fun(batch_pred, batch_scores)\n",
    "\n",
    "        optimizer.zero_grad()\n",
    "        loss.backward()\n",
    "        optimizer.step()\n",
    "\n",
    "        loss_epoch.append(loss.item())\n",
    "\n",
    "        # break\n",
    "\n",
    "    model.eval()\n",
    "    acc_epoch = []\n",
    "    for batch_inputs, batch_scores in tqdm(test_dataloader):\n",
    "        if torch.cuda.is_available() and USE_CUDA:\n",
    "                batch_inputs = batch_inputs.to(\"cuda\")\n",
    "                batch_scores = batch_scores.to(\"cuda\")\n",
    "\n",
    "        batch_pred = model(batch_inputs)\n",
    "\n",
    "        _, predictions = torch.max(batch_pred, dim=-1)\n",
    "\n",
    "        acc = torch.mean(predictions.eq(batch_scores).float())\n",
    "\n",
    "        acc_epoch.append(acc.item())\n",
    "\n",
    "        # break\n",
    "\n",
    "    avg_loss = np.mean(loss_epoch)\n",
    "    avg_acc = np.mean(acc_epoch)\n",
    "    print(\"epoch: {}, avg train loss {:.4f}, avg test acc {:.4f}\".format(epoch, avg_loss, avg_acc))"
   ]
  },
  {
   "cell_type": "code",
   "execution_count": null,
   "metadata": {},
   "outputs": [],
   "source": [
    "# model"
   ]
  },
  {
   "cell_type": "code",
   "execution_count": null,
   "metadata": {},
   "outputs": [],
   "source": [
    "model_parameters = filter(lambda p: p.requires_grad, model.parameters())\n",
    "params = sum([np.prod(p.size()) for p in model_parameters])"
   ]
  },
  {
   "cell_type": "code",
   "execution_count": null,
   "metadata": {},
   "outputs": [],
   "source": [
    "# torch.save(model.state_dict(), \"11_4_eff_flowers_night_pre_trained_100_16.pth\")"
   ]
  },
  {
   "cell_type": "code",
   "execution_count": null,
   "metadata": {},
   "outputs": [],
   "source": []
  }
 ],
 "metadata": {
  "kernelspec": {
   "display_name": "Python 3",
   "language": "python",
   "name": "python3"
  },
  "language_info": {
   "codemirror_mode": {
    "name": "ipython",
    "version": 3
   },
   "file_extension": ".py",
   "mimetype": "text/x-python",
   "name": "python",
   "nbconvert_exporter": "python",
   "pygments_lexer": "ipython3",
   "version": "3.7.9"
  }
 },
 "nbformat": 4,
 "nbformat_minor": 4
}
