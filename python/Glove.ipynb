{
 "cells": [
  {
   "cell_type": "code",
   "execution_count": 1,
   "metadata": {},
   "outputs": [],
   "source": [
    "import numpy as np"
   ]
  },
  {
   "cell_type": "code",
   "execution_count": 4,
   "metadata": {},
   "outputs": [],
   "source": [
    "from tqdm.auto import tqdm"
   ]
  },
  {
   "cell_type": "code",
   "execution_count": 5,
   "metadata": {},
   "outputs": [
    {
     "data": {
      "application/vnd.jupyter.widget-view+json": {
       "model_id": "7765b62c920b405a872285572a2fc06f",
       "version_major": 2,
       "version_minor": 0
      },
      "text/plain": [
       "HBox(children=(HTML(value=''), FloatProgress(value=1.0, bar_style='info', layout=Layout(width='20px'), max=1.0…"
      ]
     },
     "metadata": {},
     "output_type": "display_data"
    },
    {
     "name": "stdout",
     "output_type": "stream",
     "text": [
      "\n"
     ]
    }
   ],
   "source": [
    "embeddings_dict = {}\n",
    "with open(\"data/glove.6B.50d.txt\", 'r', encoding=\"utf-8\") as f:\n",
    "    for line in tqdm(f):\n",
    "        values = line.split()\n",
    "        word = values[0]\n",
    "        vector = np.asarray(values[1:], \"float32\")\n",
    "        embeddings_dict[word] = vector"
   ]
  },
  {
   "cell_type": "code",
   "execution_count": 15,
   "metadata": {},
   "outputs": [
    {
     "data": {
      "text/plain": [
       "7.7763095"
      ]
     },
     "execution_count": 15,
     "metadata": {},
     "output_type": "execute_result"
    }
   ],
   "source": [
    "np.sum((embeddings_dict[\"mother\"] - embeddings_dict[\"woman\"])**2)"
   ]
  },
  {
   "cell_type": "code",
   "execution_count": 17,
   "metadata": {},
   "outputs": [
    {
     "data": {
      "text/plain": [
       "array([ 0.4336   ,  1.0727   , -0.6196   , -0.80679  ,  1.2519   ,\n",
       "        1.3767   , -0.93533  ,  0.76088  , -0.0056654, -0.063649 ,\n",
       "        0.30297  ,  0.52401  ,  0.2843   , -0.38162  ,  0.98797  ,\n",
       "        0.093184 , -1.1464   ,  0.070523 ,  0.58012  ,  0.50644  ,\n",
       "       -0.24026  ,  1.7344   ,  0.020735 ,  0.43704  ,  1.2148   ,\n",
       "       -2.2483   , -0.41168  , -0.24922  ,  0.31225  , -0.49464  ,\n",
       "        2.0441   , -0.012111 , -0.19556  ,  0.085665 ,  0.27682  ,\n",
       "        0.015702 ,  0.0067683,  0.12759  ,  0.87008  , -0.40641  ,\n",
       "       -0.21057  ,  0.41651  , -0.021812 , -0.53649  ,  0.54095  ,\n",
       "       -0.43442  , -0.52489  , -2.0277   ,  0.13136  ,  0.11704  ],\n",
       "      dtype=float32)"
      ]
     },
     "execution_count": 17,
     "metadata": {},
     "output_type": "execute_result"
    }
   ],
   "source": [
    "embeddings_dict[\"mother\"]"
   ]
  },
  {
   "cell_type": "code",
   "execution_count": null,
   "metadata": {},
   "outputs": [],
   "source": []
  }
 ],
 "metadata": {
  "kernelspec": {
   "display_name": "Python 3",
   "language": "python",
   "name": "python3"
  },
  "language_info": {
   "codemirror_mode": {
    "name": "ipython",
    "version": 3
   },
   "file_extension": ".py",
   "mimetype": "text/x-python",
   "name": "python",
   "nbconvert_exporter": "python",
   "pygments_lexer": "ipython3",
   "version": "3.7.9"
  }
 },
 "nbformat": 4,
 "nbformat_minor": 4
}
