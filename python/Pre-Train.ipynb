{
 "cells": [
  {
   "cell_type": "code",
   "execution_count": null,
   "metadata": {},
   "outputs": [],
   "source": [
    "import torch\n",
    "import torch.nn as nn\n",
    "from torch.utils.data import Dataset, DataLoader\n",
    "import torchvision\n",
    "\n",
    "import PIL\n",
    "\n",
    "import numpy as np\n",
    "import matplotlib.pyplot as plt\n",
    "\n",
    "import os\n",
    "import re"
   ]
  },
  {
   "cell_type": "code",
   "execution_count": null,
   "metadata": {},
   "outputs": [],
   "source": [
    "from tqdm.auto import tqdm"
   ]
  },
  {
   "cell_type": "code",
   "execution_count": null,
   "metadata": {},
   "outputs": [],
   "source": [
    "f_path_list = [\"data/labeldata2/\", \"data/labeldata3/\"]"
   ]
  },
  {
   "cell_type": "code",
   "execution_count": null,
   "metadata": {},
   "outputs": [],
   "source": [
    "IMAGE_SIZE = 224"
   ]
  },
  {
   "cell_type": "code",
   "execution_count": null,
   "metadata": {},
   "outputs": [],
   "source": [
    "class AllTangramImages(Dataset):\n",
    "    def __init__(self, folder_path_list,  transforms=None):\n",
    "        self.data_root_folders = folder_path_list\n",
    "        self.image_list  = self.load_image_list()\n",
    "        self.transforms = transforms\n",
    "        \n",
    "    def load_image_list(self):\n",
    "        image_list = []\n",
    "        for folder_path in self.data_root_folders:\n",
    "            for time_folder in os.listdir(folder_path):\n",
    "                image_folder = os.path.join(folder_path, time_folder)\n",
    "                for file_name in os.listdir(image_folder):\n",
    "                    image_list.append(os.path.join(image_folder, file_name))\n",
    "        \n",
    "        return image_list\n",
    "    \n",
    "    def __len__(self):\n",
    "        return len(self.image_list)\n",
    "    \n",
    "    def __getitem__(self, index):\n",
    "        single_image_path = self.image_list[index]\n",
    "        # Open image\n",
    "        img = PIL.Image.open(single_image_path).convert(\"L\")\n",
    "        img = PIL.ImageOps.invert(img)\n",
    "        #img = resize(img,(IMAGE_SIZE,IMAGE_SIZE))\n",
    "        if self.transforms is not None:\n",
    "            img = self.transforms(img)\n",
    "            \n",
    "        score = float(re.split(r\"(\\\\|\\.|/)\",single_image_path)[-3])\n",
    "        return img, score / 8.0\n",
    "        "
   ]
  },
  {
   "cell_type": "code",
   "execution_count": null,
   "metadata": {},
   "outputs": [],
   "source": [
    "transforms = torchvision.transforms.Compose([\n",
    "    torchvision.transforms.Resize((IMAGE_SIZE,IMAGE_SIZE), interpolation = PIL.Image.NEAREST),\n",
    "    torchvision.transforms.RandomAffine(degrees = 90, translate = (0.2,0.2), scale = (0.6,1)),\n",
    "    torchvision.transforms.ColorJitter(hue=.05, saturation=.05),\n",
    "    torchvision.transforms.RandomHorizontalFlip(),\n",
    "    torchvision.transforms.RandomVerticalFlip(),\n",
    "    # torchvision.transforms.RandomRotation(20, resample=PIL.Image.BILINEAR)\n",
    "    torchvision.transforms.ToTensor(),\n",
    "])"
   ]
  },
  {
   "cell_type": "code",
   "execution_count": null,
   "metadata": {},
   "outputs": [],
   "source": [
    "ati = AllTangramImages(f_path_list, transforms)"
   ]
  },
  {
   "cell_type": "code",
   "execution_count": null,
   "metadata": {},
   "outputs": [],
   "source": [
    "len(ati)"
   ]
  },
  {
   "cell_type": "code",
   "execution_count": null,
   "metadata": {},
   "outputs": [],
   "source": [
    "plt.imshow(ati[-300][0][0], cmap = \"gray\")"
   ]
  },
  {
   "cell_type": "code",
   "execution_count": null,
   "metadata": {},
   "outputs": [],
   "source": [
    "from efficientnet_pytorch import EfficientNet"
   ]
  },
  {
   "cell_type": "code",
   "execution_count": null,
   "metadata": {},
   "outputs": [],
   "source": [
    "class EfficientNeuralNetwork(nn.Module):\n",
    "    def __init__(self):\n",
    "        super(EfficientNeuralNetwork, self).__init__()\n",
    "        self.efficient = EfficientNet.from_name('efficientnet-b0', in_channels = 1, num_classes = 0) #!!!!注意一下\n",
    "\n",
    "        self.scores_head = nn.Sequential(\n",
    "            nn.Linear(1280, 64),\n",
    "            nn.ReLU(),\n",
    "            nn.Linear(64, 1),\n",
    "            nn.Sigmoid()\n",
    "        )\n",
    "\n",
    "    def forward(self, inputs, params=None):\n",
    "        features = self.efficient.extract_features(inputs)\n",
    "        # print(features.shape)\n",
    "        features = features.view((features.size(0), -1))\n",
    "        # print(features.shape)\n",
    "        features = torch.mean(features.view(features.size(0), features.size(0), -1), dim = 2) #global average pooling\n",
    "        scores = self.scores_head(features)\n",
    "        return scores"
   ]
  },
  {
   "cell_type": "code",
   "execution_count": null,
   "metadata": {},
   "outputs": [],
   "source": [
    "model = EfficientNeuralNetwork()"
   ]
  },
  {
   "cell_type": "code",
   "execution_count": null,
   "metadata": {},
   "outputs": [],
   "source": [
    "if torch.cuda.is_available():\n",
    "    model = model.cuda()"
   ]
  },
  {
   "cell_type": "code",
   "execution_count": null,
   "metadata": {},
   "outputs": [],
   "source": [
    "train_dataset_len = int(0.9 * len(ati))\n",
    "test_dataset_len = len(ati) - train_dataset_len"
   ]
  },
  {
   "cell_type": "code",
   "execution_count": null,
   "metadata": {},
   "outputs": [],
   "source": [
    "train_dataset, test_dataset = torch.utils.data.random_split(ati,[train_dataset_len, test_dataset_len])"
   ]
  },
  {
   "cell_type": "code",
   "execution_count": null,
   "metadata": {},
   "outputs": [],
   "source": [
    "train_dataloader = DataLoader(train_dataset, batch_size=16, shuffle=True, num_workers=0)\n",
    "test_dataloader = DataLoader(test_dataset, batch_size=16, shuffle=True, num_workers=0)"
   ]
  },
  {
   "cell_type": "code",
   "execution_count": null,
   "metadata": {},
   "outputs": [],
   "source": [
    "optimizer = torch.optim.Adam(model.parameters(), lr=0.001)"
   ]
  },
  {
   "cell_type": "code",
   "execution_count": null,
   "metadata": {},
   "outputs": [],
   "source": [
    "epochs = 20"
   ]
  },
  {
   "cell_type": "code",
   "execution_count": null,
   "metadata": {},
   "outputs": [],
   "source": [
    "for epoch in range(epochs):\n",
    "    loss_epoch_train = []\n",
    "    loss_epoch_test = []\n",
    "    count = 0\n",
    "    model.train()\n",
    "    for batch_inputs, batch_scores in tqdm(train_dataloader):\n",
    "        #print(batch_inputs.shape)\n",
    "        if torch.cuda.is_available():\n",
    "            batch_inputs = batch_inputs.to(\"cuda\")\n",
    "            batch_scores = batch_scores.to(\"cuda\")\n",
    "        \n",
    "        pred_scores = model(batch_inputs).view(-1)\n",
    "        \n",
    "        loss = torch.sum((pred_scores - batch_scores)**2)\n",
    "        \n",
    "        optimizer.zero_grad()\n",
    "        loss.backward()\n",
    "        optimizer.step()\n",
    "        \n",
    "        loss_epoch_train.append(loss.item())\n",
    "        \n",
    "    model.eval()\n",
    "    for batch_inputs, batch_scores in tqdm(test_dataloader):\n",
    "        #print(batch_inputs.shape)\n",
    "        if torch.cuda.is_available():\n",
    "            batch_inputs = batch_inputs.to(\"cuda\")\n",
    "            batch_scores = batch_scores.to(\"cuda\")\n",
    "        \n",
    "        pred_scores = model(batch_inputs).view(-1)\n",
    "        \n",
    "        loss = torch.sum((pred_scores - batch_scores)**2)\n",
    "        \n",
    "        loss_epoch_test.append(loss.item())\n",
    "        \n",
    "    print(\"epoch: {} avg loss train {:.2f} avg loss test {:.2f} \".format(epoch, np.mean(loss_epoch_train), np.mean(loss_epoch_test)))"
   ]
  },
  {
   "cell_type": "code",
   "execution_count": null,
   "metadata": {},
   "outputs": [],
   "source": [
    "torch.save(model.state_dict(), \"11_4_eff_pre_train.pth\")"
   ]
  },
  {
   "cell_type": "code",
   "execution_count": null,
   "metadata": {},
   "outputs": [],
   "source": []
  }
 ],
 "metadata": {
  "kernelspec": {
   "display_name": "Python 3",
   "language": "python",
   "name": "python3"
  },
  "language_info": {
   "codemirror_mode": {
    "name": "ipython",
    "version": 3
   },
   "file_extension": ".py",
   "mimetype": "text/x-python",
   "name": "python",
   "nbconvert_exporter": "python",
   "pygments_lexer": "ipython3",
   "version": "3.7.9"
  }
 },
 "nbformat": 4,
 "nbformat_minor": 4
}
