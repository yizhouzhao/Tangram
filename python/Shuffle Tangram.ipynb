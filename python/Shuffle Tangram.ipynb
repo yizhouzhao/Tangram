{
 "cells": [
  {
   "cell_type": "code",
   "execution_count": 1,
   "metadata": {},
   "outputs": [],
   "source": [
    "from shapely.geometry import Point\n",
    "from shapely.geometry.polygon import Polygon\n",
    "\n",
    "\n",
    "import copy\n",
    "import numpy as np\n",
    "import cv2\n",
    "import matplotlib.pyplot as plt\n",
    "import os"
   ]
  },
  {
   "cell_type": "code",
   "execution_count": 2,
   "metadata": {},
   "outputs": [
    {
     "name": "stdout",
     "output_type": "stream",
     "text": [
      "True\n"
     ]
    }
   ],
   "source": [
    "point = Point(0.5, 0.5)\n",
    "polygon = Polygon([(0, 0), (0, 1), (1, 1), (1, 0)])\n",
    "print(polygon.contains(point))"
   ]
  },
  {
   "cell_type": "code",
   "execution_count": 3,
   "metadata": {},
   "outputs": [],
   "source": [
    "boardHeight = 10\n",
    "boardWidth = 10\n",
    "gridStep = 0.1\n",
    "shapeIdList = [1,2,3,4,5,6,7]"
   ]
  },
  {
   "cell_type": "code",
   "execution_count": 4,
   "metadata": {},
   "outputs": [],
   "source": [
    "jsoninfo = {\"MoveShapeSequence\":[7,6,3,4,5,3,2,3,6,4,2,7,5,1],\"SevenShapeInfo\":[{\"shapeId\":1,\"shapeType\":0,\"rotationType\":0,\"shapePosition\":{\"x\":-2.6000001430511476,\"y\":-1.5},\"shapePositionIds\":{\"x\":-26.0,\"y\":-15.0},\"shapeRotation\":{\"x\":45.00001525878906,\"y\":270.0,\"z\":90.0},\"shapeRotationId\":6},{\"shapeId\":2,\"shapeType\":0,\"rotationType\":0,\"shapePosition\":{\"x\":2.5,\"y\":0.800000011920929},\"shapePositionIds\":{\"x\":25.0,\"y\":8.0},\"shapeRotation\":{\"x\":45.00001907348633,\"y\":90.0,\"z\":270.0},\"shapeRotationId\":0},{\"shapeId\":3,\"shapeType\":3,\"rotationType\":0,\"shapePosition\":{\"x\":2.5,\"y\":2.9000000953674318},\"shapePositionIds\":{\"x\":25.0,\"y\":29.0},\"shapeRotation\":{\"x\":314.9999694824219,\"y\":90.0,\"z\":90.0},\"shapeRotationId\":0},{\"shapeId\":4,\"shapeType\":4,\"rotationType\":0,\"shapePosition\":{\"x\":3.0,\"y\":-0.699999988079071},\"shapePositionIds\":{\"x\":30.0,\"y\":-7.0},\"shapeRotation\":{\"x\":45.000022888183597,\"y\":270.0,\"z\":270.0},\"shapeRotationId\":0},{\"shapeId\":5,\"shapeType\":1,\"rotationType\":0,\"shapePosition\":{\"x\":-1.6000001430511475,\"y\":-0.4000000059604645},\"shapePositionIds\":{\"x\":-16.0,\"y\":-4.0},\"shapeRotation\":{\"x\":-0.000020490568203967996,\"y\":90.00001525878906,\"z\":90.0},\"shapeRotationId\":3},{\"shapeId\":6,\"shapeType\":2,\"rotationType\":0,\"shapePosition\":{\"x\":2.4000000953674318,\"y\":-0.20000000298023225},\"shapePositionIds\":{\"x\":24.0,\"y\":-2.0},\"shapeRotation\":{\"x\":45.00001525878906,\"y\":270.0,\"z\":270.0},\"shapeRotationId\":12},{\"shapeId\":7,\"shapeType\":2,\"rotationType\":0,\"shapePosition\":{\"x\":0.8999999761581421,\"y\":-0.800000011920929},\"shapePositionIds\":{\"x\":9.0,\"y\":-8.0},\"shapeRotation\":{\"x\":-0.000010245284101983998,\"y\":270.0,\"z\":90.0},\"shapeRotationId\":9}]}"
   ]
  },
  {
   "cell_type": "code",
   "execution_count": 5,
   "metadata": {},
   "outputs": [],
   "source": [
    "moveSequence = jsoninfo[\"MoveShapeSequence\"]\n",
    "sevenShapeInfo = jsoninfo[\"SevenShapeInfo\"]"
   ]
  },
  {
   "cell_type": "code",
   "execution_count": 6,
   "metadata": {},
   "outputs": [],
   "source": [
    "# placeSequence = []\n",
    "# for element in moveSequence[::-1]:\n",
    "#     if element in placeSequence:\n",
    "#         continue\n",
    "#     placeSequence.append(element)\n",
    "\n",
    "# for shapeId in shapeIdList:\n",
    "#     if not shapeId in placeSequence:\n",
    "#         placeSequence.append(shapeId)"
   ]
  },
  {
   "cell_type": "code",
   "execution_count": 7,
   "metadata": {},
   "outputs": [],
   "source": [
    "#placeSequence"
   ]
  },
  {
   "cell_type": "code",
   "execution_count": 8,
   "metadata": {},
   "outputs": [],
   "source": [
    "shapeInfo = sevenShapeInfo[3]"
   ]
  },
  {
   "cell_type": "code",
   "execution_count": 9,
   "metadata": {},
   "outputs": [
    {
     "data": {
      "text/plain": [
       "{'shapeId': 4,\n",
       " 'shapeType': 4,\n",
       " 'rotationType': 0,\n",
       " 'shapePosition': {'x': 3.0, 'y': -0.699999988079071},\n",
       " 'shapePositionIds': {'x': 30.0, 'y': -7.0},\n",
       " 'shapeRotation': {'x': 45.000022888183594, 'y': 270.0, 'z': 270.0},\n",
       " 'shapeRotationId': 0}"
      ]
     },
     "execution_count": 9,
     "metadata": {},
     "output_type": "execute_result"
    }
   ],
   "source": [
    "shapeInfo"
   ]
  },
  {
   "cell_type": "code",
   "execution_count": 10,
   "metadata": {},
   "outputs": [],
   "source": [
    "image = np.ones((100, 100, 3), np.uint8) * 255"
   ]
  },
  {
   "cell_type": "code",
   "execution_count": 11,
   "metadata": {},
   "outputs": [],
   "source": [
    "# pt1 = (15, 10)\n",
    "# pt2 = (10, 20)\n",
    "# pt3 = (20, 20)\n",
    "\n",
    "# triangle_cnt = np.array( [pt1, pt2, pt3] )\n",
    "\n",
    "#cv2.drawContours(image, [triangle_cnt], 0, (0,0,0), -1)"
   ]
  },
  {
   "cell_type": "code",
   "execution_count": 12,
   "metadata": {
    "scrolled": true
   },
   "outputs": [
    {
     "data": {
      "text/plain": [
       "<matplotlib.image.AxesImage at 0x2036c333160>"
      ]
     },
     "execution_count": 12,
     "metadata": {},
     "output_type": "execute_result"
    },
    {
     "data": {
      "image/png": "[encoded data removed]",
      "text/plain": [
       "<Figure size 432x288 with 1 Axes>"
      ]
     },
     "metadata": {
      "needs_background": "light"
     },
     "output_type": "display_data"
    }
   ],
   "source": [
    "plt.imshow(image)"
   ]
  },
  {
   "cell_type": "code",
   "execution_count": 13,
   "metadata": {},
   "outputs": [],
   "source": [
    "def TriangleVertexPosition(shapePositionIds, shapeRotationId, edgeLength = 10, scale = 1):\n",
    "    '''\n",
    "    Draw triangle vertex positions\n",
    "    '''\n",
    "    center_x = shapePositionIds[\"x\"] + boardWidth/gridStep/2\n",
    "    center_y = -shapePositionIds[\"y\"] + boardHeight/gridStep/2\n",
    "    \n",
    "    rotationAngle = np.pi/12 * shapeRotationId\n",
    "    \n",
    "    vertex_0_x = edgeLength * np.cos(rotationAngle)\n",
    "    vertex_0_y = edgeLength * np.sin(rotationAngle)\n",
    "    point_0 = ((int)(center_x + vertex_0_x), (int)(center_y + vertex_0_y))\n",
    "    \n",
    "    vertex_1_x = edgeLength * np.cos(rotationAngle - np.pi/2)\n",
    "    vertex_1_y = edgeLength * np.sin(rotationAngle - np.pi/2)\n",
    "    point_1= ((int)(center_x + vertex_1_x), (int)(center_y + vertex_1_y))\n",
    "    \n",
    "    vertex_2_x = edgeLength * np.cos(rotationAngle + np.pi/2)\n",
    "    vertex_2_y = edgeLength * np.sin(rotationAngle + np.pi/2)\n",
    "    point_2 = ((int)(center_x + vertex_2_x), (int)(center_y + vertex_2_y))\n",
    "    \n",
    "    return np.array([point_0, point_1, point_2]) * scale"
   ]
  },
  {
   "cell_type": "code",
   "execution_count": 14,
   "metadata": {},
   "outputs": [],
   "source": [
    "def SquareVertexPosition(shapePositionIds, shapeRotationId, edgeLength = 10, scale = 1):\n",
    "    '''\n",
    "    Draw triangle vertex positions\n",
    "    '''\n",
    "    center_x = shapePositionIds[\"x\"] + boardWidth/gridStep/2\n",
    "    center_y = -shapePositionIds[\"y\"] + boardHeight/gridStep/2\n",
    "    \n",
    "    rotationAngle = np.pi/12 * shapeRotationId\n",
    "    \n",
    "    vertex_0_x = edgeLength * np.cos(rotationAngle)\n",
    "    vertex_0_y = edgeLength * np.sin(rotationAngle)\n",
    "    point_0 = ((int)(center_x + vertex_0_x), (int)(center_y + vertex_0_y))\n",
    "    \n",
    "    vertex_1_x = edgeLength * np.cos(rotationAngle - np.pi/2)\n",
    "    vertex_1_y = edgeLength * np.sin(rotationAngle - np.pi/2)\n",
    "    point_1= ((int)(center_x + vertex_1_x), (int)(center_y + vertex_1_y))\n",
    "    \n",
    "    vertex_2_x = edgeLength * np.cos(rotationAngle + np.pi/2)\n",
    "    vertex_2_y = edgeLength * np.sin(rotationAngle + np.pi/2)\n",
    "    point_2 = ((int)(center_x + vertex_2_x), (int)(center_y + vertex_2_y))\n",
    "    \n",
    "    vertex_3_x = edgeLength * np.cos(rotationAngle + np.pi)\n",
    "    vertex_3_y = edgeLength * np.sin(rotationAngle + np.pi)\n",
    "    point_3 = ((int)(center_x + vertex_3_x), (int)(center_y + vertex_3_y))\n",
    "    \n",
    "    \n",
    "    return np.array([point_0, point_1, point_3, point_2]) * scale"
   ]
  },
  {
   "cell_type": "code",
   "execution_count": 15,
   "metadata": {},
   "outputs": [],
   "source": [
    "def ParallelogramVertexPosition(shapePositionIds, shapeRotationId, edgeLength = 5, scale = 1):\n",
    "    '''\n",
    "    Draw triangle vertex positions\n",
    "    '''\n",
    "    center_x = shapePositionIds[\"x\"] + boardWidth/gridStep/2\n",
    "    center_y = -shapePositionIds[\"y\"] + boardHeight/gridStep/2\n",
    "    \n",
    "    edge_short = 1.414 * edgeLength\n",
    "    edge_long = 2 * edgeLength\n",
    "    \n",
    "    if(shapeRotationId >= 0):\n",
    "        rotationAngle = np.pi/12 * shapeRotationId\n",
    "\n",
    "        edge_short_x = edge_short * np.cos(rotationAngle - np.pi/4)\n",
    "        edge_short_y = edge_short * np.sin(rotationAngle - np.pi/4)\n",
    "    \n",
    "        edge_long_x = edge_long * np.cos(rotationAngle + np.pi/2)\n",
    "        edge_long_y = edge_long * np.sin(rotationAngle + np.pi/2)\n",
    "\n",
    "        point_0 = (int(center_x + edge_short_x + edge_long_x), int(center_y + edge_short_y + edge_long_y))\n",
    "        point_1 = (int(center_x - edge_short_x + edge_long_x), int(center_y - edge_short_y + edge_long_y))\n",
    "        point_2 = (int(center_x - edge_short_x - edge_long_x), int(center_y - edge_short_y - edge_long_y))\n",
    "        point_3 = (int(center_x + edge_short_x - edge_long_x), int(center_y + edge_short_y - edge_long_y))\n",
    "    \n",
    "        return np.array([point_0, point_1, point_2, point_3]) * scale\n",
    "    \n",
    "    else:\n",
    "        rotationAngle = np.pi/12 * (shapeRotationId + 12)\n",
    "        \n",
    "        edge_short_x = edge_short * np.cos(rotationAngle + np.pi/4)\n",
    "        edge_short_y = edge_short * np.sin(rotationAngle + np.pi/4)\n",
    "    \n",
    "        edge_long_x = edge_long * np.cos(rotationAngle + np.pi/2)\n",
    "        edge_long_y = edge_long * np.sin(rotationAngle + np.pi/2)\n",
    "\n",
    "        point_0 = (int(center_x + edge_short_x + edge_long_x), int(center_y + edge_short_y + edge_long_y))\n",
    "        point_1 = (int(center_x - edge_short_x + edge_long_x), int(center_y - edge_short_y + edge_long_y))\n",
    "        point_2 = (int(center_x - edge_short_x - edge_long_x), int(center_y - edge_short_y - edge_long_y))\n",
    "        point_3 = (int(center_x + edge_short_x - edge_long_x), int(center_y + edge_short_y - edge_long_y))\n",
    "        \n",
    "        return np.array([point_0, point_1, point_2, point_3]) * scale"
   ]
  },
  {
   "cell_type": "code",
   "execution_count": 16,
   "metadata": {},
   "outputs": [],
   "source": [
    "point_t = ParallelogramVertexPosition(shapeInfo[\"shapePositionIds\"], shapeInfo[\"shapeRotationId\"])"
   ]
  },
  {
   "cell_type": "code",
   "execution_count": 17,
   "metadata": {},
   "outputs": [
    {
     "data": {
      "text/plain": [
       "array([[84, 62],\n",
       "       [75, 71],\n",
       "       [75, 51],\n",
       "       [84, 42]])"
      ]
     },
     "execution_count": 17,
     "metadata": {},
     "output_type": "execute_result"
    }
   ],
   "source": [
    "point_t"
   ]
  },
  {
   "cell_type": "code",
   "execution_count": 18,
   "metadata": {
    "scrolled": true
   },
   "outputs": [
    {
     "data": {
      "text/plain": [
       "array([[[255, 255, 255],\n",
       "        [255, 255, 255],\n",
       "        [255, 255, 255],\n",
       "        ...,\n",
       "        [255, 255, 255],\n",
       "        [255, 255, 255],\n",
       "        [255, 255, 255]],\n",
       "\n",
       "       [[255, 255, 255],\n",
       "        [255, 255, 255],\n",
       "        [255, 255, 255],\n",
       "        ...,\n",
       "        [255, 255, 255],\n",
       "        [255, 255, 255],\n",
       "        [255, 255, 255]],\n",
       "\n",
       "       [[255, 255, 255],\n",
       "        [255, 255, 255],\n",
       "        [255, 255, 255],\n",
       "        ...,\n",
       "        [255, 255, 255],\n",
       "        [255, 255, 255],\n",
       "        [255, 255, 255]],\n",
       "\n",
       "       ...,\n",
       "\n",
       "       [[255, 255, 255],\n",
       "        [255, 255, 255],\n",
       "        [255, 255, 255],\n",
       "        ...,\n",
       "        [255, 255, 255],\n",
       "        [255, 255, 255],\n",
       "        [255, 255, 255]],\n",
       "\n",
       "       [[255, 255, 255],\n",
       "        [255, 255, 255],\n",
       "        [255, 255, 255],\n",
       "        ...,\n",
       "        [255, 255, 255],\n",
       "        [255, 255, 255],\n",
       "        [255, 255, 255]],\n",
       "\n",
       "       [[255, 255, 255],\n",
       "        [255, 255, 255],\n",
       "        [255, 255, 255],\n",
       "        ...,\n",
       "        [255, 255, 255],\n",
       "        [255, 255, 255],\n",
       "        [255, 255, 255]]], dtype=uint8)"
      ]
     },
     "execution_count": 18,
     "metadata": {},
     "output_type": "execute_result"
    }
   ],
   "source": [
    "cv2.drawContours(image, [point_t], 0, (0,0,0), -1)"
   ]
  },
  {
   "cell_type": "code",
   "execution_count": 19,
   "metadata": {},
   "outputs": [
    {
     "data": {
      "text/plain": [
       "<matplotlib.image.AxesImage at 0x2036c3cf240>"
      ]
     },
     "execution_count": 19,
     "metadata": {},
     "output_type": "execute_result"
    },
    {
     "data": {
      "image/png": "[encoded data removed]",
      "text/plain": [
       "<Figure size 432x288 with 1 Axes>"
      ]
     },
     "metadata": {
      "needs_background": "light"
     },
     "output_type": "display_data"
    }
   ],
   "source": [
    "plt.imshow(image)"
   ]
  },
  {
   "cell_type": "code",
   "execution_count": 20,
   "metadata": {},
   "outputs": [],
   "source": [
    "def DrawImageFromShapeInfo(shapeInfoList, scale = 1):\n",
    "    canvas = np.ones((100 * scale, 100 * scale, 3), np.uint8) * 255\n",
    "    pointDic = {}\n",
    "    \n",
    "    for shapeInfo in shapeInfoList:\n",
    "        if(shapeInfo[\"shapeId\"] == 1 or shapeInfo[\"shapeId\"] == 2): #small triangle\n",
    "            point_t = TriangleVertexPosition(shapeInfo[\"shapePositionIds\"], shapeInfo[\"shapeRotationId\"], 10, scale)\n",
    "        elif(shapeInfo[\"shapeId\"] == 5): #middle triangle\n",
    "            point_t = TriangleVertexPosition(shapeInfo[\"shapePositionIds\"], shapeInfo[\"shapeRotationId\"], 10 * 1.414, scale)    \n",
    "        elif(shapeInfo[\"shapeId\"] == 6 or shapeInfo[\"shapeId\"] == 7): #large triangle\n",
    "            point_t = TriangleVertexPosition(shapeInfo[\"shapePositionIds\"], shapeInfo[\"shapeRotationId\"], 10 * 2, scale)\n",
    "        elif(shapeInfo[\"shapeId\"] == 3): # square\n",
    "            point_t = SquareVertexPosition(shapeInfo[\"shapePositionIds\"], shapeInfo[\"shapeRotationId\"], 10, scale)\n",
    "        else: # =4 parallelogram\n",
    "            point_t = ParallelogramVertexPosition(shapeInfo[\"shapePositionIds\"], shapeInfo[\"shapeRotationId\"], 5, scale)\n",
    "                \n",
    "        cv2.drawContours(canvas, [point_t], 0, (0,0,0), -1)\n",
    "        pointDic[shapeInfo[\"shapeId\"]] = point_t\n",
    "        \n",
    "    return canvas, pointDic"
   ]
  },
  {
   "cell_type": "code",
   "execution_count": 21,
   "metadata": {},
   "outputs": [],
   "source": [
    "img1, pt1 = DrawImageFromShapeInfo(sevenShapeInfo, 1)"
   ]
  },
  {
   "cell_type": "code",
   "execution_count": 22,
   "metadata": {},
   "outputs": [
    {
     "data": {
      "text/plain": [
       "<matplotlib.image.AxesImage at 0x2036c42f0f0>"
      ]
     },
     "execution_count": 22,
     "metadata": {},
     "output_type": "execute_result"
    },
    {
     "data": {
      "image/png": "[encoded data removed]",
      "text/plain": [
       "<Figure size 432x288 with 1 Axes>"
      ]
     },
     "metadata": {
      "needs_background": "light"
     },
     "output_type": "display_data"
    }
   ],
   "source": [
    "plt.imshow(img1)"
   ]
  },
  {
   "cell_type": "code",
   "execution_count": 23,
   "metadata": {},
   "outputs": [
    {
     "data": {
      "text/plain": [
       "{1: array([[24, 75],\n",
       "        [34, 65],\n",
       "        [14, 65]]), 2: array([[85, 42],\n",
       "        [75, 32],\n",
       "        [75, 52]]), 3: array([[85, 21],\n",
       "        [75, 11],\n",
       "        [65, 21],\n",
       "        [75, 31]]), 4: array([[84, 62],\n",
       "        [75, 71],\n",
       "        [75, 51],\n",
       "        [84, 42]]), 5: array([[43, 63],\n",
       "        [43, 44],\n",
       "        [24, 63]]), 6: array([[54, 52],\n",
       "        [74, 72],\n",
       "        [74, 32]]), 7: array([[44, 72],\n",
       "        [73, 72],\n",
       "        [44, 43]])}"
      ]
     },
     "execution_count": 23,
     "metadata": {},
     "output_type": "execute_result"
    }
   ],
   "source": [
    "pt1"
   ]
  },
  {
   "cell_type": "code",
   "execution_count": 24,
   "metadata": {},
   "outputs": [
    {
     "data": {
      "text/plain": [
       "'E:\\\\researches\\\\Tangram\\\\python'"
      ]
     },
     "execution_count": 24,
     "metadata": {},
     "output_type": "execute_result"
    }
   ],
   "source": [
    "os.getcwd()"
   ]
  },
  {
   "cell_type": "code",
   "execution_count": 25,
   "metadata": {},
   "outputs": [],
   "source": [
    "filePath = \"tmp\""
   ]
  },
  {
   "cell_type": "code",
   "execution_count": 26,
   "metadata": {},
   "outputs": [],
   "source": [
    "def ShuffleTangram(shapeInfoList, moveSequence, filePath):\n",
    "    #make folder\n",
    "    try:\n",
    "        os.mkdir(filePath)\n",
    "    except OSError:\n",
    "        print (\"Creation of the directory %s failed\" % filePath)\n",
    "    else:\n",
    "        print (\"Successfully created the directory %s \" % filePath)\n",
    "        \n",
    "    #calculate place sequence as the reverse order  of place sequence\n",
    "    placeSequence = []\n",
    "    for element in moveSequence[::-1]:\n",
    "        if element in placeSequence:\n",
    "            continue\n",
    "        placeSequence.append(element)\n",
    "\n",
    "    for shapeId in shapeIdList:\n",
    "        if not shapeId in placeSequence:\n",
    "            placeSequence.append(shapeId)\n",
    "            \n",
    "     \n",
    "    img, pointList = DrawImageFromShapeInfo(shapeInfoList)\n",
    "    cv2.imwrite(os.path.join(filePath , '0.jpg'), img)\n",
    "    \n",
    "    "
   ]
  },
  {
   "cell_type": "code",
   "execution_count": 27,
   "metadata": {},
   "outputs": [],
   "source": [
    "#ShuffleTangram(sevenShapeInfo, moveSequence, filePath)"
   ]
  },
  {
   "cell_type": "code",
   "execution_count": 48,
   "metadata": {},
   "outputs": [],
   "source": [
    "testList = copy.deepcopy(sevenShapeInfo)\n",
    "\n",
    "testPt = copy.deepcopy(pt1)"
   ]
  },
  {
   "cell_type": "code",
   "execution_count": 49,
   "metadata": {
    "scrolled": true
   },
   "outputs": [
    {
     "data": {
      "text/plain": [
       "([{'shapeId': 1,\n",
       "   'shapeType': 0,\n",
       "   'rotationType': 0,\n",
       "   'shapePosition': {'x': -2.6000001430511475, 'y': -1.5},\n",
       "   'shapePositionIds': {'x': -26.0, 'y': -15.0},\n",
       "   'shapeRotation': {'x': 45.00001525878906, 'y': 270.0, 'z': 90.0},\n",
       "   'shapeRotationId': 6},\n",
       "  {'shapeId': 2,\n",
       "   'shapeType': 0,\n",
       "   'rotationType': 0,\n",
       "   'shapePosition': {'x': 2.5, 'y': 0.800000011920929},\n",
       "   'shapePositionIds': {'x': 25.0, 'y': 8.0},\n",
       "   'shapeRotation': {'x': 45.00001907348633, 'y': 90.0, 'z': 270.0},\n",
       "   'shapeRotationId': 0},\n",
       "  {'shapeId': 3,\n",
       "   'shapeType': 3,\n",
       "   'rotationType': 0,\n",
       "   'shapePosition': {'x': 2.5, 'y': 2.9000000953674316},\n",
       "   'shapePositionIds': {'x': 25.0, 'y': 29.0},\n",
       "   'shapeRotation': {'x': 314.9999694824219, 'y': 90.0, 'z': 90.0},\n",
       "   'shapeRotationId': 0},\n",
       "  {'shapeId': 4,\n",
       "   'shapeType': 4,\n",
       "   'rotationType': 0,\n",
       "   'shapePosition': {'x': 3.0, 'y': -0.699999988079071},\n",
       "   'shapePositionIds': {'x': 30.0, 'y': -7.0},\n",
       "   'shapeRotation': {'x': 45.000022888183594, 'y': 270.0, 'z': 270.0},\n",
       "   'shapeRotationId': 0},\n",
       "  {'shapeId': 5,\n",
       "   'shapeType': 1,\n",
       "   'rotationType': 0,\n",
       "   'shapePosition': {'x': -1.6000001430511475, 'y': -0.4000000059604645},\n",
       "   'shapePositionIds': {'x': -16.0, 'y': -4.0},\n",
       "   'shapeRotation': {'x': -2.0490568203967996e-05,\n",
       "    'y': 90.00001525878906,\n",
       "    'z': 90.0},\n",
       "   'shapeRotationId': 3},\n",
       "  {'shapeId': 6,\n",
       "   'shapeType': 2,\n",
       "   'rotationType': 0,\n",
       "   'shapePosition': {'x': 2.4000000953674316, 'y': -0.20000000298023224},\n",
       "   'shapePositionIds': {'x': 24.0, 'y': -2.0},\n",
       "   'shapeRotation': {'x': 45.00001525878906, 'y': 270.0, 'z': 270.0},\n",
       "   'shapeRotationId': 12},\n",
       "  {'shapeId': 7,\n",
       "   'shapeType': 2,\n",
       "   'rotationType': 0,\n",
       "   'shapePosition': {'x': 0.8999999761581421, 'y': -0.800000011920929},\n",
       "   'shapePositionIds': {'x': 9.0, 'y': -8.0},\n",
       "   'shapeRotation': {'x': -1.0245284101983998e-05, 'y': 270.0, 'z': 90.0},\n",
       "   'shapeRotationId': 9}],\n",
       " {1: array([[24, 75],\n",
       "         [34, 65],\n",
       "         [14, 65]]), 2: array([[85, 42],\n",
       "         [75, 32],\n",
       "         [75, 52]]), 3: array([[85, 21],\n",
       "         [75, 11],\n",
       "         [65, 21],\n",
       "         [75, 31]]), 4: array([[84, 62],\n",
       "         [75, 71],\n",
       "         [75, 51],\n",
       "         [84, 42]]), 5: array([[43, 63],\n",
       "         [43, 44],\n",
       "         [24, 63]]), 6: array([[54, 52],\n",
       "         [74, 72],\n",
       "         [74, 32]]), 7: array([[44, 72],\n",
       "         [73, 72],\n",
       "         [44, 43]])})"
      ]
     },
     "execution_count": 49,
     "metadata": {},
     "output_type": "execute_result"
    }
   ],
   "source": [
    "testList, testPt"
   ]
  },
  {
   "cell_type": "code",
   "execution_count": 53,
   "metadata": {},
   "outputs": [],
   "source": [
    "def RandomShuffleOneShape(shapeIdx, shapeInfoList, pointDic, width = 100, height = 100):\n",
    "    newShapeInfo = None\n",
    "    newShapeListIndex = 0\n",
    "    for i in range(len(shapeInfoList)):\n",
    "        if shapeInfoList[i][\"shapeId\"] == shapeIdx:\n",
    "            newShapeListIndex = i\n",
    "            newShapeInfo = shapeInfoList[i]\n",
    "            break\n",
    "    \n",
    "    trial = 0\n",
    "    del pointDic[shapeIdx]\n",
    "    while True:\n",
    "        trial += 1\n",
    "        #print(\"trials \" + str(trial))\n",
    "        center_x = np.random.randint(0, width)\n",
    "        center_y = np.random.randint(0, height)\n",
    "        \n",
    "        newShapeInfo[\"shapePositionIds\"][\"x\"] = center_x - boardWidth/gridStep/2\n",
    "        newShapeInfo[\"shapePositionIds\"][\"y\"] = -center_y + boardWidth/gridStep/2\n",
    "        \n",
    "        if(shapeIdx == 1 or shapeIdx == 2): #small triangle\n",
    "            newShapeInfo[\"shapeRotationId\"] = np.random.randint(0, 24)\n",
    "            point_t = TriangleVertexPosition(newShapeInfo[\"shapePositionIds\"], newShapeInfo[\"shapeRotationId\"], 10)\n",
    "        elif(shapeIdx == 5): #middle triangle\n",
    "            newShapeInfo[\"shapeRotationId\"] = np.random.randint(0, 24)\n",
    "            point_t = TriangleVertexPosition(newShapeInfo[\"shapePositionIds\"], newShapeInfo[\"shapeRotationId\"], 10 * 1.414)    \n",
    "        elif(shapeIdx == 6 or shapeIdx == 7): #large triangle\n",
    "            newShapeInfo[\"shapeRotationId\"] = np.random.randint(0, 24)\n",
    "            point_t = TriangleVertexPosition(newShapeInfo[\"shapePositionIds\"], newShapeInfo[\"shapeRotationId\"], 10 * 2,)\n",
    "        elif(shapeIdx == 3): # square\n",
    "            newShapeInfo[\"shapeRotationId\"] = np.random.randint(0, 6)\n",
    "            point_t = SquareVertexPosition(newShapeInfo[\"shapePositionIds\"], newShapeInfo[\"shapeRotationId\"], 10)\n",
    "        else: # =4 parallelogram\n",
    "            newShapeInfo[\"shapeRotationId\"] = np.random.randint(-12, 12)\n",
    "            point_t = ParallelogramVertexPosition(newShapeInfo[\"shapePositionIds\"], newShapeInfo[\"shapeRotationId\"], 5)\n",
    "            \n",
    "        polygon_new = Polygon(point_t)\n",
    "#         print(\"new\", polygon_new)\n",
    "#         img2, pt2 = DrawImageFromShapeInfo(shapeInfoList, 1)\n",
    "#         plt.imshow(img2)\n",
    "#         plt.show()\n",
    "        \n",
    "        #print(point_t)\n",
    "        isOverlap = False\n",
    "        for key in pointDic:\n",
    "            polygon = Polygon(pointDic[key])\n",
    "            #print(polygon)\n",
    "            \n",
    "            if(polygon.intersects(polygon_new)):\n",
    "                isOverlap = True\n",
    "                break\n",
    "            if isOverlap:\n",
    "                break\n",
    "        \n",
    "        #print(\"has overlap?\", isOverlap)\n",
    "        if (not isOverlap) or (trial > 100):\n",
    "            pointDic[shapeIdx] = point_t\n",
    "            break"
   ]
  },
  {
   "cell_type": "code",
   "execution_count": 54,
   "metadata": {
    "scrolled": true
   },
   "outputs": [],
   "source": [
    "# testList"
   ]
  },
  {
   "cell_type": "code",
   "execution_count": 63,
   "metadata": {
    "scrolled": false
   },
   "outputs": [
    {
     "data": {
      "text/plain": [
       "<matplotlib.image.AxesImage at 0x2036da92080>"
      ]
     },
     "execution_count": 63,
     "metadata": {},
     "output_type": "execute_result"
    },
    {
     "data": {
      "image/png": "[encoded data removed]",
      "text/plain": [
       "<Figure size 432x288 with 1 Axes>"
      ]
     },
     "metadata": {
      "needs_background": "light"
     },
     "output_type": "display_data"
    }
   ],
   "source": [
    "RandomShuffleOneShape(7, testList, testPt)\n",
    "\n",
    "img2, pt2 = DrawImageFromShapeInfo(testList, 1)\n",
    "plt.imshow(img2)"
   ]
  },
  {
   "cell_type": "code",
   "execution_count": 33,
   "metadata": {},
   "outputs": [
    {
     "data": {
      "image/svg+xml": [
       "<svg xmlns=\"http://www.w3.org/2000/svg\" xmlns:xlink=\"http://www.w3.org/1999/xlink\" width=\"100.0\" height=\"100.0\" viewBox=\"64.2 10.2 21.599999999999994 21.6\" preserveAspectRatio=\"xMinYMin meet\"><g transform=\"matrix(1,0,0,-1,0,42.0)\"><path fill-rule=\"evenodd\" fill=\"#66cc99\" stroke=\"#555555\" stroke-width=\"0.43200000000000005\" opacity=\"0.6\" d=\"M 85.0,21.0 L 75.0,11.0 L 65.0,21.0 L 75.0,31.0 L 85.0,21.0 z\" /></g></svg>"
      ],
      "text/plain": [
       "<shapely.geometry.polygon.Polygon at 0x2036c49cc88>"
      ]
     },
     "execution_count": 33,
     "metadata": {},
     "output_type": "execute_result"
    }
   ],
   "source": [
    "Polygon(testPt[3])"
   ]
  },
  {
   "cell_type": "code",
   "execution_count": 34,
   "metadata": {},
   "outputs": [
    {
     "ename": "SyntaxError",
     "evalue": "invalid syntax (<ipython-input-34-6a8d3716157e>, line 1)",
     "output_type": "error",
     "traceback": [
      "\u001b[1;36m  File \u001b[1;32m\"<ipython-input-34-6a8d3716157e>\"\u001b[1;36m, line \u001b[1;32m1\u001b[0m\n\u001b[1;33m    polygon =\u001b[0m\n\u001b[1;37m              ^\u001b[0m\n\u001b[1;31mSyntaxError\u001b[0m\u001b[1;31m:\u001b[0m invalid syntax\n"
     ]
    }
   ],
   "source": [
    "polygon = "
   ]
  },
  {
   "cell_type": "code",
   "execution_count": null,
   "metadata": {},
   "outputs": [],
   "source": [
    "point = Point(0.5, 0.5)\n",
    "polygon = Polygon([(0, 0), (0, 1), (1, 1), (1, 0)])\n",
    "print(polygon.contains(point))"
   ]
  },
  {
   "cell_type": "code",
   "execution_count": null,
   "metadata": {},
   "outputs": [],
   "source": []
  }
 ],
 "metadata": {
  "kernelspec": {
   "display_name": "Python 3",
   "language": "python",
   "name": "python3"
  },
  "language_info": {
   "codemirror_mode": {
    "name": "ipython",
    "version": 3
   },
   "file_extension": ".py",
   "mimetype": "text/x-python",
   "name": "python",
   "nbconvert_exporter": "python",
   "pygments_lexer": "ipython3",
   "version": "3.7.3"
  }
 },
 "nbformat": 4,
 "nbformat_minor": 2
}
