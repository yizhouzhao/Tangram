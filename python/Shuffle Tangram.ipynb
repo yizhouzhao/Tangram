{
 "cells": [
  {
   "cell_type": "code",
   "execution_count": 1,
   "metadata": {},
   "outputs": [],
   "source": [
    "from shapely.geometry import Point\n",
    "from shapely.geometry.polygon import Polygon\n",
    "\n",
    "\n",
    "import copy\n",
    "import numpy as np\n",
    "import cv2\n",
    "import matplotlib.pyplot as plt\n",
    "import os"
   ]
  },
  {
   "cell_type": "code",
   "execution_count": 2,
   "metadata": {},
   "outputs": [],
   "source": [
    "#image scale: int, default 100x100, you can increase it to get larger samples\n",
    "image_scale = 2\n",
    "rotation_types = 360 # how many rotation angles you want\n",
    "random_position_offset = 0.15 # avoid shape move outside boarder"
   ]
  },
  {
   "cell_type": "code",
   "execution_count": 3,
   "metadata": {},
   "outputs": [],
   "source": [
    "boardHeight = 10 #board size from unity\n",
    "boardWidth = 10 #board width from unity\n",
    "gridStep = 0.1 #grid step from unity\n",
    "shapeIdList = [1,2,3,4,5,6,7] # shape ids from unity"
   ]
  },
  {
   "cell_type": "code",
   "execution_count": 4,
   "metadata": {},
   "outputs": [],
   "source": [
    "#Json info from google form: solution columns\n",
    "#jsoninfo = {\"MoveShapeSequence\":[7,6,3,4,5,3,2,3,6,4,2,7,5,1],\"SevenShapeInfo\":[{\"shapeId\":1,\"shapeType\":0,\"rotationType\":0,\"shapePosition\":{\"x\":-2.6000001430511476,\"y\":-1.5},\"shapePositionIds\":{\"x\":-26.0,\"y\":-15.0},\"shapeRotation\":{\"x\":45.00001525878906,\"y\":270.0,\"z\":90.0},\"shapeRotationId\":6},{\"shapeId\":2,\"shapeType\":0,\"rotationType\":0,\"shapePosition\":{\"x\":2.5,\"y\":0.800000011920929},\"shapePositionIds\":{\"x\":25.0,\"y\":8.0},\"shapeRotation\":{\"x\":45.00001907348633,\"y\":90.0,\"z\":270.0},\"shapeRotationId\":0},{\"shapeId\":3,\"shapeType\":3,\"rotationType\":0,\"shapePosition\":{\"x\":2.5,\"y\":2.9000000953674318},\"shapePositionIds\":{\"x\":25.0,\"y\":29.0},\"shapeRotation\":{\"x\":314.9999694824219,\"y\":90.0,\"z\":90.0},\"shapeRotationId\":0},{\"shapeId\":4,\"shapeType\":4,\"rotationType\":0,\"shapePosition\":{\"x\":3.0,\"y\":-0.699999988079071},\"shapePositionIds\":{\"x\":30.0,\"y\":-7.0},\"shapeRotation\":{\"x\":45.000022888183597,\"y\":270.0,\"z\":270.0},\"shapeRotationId\":0},{\"shapeId\":5,\"shapeType\":1,\"rotationType\":0,\"shapePosition\":{\"x\":-1.6000001430511475,\"y\":-0.4000000059604645},\"shapePositionIds\":{\"x\":-16.0,\"y\":-4.0},\"shapeRotation\":{\"x\":-0.000020490568203967996,\"y\":90.00001525878906,\"z\":90.0},\"shapeRotationId\":3},{\"shapeId\":6,\"shapeType\":2,\"rotationType\":0,\"shapePosition\":{\"x\":2.4000000953674318,\"y\":-0.20000000298023225},\"shapePositionIds\":{\"x\":24.0,\"y\":-2.0},\"shapeRotation\":{\"x\":45.00001525878906,\"y\":270.0,\"z\":270.0},\"shapeRotationId\":12},{\"shapeId\":7,\"shapeType\":2,\"rotationType\":0,\"shapePosition\":{\"x\":0.8999999761581421,\"y\":-0.800000011920929},\"shapePositionIds\":{\"x\":9.0,\"y\":-8.0},\"shapeRotation\":{\"x\":-0.000010245284101983998,\"y\":270.0,\"z\":90.0},\"shapeRotationId\":9}]}\n",
    "jsoninfo = {\"MoveShapeSequence\":[4,3,4,2,7,3,4,2,7,6,5,6,5,6,7,2,4,2,3,4,5,6,1],\"SevenShapeInfo\":[{\"shapeId\":1,\"shapeType\":0,\"rotationType\":0,\"shapePosition\":{\"x\":-2.4000000953674318,\"y\":-0.699999988079071},\"shapePositionIds\":{\"x\":-24.0,\"y\":-7.0},\"shapeRotation\":{\"x\":315.0,\"y\":90.0,\"z\":90.0},\"shapeRotationId\":0},{\"shapeId\":2,\"shapeType\":0,\"rotationType\":0,\"shapePosition\":{\"x\":2.0,\"y\":-0.6000000238418579},\"shapePositionIds\":{\"x\":20.0,\"y\":-6.0},\"shapeRotation\":{\"x\":45.00001525878906,\"y\":270.0,\"z\":270.0},\"shapeRotationId\":12},{\"shapeId\":3,\"shapeType\":3,\"rotationType\":0,\"shapePosition\":{\"x\":-0.19999998807907105,\"y\":-1.8000000715255738},\"shapePositionIds\":{\"x\":-2.0,\"y\":-18.0},\"shapeRotation\":{\"x\":90.0,\"y\":0.000025355780962854624,\"z\":0.0},\"shapeRotationId\":3},{\"shapeId\":4,\"shapeType\":4,\"rotationType\":0,\"shapePosition\":{\"x\":0.5,\"y\":-0.30000001192092898},\"shapePositionIds\":{\"x\":5.0,\"y\":-3.0},\"shapeRotation\":{\"x\":0.00002732075699896086,\"y\":270.0,\"z\":270.0},\"shapeRotationId\":3},{\"shapeId\":5,\"shapeType\":1,\"rotationType\":0,\"shapePosition\":{\"x\":-1.0,\"y\":0.4000000059604645},\"shapePositionIds\":{\"x\":-10.0,\"y\":4.0},\"shapeRotation\":{\"x\":44.999961853027347,\"y\":90.0,\"z\":90.0},\"shapeRotationId\":6},{\"shapeId\":6,\"shapeType\":2,\"rotationType\":0,\"shapePosition\":{\"x\":-3.9000000953674318,\"y\":-1.0},\"shapePositionIds\":{\"x\":-39.0,\"y\":-10.0},\"shapeRotation\":{\"x\":90.0,\"y\":179.9999542236328,\"z\":0.0},\"shapeRotationId\":3},{\"shapeId\":7,\"shapeType\":2,\"rotationType\":0,\"shapePosition\":{\"x\":3.5,\"y\":-1.0},\"shapePositionIds\":{\"x\":35.0,\"y\":-10.0},\"shapeRotation\":{\"x\":0.00001366037849948043,\"y\":270.0,\"z\":90.0},\"shapeRotationId\":9}]}"
   ]
  },
  {
   "cell_type": "code",
   "execution_count": 5,
   "metadata": {},
   "outputs": [],
   "source": [
    "moveSequence = jsoninfo[\"MoveShapeSequence\"]\n",
    "sevenShapeInfo = jsoninfo[\"SevenShapeInfo\"]"
   ]
  },
  {
   "cell_type": "code",
   "execution_count": 6,
   "metadata": {},
   "outputs": [],
   "source": [
    "def TriangleVertexPosition(shapePositionIds, shapeRotationId, edgeLength = 10, scale = 1, degree = np.pi/12):\n",
    "    '''\n",
    "    Draw triangle vertex positions\n",
    "    '''\n",
    "    center_x = shapePositionIds[\"x\"] + boardWidth/gridStep/2\n",
    "    center_y = -shapePositionIds[\"y\"] + boardHeight/gridStep/2\n",
    "    \n",
    "    rotationAngle = degree * shapeRotationId\n",
    "    \n",
    "    vertex_0_x = edgeLength * np.cos(rotationAngle)\n",
    "    vertex_0_y = edgeLength * np.sin(rotationAngle)\n",
    "    point_0 = ((int)(center_x + vertex_0_x), (int)(center_y + vertex_0_y))\n",
    "    \n",
    "    vertex_1_x = edgeLength * np.cos(rotationAngle - np.pi/2)\n",
    "    vertex_1_y = edgeLength * np.sin(rotationAngle - np.pi/2)\n",
    "    point_1= ((int)(center_x + vertex_1_x), (int)(center_y + vertex_1_y))\n",
    "    \n",
    "    vertex_2_x = edgeLength * np.cos(rotationAngle + np.pi/2)\n",
    "    vertex_2_y = edgeLength * np.sin(rotationAngle + np.pi/2)\n",
    "    point_2 = ((int)(center_x + vertex_2_x), (int)(center_y + vertex_2_y))\n",
    "    \n",
    "    return np.array([point_0, point_1, point_2]) * scale"
   ]
  },
  {
   "cell_type": "code",
   "execution_count": 7,
   "metadata": {},
   "outputs": [],
   "source": [
    "def SquareVertexPosition(shapePositionIds, shapeRotationId, edgeLength = 10, scale = 1, degree = np.pi/12):\n",
    "    '''\n",
    "    Draw triangle vertex positions\n",
    "    '''\n",
    "    center_x = shapePositionIds[\"x\"] + boardWidth/gridStep/2\n",
    "    center_y = -shapePositionIds[\"y\"] + boardHeight/gridStep/2\n",
    "    \n",
    "    rotationAngle = degree * shapeRotationId\n",
    "    \n",
    "    vertex_0_x = edgeLength * np.cos(rotationAngle)\n",
    "    vertex_0_y = edgeLength * np.sin(rotationAngle)\n",
    "    point_0 = ((int)(center_x + vertex_0_x), (int)(center_y + vertex_0_y))\n",
    "    \n",
    "    vertex_1_x = edgeLength * np.cos(rotationAngle - np.pi/2)\n",
    "    vertex_1_y = edgeLength * np.sin(rotationAngle - np.pi/2)\n",
    "    point_1= ((int)(center_x + vertex_1_x), (int)(center_y + vertex_1_y))\n",
    "    \n",
    "    vertex_2_x = edgeLength * np.cos(rotationAngle + np.pi/2)\n",
    "    vertex_2_y = edgeLength * np.sin(rotationAngle + np.pi/2)\n",
    "    point_2 = ((int)(center_x + vertex_2_x), (int)(center_y + vertex_2_y))\n",
    "    \n",
    "    vertex_3_x = edgeLength * np.cos(rotationAngle + np.pi)\n",
    "    vertex_3_y = edgeLength * np.sin(rotationAngle + np.pi)\n",
    "    point_3 = ((int)(center_x + vertex_3_x), (int)(center_y + vertex_3_y))\n",
    "    \n",
    "    \n",
    "    return np.array([point_0, point_1, point_3, point_2]) * scale"
   ]
  },
  {
   "cell_type": "code",
   "execution_count": 8,
   "metadata": {},
   "outputs": [],
   "source": [
    "def ParallelogramVertexPosition(shapePositionIds, shapeRotationId, edgeLength = 5, scale = 1, degree = np.pi/12):\n",
    "    '''\n",
    "    Draw triangle vertex positions\n",
    "    '''\n",
    "    center_x = shapePositionIds[\"x\"] + boardWidth/gridStep/2\n",
    "    center_y = -shapePositionIds[\"y\"] + boardHeight/gridStep/2\n",
    "    \n",
    "    edge_short = 1.414 * edgeLength\n",
    "    edge_long = 2 * edgeLength\n",
    "    \n",
    "    if(shapeRotationId >= 0):\n",
    "        rotationAngle = degree * shapeRotationId\n",
    "\n",
    "        edge_short_x = edge_short * np.cos(rotationAngle - np.pi/4)\n",
    "        edge_short_y = edge_short * np.sin(rotationAngle - np.pi/4)\n",
    "    \n",
    "        edge_long_x = edge_long * np.cos(rotationAngle + np.pi/2)\n",
    "        edge_long_y = edge_long * np.sin(rotationAngle + np.pi/2)\n",
    "\n",
    "        point_0 = (int(center_x + edge_short_x + edge_long_x), int(center_y + edge_short_y + edge_long_y))\n",
    "        point_1 = (int(center_x - edge_short_x + edge_long_x), int(center_y - edge_short_y + edge_long_y))\n",
    "        point_2 = (int(center_x - edge_short_x - edge_long_x), int(center_y - edge_short_y - edge_long_y))\n",
    "        point_3 = (int(center_x + edge_short_x - edge_long_x), int(center_y + edge_short_y - edge_long_y))\n",
    "    \n",
    "        return np.array([point_0, point_1, point_2, point_3]) * scale\n",
    "    \n",
    "    else:\n",
    "        rotationAngle = degree * (shapeRotationId + 12)\n",
    "        \n",
    "        edge_short_x = edge_short * np.cos(rotationAngle + np.pi/4)\n",
    "        edge_short_y = edge_short * np.sin(rotationAngle + np.pi/4)\n",
    "    \n",
    "        edge_long_x = edge_long * np.cos(rotationAngle + np.pi/2)\n",
    "        edge_long_y = edge_long * np.sin(rotationAngle + np.pi/2)\n",
    "\n",
    "        point_0 = (int(center_x + edge_short_x + edge_long_x), int(center_y + edge_short_y + edge_long_y))\n",
    "        point_1 = (int(center_x - edge_short_x + edge_long_x), int(center_y - edge_short_y + edge_long_y))\n",
    "        point_2 = (int(center_x - edge_short_x - edge_long_x), int(center_y - edge_short_y - edge_long_y))\n",
    "        point_3 = (int(center_x + edge_short_x - edge_long_x), int(center_y + edge_short_y - edge_long_y))\n",
    "        \n",
    "        return np.array([point_0, point_1, point_2, point_3]) * scale"
   ]
  },
  {
   "cell_type": "code",
   "execution_count": 9,
   "metadata": {
    "scrolled": true
   },
   "outputs": [],
   "source": [
    "#point_t = ParallelogramVertexPosition(shapeInfo[\"shapePositionIds\"], shapeInfo[\"shapeRotationId\"])"
   ]
  },
  {
   "cell_type": "code",
   "execution_count": 10,
   "metadata": {},
   "outputs": [],
   "source": [
    "def DrawImageFromShapeInfo(shapeInfoList, scale = 1):\n",
    "    canvas = np.ones((100 * scale, 100 * scale, 3), np.uint8) * 255\n",
    "    pointDic = {}\n",
    "    \n",
    "    for shapeInfo in shapeInfoList:\n",
    "        if(shapeInfo[\"shapeId\"] == 1 or shapeInfo[\"shapeId\"] == 2): #small triangle\n",
    "            point_t = TriangleVertexPosition(shapeInfo[\"shapePositionIds\"], shapeInfo[\"shapeRotationId\"], 10, scale)\n",
    "        elif(shapeInfo[\"shapeId\"] == 5): #middle triangle\n",
    "            point_t = TriangleVertexPosition(shapeInfo[\"shapePositionIds\"], shapeInfo[\"shapeRotationId\"], 10 * 1.414, scale)    \n",
    "        elif(shapeInfo[\"shapeId\"] == 6 or shapeInfo[\"shapeId\"] == 7): #large triangle\n",
    "            point_t = TriangleVertexPosition(shapeInfo[\"shapePositionIds\"], shapeInfo[\"shapeRotationId\"], 10 * 2, scale)\n",
    "        elif(shapeInfo[\"shapeId\"] == 3): # square\n",
    "            point_t = SquareVertexPosition(shapeInfo[\"shapePositionIds\"], shapeInfo[\"shapeRotationId\"], 10, scale)\n",
    "        else: # =4 parallelogram\n",
    "            point_t = ParallelogramVertexPosition(shapeInfo[\"shapePositionIds\"], shapeInfo[\"shapeRotationId\"], 5, scale)\n",
    "                \n",
    "        cv2.drawContours(canvas, [point_t], 0, (0,0,0), -1)\n",
    "        pointDic[shapeInfo[\"shapeId\"]] = point_t\n",
    "        \n",
    "    return canvas, pointDic"
   ]
  },
  {
   "cell_type": "code",
   "execution_count": 11,
   "metadata": {},
   "outputs": [
    {
     "data": {
      "text/plain": [
       "[{'shapeId': 1,\n",
       "  'shapeType': 0,\n",
       "  'rotationType': 0,\n",
       "  'shapePosition': {'x': -2.4000000953674316, 'y': -0.699999988079071},\n",
       "  'shapePositionIds': {'x': -24.0, 'y': -7.0},\n",
       "  'shapeRotation': {'x': 315.0, 'y': 90.0, 'z': 90.0},\n",
       "  'shapeRotationId': 0},\n",
       " {'shapeId': 2,\n",
       "  'shapeType': 0,\n",
       "  'rotationType': 0,\n",
       "  'shapePosition': {'x': 2.0, 'y': -0.6000000238418579},\n",
       "  'shapePositionIds': {'x': 20.0, 'y': -6.0},\n",
       "  'shapeRotation': {'x': 45.00001525878906, 'y': 270.0, 'z': 270.0},\n",
       "  'shapeRotationId': 12},\n",
       " {'shapeId': 3,\n",
       "  'shapeType': 3,\n",
       "  'rotationType': 0,\n",
       "  'shapePosition': {'x': -0.19999998807907104, 'y': -1.8000000715255737},\n",
       "  'shapePositionIds': {'x': -2.0, 'y': -18.0},\n",
       "  'shapeRotation': {'x': 90.0, 'y': 2.5355780962854624e-05, 'z': 0.0},\n",
       "  'shapeRotationId': 3},\n",
       " {'shapeId': 4,\n",
       "  'shapeType': 4,\n",
       "  'rotationType': 0,\n",
       "  'shapePosition': {'x': 0.5, 'y': -0.30000001192092896},\n",
       "  'shapePositionIds': {'x': 5.0, 'y': -3.0},\n",
       "  'shapeRotation': {'x': 2.732075699896086e-05, 'y': 270.0, 'z': 270.0},\n",
       "  'shapeRotationId': 3},\n",
       " {'shapeId': 5,\n",
       "  'shapeType': 1,\n",
       "  'rotationType': 0,\n",
       "  'shapePosition': {'x': -1.0, 'y': 0.4000000059604645},\n",
       "  'shapePositionIds': {'x': -10.0, 'y': 4.0},\n",
       "  'shapeRotation': {'x': 44.999961853027344, 'y': 90.0, 'z': 90.0},\n",
       "  'shapeRotationId': 6},\n",
       " {'shapeId': 6,\n",
       "  'shapeType': 2,\n",
       "  'rotationType': 0,\n",
       "  'shapePosition': {'x': -3.9000000953674316, 'y': -1.0},\n",
       "  'shapePositionIds': {'x': -39.0, 'y': -10.0},\n",
       "  'shapeRotation': {'x': 90.0, 'y': 179.9999542236328, 'z': 0.0},\n",
       "  'shapeRotationId': 3},\n",
       " {'shapeId': 7,\n",
       "  'shapeType': 2,\n",
       "  'rotationType': 0,\n",
       "  'shapePosition': {'x': 3.5, 'y': -1.0},\n",
       "  'shapePositionIds': {'x': 35.0, 'y': -10.0},\n",
       "  'shapeRotation': {'x': 1.366037849948043e-05, 'y': 270.0, 'z': 90.0},\n",
       "  'shapeRotationId': 9}]"
      ]
     },
     "execution_count": 11,
     "metadata": {},
     "output_type": "execute_result"
    }
   ],
   "source": [
    "sevenShapeInfo"
   ]
  },
  {
   "cell_type": "code",
   "execution_count": 12,
   "metadata": {},
   "outputs": [],
   "source": [
    "img1, pt1 = DrawImageFromShapeInfo(sevenShapeInfo, 1)"
   ]
  },
  {
   "cell_type": "code",
   "execution_count": 13,
   "metadata": {},
   "outputs": [
    {
     "data": {
      "text/plain": [
       "<matplotlib.image.AxesImage at 0x196188f39e8>"
      ]
     },
     "execution_count": 13,
     "metadata": {},
     "output_type": "execute_result"
    },
    {
     "data": {
      "image/png": "[encoded data removed]",
      "text/plain": [
       "<Figure size 432x288 with 1 Axes>"
      ]
     },
     "metadata": {
      "needs_background": "light"
     },
     "output_type": "display_data"
    }
   ],
   "source": [
    "plt.imshow(img1)"
   ]
  },
  {
   "cell_type": "code",
   "execution_count": 14,
   "metadata": {},
   "outputs": [],
   "source": [
    "def RandomShuffleOneShape(shapeIdx, shapeInfoList, pointDic, width = 100, height = 100, scale = 1, degree = np.pi/12):\n",
    "    newShapeInfo = None\n",
    "    newShapeListIndex = 0\n",
    "    for i in range(len(shapeInfoList)):\n",
    "        if shapeInfoList[i][\"shapeId\"] == shapeIdx:\n",
    "            newShapeListIndex = i\n",
    "            newShapeInfo = shapeInfoList[i]\n",
    "            break\n",
    "    \n",
    "    trial = 0\n",
    "    del pointDic[shapeIdx]\n",
    "    while True:\n",
    "        trial += 1\n",
    "        #print(\"trials \" + str(trial))\n",
    "        center_x = np.random.randint(int(random_position_offset * width), int((1 - random_position_offset) * width))\n",
    "        center_y = np.random.randint(int(random_position_offset * height), int((1 - random_position_offset) * height))\n",
    "        \n",
    "        newShapeInfo[\"shapePositionIds\"][\"x\"] = center_x - width/2\n",
    "        newShapeInfo[\"shapePositionIds\"][\"y\"] = -center_y + height/2\n",
    "        \n",
    "        \n",
    "        if(shapeIdx == 1 or shapeIdx == 2): #small triangle\n",
    "            newShapeInfo[\"shapeRotationId\"] = np.random.randint(0, rotation_types)\n",
    "            point_t = TriangleVertexPosition(newShapeInfo[\"shapePositionIds\"], newShapeInfo[\"shapeRotationId\"], 10, scale, 2 * np.pi / rotation_types)\n",
    "        elif(shapeIdx == 5): #middle triangle\n",
    "            newShapeInfo[\"shapeRotationId\"] = np.random.randint(0, rotation_types)\n",
    "            point_t = TriangleVertexPosition(newShapeInfo[\"shapePositionIds\"], newShapeInfo[\"shapeRotationId\"], 10 * 1.414, scale, 2 * np.pi / rotation_types)    \n",
    "        elif(shapeIdx == 6 or shapeIdx == 7): #large triangle\n",
    "            newShapeInfo[\"shapeRotationId\"] = np.random.randint(0, rotation_types)\n",
    "            point_t = TriangleVertexPosition(newShapeInfo[\"shapePositionIds\"], newShapeInfo[\"shapeRotationId\"], 10 * 2, scale, 2 * np.pi / rotation_types)\n",
    "        elif(shapeIdx == 3): # square\n",
    "            newShapeInfo[\"shapeRotationId\"] = np.random.randint(0, rotation_types // 4)\n",
    "            point_t = SquareVertexPosition(newShapeInfo[\"shapePositionIds\"], newShapeInfo[\"shapeRotationId\"], 10, scale, 2 * np.pi / rotation_types)\n",
    "        else: # =4 parallelogram\n",
    "            newShapeInfo[\"shapeRotationId\"] = np.random.randint(- rotation_types // 2, rotation_types // 2)\n",
    "            point_t = ParallelogramVertexPosition(newShapeInfo[\"shapePositionIds\"], newShapeInfo[\"shapeRotationId\"], 5, scale, 2 * np.pi / rotation_types)\n",
    "            \n",
    "        polygon_new = Polygon(point_t)\n",
    "#         print(\"new\", polygon_new)\n",
    "#         img2, pt2 = DrawImageFromShapeInfo(shapeInfoList, 1)\n",
    "#         plt.imshow(img2)\n",
    "#         plt.show()\n",
    "        \n",
    "        #print(point_t)\n",
    "        isOverlap = False\n",
    "        for key in pointDic:\n",
    "            polygon = Polygon(pointDic[key])\n",
    "            #print(polygon)\n",
    "            \n",
    "            if(polygon.intersects(polygon_new)):\n",
    "                isOverlap = True\n",
    "                break\n",
    "            if isOverlap:\n",
    "                break\n",
    "        \n",
    "        #print(\"has overlap?\", isOverlap)\n",
    "        if (not isOverlap) or (trial > 100):\n",
    "            pointDic[shapeIdx] = point_t\n",
    "            break"
   ]
  },
  {
   "cell_type": "code",
   "execution_count": 17,
   "metadata": {},
   "outputs": [],
   "source": [
    "def ShuffleTangram(shapeInfoList, moveSequence, filePath, scale = 1):\n",
    "    #make folder\n",
    "    try:\n",
    "        os.mkdir(filePath)\n",
    "    except OSError:\n",
    "        print (\"Creation of the directory %s failed\" % filePath)\n",
    "    else:\n",
    "        print (\"Successfully created the directory %s \" % filePath)\n",
    "        \n",
    "    print(\"shuffle and save images...\")\n",
    "    #calculate place sequence as the reverse order  of place sequence\n",
    "    placeSequence = []\n",
    "    for element in moveSequence[::-1]:\n",
    "        if element in placeSequence:\n",
    "            continue\n",
    "        placeSequence.append(element)\n",
    "\n",
    "    for shapeId in shapeIdList:\n",
    "        if not shapeId in placeSequence:\n",
    "            placeSequence.append(shapeId)\n",
    "            \n",
    "    # save the original image\n",
    "    img, pointList = DrawImageFromShapeInfo(shapeInfoList, scale)\n",
    "    cv2.imwrite(os.path.join(filePath , '0.jpg'), img)\n",
    "    plt.imshow(img)\n",
    "    plt.show()\n",
    "    \n",
    "    # shuffle and save images\n",
    "    for i, idx in enumerate(placeSequence):\n",
    "        RandomShuffleOneShape(idx, shapeInfoList, pointList, boardWidth/gridStep, boardHeight/gridStep, scale)\n",
    "        img, pointList = DrawImageFromShapeInfo(shapeInfoList, scale)\n",
    "        cv2.imwrite(os.path.join(filePath , str(i+1) + '.jpg'), img)\n",
    "        plt.imshow(img)\n",
    "        plt.show()\n",
    "    \n",
    "    print(\"finished!\")\n",
    "    "
   ]
  },
  {
   "cell_type": "code",
   "execution_count": 15,
   "metadata": {},
   "outputs": [
    {
     "data": {
      "text/plain": [
       "'E:\\\\researches\\\\Tangram\\\\python'"
      ]
     },
     "execution_count": 15,
     "metadata": {},
     "output_type": "execute_result"
    }
   ],
   "source": [
    "os.getcwd()"
   ]
  },
  {
   "cell_type": "code",
   "execution_count": 16,
   "metadata": {},
   "outputs": [],
   "source": [
    "filePath = \"tmp\""
   ]
  },
  {
   "cell_type": "code",
   "execution_count": 18,
   "metadata": {},
   "outputs": [
    {
     "name": "stdout",
     "output_type": "stream",
     "text": [
      "Creation of the directory tmp failed\n",
      "shuffle and save images...\n"
     ]
    },
    {
     "data": {
      "image/png": "[encoded data removed]",
      "text/plain": [
       "<Figure size 432x288 with 1 Axes>"
      ]
     },
     "metadata": {
      "needs_background": "light"
     },
     "output_type": "display_data"
    },
    {
     "data": {
      "image/png": "[encoded data removed]",
      "text/plain": [
       "<Figure size 432x288 with 1 Axes>"
      ]
     },
     "metadata": {
      "needs_background": "light"
     },
     "output_type": "display_data"
    },
    {
     "data": {
      "image/png": "[encoded data removed]",
      "text/plain": [
       "<Figure size 432x288 with 1 Axes>"
      ]
     },
     "metadata": {
      "needs_background": "light"
     },
     "output_type": "display_data"
    },
    {
     "data": {
      "image/png": "[encoded data removed]",
      "text/plain": [
       "<Figure size 432x288 with 1 Axes>"
      ]
     },
     "metadata": {
      "needs_background": "light"
     },
     "output_type": "display_data"
    },
    {
     "data": {
      "image/png": "[encoded data removed]",
      "text/plain": [
       "<Figure size 432x288 with 1 Axes>"
      ]
     },
     "metadata": {
      "needs_background": "light"
     },
     "output_type": "display_data"
    },
    {
     "data": {
      "image/png": "[encoded data removed]",
      "text/plain": [
       "<Figure size 432x288 with 1 Axes>"
      ]
     },
     "metadata": {
      "needs_background": "light"
     },
     "output_type": "display_data"
    },
    {
     "data": {
      "image/png": "[encoded data removed]",
      "text/plain": [
       "<Figure size 432x288 with 1 Axes>"
      ]
     },
     "metadata": {
      "needs_background": "light"
     },
     "output_type": "display_data"
    },
    {
     "data": {
      "image/png": "[encoded data removed]",
      "text/plain": [
       "<Figure size 432x288 with 1 Axes>"
      ]
     },
     "metadata": {
      "needs_background": "light"
     },
     "output_type": "display_data"
    },
    {
     "name": "stdout",
     "output_type": "stream",
     "text": [
      "finished!\n"
     ]
    }
   ],
   "source": [
    "ShuffleTangram(sevenShapeInfo, moveSequence, filePath, scale = image_scale)"
   ]
  },
  {
   "cell_type": "code",
   "execution_count": null,
   "metadata": {},
   "outputs": [],
   "source": []
  }
 ],
 "metadata": {
  "kernelspec": {
   "display_name": "Python 3",
   "language": "python",
   "name": "python3"
  },
  "language_info": {
   "codemirror_mode": {
    "name": "ipython",
    "version": 3
   },
   "file_extension": ".py",
   "mimetype": "text/x-python",
   "name": "python",
   "nbconvert_exporter": "python",
   "pygments_lexer": "ipython3",
   "version": "3.7.9"
  }
 },
 "nbformat": 4,
 "nbformat_minor": 2
}
