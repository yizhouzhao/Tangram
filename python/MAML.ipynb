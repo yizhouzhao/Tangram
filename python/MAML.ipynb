{
 "cells": [
  {
   "cell_type": "code",
   "execution_count": 1,
   "metadata": {},
   "outputs": [],
   "source": [
    "import os\n",
    "import torch\n",
    "import torch.nn.functional as F\n",
    "from tqdm.auto import tqdm\n",
    "import logging\n",
    "\n",
    "from torchmeta.datasets.helpers import omniglot, doublemnist\n",
    "from torchmeta.utils.data import BatchMetaDataLoader\n",
    "from torchmeta.utils.gradient_based import gradient_update_parameters"
   ]
  },
  {
   "cell_type": "code",
   "execution_count": 2,
   "metadata": {},
   "outputs": [],
   "source": [
    "import torch.nn as nn\n",
    "from torchmeta.modules import (MetaModule, MetaSequential, MetaConv2d,\n",
    "                               MetaBatchNorm2d, MetaLinear)"
   ]
  },
  {
   "cell_type": "code",
   "execution_count": 3,
   "metadata": {},
   "outputs": [],
   "source": [
    "import matplotlib.pyplot as plt"
   ]
  },
  {
   "cell_type": "code",
   "execution_count": 4,
   "metadata": {},
   "outputs": [],
   "source": [
    "def conv3x3(in_channels, out_channels, **kwargs):\n",
    "    return MetaSequential(\n",
    "        MetaConv2d(in_channels, out_channels, kernel_size=3, padding=1, **kwargs),\n",
    "        MetaBatchNorm2d(out_channels, momentum=1., track_running_stats=False),\n",
    "        nn.ReLU(),\n",
    "        nn.MaxPool2d(2)\n",
    "    )"
   ]
  },
  {
   "cell_type": "code",
   "execution_count": 5,
   "metadata": {},
   "outputs": [],
   "source": [
    "class ConvolutionalNeuralNetwork(MetaModule):\n",
    "    def __init__(self, in_channels, out_features, hidden_size=64):\n",
    "        super(ConvolutionalNeuralNetwork, self).__init__()\n",
    "        self.in_channels = in_channels\n",
    "        self.out_features = out_features\n",
    "        self.hidden_size = hidden_size\n",
    "\n",
    "        self.features = MetaSequential(\n",
    "            conv3x3(in_channels, hidden_size),\n",
    "            conv3x3(hidden_size, hidden_size),\n",
    "            conv3x3(hidden_size, hidden_size),\n",
    "            conv3x3(hidden_size, hidden_size)\n",
    "        )\n",
    "\n",
    "        self.classifier = MetaLinear(hidden_size, out_features)\n",
    "\n",
    "    def forward(self, inputs, params=None):\n",
    "        features = self.features(inputs, params=self.get_subdict(params, 'features'))\n",
    "        features = features.view((features.size(0), -1))\n",
    "        logits = self.classifier(features, params=self.get_subdict(params, 'classifier'))\n",
    "        return logits\n"
   ]
  },
  {
   "cell_type": "code",
   "execution_count": 6,
   "metadata": {},
   "outputs": [],
   "source": [
    "from collections import OrderedDict"
   ]
  },
  {
   "cell_type": "code",
   "execution_count": 7,
   "metadata": {},
   "outputs": [],
   "source": [
    "def get_accuracy(logits, targets):\n",
    "    \"\"\"Compute the accuracy (after adaptation) of MAML on the test/query points\n",
    "\n",
    "    Parameters\n",
    "    ----------\n",
    "    logits : `torch.FloatTensor` instance\n",
    "        Outputs/logits of the model on the query points. This tensor has shape\n",
    "        `(num_examples, num_classes)`.\n",
    "\n",
    "    targets : `torch.LongTensor` instance\n",
    "        A tensor containing the targets of the query points. This tensor has \n",
    "        shape `(num_examples,)`.\n",
    "\n",
    "    Returns\n",
    "    -------\n",
    "    accuracy : `torch.FloatTensor` instance\n",
    "        Mean accuracy on the query points\n",
    "    \"\"\"\n",
    "    _, predictions = torch.max(logits, dim=-1)\n",
    "    return torch.mean(predictions.eq(targets).float())"
   ]
  },
  {
   "cell_type": "code",
   "execution_count": 8,
   "metadata": {},
   "outputs": [],
   "source": [
    "class ARGS():\n",
    "    folder = \"data\"\n",
    "    num_shots = 5\n",
    "    num_ways = 20\n",
    "    download = True\n",
    "    batch_size = 16\n",
    "    num_workers = 0\n",
    "    hidden_size = 64\n",
    "    num_batches = 500\n",
    "    step_size = 0.4\n",
    "    first_order = False\n",
    "    \n",
    "    device = torch.device(\"cuda\")"
   ]
  },
  {
   "cell_type": "code",
   "execution_count": 9,
   "metadata": {},
   "outputs": [],
   "source": [
    "args = ARGS()"
   ]
  },
  {
   "cell_type": "code",
   "execution_count": 10,
   "metadata": {},
   "outputs": [],
   "source": [
    "dataset = omniglot(args.folder,\n",
    "                   shots=args.num_shots,\n",
    "                   ways=args.num_ways,\n",
    "                   shuffle=True,\n",
    "                   #test_shots=15,\n",
    "                   meta_train=True,\n",
    "                   download=args.download)"
   ]
  },
  {
   "cell_type": "code",
   "execution_count": 11,
   "metadata": {},
   "outputs": [],
   "source": [
    "# dataset = doublemnist(args.folder,\n",
    "#                    shots=args.num_shots,\n",
    "#                    ways=args.num_ways,\n",
    "#                    shuffle=True,\n",
    "#                    meta_train=True,\n",
    "#                    download=True)"
   ]
  },
  {
   "cell_type": "code",
   "execution_count": 12,
   "metadata": {},
   "outputs": [],
   "source": [
    "dataloader = BatchMetaDataLoader(dataset,\n",
    "                                     batch_size=args.batch_size,\n",
    "                                     shuffle=True,\n",
    "                                     num_workers=args.num_workers)"
   ]
  },
  {
   "cell_type": "code",
   "execution_count": 13,
   "metadata": {},
   "outputs": [
    {
     "name": "stdout",
     "output_type": "stream",
     "text": [
      "Train inputs shape: torch.Size([16, 100, 1, 28, 28])\n",
      "Train targets shape: torch.Size([16, 100])\n",
      "Test inputs shape: torch.Size([16, 100, 1, 28, 28])\n",
      "Test targets shape: torch.Size([16, 100])\n"
     ]
    }
   ],
   "source": [
    "for batch in dataloader:\n",
    "    train_inputs, train_targets = batch[\"train\"]\n",
    "    print('Train inputs shape: {0}'.format(train_inputs.shape))    # (16, 25, 1, 28, 28)\n",
    "    print('Train targets shape: {0}'.format(train_targets.shape))  # (16, 25)\n",
    "\n",
    "    test_inputs, test_targets = batch[\"test\"]\n",
    "    print('Test inputs shape: {0}'.format(test_inputs.shape))      # (16, 75, 1, 28, 28)\n",
    "    print('Test targets shape: {0}'.format(test_targets.shape))    # (16, 75)\n",
    "    break"
   ]
  },
  {
   "cell_type": "code",
   "execution_count": 14,
   "metadata": {},
   "outputs": [],
   "source": [
    "a = train_inputs[0][1].permute(1,2,0).data.numpy()"
   ]
  },
  {
   "cell_type": "code",
   "execution_count": 15,
   "metadata": {},
   "outputs": [
    {
     "data": {
      "text/plain": [
       "tensor([[16, 16, 16,  ..., 19, 19, 19],\n",
       "        [ 5,  5,  5,  ..., 14, 14, 14],\n",
       "        [16, 16, 16,  ..., 19, 19, 19],\n",
       "        ...,\n",
       "        [17, 17, 17,  ...,  6,  6,  6],\n",
       "        [ 5,  5,  5,  ...,  3,  3,  3],\n",
       "        [ 9,  9,  9,  ..., 15, 15, 15]])"
      ]
     },
     "execution_count": 15,
     "metadata": {},
     "output_type": "execute_result"
    }
   ],
   "source": [
    "train_targets"
   ]
  },
  {
   "cell_type": "code",
   "execution_count": 16,
   "metadata": {},
   "outputs": [
    {
     "data": {
      "text/plain": [
       "<matplotlib.image.AxesImage at 0x20554847048>"
      ]
     },
     "execution_count": 16,
     "metadata": {},
     "output_type": "execute_result"
    },
    {
     "data": {
      "image/png": "[encoded data removed]",
      "text/plain": [
       "<Figure size 432x288 with 1 Axes>"
      ]
     },
     "metadata": {
      "needs_background": "light"
     },
     "output_type": "display_data"
    }
   ],
   "source": [
    "plt.imshow(a, cmap=\"gray\")"
   ]
  },
  {
   "cell_type": "code",
   "execution_count": 17,
   "metadata": {},
   "outputs": [],
   "source": [
    "model = ConvolutionalNeuralNetwork(1,\n",
    "                                   args.num_ways,\n",
    "                                   hidden_size=args.hidden_size)\n",
    "model.to(device=args.device)\n",
    "model.train()\n",
    "meta_optimizer = torch.optim.Adam(model.parameters(), lr=1e-3)"
   ]
  },
  {
   "cell_type": "code",
   "execution_count": 18,
   "metadata": {},
   "outputs": [],
   "source": [
    "pretrained_dict = torch.load(\"10_29.pth\")"
   ]
  },
  {
   "cell_type": "code",
   "execution_count": 19,
   "metadata": {},
   "outputs": [],
   "source": [
    "model_dict = model.state_dict()"
   ]
  },
  {
   "cell_type": "code",
   "execution_count": 20,
   "metadata": {},
   "outputs": [
    {
     "data": {
      "text/plain": [
       "<All keys matched successfully>"
      ]
     },
     "execution_count": 20,
     "metadata": {},
     "output_type": "execute_result"
    }
   ],
   "source": [
    "# 1. filter out unnecessary keys\n",
    "pretrained_dict = {k: v for k, v in pretrained_dict.items() if k in model_dict}\n",
    "# 2. overwrite entries in the existing state dict\n",
    "model_dict.update(pretrained_dict) \n",
    "# 3. load the new state dict\n",
    "model.load_state_dict(model_dict)"
   ]
  },
  {
   "cell_type": "code",
   "execution_count": 21,
   "metadata": {},
   "outputs": [
    {
     "data": {
      "application/vnd.jupyter.widget-view+json": {
       "model_id": "3718418142a54d878558ca2c7927bbcf",
       "version_major": 2,
       "version_minor": 0
      },
      "text/plain": [
       "HBox(children=(HTML(value=''), FloatProgress(value=0.0, max=500.0), HTML(value='')))"
      ]
     },
     "metadata": {},
     "output_type": "display_data"
    },
    {
     "name": "stdout",
     "output_type": "stream",
     "text": [
      "\n"
     ]
    }
   ],
   "source": [
    "# Training loop\n",
    "acc_list = []\n",
    "with tqdm(dataloader, total=args.num_batches) as pbar:\n",
    "     for batch_idx, batch in enumerate(pbar):\n",
    "            model.zero_grad()\n",
    "\n",
    "            train_inputs, train_targets = batch['train']\n",
    "            train_inputs = train_inputs.to(device=args.device)\n",
    "            train_targets = train_targets.to(device=args.device)\n",
    "\n",
    "            test_inputs, test_targets = batch['test']\n",
    "            test_inputs = test_inputs.to(device=args.device)\n",
    "            test_targets = test_targets.to(device=args.device)\n",
    "\n",
    "            outer_loss = torch.tensor(0., device=args.device)\n",
    "            accuracy = torch.tensor(0., device=args.device)\n",
    "            for task_idx, (train_input, train_target, test_input,\n",
    "                    test_target) in enumerate(zip(train_inputs, train_targets,\n",
    "                    test_inputs, test_targets)):\n",
    "                train_logit = model(train_input)\n",
    "                inner_loss = F.cross_entropy(train_logit, train_target)\n",
    "\n",
    "                model.zero_grad()\n",
    "                params = gradient_update_parameters(model,\n",
    "                                                    inner_loss,\n",
    "                                                    step_size=args.step_size,\n",
    "                                                    first_order=args.first_order)\n",
    "\n",
    "                test_logit = model(test_input, params=params)\n",
    "                outer_loss += F.cross_entropy(test_logit, test_target)\n",
    "\n",
    "                with torch.no_grad():\n",
    "                    accuracy += get_accuracy(test_logit, test_target)\n",
    "\n",
    "            outer_loss.div_(args.batch_size)\n",
    "            accuracy.div_(args.batch_size)\n",
    "\n",
    "            outer_loss.backward()\n",
    "            meta_optimizer.step()\n",
    "\n",
    "            pbar.set_postfix(accuracy='{0:.4f}'.format(accuracy.item()))\n",
    "            \n",
    "            acc_list.append(accuracy.item())\n",
    "            if batch_idx >= args.num_batches:\n",
    "                break"
   ]
  },
  {
   "cell_type": "code",
   "execution_count": 22,
   "metadata": {},
   "outputs": [
    {
     "data": {
      "image/png": "[encoded data removed]",
      "text/plain": [
       "<Figure size 432x288 with 1 Axes>"
      ]
     },
     "metadata": {
      "needs_background": "light"
     },
     "output_type": "display_data"
    }
   ],
   "source": [
    "plt.plot(acc_list[:500])\n",
    "plt.show()"
   ]
  },
  {
   "cell_type": "code",
   "execution_count": 23,
   "metadata": {},
   "outputs": [
    {
     "name": "stdout",
     "output_type": "stream",
     "text": [
      "[0.16625000536441803, 0.20625001192092896, 0.25687500834465027, 0.2943749725818634, 0.31312498450279236, 0.3449999988079071, 0.3606249988079071, 0.3737500011920929, 0.40187498927116394, 0.4431249797344208, 0.4506250321865082, 0.4468749463558197, 0.4918749928474426, 0.4868749678134918, 0.5131250023841858, 0.5524999499320984, 0.5512499809265137, 0.5531249642372131, 0.5687500238418579, 0.5393750667572021, 0.5893750190734863, 0.6043750047683716, 0.6231249570846558, 0.5950000286102295, 0.653124988079071, 0.6593749523162842, 0.6456249952316284, 0.6768749356269836, 0.6956250071525574, 0.6987499594688416, 0.7406250238418579, 0.7424999475479126, 0.7200000286102295, 0.7924999594688416, 0.7562499046325684, 0.778124988079071, 0.7749999761581421, 0.7987499237060547, 0.7956249713897705, 0.7974998950958252, 0.7950000762939453, 0.8074999451637268, 0.8306249380111694, 0.8181250691413879, 0.7931250333786011, 0.824999988079071, 0.8256250023841858, 0.8212499022483826, 0.8474999666213989, 0.8293749690055847, 0.8168749809265137, 0.8424999713897705, 0.8318750262260437, 0.8493750095367432, 0.84375, 0.8693749904632568, 0.8443750143051147, 0.8543750643730164, 0.8637499213218689, 0.8806250095367432, 0.8537500500679016, 0.8812500238418579, 0.8512499332427979, 0.8662499785423279, 0.8800000548362732, 0.8906249403953552, 0.8618749976158142, 0.8712500333786011, 0.8693749904632568, 0.8862499594688416, 0.85999995470047, 0.9075000286102295, 0.9043750166893005, 0.8968749642372131, 0.8768749833106995, 0.9099999666213989, 0.8881248831748962, 0.8868749737739563, 0.8912500143051147, 0.8875000476837158, 0.8862500190734863, 0.9049999117851257, 0.9049999117851257, 0.9074999690055847, 0.8731249570846558, 0.8843749761581421, 0.9093748927116394, 0.9074999094009399, 0.8881250023841858, 0.9106249809265137, 0.9031250476837158, 0.9149999618530273, 0.903749942779541, 0.9375, 0.9062500596046448, 0.9143749475479126, 0.9049999713897705, 0.923750102519989, 0.9243749380111694, 0.92249995470047, 0.9256249070167542, 0.9262498617172241, 0.9112499356269836, 0.9093749523162842, 0.9324999451637268, 0.9068748950958252, 0.9312499761581421, 0.9137498736381531, 0.9056249856948853, 0.9362499713897705, 0.9306249022483826, 0.9337500333786011, 0.935624897480011, 0.9237499833106995, 0.9318749904632568, 0.9149999022483826, 0.9318749308586121, 0.9331249594688416, 0.9181250929832458, 0.9318749904632568, 0.9281249642372131, 0.9299999475479126, 0.9412499666213989, 0.9206249713897705, 0.9362499117851257, 0.9375, 0.9299999475479126, 0.9237499833106995, 0.9437499046325684, 0.9468750357627869, 0.9449999928474426, 0.9287499189376831, 0.9512499570846558, 0.9462500214576721, 0.9387499094009399, 0.9356249570846558, 0.9406249523162842, 0.9524998664855957, 0.9543749690055847, 0.9375, 0.9431249499320984, 0.9412499666213989, 0.9374999403953552, 0.9337498545646667, 0.9281250238418579, 0.9362499713897705, 0.9499999284744263, 0.9487498998641968, 0.9418749213218689, 0.9393749237060547, 0.9424999356269836, 0.9543749690055847, 0.9431248903274536, 0.9531248807907104, 0.9287500381469727, 0.9362499117851257, 0.9512500166893005, 0.9406249523162842, 0.9524999856948853, 0.9356250166893005, 0.9487498998641968, 0.9562498927116394, 0.940625011920929, 0.9462499618530273, 0.9443748593330383, 0.9406249523162842, 0.934374988079071, 0.950624942779541, 0.9487499594688416, 0.9412499666213989, 0.9412499666213989, 0.934374988079071, 0.9462499022483826, 0.953125, 0.9474999308586121, 0.9543749094009399, 0.9481250643730164, 0.9462499618530273, 0.9687499403953552, 0.9518749713897705, 0.9518750309944153, 0.9531249403953552, 0.9456249475479126, 0.93687504529953, 0.9574999809265137, 0.9456250071525574, 0.9474999308586121, 0.9543749094009399, 0.9562499523162842, 0.9449999928474426, 0.9487498998641968, 0.9637498259544373, 0.9574999809265137, 0.953125, 0.9674999117851257, 0.9399999976158142, 0.9587499499320984, 0.9518749117851257, 0.9637498259544373, 0.9506248235702515, 0.951249897480011, 0.9474999308586121, 0.9531249403953552, 0.9524999260902405, 0.9474999904632568, 0.9656249284744263, 0.9599999189376831, 0.9574999809265137, 0.9674999117851257, 0.951249897480011, 0.9581249952316284, 0.9624999165534973, 0.9599999189376831, 0.9574998617172241, 0.9637499451637268, 0.9599999785423279, 0.9531248807907104, 0.9568749666213989, 0.9593749642372131, 0.9712498188018799, 0.9631249904632568, 0.9724998474121094, 0.9518749713897705, 0.9631249904632568, 0.949999988079071, 0.9543749094009399, 0.9662498831748962, 0.9524999260902405, 0.9599999189376831, 0.9587500095367432, 0.9662498831748962, 0.9593750834465027, 0.9574998021125793, 0.9537498354911804, 0.966874897480011, 0.9568749666213989, 0.9587498903274536, 0.9593749046325684, 0.967499852180481, 0.9712499380111694, 0.951249897480011, 0.9612499475479126, 0.9712498188018799, 0.9618749618530273, 0.9631248712539673, 0.9556248784065247, 0.9574999213218689, 0.9618749618530273, 0.963749885559082, 0.9656249284744263, 0.9581249952316284, 0.9543750286102295, 0.9662500023841858, 0.9581249356269836, 0.966874897480011, 0.9543749690055847, 0.9668749570846558, 0.9599999189376831, 0.9656248688697815, 0.9631250500679016, 0.9599999189376831, 0.9599999189376831, 0.9687499403953552, 0.9618749022483826, 0.9712498784065247, 0.9656249284744263, 0.9712498784065247, 0.9537498950958252, 0.971875011920929, 0.9681249260902405, 0.9624999761581421, 0.9674999117851257, 0.9662498831748962, 0.9668750166893005, 0.9593748450279236, 0.9674999117851257, 0.9587500095367432, 0.9618749618530273, 0.9649999737739563, 0.9499998688697815, 0.9712498784065247, 0.9599998593330383, 0.9599999189376831, 0.9712499380111694, 0.9724998474121094, 0.9712499380111694, 0.9743750095367432, 0.9737498760223389, 0.9681248664855957, 0.9693748950958252, 0.9606249928474426, 0.9712499976158142, 0.9693748950958252, 0.9725000262260437, 0.9643749594688416, 0.9618749618530273, 0.9706248641014099, 0.966874897480011, 0.9599999189376831, 0.9649998545646667, 0.9637500047683716, 0.9681249260902405, 0.9593749046325684, 0.9706248641014099, 0.9681249856948853, 0.96875, 0.9681249260902405, 0.9643749594688416, 0.9643748998641968, 0.9593749046325684, 0.9662500023841858, 0.9606249332427979, 0.96937495470047, 0.9668749570846558, 0.9737499356269836, 0.9693748950958252, 0.9687498807907104, 0.9737498164176941, 0.9599999785423279, 0.96937495470047, 0.9693748950958252, 0.961249828338623, 0.9649999737739563, 0.9681249856948853, 0.9737499356269836, 0.9568749070167542, 0.963749885559082, 0.9774999618530273, 0.9693748950958252, 0.982499897480011, 0.9631249308586121, 0.9724999070167542, 0.9724999666213989, 0.966249942779541, 0.9674999713897705, 0.9712498784065247, 0.9774998426437378, 0.9706249237060547, 0.9624999165534973, 0.9687499403953552, 0.9774999022483826, 0.9799998998641968, 0.9718748927116394, 0.9731248617172241, 0.9718749523162842, 0.9756249189376831, 0.9649999737739563, 0.9699999690055847, 0.9724999070167542, 0.9756248593330383, 0.9806249141693115, 0.9687499403953552, 0.9706248044967651, 0.9743749499320984, 0.9706248641014099, 0.96875, 0.9712499976158142, 0.9787499904632568, 0.9799999594688416, 0.9693748950958252, 0.9656248688697815, 0.9737499952316284, 0.9831249117851257, 0.967499852180481, 0.9699999690055847, 0.9781249165534973, 0.9799999594688416, 0.9749999046325684, 0.9887498617172241, 0.9699998497962952, 0.9724999070167542, 0.9781249165534973, 0.9762499332427979, 0.9831249117851257, 0.979374885559082, 0.9718748927116394, 0.9824999570846558, 0.9718748331069946, 0.9762499332427979, 0.9762499332427979, 0.9756249189376831, 0.9743748307228088, 0.9787498712539673, 0.9774999618530273, 0.9724999070167542, 0.9856249094009399, 0.9868748784065247, 0.9806249141693115, 0.9606249332427979, 0.96875, 0.9731249213218689, 0.979374885559082, 0.9724997878074646, 0.9787499308586121, 0.9724999070167542, 0.9681249260902405, 0.9756249189376831, 0.9843748807907104, 0.9706249833106995, 0.9737499356269836, 0.9787498712539673, 0.9718748927116394, 0.9787499308586121, 0.9756248593330383, 0.96812504529953, 0.9818748831748962, 0.9749998450279236, 0.9756249785423279, 0.9768748879432678, 0.9687498807907104, 0.9687498807907104, 0.9681249260902405, 0.9781249165534973, 0.9718749523162842, 0.9775000214576721, 0.9706249833106995, 0.9718749523162842, 0.9781250357627869, 0.9824998378753662, 0.9731249213218689, 0.9712498784065247, 0.979999840259552, 0.9718749523162842, 0.9774999618530273, 0.9637499451637268, 0.9781248569488525, 0.9774998426437378, 0.9774999022483826, 0.9756248593330383, 0.9812499284744263, 0.9749999642372131, 0.966874897480011, 0.9774999618530273, 0.9768749475479126, 0.9762499332427979, 0.9762498736381531, 0.9781249165534973, 0.9843748807907104, 0.9799998998641968, 0.9812499284744263, 0.9724999666213989, 0.977499783039093, 0.9699999094009399, 0.9649998545646667, 0.9881248474121094, 0.9768748879432678, 0.9718748927116394, 0.9762499332427979, 0.982499897480011, 0.9831249117851257, 0.9731250405311584, 0.9799998998641968, 0.9712498784065247, 0.9812499284744263, 0.9756249189376831, 0.9762499332427979, 0.9731248617172241, 0.9781248569488525, 0.9749999046325684, 0.9799999594688416, 0.9737498760223389, 0.9724999070167542, 0.979374885559082, 0.9793750047683716, 0.981874942779541, 0.9762498736381531, 0.9843748807907104, 0.9756249785423279, 0.96937495470047, 0.9799999594688416, 0.9731249809265137, 0.9724999070167542, 0.9687499403953552, 0.9737499356269836, 0.9806249141693115, 0.9862498641014099, 0.9874999523162842, 0.9756248593330383, 0.981874942779541, 0.9806249141693115, 0.982499897480011, 0.9856248497962952, 0.9649999141693115, 0.9781249165534973, 0.981874942779541, 0.9818748831748962, 0.967499852180481, 0.9756248593330383, 0.9768749475479126, 0.9812498688697815, 0.9800000190734863, 0.9787498712539673, 0.9787499308586121, 0.9737499356269836, 0.9824999570846558, 0.9656249284744263, 0.9812498092651367, 0.9724999070167542, 0.9743749499320984, 0.9749999642372131, 0.9824999570846558]\n"
     ]
    }
   ],
   "source": [
    "print(acc_list)"
   ]
  },
  {
   "cell_type": "code",
   "execution_count": null,
   "metadata": {},
   "outputs": [],
   "source": []
  }
 ],
 "metadata": {
  "kernelspec": {
   "display_name": "Python 3",
   "language": "python",
   "name": "python3"
  },
  "language_info": {
   "codemirror_mode": {
    "name": "ipython",
    "version": 3
   },
   "file_extension": ".py",
   "mimetype": "text/x-python",
   "name": "python",
   "nbconvert_exporter": "python",
   "pygments_lexer": "ipython3",
   "version": "3.7.9"
  }
 },
 "nbformat": 4,
 "nbformat_minor": 4
}
