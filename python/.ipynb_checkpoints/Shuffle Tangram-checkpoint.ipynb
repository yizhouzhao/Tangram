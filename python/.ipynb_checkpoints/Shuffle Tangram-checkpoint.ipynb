{
 "cells": [
  {
   "cell_type": "code",
   "execution_count": 1,
   "metadata": {},
   "outputs": [],
   "source": [
    "from shapely.geometry import Point\n",
    "from shapely.geometry.polygon import Polygon\n",
    "\n",
    "\n",
    "import numpy as np\n",
    "import cv2\n",
    "import matplotlib.pyplot as plt\n",
    "import os"
   ]
  },
  {
   "cell_type": "code",
   "execution_count": 2,
   "metadata": {},
   "outputs": [
    {
     "name": "stdout",
     "output_type": "stream",
     "text": [
      "True\n"
     ]
    }
   ],
   "source": [
    "\n",
    "\n",
    "point = Point(0.5, 0.5)\n",
    "polygon = Polygon([(0, 0), (0, 1), (1, 1), (1, 0)])\n",
    "print(polygon.contains(point))"
   ]
  },
  {
   "cell_type": "code",
   "execution_count": 3,
   "metadata": {},
   "outputs": [],
   "source": [
    "boardHeight = 10\n",
    "boardWidth = 10\n",
    "gridStep = 0.1\n",
    "shapeIdList = [1,2,3,4,5,6,7]"
   ]
  },
  {
   "cell_type": "code",
   "execution_count": 4,
   "metadata": {},
   "outputs": [],
   "source": [
    "jsoninfo = {\"MoveShapeSequence\":[7,6,3,4,5,3,2,3,6,4,2,7,5,1],\"SevenShapeInfo\":[{\"shapeId\":1,\"shapeType\":0,\"rotationType\":0,\"shapePosition\":{\"x\":-2.6000001430511476,\"y\":-1.5},\"shapePositionIds\":{\"x\":-26.0,\"y\":-15.0},\"shapeRotation\":{\"x\":45.00001525878906,\"y\":270.0,\"z\":90.0},\"shapeRotationId\":6},{\"shapeId\":2,\"shapeType\":0,\"rotationType\":0,\"shapePosition\":{\"x\":2.5,\"y\":0.800000011920929},\"shapePositionIds\":{\"x\":25.0,\"y\":8.0},\"shapeRotation\":{\"x\":45.00001907348633,\"y\":90.0,\"z\":270.0},\"shapeRotationId\":0},{\"shapeId\":3,\"shapeType\":3,\"rotationType\":0,\"shapePosition\":{\"x\":2.5,\"y\":2.9000000953674318},\"shapePositionIds\":{\"x\":25.0,\"y\":29.0},\"shapeRotation\":{\"x\":314.9999694824219,\"y\":90.0,\"z\":90.0},\"shapeRotationId\":0},{\"shapeId\":4,\"shapeType\":4,\"rotationType\":0,\"shapePosition\":{\"x\":3.0,\"y\":-0.699999988079071},\"shapePositionIds\":{\"x\":30.0,\"y\":-7.0},\"shapeRotation\":{\"x\":45.000022888183597,\"y\":270.0,\"z\":270.0},\"shapeRotationId\":0},{\"shapeId\":5,\"shapeType\":1,\"rotationType\":0,\"shapePosition\":{\"x\":-1.6000001430511475,\"y\":-0.4000000059604645},\"shapePositionIds\":{\"x\":-16.0,\"y\":-4.0},\"shapeRotation\":{\"x\":-0.000020490568203967996,\"y\":90.00001525878906,\"z\":90.0},\"shapeRotationId\":3},{\"shapeId\":6,\"shapeType\":2,\"rotationType\":0,\"shapePosition\":{\"x\":2.4000000953674318,\"y\":-0.20000000298023225},\"shapePositionIds\":{\"x\":24.0,\"y\":-2.0},\"shapeRotation\":{\"x\":45.00001525878906,\"y\":270.0,\"z\":270.0},\"shapeRotationId\":12},{\"shapeId\":7,\"shapeType\":2,\"rotationType\":0,\"shapePosition\":{\"x\":0.8999999761581421,\"y\":-0.800000011920929},\"shapePositionIds\":{\"x\":9.0,\"y\":-8.0},\"shapeRotation\":{\"x\":-0.000010245284101983998,\"y\":270.0,\"z\":90.0},\"shapeRotationId\":9}]}"
   ]
  },
  {
   "cell_type": "code",
   "execution_count": 5,
   "metadata": {},
   "outputs": [],
   "source": [
    "moveSequence = jsoninfo[\"MoveShapeSequence\"]\n",
    "sevenShapeInfo = jsoninfo[\"SevenShapeInfo\"]"
   ]
  },
  {
   "cell_type": "code",
   "execution_count": 6,
   "metadata": {},
   "outputs": [],
   "source": [
    "placeSequence = []\n",
    "for element in moveSequence[::-1]:\n",
    "    if element in placeSequence:\n",
    "        continue\n",
    "    placeSequence.append(element)\n",
    "\n",
    "for shapeId in shapeIdList:\n",
    "    if not shapeId in placeSequence:\n",
    "        placeSequence.append(shapeId)"
   ]
  },
  {
   "cell_type": "code",
   "execution_count": 7,
   "metadata": {},
   "outputs": [
    {
     "data": {
      "text/plain": [
       "[1, 5, 7, 2, 4, 6, 3]"
      ]
     },
     "execution_count": 7,
     "metadata": {},
     "output_type": "execute_result"
    }
   ],
   "source": [
    "placeSequence"
   ]
  },
  {
   "cell_type": "code",
   "execution_count": 8,
   "metadata": {},
   "outputs": [],
   "source": [
    "shapeInfo = sevenShapeInfo[3]"
   ]
  },
  {
   "cell_type": "code",
   "execution_count": 9,
   "metadata": {},
   "outputs": [
    {
     "data": {
      "text/plain": [
       "{'shapeId': 4,\n",
       " 'shapeType': 4,\n",
       " 'rotationType': 0,\n",
       " 'shapePosition': {'x': 3.0, 'y': -0.699999988079071},\n",
       " 'shapePositionIds': {'x': 30.0, 'y': -7.0},\n",
       " 'shapeRotation': {'x': 45.000022888183594, 'y': 270.0, 'z': 270.0},\n",
       " 'shapeRotationId': 0}"
      ]
     },
     "execution_count": 9,
     "metadata": {},
     "output_type": "execute_result"
    }
   ],
   "source": [
    "shapeInfo"
   ]
  },
  {
   "cell_type": "code",
   "execution_count": 10,
   "metadata": {},
   "outputs": [],
   "source": [
    "image = np.ones((100, 100, 3), np.uint8) * 255"
   ]
  },
  {
   "cell_type": "code",
   "execution_count": 11,
   "metadata": {},
   "outputs": [],
   "source": [
    "# pt1 = (15, 10)\n",
    "# pt2 = (10, 20)\n",
    "# pt3 = (20, 20)\n",
    "\n",
    "# triangle_cnt = np.array( [pt1, pt2, pt3] )\n",
    "\n",
    "#cv2.drawContours(image, [triangle_cnt], 0, (0,0,0), -1)"
   ]
  },
  {
   "cell_type": "code",
   "execution_count": 12,
   "metadata": {
    "scrolled": true
   },
   "outputs": [
    {
     "data": {
      "text/plain": [
       "<matplotlib.image.AxesImage at 0x1eb39ed40b8>"
      ]
     },
     "execution_count": 12,
     "metadata": {},
     "output_type": "execute_result"
    },
    {
     "data": {
      "image/png": "[encoded data removed]",
      "text/plain": [
       "<Figure size 432x288 with 1 Axes>"
      ]
     },
     "metadata": {
      "needs_background": "light"
     },
     "output_type": "display_data"
    }
   ],
   "source": [
    "plt.imshow(image)"
   ]
  },
  {
   "cell_type": "code",
   "execution_count": 13,
   "metadata": {},
   "outputs": [],
   "source": [
    "def TriangleVertexPosition(shapePositionIds, shapeRotationId, edgeLength = 10, scale = 1):\n",
    "    '''\n",
    "    Draw triangle vertex positions\n",
    "    '''\n",
    "    center_x = shapePositionIds[\"x\"] + boardWidth/gridStep/2\n",
    "    center_y = -shapePositionIds[\"y\"] + boardHeight/gridStep/2\n",
    "    \n",
    "    rotationAngle = np.pi/12 * shapeRotationId\n",
    "    \n",
    "    vertex_0_x = edgeLength * np.cos(rotationAngle)\n",
    "    vertex_0_y = edgeLength * np.sin(rotationAngle)\n",
    "    point_0 = ((int)(center_x + vertex_0_x), (int)(center_y + vertex_0_y))\n",
    "    \n",
    "    vertex_1_x = edgeLength * np.cos(rotationAngle - np.pi/2)\n",
    "    vertex_1_y = edgeLength * np.sin(rotationAngle - np.pi/2)\n",
    "    point_1= ((int)(center_x + vertex_1_x), (int)(center_y + vertex_1_y))\n",
    "    \n",
    "    vertex_2_x = edgeLength * np.cos(rotationAngle + np.pi/2)\n",
    "    vertex_2_y = edgeLength * np.sin(rotationAngle + np.pi/2)\n",
    "    point_2 = ((int)(center_x + vertex_2_x), (int)(center_y + vertex_2_y))\n",
    "    \n",
    "    return np.array([point_0, point_1, point_2]) * scale"
   ]
  },
  {
   "cell_type": "code",
   "execution_count": 14,
   "metadata": {},
   "outputs": [],
   "source": [
    "def SquareVertexPosition(shapePositionIds, shapeRotationId, edgeLength = 10, scale = 1):\n",
    "    '''\n",
    "    Draw triangle vertex positions\n",
    "    '''\n",
    "    center_x = shapePositionIds[\"x\"] + boardWidth/gridStep/2\n",
    "    center_y = -shapePositionIds[\"y\"] + boardHeight/gridStep/2\n",
    "    \n",
    "    rotationAngle = np.pi/12 * shapeRotationId\n",
    "    \n",
    "    vertex_0_x = edgeLength * np.cos(rotationAngle)\n",
    "    vertex_0_y = edgeLength * np.sin(rotationAngle)\n",
    "    point_0 = ((int)(center_x + vertex_0_x), (int)(center_y + vertex_0_y))\n",
    "    \n",
    "    vertex_1_x = edgeLength * np.cos(rotationAngle - np.pi/2)\n",
    "    vertex_1_y = edgeLength * np.sin(rotationAngle - np.pi/2)\n",
    "    point_1= ((int)(center_x + vertex_1_x), (int)(center_y + vertex_1_y))\n",
    "    \n",
    "    vertex_2_x = edgeLength * np.cos(rotationAngle + np.pi/2)\n",
    "    vertex_2_y = edgeLength * np.sin(rotationAngle + np.pi/2)\n",
    "    point_2 = ((int)(center_x + vertex_2_x), (int)(center_y + vertex_2_y))\n",
    "    \n",
    "    vertex_3_x = edgeLength * np.cos(rotationAngle + np.pi)\n",
    "    vertex_3_y = edgeLength * np.sin(rotationAngle + np.pi)\n",
    "    point_3 = ((int)(center_x + vertex_3_x), (int)(center_y + vertex_3_y))\n",
    "    \n",
    "    \n",
    "    return np.array([point_0, point_1, point_3, point_2]) * scale"
   ]
  },
  {
   "cell_type": "code",
   "execution_count": 15,
   "metadata": {},
   "outputs": [],
   "source": [
    "def ParallelogramVertexPosition(shapePositionIds, shapeRotationId, edgeLength = 5, scale = 1):\n",
    "    '''\n",
    "    Draw triangle vertex positions\n",
    "    '''\n",
    "    center_x = shapePositionIds[\"x\"] + boardWidth/gridStep/2\n",
    "    center_y = -shapePositionIds[\"y\"] + boardHeight/gridStep/2\n",
    "    \n",
    "    edge_short = 1.414 * edgeLength\n",
    "    edge_long = 2 * edgeLength\n",
    "    \n",
    "    if(shapeRotationId >= 0):\n",
    "        rotationAngle = np.pi/12 * shapeRotationId\n",
    "\n",
    "        edge_short_x = edge_short * np.cos(rotationAngle - np.pi/4)\n",
    "        edge_short_y = edge_short * np.sin(rotationAngle - np.pi/4)\n",
    "    \n",
    "        edge_long_x = edge_long * np.cos(rotationAngle + np.pi/2)\n",
    "        edge_long_y = edge_long * np.sin(rotationAngle + np.pi/2)\n",
    "\n",
    "        point_0 = (int(center_x + edge_short_x + edge_long_x), int(center_y + edge_short_y + edge_long_y))\n",
    "        point_1 = (int(center_x - edge_short_x + edge_long_x), int(center_y - edge_short_y + edge_long_y))\n",
    "        point_2 = (int(center_x - edge_short_x - edge_long_x), int(center_y - edge_short_y - edge_long_y))\n",
    "        point_3 = (int(center_x + edge_short_x - edge_long_x), int(center_y + edge_short_y - edge_long_y))\n",
    "    \n",
    "        return np.array([point_0, point_1, point_2, point_3]) * scale\n",
    "    \n",
    "    else:\n",
    "        rotationAngle = np.pi/12 * (shapeRotationId + 12)\n",
    "        \n",
    "        edge_short_x = edge_short * np.cos(rotationAngle + np.pi/4)\n",
    "        edge_short_y = edge_short * np.sin(rotationAngle + np.pi/4)\n",
    "    \n",
    "        edge_long_x = edge_long * np.cos(rotationAngle + np.pi/2)\n",
    "        edge_long_y = edge_long * np.sin(rotationAngle + np.pi/2)\n",
    "\n",
    "        point_0 = (int(center_x + edge_short_x + edge_long_x), int(center_y + edge_short_y + edge_long_y))\n",
    "        point_1 = (int(center_x - edge_short_x + edge_long_x), int(center_y - edge_short_y + edge_long_y))\n",
    "        point_2 = (int(center_x - edge_short_x - edge_long_x), int(center_y - edge_short_y - edge_long_y))\n",
    "        point_3 = (int(center_x + edge_short_x - edge_long_x), int(center_y + edge_short_y - edge_long_y))\n",
    "        \n",
    "        return np.array([point_0, point_1, point_2, point_3]) * scale"
   ]
  },
  {
   "cell_type": "code",
   "execution_count": 16,
   "metadata": {},
   "outputs": [],
   "source": [
    "point_t = ParallelogramVertexPosition(shapeInfo[\"shapePositionIds\"], shapeInfo[\"shapeRotationId\"])"
   ]
  },
  {
   "cell_type": "code",
   "execution_count": 17,
   "metadata": {},
   "outputs": [
    {
     "data": {
      "text/plain": [
       "array([[84, 62],\n",
       "       [75, 71],\n",
       "       [75, 51],\n",
       "       [84, 42]])"
      ]
     },
     "execution_count": 17,
     "metadata": {},
     "output_type": "execute_result"
    }
   ],
   "source": [
    "point_t"
   ]
  },
  {
   "cell_type": "code",
   "execution_count": 18,
   "metadata": {
    "scrolled": true
   },
   "outputs": [
    {
     "data": {
      "text/plain": [
       "array([[[255, 255, 255],\n",
       "        [255, 255, 255],\n",
       "        [255, 255, 255],\n",
       "        ...,\n",
       "        [255, 255, 255],\n",
       "        [255, 255, 255],\n",
       "        [255, 255, 255]],\n",
       "\n",
       "       [[255, 255, 255],\n",
       "        [255, 255, 255],\n",
       "        [255, 255, 255],\n",
       "        ...,\n",
       "        [255, 255, 255],\n",
       "        [255, 255, 255],\n",
       "        [255, 255, 255]],\n",
       "\n",
       "       [[255, 255, 255],\n",
       "        [255, 255, 255],\n",
       "        [255, 255, 255],\n",
       "        ...,\n",
       "        [255, 255, 255],\n",
       "        [255, 255, 255],\n",
       "        [255, 255, 255]],\n",
       "\n",
       "       ...,\n",
       "\n",
       "       [[255, 255, 255],\n",
       "        [255, 255, 255],\n",
       "        [255, 255, 255],\n",
       "        ...,\n",
       "        [255, 255, 255],\n",
       "        [255, 255, 255],\n",
       "        [255, 255, 255]],\n",
       "\n",
       "       [[255, 255, 255],\n",
       "        [255, 255, 255],\n",
       "        [255, 255, 255],\n",
       "        ...,\n",
       "        [255, 255, 255],\n",
       "        [255, 255, 255],\n",
       "        [255, 255, 255]],\n",
       "\n",
       "       [[255, 255, 255],\n",
       "        [255, 255, 255],\n",
       "        [255, 255, 255],\n",
       "        ...,\n",
       "        [255, 255, 255],\n",
       "        [255, 255, 255],\n",
       "        [255, 255, 255]]], dtype=uint8)"
      ]
     },
     "execution_count": 18,
     "metadata": {},
     "output_type": "execute_result"
    }
   ],
   "source": [
    "cv2.drawContours(image, [point_t], 0, (0,0,0), -1)"
   ]
  },
  {
   "cell_type": "code",
   "execution_count": 19,
   "metadata": {},
   "outputs": [
    {
     "data": {
      "text/plain": [
       "<matplotlib.image.AxesImage at 0x1eb39f6d278>"
      ]
     },
     "execution_count": 19,
     "metadata": {},
     "output_type": "execute_result"
    },
    {
     "data": {
      "image/png": "[encoded data removed]",
      "text/plain": [
       "<Figure size 432x288 with 1 Axes>"
      ]
     },
     "metadata": {
      "needs_background": "light"
     },
     "output_type": "display_data"
    }
   ],
   "source": [
    "plt.imshow(image)"
   ]
  },
  {
   "cell_type": "code",
   "execution_count": 22,
   "metadata": {},
   "outputs": [],
   "source": [
    "def DrawImageFromShapeInfo(shapeInfoList, scale = 1):\n",
    "    canvas = np.ones((100 * scale, 100 * scale, 3), np.uint8) * 255\n",
    "    pointList = []\n",
    "    \n",
    "    for shapeInfo in shapeInfoList:\n",
    "        if(shapeInfo[\"shapeId\"] == 1 or shapeInfo[\"shapeId\"] == 2):\n",
    "            point_t = TriangleVertexPosition(shapeInfo[\"shapePositionIds\"], shapeInfo[\"shapeRotationId\"], 10, scale)\n",
    "        elif(shapeInfo[\"shapeId\"] == 5):\n",
    "            point_t = TriangleVertexPosition(shapeInfo[\"shapePositionIds\"], shapeInfo[\"shapeRotationId\"], 10 * 1.414, scale)    \n",
    "        elif(shapeInfo[\"shapeId\"] == 6 or shapeInfo[\"shapeId\"] == 7):\n",
    "            point_t = TriangleVertexPosition(shapeInfo[\"shapePositionIds\"], shapeInfo[\"shapeRotationId\"], 10 * 2, scale)\n",
    "        elif(shapeInfo[\"shapeId\"] == 3):\n",
    "            point_t = SquareVertexPosition(shapeInfo[\"shapePositionIds\"], shapeInfo[\"shapeRotationId\"], 10, scale)\n",
    "        else: # =4\n",
    "            point_t = ParallelogramVertexPosition(shapeInfo[\"shapePositionIds\"], shapeInfo[\"shapeRotationId\"], 5, scale)\n",
    "                \n",
    "        cv2.drawContours(canvas, [point_t], 0, (0,0,0), -1)\n",
    "        pointList.append(point_t)\n",
    "        \n",
    "    return canvas, pointList"
   ]
  },
  {
   "cell_type": "code",
   "execution_count": 33,
   "metadata": {},
   "outputs": [],
   "source": [
    "img1, pt1 = DrawImageFromShapeInfo(sevenShapeInfo, 2)"
   ]
  },
  {
   "cell_type": "code",
   "execution_count": 34,
   "metadata": {},
   "outputs": [
    {
     "data": {
      "text/plain": [
       "<matplotlib.image.AxesImage at 0x1eb3a2430b8>"
      ]
     },
     "execution_count": 34,
     "metadata": {},
     "output_type": "execute_result"
    },
    {
     "data": {
      "image/png": "[encoded data removed]",
      "text/plain": [
       "<Figure size 432x288 with 1 Axes>"
      ]
     },
     "metadata": {
      "needs_background": "light"
     },
     "output_type": "display_data"
    }
   ],
   "source": [
    "plt.imshow(img1)"
   ]
  },
  {
   "cell_type": "code",
   "execution_count": null,
   "metadata": {},
   "outputs": [],
   "source": []
  }
 ],
 "metadata": {
  "kernelspec": {
   "display_name": "Python 3",
   "language": "python",
   "name": "python3"
  },
  "language_info": {
   "codemirror_mode": {
    "name": "ipython",
    "version": 3
   },
   "file_extension": ".py",
   "mimetype": "text/x-python",
   "name": "python",
   "nbconvert_exporter": "python",
   "pygments_lexer": "ipython3",
   "version": "3.7.3"
  }
 },
 "nbformat": 4,
 "nbformat_minor": 2
}
